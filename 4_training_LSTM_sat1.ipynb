{
 "cells": [
  {
   "cell_type": "code",
   "execution_count": 1,
   "metadata": {},
   "outputs": [
    {
     "name": "stderr",
     "output_type": "stream",
     "text": [
      "2023-09-28 10:12:39.113656: I tensorflow/core/platform/cpu_feature_guard.cc:182] This TensorFlow binary is optimized to use available CPU instructions in performance-critical operations.\n",
      "To enable the following instructions: AVX2 FMA, in other operations, rebuild TensorFlow with the appropriate compiler flags.\n",
      "2023-09-28 10:12:39.637323: W tensorflow/compiler/tf2tensorrt/utils/py_utils.cc:38] TF-TRT Warning: Could not find TensorRT\n"
     ]
    },
    {
     "name": "stdout",
     "output_type": "stream",
     "text": [
      "env: TF_FORCE_GPU_ALLOW_GROWTH=true\n",
      "env: TF_GPU_ALLOCATOR=cuda_malloc_async\n"
     ]
    }
   ],
   "source": [
    "%load_ext autoreload\n",
    "%autoreload 2\n",
    "import numpy as np\n",
    "from pathlib import Path\n",
    "import xarray as xr\n",
    "import tensorflow as tf\n",
    "from shared.models import *\n",
    "from shared.utilities import *\n",
    "from shared.training import train_and_evaluate, split_data_on_participants, k_fold_cross_validate\n",
    "from shared.normalization import *\n",
    "from shared.generators import *\n",
    "%env TF_FORCE_GPU_ALLOW_GROWTH=true\n",
    "%env TF_GPU_ALLOCATOR=cuda_malloc_async"
   ]
  },
  {
   "cell_type": "markdown",
   "metadata": {},
   "source": [
    "### Set up data"
   ]
  },
  {
   "cell_type": "code",
   "execution_count": 2,
   "metadata": {},
   "outputs": [],
   "source": [
    "data_path = Path(\"data/sat1/split_stage_data.nc\")\n",
    "\n",
    "data = xr.load_dataset(data_path)"
   ]
  },
  {
   "cell_type": "code",
   "execution_count": 3,
   "metadata": {},
   "outputs": [],
   "source": [
    "train_data, val_data, test_data = split_data_on_participants(data, 60, norm_dummy)"
   ]
  },
  {
   "cell_type": "code",
   "execution_count": 22,
   "metadata": {},
   "outputs": [],
   "source": [
    "model = SAT1LSTM(len(data.channels), len(data.samples), len(data.labels))\n",
    "model.compile(\n",
    "    optimizer=tf.keras.optimizers.Adam(learning_rate=0.01),\n",
    "    loss=tf.keras.losses.SparseCategoricalCrossentropy(),\n",
    "    metrics=[\"accuracy\"],\n",
    ")"
   ]
  },
  {
   "cell_type": "code",
   "execution_count": 21,
   "metadata": {},
   "outputs": [],
   "source": [
    "# Run before re-training to clear up VRAM\n",
    "import gc\n",
    "\n",
    "gc.collect()\n",
    "tf.keras.backend.clear_session()\n",
    "del model"
   ]
  },
  {
   "cell_type": "code",
   "execution_count": 23,
   "metadata": {},
   "outputs": [
    {
     "name": "stdout",
     "output_type": "stream",
     "text": [
      "Epoch 1/20\n",
      "765/765 [==============================] - 26s 27ms/step - loss: 0.8509 - accuracy: 0.6729 - val_loss: 0.6442 - val_accuracy: 0.7540\n",
      "Epoch 2/20\n",
      "765/765 [==============================] - 20s 25ms/step - loss: 0.6619 - accuracy: 0.7502 - val_loss: 0.6111 - val_accuracy: 0.7687\n",
      "Epoch 3/20\n",
      "765/765 [==============================] - 20s 25ms/step - loss: 0.6239 - accuracy: 0.7643 - val_loss: 0.5586 - val_accuracy: 0.7866\n",
      "Epoch 4/20\n",
      "765/765 [==============================] - 20s 25ms/step - loss: 0.6036 - accuracy: 0.7777 - val_loss: 0.5653 - val_accuracy: 0.7816\n",
      "Epoch 5/20\n",
      "765/765 [==============================] - 20s 25ms/step - loss: 0.5856 - accuracy: 0.7768 - val_loss: 0.5794 - val_accuracy: 0.7744\n",
      "Epoch 6/20\n",
      "765/765 [==============================] - 20s 25ms/step - loss: 0.5772 - accuracy: 0.7829 - val_loss: 0.6057 - val_accuracy: 0.7913\n",
      "Epoch 7/20\n",
      "765/765 [==============================] - 20s 25ms/step - loss: 0.5634 - accuracy: 0.7906 - val_loss: 0.5481 - val_accuracy: 0.8010\n",
      "Epoch 8/20\n",
      "765/765 [==============================] - 20s 25ms/step - loss: 0.5569 - accuracy: 0.7924 - val_loss: 0.5467 - val_accuracy: 0.7996\n",
      "Epoch 9/20\n",
      "765/765 [==============================] - 20s 25ms/step - loss: 0.5542 - accuracy: 0.7971 - val_loss: 0.5717 - val_accuracy: 0.7861\n",
      "247/247 [==============================] - 4s 10ms/step\n"
     ]
    },
    {
     "data": {
      "text/plain": [
       "(<keras.src.callbacks.History at 0x7f7512c4a9d0>, None)"
      ]
     },
     "execution_count": 23,
     "metadata": {},
     "output_type": "execute_result"
    }
   ],
   "source": [
    "train_and_evaluate(\n",
    "    model, train_data, val_data, test_data, epochs=20, logs_path=Path(\"logs/\")\n",
    ")"
   ]
  }
 ],
 "metadata": {
  "kernelspec": {
   "display_name": "thesis",
   "language": "python",
   "name": "python3"
  },
  "language_info": {
   "codemirror_mode": {
    "name": "ipython",
    "version": 3
   },
   "file_extension": ".py",
   "mimetype": "text/x-python",
   "name": "python",
   "nbconvert_exporter": "python",
   "pygments_lexer": "ipython3",
   "version": "3.11.3"
  },
  "orig_nbformat": 4
 },
 "nbformat": 4,
 "nbformat_minor": 2
}

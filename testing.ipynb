{
 "cells": [
  {
   "cell_type": "code",
   "execution_count": null,
   "metadata": {},
   "outputs": [],
   "source": [
    "#### LOOCV\n",
    "estimates = model_all.fit(step=1)\n",
    "\n",
    "max_fit = model_all.fit_single(n_events=8)\n",
    "hmp.visu.plot_topo_timecourse(eeg_data, max_fit, positions, model_all)\n",
    "\n",
    "bests = model_all.backward_estimation()\n",
    "\n",
    "hmp.visu.plot_topo_timecourse(eeg_data, bests, positions, model_accuracy, ydim='n_events')\n",
    "plt.plot(bests.n_events, bests.likelihoods,'o-')\n",
    "\n",
    "plt.ylabel('Log-likelihood')\n",
    "plt.xlabel('N-event model')\n",
    "plt.show()\n",
    "loocv = hmp.utils.loocv_mp(model_all, hmp_data, bests, cpus=4)"
   ]
  }
 ],
 "metadata": {
  "language_info": {
   "name": "python"
  },
  "orig_nbformat": 4
 },
 "nbformat": 4,
 "nbformat_minor": 2
}

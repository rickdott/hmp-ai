{
 "cells": [
  {
   "cell_type": "code",
   "execution_count": null,
   "metadata": {},
   "outputs": [],
   "source": [
    "#### LOOCV\n",
    "estimates = model_all.fit(step=1)\n",
    "\n",
    "max_fit = model_all.fit_single(n_events=8)\n",
    "hmp.visu.plot_topo_timecourse(eeg_data, max_fit, positions, model_all)\n",
    "\n",
    "bests = model_all.backward_estimation()\n",
    "\n",
    "hmp.visu.plot_topo_timecourse(eeg_data, bests, positions, model_accuracy, ydim='n_events')\n",
    "plt.plot(bests.n_events, bests.likelihoods,'o-')\n",
    "\n",
    "plt.ylabel('Log-likelihood')\n",
    "plt.xlabel('N-event model')\n",
    "plt.show()\n",
    "loocv = hmp.utils.loocv_mp(model_all, hmp_data, bests, cpus=4)"
   ]
  },
  {
   "cell_type": "code",
   "execution_count": 2,
   "metadata": {},
   "outputs": [
    {
     "name": "stdout",
     "output_type": "stream",
     "text": [
      "Num GPUs Available:  1\n"
     ]
    },
    {
     "name": "stderr",
     "output_type": "stream",
     "text": [
      "2023-07-11 12:59:50.433177: I tensorflow/compiler/xla/stream_executor/cuda/cuda_gpu_executor.cc:982] could not open file to read NUMA node: /sys/bus/pci/devices/0000:07:00.0/numa_node\n",
      "Your kernel may have been built without NUMA support.\n",
      "2023-07-11 12:59:50.533576: I tensorflow/compiler/xla/stream_executor/cuda/cuda_gpu_executor.cc:982] could not open file to read NUMA node: /sys/bus/pci/devices/0000:07:00.0/numa_node\n",
      "Your kernel may have been built without NUMA support.\n",
      "2023-07-11 12:59:50.533645: I tensorflow/compiler/xla/stream_executor/cuda/cuda_gpu_executor.cc:982] could not open file to read NUMA node: /sys/bus/pci/devices/0000:07:00.0/numa_node\n",
      "Your kernel may have been built without NUMA support.\n"
     ]
    }
   ],
   "source": [
    "import tensorflow as tf\n",
    "print(\"Num GPUs Available: \", len(tf.config.list_physical_devices('GPU')))"
   ]
  },
  {
   "cell_type": "code",
   "execution_count": null,
   "metadata": {},
   "outputs": [],
   "source": [
    "# Old code from process_model:\n",
    "# Takes a model and the probabilities of events occuring within the dataset the model was initiated on\n",
    "# and returns an ndarray of shape samples x time x #electrodes\n",
    "# length of labels must be equal to amount of events\n",
    "def process_model(model, eeg_data, labels):\n",
    "    n_events = len(model.event)\n",
    "    if len(labels) != n_events:\n",
    "        raise ValueError('Amount of labels is not equal to amount of events, adjust labels parameter')\n",
    "    \n",
    "    # Set up output datatypes\n",
    "    event_locations = model.eventprobs.idxmax(dim='samples').astype(int)\n",
    "    labels_array = np.full(eeg_data.data.shape, fill_value=np.nan)\n",
    "    participants = list(eeg_data.participant.values)\n",
    "    # output_data = []\n",
    "    # stage_data = []\n",
    "    # stage_labels = []\n",
    "    # participant_labels = []\n",
    "    # epochs = []\n",
    "\n",
    "    # For every known set of event locations, find the EEG data belonging to that trial (epoch) and participant\n",
    "    for locations, data in zip(event_locations, model.trial_x_participant):\n",
    "        data = data.item()\n",
    "        locations = locations.values\n",
    "        print(f'Processing participant {data[0]} and epoch {data[1]}')\n",
    "        # t_x_p_data = int(eeg_data.sel(participant=data[0], epochs=data[1]).isnull().argmax('samples').data[0])\n",
    "        # TODO Maybe not reliable enough, what if electrode 0 (Fp1) is working but others are not\n",
    "        # Find sample for combination of participant + epoch where the value is null, this is the reaction time sample\n",
    "        # where the participant pressed the button and the last stage ends\n",
    "        RT_sample = int(eeg_data.sel(participant=data[0], epochs=data[1]).isnull().argmax('samples').data[0])\n",
    "        participant = participants.index(data[0])\n",
    "        epoch = data[1]\n",
    "\n",
    "        # Instead of all this, add dimension to dataarray with labels\n",
    "        for j, location in enumerate(locations):\n",
    "            # Slice from known event location n to known event location n + 1\n",
    "            # unless it is the last event, then slice from known event location n to reaction time\n",
    "            samples_slice = slice(location, locations[j + 1]) if j != n_events - 1 else slice(location, RT_sample - 1)\n",
    "            # print(samples_slice, j)\n",
    "            # TODO: Works right after, reset back to zero after this for loop\n",
    "            labels_array[participant, epoch, :, samples_slice] = j\n",
    "        # print(np.where(labels_array[participant, epoch, :, :]!= 0))\n",
    "            \n",
    "            # Do not record final stage if the last event bump is after the recorded reaction time\n",
    "            # In this case, previous slices will have contained NaN values and have been skipped\n",
    "            # if j == n_events - 1 and location > RT_sample:\n",
    "            #     continue\n",
    "\n",
    "            # eeg_slice = t_x_p_data.sel(samples=samples_slice)['data']\n",
    "\n",
    "            # Disregard slices with NaN/None values\n",
    "            # if eeg_slice.isnull().any():\n",
    "            #     continue\n",
    "\n",
    "            # Pad data to 'max' sample length\n",
    "            # TODO: Look into max sample length\n",
    "            # eeg_slice = eeg_slice.pad(pad_width={'samples': (0, 199 - len(eeg_slice['samples']))}, mode='constant', constant_values=0)\n",
    "            # output_data.append((\n",
    "            #     data[0], # participant\n",
    "            #     data[1], # epoch\n",
    "            #     eeg_slice\n",
    "            # ))\n",
    "            # stage_data.append(eeg_slice.pad(pad_width={'samples': (0, 199 - len(eeg_slice['samples']))}, mode='constant', constant_values=0))\n",
    "            # stage_labels.append(labels[j])\n",
    "            # participant_labels.append(data[0])\n",
    "            # epochs.append(data[1])\n",
    "            \n",
    "    # stage_data = np.array(stage_data, dtype=np.float64)\n",
    "    # participant, epochs, channels, samples\n",
    "    # acc_xds = xr.Dataset(\n",
    "    #     data_vars=dict(\n",
    "    #         labels=(['participant', 'epochs', 'channels', 'samples'], acc_data),\n",
    "    #         data=eeg_data.data\n",
    "    #     )\n",
    "    # )\n",
    "    return labels_array"
   ]
  }
 ],
 "metadata": {
  "kernelspec": {
   "display_name": "thesis",
   "language": "python",
   "name": "python3"
  },
  "language_info": {
   "codemirror_mode": {
    "name": "ipython",
    "version": 3
   },
   "file_extension": ".py",
   "mimetype": "text/x-python",
   "name": "python",
   "nbconvert_exporter": "python",
   "pygments_lexer": "ipython3",
   "version": "3.11.3"
  },
  "orig_nbformat": 4
 },
 "nbformat": 4,
 "nbformat_minor": 2
}

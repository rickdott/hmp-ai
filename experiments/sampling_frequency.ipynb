{
 "cells": [
  {
   "cell_type": "markdown",
   "metadata": {},
   "source": [
    "### Experiment: Sampling Frequency"
   ]
  },
  {
   "cell_type": "markdown",
   "metadata": {},
   "source": [
    "**Question**: Will a model trained using HMP data from a HMP model fitted on a lower sampling frequency perform worse?\n",
    "\n",
    "**Hypothesis**: I think so, but the degree of worsening is dependent on the type of model, a CNN will be worsened less than an RNN, as an RNN uses this lost temporal information more.\n",
    "\n",
    "**Result**:"
   ]
  },
  {
   "cell_type": "code",
   "execution_count": 1,
   "metadata": {},
   "outputs": [],
   "source": [
    "%load_ext autoreload\n",
    "%autoreload 2\n",
    "from pathlib import Path\n",
    "import xarray as xr\n",
    "from hmpai.utilities import print_results\n",
    "from hmpai.pytorch.models import *\n",
    "from hmpai.pytorch.training import k_fold_cross_validate\n",
    "from hmpai.normalization import *\n",
    "\n",
    "n_folds = 25\n",
    "logs_path = Path(\"../logs/exp_sampling_frequency/\")"
   ]
  },
  {
   "cell_type": "markdown",
   "metadata": {},
   "source": [
    "### Part 1: 500 Hz"
   ]
  },
  {
   "cell_type": "code",
   "execution_count": null,
   "metadata": {},
   "outputs": [],
   "source": [
    "data_path = Path(\"../data/sat1/split_stage_data.nc\")\n",
    "data = xr.load_dataset(data_path)"
   ]
  },
  {
   "cell_type": "markdown",
   "metadata": {},
   "source": [
    "#### CNN"
   ]
  },
  {
   "cell_type": "code",
   "execution_count": null,
   "metadata": {},
   "outputs": [],
   "source": [
    "model = SAT1Deep\n",
    "model_kwargs = {\n",
    "    \"n_channels\": len(data.channels),\n",
    "    \"n_samples\": len(data.samples),\n",
    "    \"n_classes\": len(data.labels),\n",
    "}\n",
    "train_kwargs = {\n",
    "    \"logs_path\": logs_path,\n",
    "    \"additional_info\": {\"sampling_frequency\": \"500hz_cnn\"},\n",
    "    \"additional_name\": f\"500hz_cnn\",\n",
    "}\n",
    "results = k_fold_cross_validate(\n",
    "    model, model_kwargs, data, n_folds, train_kwargs=train_kwargs\n",
    ")\n",
    "print_results(results)"
   ]
  },
  {
   "cell_type": "markdown",
   "metadata": {},
   "source": [
    "#### RNN (GRU)"
   ]
  },
  {
   "cell_type": "code",
   "execution_count": null,
   "metadata": {},
   "outputs": [],
   "source": [
    "model = SAT1GRU\n",
    "model_kwargs = {\n",
    "    \"n_channels\": len(data.channels),\n",
    "    \"n_samples\": len(data.samples),\n",
    "    \"n_classes\": len(data.labels),\n",
    "}\n",
    "train_kwargs = {\n",
    "    \"logs_path\": logs_path,\n",
    "    \"additional_info\": {\"sampling_frequency\": \"500hz_rnn\"},\n",
    "    \"additional_name\": f\"500hz_rnn\",\n",
    "}\n",
    "results = k_fold_cross_validate(\n",
    "    model, model_kwargs, data, n_folds, train_kwargs=train_kwargs\n",
    ")\n",
    "print_results(results)"
   ]
  },
  {
   "cell_type": "markdown",
   "metadata": {},
   "source": [
    "### Part 2: 100 Hz"
   ]
  },
  {
   "cell_type": "code",
   "execution_count": null,
   "metadata": {},
   "outputs": [],
   "source": [
    "data_path = Path(\"../data/sat1/split_stage_data_100hz.nc\")\n",
    "data = xr.load_dataset(data_path)"
   ]
  },
  {
   "cell_type": "markdown",
   "metadata": {},
   "source": [
    "#### CNN"
   ]
  },
  {
   "cell_type": "code",
   "execution_count": null,
   "metadata": {},
   "outputs": [],
   "source": [
    "model = SAT1Base\n",
    "model_kwargs = {\n",
    "    \"n_channels\": len(data.channels),\n",
    "    \"n_samples\": len(data.samples),\n",
    "    \"n_classes\": len(data.labels),\n",
    "}\n",
    "train_kwargs = {\n",
    "    \"logs_path\": logs_path,\n",
    "    \"additional_info\": {\"sampling_frequency\": \"100hz_cnn\"},\n",
    "    \"additional_name\": f\"100hz_cnn\",\n",
    "}\n",
    "results = k_fold_cross_validate(\n",
    "    model, model_kwargs, data, n_folds, train_kwargs=train_kwargs\n",
    ")\n",
    "print_results(results)"
   ]
  },
  {
   "cell_type": "markdown",
   "metadata": {},
   "source": [
    "#### RNN (GRU)"
   ]
  },
  {
   "cell_type": "code",
   "execution_count": null,
   "metadata": {},
   "outputs": [],
   "source": [
    "model = SAT1GRU\n",
    "model_kwargs = {\n",
    "    \"n_channels\": len(data.channels),\n",
    "    \"n_samples\": len(data.samples),\n",
    "    \"n_classes\": len(data.labels),\n",
    "}\n",
    "train_kwargs = {\n",
    "    \"logs_path\": logs_path,\n",
    "    \"additional_info\": {\"sampling_frequency\": \"100hz_rnn\"},\n",
    "    \"additional_name\": f\"100hz_rnn\",\n",
    "}\n",
    "results = k_fold_cross_validate(\n",
    "    model, model_kwargs, data, n_folds, train_kwargs=train_kwargs\n",
    ")\n",
    "print_results(results)"
   ]
  },
  {
   "cell_type": "code",
   "execution_count": null,
   "metadata": {},
   "outputs": [],
   "source": [
    "# View results in Tensorboard\n",
    "! tensorboard --logdir logs/exp_sampling_frequency/"
   ]
  }
 ],
 "metadata": {
  "kernelspec": {
   "display_name": "thesis_pytorch",
   "language": "python",
   "name": "python3"
  },
  "language_info": {
   "codemirror_mode": {
    "name": "ipython",
    "version": 3
   },
   "file_extension": ".py",
   "mimetype": "text/x-python",
   "name": "python",
   "nbconvert_exporter": "python",
   "pygments_lexer": "ipython3",
   "version": "3.11.6"
  }
 },
 "nbformat": 4,
 "nbformat_minor": 2
}

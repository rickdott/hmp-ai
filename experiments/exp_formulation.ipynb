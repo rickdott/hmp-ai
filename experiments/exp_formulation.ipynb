{
 "cells": [
  {
   "cell_type": "markdown",
   "metadata": {},
   "source": [
    "### Experiment: Formulation"
   ]
  },
  {
   "cell_type": "markdown",
   "metadata": {},
   "source": [
    "**Question**: Which option is better?\n",
    "- A 2D data formulation (`channels` * `samples`)\n",
    "- A topological 3D formulation (`x` * `y` * `samples`) that positions the channels similar to their physical location\n",
    "\n",
    "**Hypothesis**: The topological 3D formulation should have more inherent information regarding the relative location of each electrode, meaning that inter-channel similarities should be easier to extract. A topological 3D formulation should therefore be better at extracting features with regard to physical location.\n",
    "\n",
    "**Result**:"
   ]
  },
  {
   "cell_type": "markdown",
   "metadata": {},
   "source": [
    "#### Part 1: Investigation"
   ]
  },
  {
   "cell_type": "code",
   "execution_count": 1,
   "metadata": {},
   "outputs": [],
   "source": [
    "import numpy as np\n",
    "import pandas as pd\n",
    "import mne\n",
    "from pathlib import Path\n",
    "import matplotlib.pyplot as plt"
   ]
  },
  {
   "cell_type": "markdown",
   "metadata": {},
   "source": [
    "##### Show electrode montage layout"
   ]
  },
  {
   "cell_type": "code",
   "execution_count": 3,
   "metadata": {},
   "outputs": [
    {
     "name": "stdout",
     "output_type": "stream",
     "text": [
      "Extracting parameters from ..\\mnt\\d\\thesis\\sat1\\eeg4\\MD3-0021.vhdr...\n"
     ]
    },
    {
     "ename": "FileNotFoundError",
     "evalue": "[Errno 2] No such file or directory: 'c:\\\\GIT\\\\mnt\\\\d\\\\thesis\\\\sat1\\\\eeg4\\\\MD3-0021.vhdr'",
     "output_type": "error",
     "traceback": [
      "\u001b[1;31m---------------------------------------------------------------------------\u001b[0m",
      "\u001b[1;31mFileNotFoundError\u001b[0m                         Traceback (most recent call last)",
      "\u001b[1;32mc:\\GIT\\hmp-ai\\exp_formulation.ipynb Cell 6\u001b[0m line \u001b[0;36m1\n\u001b[1;32m----> <a href='vscode-notebook-cell:/c%3A/GIT/hmp-ai/exp_formulation.ipynb#W5sZmlsZQ%3D%3D?line=0'>1</a>\u001b[0m raw \u001b[39m=\u001b[39m mne\u001b[39m.\u001b[39;49mio\u001b[39m.\u001b[39;49mread_raw_brainvision(\n\u001b[0;32m      <a href='vscode-notebook-cell:/c%3A/GIT/hmp-ai/exp_formulation.ipynb#W5sZmlsZQ%3D%3D?line=1'>2</a>\u001b[0m     Path(\u001b[39m\"\u001b[39;49m\u001b[39m../mnt/d/thesis/sat1/eeg4/MD3-0021.vhdr\u001b[39;49m\u001b[39m\"\u001b[39;49m), preload\u001b[39m=\u001b[39;49m\u001b[39mFalse\u001b[39;49;00m\n\u001b[0;32m      <a href='vscode-notebook-cell:/c%3A/GIT/hmp-ai/exp_formulation.ipynb#W5sZmlsZQ%3D%3D?line=2'>3</a>\u001b[0m )\n\u001b[0;32m      <a href='vscode-notebook-cell:/c%3A/GIT/hmp-ai/exp_formulation.ipynb#W5sZmlsZQ%3D%3D?line=3'>4</a>\u001b[0m raw\u001b[39m.\u001b[39mset_channel_types(\n\u001b[0;32m      <a href='vscode-notebook-cell:/c%3A/GIT/hmp-ai/exp_formulation.ipynb#W5sZmlsZQ%3D%3D?line=4'>5</a>\u001b[0m     {\u001b[39m\"\u001b[39m\u001b[39mEOGh\u001b[39m\u001b[39m\"\u001b[39m: \u001b[39m\"\u001b[39m\u001b[39meog\u001b[39m\u001b[39m\"\u001b[39m, \u001b[39m\"\u001b[39m\u001b[39mEOGv\u001b[39m\u001b[39m\"\u001b[39m: \u001b[39m\"\u001b[39m\u001b[39meog\u001b[39m\u001b[39m\"\u001b[39m, \u001b[39m\"\u001b[39m\u001b[39mA1\u001b[39m\u001b[39m\"\u001b[39m: \u001b[39m\"\u001b[39m\u001b[39mmisc\u001b[39m\u001b[39m\"\u001b[39m, \u001b[39m\"\u001b[39m\u001b[39mA2\u001b[39m\u001b[39m\"\u001b[39m: \u001b[39m\"\u001b[39m\u001b[39mmisc\u001b[39m\u001b[39m\"\u001b[39m}\n\u001b[0;32m      <a href='vscode-notebook-cell:/c%3A/GIT/hmp-ai/exp_formulation.ipynb#W5sZmlsZQ%3D%3D?line=5'>6</a>\u001b[0m )  \u001b[39m# Declare type to avoid confusion with EEG channels\u001b[39;00m\n\u001b[0;32m      <a href='vscode-notebook-cell:/c%3A/GIT/hmp-ai/exp_formulation.ipynb#W5sZmlsZQ%3D%3D?line=6'>7</a>\u001b[0m raw\u001b[39m.\u001b[39mrename_channels({\u001b[39m\"\u001b[39m\u001b[39mFP1\u001b[39m\u001b[39m\"\u001b[39m: \u001b[39m\"\u001b[39m\u001b[39mFp1\u001b[39m\u001b[39m\"\u001b[39m, \u001b[39m\"\u001b[39m\u001b[39mFP2\u001b[39m\u001b[39m\"\u001b[39m: \u001b[39m\"\u001b[39m\u001b[39mFp2\u001b[39m\u001b[39m\"\u001b[39m})  \u001b[39m# Naming convention\u001b[39;00m\n",
      "File \u001b[1;32mc:\\Users\\rickd\\anaconda3\\envs\\thesis\\Lib\\site-packages\\mne\\io\\brainvision\\brainvision.py:954\u001b[0m, in \u001b[0;36mread_raw_brainvision\u001b[1;34m(vhdr_fname, eog, misc, scale, preload, verbose)\u001b[0m\n\u001b[0;32m    914\u001b[0m \u001b[39m@fill_doc\u001b[39m\n\u001b[0;32m    915\u001b[0m \u001b[39mdef\u001b[39;00m \u001b[39mread_raw_brainvision\u001b[39m(\n\u001b[0;32m    916\u001b[0m     vhdr_fname,\n\u001b[1;32m   (...)\u001b[0m\n\u001b[0;32m    921\u001b[0m     verbose\u001b[39m=\u001b[39m\u001b[39mNone\u001b[39;00m,\n\u001b[0;32m    922\u001b[0m ):\n\u001b[0;32m    923\u001b[0m \u001b[39m    \u001b[39m\u001b[39m\"\"\"Reader for Brain Vision EEG file.\u001b[39;00m\n\u001b[0;32m    924\u001b[0m \n\u001b[0;32m    925\u001b[0m \u001b[39m    Parameters\u001b[39;00m\n\u001b[1;32m   (...)\u001b[0m\n\u001b[0;32m    952\u001b[0m \u001b[39m    mne.io.Raw : Documentation of attributes and methods of RawBrainVision.\u001b[39;00m\n\u001b[0;32m    953\u001b[0m \u001b[39m    \"\"\"\u001b[39;00m\n\u001b[1;32m--> 954\u001b[0m     \u001b[39mreturn\u001b[39;00m RawBrainVision(\n\u001b[0;32m    955\u001b[0m         vhdr_fname\u001b[39m=\u001b[39;49mvhdr_fname,\n\u001b[0;32m    956\u001b[0m         eog\u001b[39m=\u001b[39;49meog,\n\u001b[0;32m    957\u001b[0m         misc\u001b[39m=\u001b[39;49mmisc,\n\u001b[0;32m    958\u001b[0m         scale\u001b[39m=\u001b[39;49mscale,\n\u001b[0;32m    959\u001b[0m         preload\u001b[39m=\u001b[39;49mpreload,\n\u001b[0;32m    960\u001b[0m         verbose\u001b[39m=\u001b[39;49mverbose,\n\u001b[0;32m    961\u001b[0m     )\n",
      "File \u001b[1;32m<decorator-gen-249>:12\u001b[0m, in \u001b[0;36m__init__\u001b[1;34m(self, vhdr_fname, eog, misc, scale, preload, verbose)\u001b[0m\n",
      "File \u001b[1;32mc:\\Users\\rickd\\anaconda3\\envs\\thesis\\Lib\\site-packages\\mne\\io\\brainvision\\brainvision.py:88\u001b[0m, in \u001b[0;36mRawBrainVision.__init__\u001b[1;34m(self, vhdr_fname, eog, misc, scale, preload, verbose)\u001b[0m\n\u001b[0;32m     77\u001b[0m ext \u001b[39m=\u001b[39m op\u001b[39m.\u001b[39msplitext(hdr_fname)[\u001b[39m-\u001b[39m\u001b[39m1\u001b[39m]\n\u001b[0;32m     78\u001b[0m ahdr_format \u001b[39m=\u001b[39m \u001b[39mTrue\u001b[39;00m \u001b[39mif\u001b[39;00m ext \u001b[39m==\u001b[39m \u001b[39m\"\u001b[39m\u001b[39m.ahdr\u001b[39m\u001b[39m\"\u001b[39m \u001b[39melse\u001b[39;00m \u001b[39mFalse\u001b[39;00m\n\u001b[0;32m     79\u001b[0m (\n\u001b[0;32m     80\u001b[0m     info,\n\u001b[0;32m     81\u001b[0m     data_fname,\n\u001b[0;32m     82\u001b[0m     fmt,\n\u001b[0;32m     83\u001b[0m     order,\n\u001b[0;32m     84\u001b[0m     n_samples,\n\u001b[0;32m     85\u001b[0m     mrk_fname,\n\u001b[0;32m     86\u001b[0m     montage,\n\u001b[0;32m     87\u001b[0m     orig_units,\n\u001b[1;32m---> 88\u001b[0m ) \u001b[39m=\u001b[39m _get_hdr_info(hdr_fname, eog, misc, scale)\n\u001b[0;32m     90\u001b[0m \u001b[39mwith\u001b[39;00m \u001b[39mopen\u001b[39m(data_fname, \u001b[39m\"\u001b[39m\u001b[39mrb\u001b[39m\u001b[39m\"\u001b[39m) \u001b[39mas\u001b[39;00m f:\n\u001b[0;32m     91\u001b[0m     \u001b[39mif\u001b[39;00m \u001b[39misinstance\u001b[39m(fmt, \u001b[39mdict\u001b[39m):  \u001b[39m# ASCII, this will be slow :(\u001b[39;00m\n",
      "File \u001b[1;32mc:\\Users\\rickd\\anaconda3\\envs\\thesis\\Lib\\site-packages\\mne\\io\\brainvision\\brainvision.py:510\u001b[0m, in \u001b[0;36m_get_hdr_info\u001b[1;34m(hdr_fname, eog, misc, scale)\u001b[0m\n\u001b[0;32m    504\u001b[0m \u001b[39mif\u001b[39;00m ext \u001b[39mnot\u001b[39;00m \u001b[39min\u001b[39;00m (\u001b[39m\"\u001b[39m\u001b[39m.vhdr\u001b[39m\u001b[39m\"\u001b[39m, \u001b[39m\"\u001b[39m\u001b[39m.ahdr\u001b[39m\u001b[39m\"\u001b[39m):\n\u001b[0;32m    505\u001b[0m     \u001b[39mraise\u001b[39;00m \u001b[39mOSError\u001b[39;00m(\n\u001b[0;32m    506\u001b[0m         \u001b[39m\"\u001b[39m\u001b[39mThe header file must be given to read the data, \u001b[39m\u001b[39m\"\u001b[39m\n\u001b[0;32m    507\u001b[0m         \u001b[39m\"\u001b[39m\u001b[39mnot a file with extension \u001b[39m\u001b[39m'\u001b[39m\u001b[39m%s\u001b[39;00m\u001b[39m'\u001b[39m\u001b[39m.\u001b[39m\u001b[39m\"\u001b[39m \u001b[39m%\u001b[39m ext\n\u001b[0;32m    508\u001b[0m     )\n\u001b[1;32m--> 510\u001b[0m settings, cfg, cinfostr, info \u001b[39m=\u001b[39m _aux_hdr_info(hdr_fname)\n\u001b[0;32m    511\u001b[0m info\u001b[39m.\u001b[39m_unlocked \u001b[39m=\u001b[39m \u001b[39mTrue\u001b[39;00m\n\u001b[0;32m    513\u001b[0m order \u001b[39m=\u001b[39m cfg\u001b[39m.\u001b[39mget(cinfostr, \u001b[39m\"\u001b[39m\u001b[39mDataOrientation\u001b[39m\u001b[39m\"\u001b[39m)\n",
      "File \u001b[1;32mc:\\Users\\rickd\\anaconda3\\envs\\thesis\\Lib\\site-packages\\mne\\io\\brainvision\\brainvision.py:407\u001b[0m, in \u001b[0;36m_aux_hdr_info\u001b[1;34m(hdr_fname)\u001b[0m\n\u001b[0;32m    405\u001b[0m \u001b[39mdef\u001b[39;00m \u001b[39m_aux_hdr_info\u001b[39m(hdr_fname):\n\u001b[0;32m    406\u001b[0m \u001b[39m    \u001b[39m\u001b[39m\"\"\"Aux function for _get_hdr_info.\"\"\"\u001b[39;00m\n\u001b[1;32m--> 407\u001b[0m     \u001b[39mwith\u001b[39;00m \u001b[39mopen\u001b[39;49m(hdr_fname, \u001b[39m\"\u001b[39;49m\u001b[39mrb\u001b[39;49m\u001b[39m\"\u001b[39;49m) \u001b[39mas\u001b[39;00m f:\n\u001b[0;32m    408\u001b[0m         \u001b[39m# extract the first section to resemble a cfg\u001b[39;00m\n\u001b[0;32m    409\u001b[0m         header \u001b[39m=\u001b[39m f\u001b[39m.\u001b[39mreadline()\n\u001b[0;32m    410\u001b[0m         codepage \u001b[39m=\u001b[39m \u001b[39m\"\u001b[39m\u001b[39mutf-8\u001b[39m\u001b[39m\"\u001b[39m\n",
      "\u001b[1;31mFileNotFoundError\u001b[0m: [Errno 2] No such file or directory: 'c:\\\\GIT\\\\mnt\\\\d\\\\thesis\\\\sat1\\\\eeg4\\\\MD3-0021.vhdr'"
     ]
    }
   ],
   "source": [
    "raw = mne.io.read_raw_brainvision(\n",
    "    Path(\"/mnt/d/thesis/sat1/eeg4/MD3-0021.vhdr\"), preload=False\n",
    ")\n",
    "raw.set_channel_types(\n",
    "    {\"EOGh\": \"eog\", \"EOGv\": \"eog\", \"A1\": \"misc\", \"A2\": \"misc\"}\n",
    ")  # Declare type to avoid confusion with EEG channels\n",
    "raw.rename_channels({\"FP1\": \"Fp1\", \"FP2\": \"Fp2\"})  # Naming convention\n",
    "raw.set_montage(\"standard_1020\")  # Standard 10-20 electrode montage\n",
    "raw.rename_channels({\"Fp1\": \"FP1\", \"Fp2\": \"FP2\"})\n",
    "\n",
    "montage = raw.get_montage()\n",
    "plot = montage.plot()"
   ]
  },
  {
   "cell_type": "markdown",
   "metadata": {},
   "source": [
    "##### Replicate layout\n",
    "Method of creating a sparse array retaining physical nearness adapted from Liu, Yang (2021)"
   ]
  },
  {
   "cell_type": "code",
   "execution_count": 12,
   "metadata": {},
   "outputs": [
    {
     "name": "stdout",
     "output_type": "stream",
     "text": [
      "     0    1    2    3    4\n",
      "0   NA  Fp1   NA  Fp2   NA\n",
      "1   NA   NA  AFz   NA   NA\n",
      "2   F7   F3   Fz   F4   F8\n",
      "3  FC5  FC1  FCz  FC2  FC6\n",
      "4   T7   C3   Cz   C4   T8\n",
      "5  CP5  CP1  CPz  CP2  CP6\n",
      "6   P7   P3   Pz   P4   P8\n",
      "7   NA   O1   NA   O2   NA\n"
     ]
    }
   ],
   "source": [
    "CHANNELS_2D = np.array(\n",
    "    [\n",
    "        [\"NA\", \"Fp1\", \"NA\", \"Fp2\", \"NA\"],\n",
    "        [\"NA\", \"NA\", \"AFz\", \"NA\", \"NA\"],\n",
    "        [\"F7\", \"F3\", \"Fz\", \"F4\", \"F8\"],\n",
    "        [\"FC5\", \"FC1\", \"FCz\", \"FC2\", \"FC6\"],\n",
    "        [\"T7\", \"C3\", \"Cz\", \"C4\", \"T8\"],\n",
    "        [\"CP5\", \"CP1\", \"CPz\", \"CP2\", \"CP6\"],\n",
    "        [\"P7\", \"P3\", \"Pz\", \"P4\", \"P8\"],\n",
    "        [\"NA\", \"O1\", \"NA\", \"O2\", \"NA\"],\n",
    "    ],\n",
    "    dtype=str,\n",
    ")\n",
    "print(pd.DataFrame(CHANNELS_2D))"
   ]
  },
  {
   "cell_type": "markdown",
   "metadata": {},
   "source": [
    "#### Part 2: Experiment"
   ]
  },
  {
   "cell_type": "code",
   "execution_count": 1,
   "metadata": {},
   "outputs": [
    {
     "name": "stderr",
     "output_type": "stream",
     "text": [
      "2023-10-22 11:39:54.436310: I tensorflow/core/platform/cpu_feature_guard.cc:182] This TensorFlow binary is optimized to use available CPU instructions in performance-critical operations.\n",
      "To enable the following instructions: AVX2 FMA, in other operations, rebuild TensorFlow with the appropriate compiler flags.\n",
      "2023-10-22 11:39:55.104777: W tensorflow/compiler/tf2tensorrt/utils/py_utils.cc:38] TF-TRT Warning: Could not find TensorRT\n"
     ]
    },
    {
     "name": "stdout",
     "output_type": "stream",
     "text": [
      "env: TF_FORCE_GPU_ALLOW_GROWTH=true\n",
      "env: TF_GPU_ALLOCATOR=cuda_malloc_async\n"
     ]
    }
   ],
   "source": [
    "%load_ext autoreload\n",
    "%autoreload 2\n",
    "from hmpai.training import split_data_on_participants, train_and_evaluate, k_fold_cross_validate, get_compile_kwargs\n",
    "from hmpai.normalization import *\n",
    "from hmpai.models import SAT1Base, SAT1Topological, SAT1TopologicalConv\n",
    "from hmpai.utilities import CHANNELS_2D, print_results\n",
    "import tensorflow as tf\n",
    "import gc\n",
    "from pathlib import Path\n",
    "import xarray as xr\n",
    "%env TF_FORCE_GPU_ALLOW_GROWTH=true\n",
    "%env TF_GPU_ALLOCATOR=cuda_malloc_async"
   ]
  },
  {
   "cell_type": "code",
   "execution_count": 2,
   "metadata": {},
   "outputs": [],
   "source": [
    "data_path = Path(\"../data/sat1/split_stage_data.nc\")\n",
    "data = xr.load_dataset(data_path)\n",
    "\n",
    "logs_path = Path(\"../logs/exp_formulation/\")\n",
    "\n",
    "height, width = CHANNELS_2D.shape"
   ]
  },
  {
   "cell_type": "markdown",
   "metadata": {},
   "source": [
    "##### Base model, no topological formulation"
   ]
  },
  {
   "cell_type": "code",
   "execution_count": 5,
   "metadata": {},
   "outputs": [
    {
     "name": "stderr",
     "output_type": "stream",
     "text": [
      "2023-10-22 11:17:09.111613: I tensorflow/compiler/xla/stream_executor/cuda/cuda_gpu_executor.cc:981] could not open file to read NUMA node: /sys/bus/pci/devices/0000:07:00.0/numa_node\n",
      "Your kernel may have been built without NUMA support.\n",
      "2023-10-22 11:17:09.132349: I tensorflow/compiler/xla/stream_executor/cuda/cuda_gpu_executor.cc:981] could not open file to read NUMA node: /sys/bus/pci/devices/0000:07:00.0/numa_node\n",
      "Your kernel may have been built without NUMA support.\n",
      "2023-10-22 11:17:09.132430: I tensorflow/compiler/xla/stream_executor/cuda/cuda_gpu_executor.cc:981] could not open file to read NUMA node: /sys/bus/pci/devices/0000:07:00.0/numa_node\n",
      "Your kernel may have been built without NUMA support.\n",
      "2023-10-22 11:17:09.134295: I tensorflow/compiler/xla/stream_executor/cuda/cuda_gpu_executor.cc:981] could not open file to read NUMA node: /sys/bus/pci/devices/0000:07:00.0/numa_node\n",
      "Your kernel may have been built without NUMA support.\n",
      "2023-10-22 11:17:09.134365: I tensorflow/compiler/xla/stream_executor/cuda/cuda_gpu_executor.cc:981] could not open file to read NUMA node: /sys/bus/pci/devices/0000:07:00.0/numa_node\n",
      "Your kernel may have been built without NUMA support.\n",
      "2023-10-22 11:17:09.134423: I tensorflow/compiler/xla/stream_executor/cuda/cuda_gpu_executor.cc:981] could not open file to read NUMA node: /sys/bus/pci/devices/0000:07:00.0/numa_node\n",
      "Your kernel may have been built without NUMA support.\n",
      "2023-10-22 11:17:09.691542: I tensorflow/compiler/xla/stream_executor/cuda/cuda_gpu_executor.cc:981] could not open file to read NUMA node: /sys/bus/pci/devices/0000:07:00.0/numa_node\n",
      "Your kernel may have been built without NUMA support.\n",
      "2023-10-22 11:17:09.691634: I tensorflow/compiler/xla/stream_executor/cuda/cuda_gpu_executor.cc:981] could not open file to read NUMA node: /sys/bus/pci/devices/0000:07:00.0/numa_node\n",
      "Your kernel may have been built without NUMA support.\n",
      "2023-10-22 11:17:09.691643: I tensorflow/core/common_runtime/gpu/gpu_device.cc:1726] Could not identify NUMA node of platform GPU id 0, defaulting to 0.  Your kernel may not have been built with NUMA support.\n",
      "2023-10-22 11:17:09.691696: I tensorflow/compiler/xla/stream_executor/cuda/cuda_gpu_executor.cc:981] could not open file to read NUMA node: /sys/bus/pci/devices/0000:07:00.0/numa_node\n",
      "Your kernel may have been built without NUMA support.\n",
      "2023-10-22 11:17:09.691706: W tensorflow/core/common_runtime/gpu/gpu_bfc_allocator.cc:47] Overriding orig_value setting because the TF_FORCE_GPU_ALLOW_GROWTH environment variable is set. Original config value was 0.\n",
      "2023-10-22 11:17:09.691712: I tensorflow/core/common_runtime/gpu/gpu_process_state.cc:227] Using CUDA malloc Async allocator for GPU: 0\n",
      "2023-10-22 11:17:09.691812: I tensorflow/core/common_runtime/gpu/gpu_device.cc:1639] Created device /job:localhost/replica:0/task:0/device:GPU:0 with 21598 MB memory:  -> device: 0, name: NVIDIA GeForce RTX 3090, pci bus id: 0000:07:00.0, compute capability: 8.6\n"
     ]
    },
    {
     "name": "stdout",
     "output_type": "stream",
     "text": [
      "Fold 1: test fold: ['0009' '0017' '0001' '0024' '0012']\n",
      "Epoch 1/20\n"
     ]
    },
    {
     "name": "stderr",
     "output_type": "stream",
     "text": [
      "2023-10-22 11:17:12.504596: I tensorflow/compiler/xla/stream_executor/cuda/cuda_dnn.cc:432] Loaded cuDNN version 8600\n",
      "2023-10-22 11:17:13.190027: I tensorflow/compiler/xla/stream_executor/cuda/cuda_blas.cc:606] TensorFloat-32 will be used for the matrix multiplication. This will only be logged once.\n",
      "2023-10-22 11:17:13.511585: I tensorflow/compiler/xla/service/service.cc:168] XLA service 0x55a997db9af0 initialized for platform CUDA (this does not guarantee that XLA will be used). Devices:\n",
      "2023-10-22 11:17:13.511616: I tensorflow/compiler/xla/service/service.cc:176]   StreamExecutor device (0): NVIDIA GeForce RTX 3090, Compute Capability 8.6\n",
      "2023-10-22 11:17:13.517918: I tensorflow/compiler/mlir/tensorflow/utils/dump_mlir_util.cc:255] disabling MLIR crash reproducer, set env var `MLIR_CRASH_REPRODUCER_DIRECTORY` to enable.\n",
      "2023-10-22 11:17:13.624788: I ./tensorflow/compiler/jit/device_compiler.h:186] Compiled cluster using XLA!  This line is logged at most once for the lifetime of the process.\n"
     ]
    },
    {
     "name": "stdout",
     "output_type": "stream",
     "text": [
      "997/997 [==============================] - 18s 14ms/step - loss: 3.6951 - accuracy: 0.7296 - val_loss: 0.5749 - val_accuracy: 0.7928\n",
      "Epoch 2/20\n",
      "997/997 [==============================] - 14s 14ms/step - loss: 2.7676 - accuracy: 0.7991 - val_loss: 0.5143 - val_accuracy: 0.8091\n",
      "Epoch 3/20\n",
      "997/997 [==============================] - 14s 14ms/step - loss: 2.4049 - accuracy: 0.8235 - val_loss: 0.4932 - val_accuracy: 0.8187\n",
      "Epoch 4/20\n",
      "997/997 [==============================] - 14s 14ms/step - loss: 2.2221 - accuracy: 0.8377 - val_loss: 0.4977 - val_accuracy: 0.8162\n",
      "Epoch 5/20\n",
      "997/997 [==============================] - 14s 14ms/step - loss: 2.0162 - accuracy: 0.8489 - val_loss: 0.4862 - val_accuracy: 0.8342\n",
      "Epoch 6/20\n",
      "997/997 [==============================] - 14s 14ms/step - loss: 1.8317 - accuracy: 0.8642 - val_loss: 0.4796 - val_accuracy: 0.8255\n",
      "Epoch 7/20\n",
      "997/997 [==============================] - 14s 14ms/step - loss: 1.7039 - accuracy: 0.8732 - val_loss: 0.4883 - val_accuracy: 0.8307\n",
      "Epoch 8/20\n",
      "997/997 [==============================] - 14s 14ms/step - loss: 1.5600 - accuracy: 0.8786 - val_loss: 0.5161 - val_accuracy: 0.8268\n",
      "Epoch 9/20\n",
      "997/997 [==============================] - 14s 14ms/step - loss: 1.5246 - accuracy: 0.8868 - val_loss: 0.5378 - val_accuracy: 0.8317\n",
      "254/254 [==============================] - 3s 11ms/step\n",
      "Fold 1: Accuracy: 0.8257874015748031\n",
      "Fold 1: F1-Score: 0.8238567359562431\n",
      "Fold 2: test fold: ['0010' '0014' '0002' '0023' '0006']\n",
      "Epoch 1/20\n",
      "995/995 [==============================] - 16s 14ms/step - loss: 3.7112 - accuracy: 0.7313 - val_loss: 0.5487 - val_accuracy: 0.8027\n",
      "Epoch 2/20\n",
      "995/995 [==============================] - 14s 14ms/step - loss: 2.8559 - accuracy: 0.7930 - val_loss: 0.4975 - val_accuracy: 0.8206\n",
      "Epoch 3/20\n",
      "995/995 [==============================] - 14s 14ms/step - loss: 2.4807 - accuracy: 0.8170 - val_loss: 0.4736 - val_accuracy: 0.8276\n",
      "Epoch 4/20\n",
      "995/995 [==============================] - 14s 14ms/step - loss: 2.2446 - accuracy: 0.8334 - val_loss: 0.4554 - val_accuracy: 0.8301\n",
      "Epoch 5/20\n",
      "995/995 [==============================] - 14s 14ms/step - loss: 2.0873 - accuracy: 0.8462 - val_loss: 0.4372 - val_accuracy: 0.8418\n",
      "Epoch 6/20\n",
      "995/995 [==============================] - 14s 14ms/step - loss: 1.9823 - accuracy: 0.8567 - val_loss: 0.4691 - val_accuracy: 0.8386\n",
      "Epoch 7/20\n",
      "995/995 [==============================] - 14s 14ms/step - loss: 1.7631 - accuracy: 0.8691 - val_loss: 0.4643 - val_accuracy: 0.8420\n",
      "Epoch 8/20\n",
      "995/995 [==============================] - 15s 14ms/step - loss: 1.6346 - accuracy: 0.8772 - val_loss: 0.5176 - val_accuracy: 0.8308\n",
      "256/256 [==============================] - 3s 11ms/step\n",
      "Fold 2: Accuracy: 0.841796875\n",
      "Fold 2: F1-Score: 0.8409854133648403\n",
      "Fold 3: test fold: ['0003' '0013' '0016' '0004' '0005']\n",
      "Epoch 1/20\n",
      "1002/1002 [==============================] - 16s 14ms/step - loss: 3.6265 - accuracy: 0.7335 - val_loss: 0.5694 - val_accuracy: 0.7927\n",
      "Epoch 2/20\n",
      "1002/1002 [==============================] - 14s 14ms/step - loss: 2.7157 - accuracy: 0.8070 - val_loss: 0.5272 - val_accuracy: 0.8042\n",
      "Epoch 3/20\n",
      "1002/1002 [==============================] - 14s 14ms/step - loss: 2.4115 - accuracy: 0.8255 - val_loss: 0.5274 - val_accuracy: 0.8032\n",
      "Epoch 4/20\n",
      "1002/1002 [==============================] - 14s 14ms/step - loss: 2.1044 - accuracy: 0.8440 - val_loss: 0.5080 - val_accuracy: 0.8170\n",
      "Epoch 5/20\n",
      "1002/1002 [==============================] - 14s 14ms/step - loss: 1.9823 - accuracy: 0.8534 - val_loss: 0.5125 - val_accuracy: 0.8140\n",
      "Epoch 6/20\n",
      "1002/1002 [==============================] - 14s 14ms/step - loss: 1.8399 - accuracy: 0.8643 - val_loss: 0.5145 - val_accuracy: 0.8153\n",
      "Epoch 7/20\n",
      "1002/1002 [==============================] - 14s 14ms/step - loss: 1.6470 - accuracy: 0.8774 - val_loss: 0.5640 - val_accuracy: 0.8145\n",
      "249/249 [==============================] - 3s 10ms/step\n",
      "Fold 3: Accuracy: 0.8167670682730924\n",
      "Fold 3: F1-Score: 0.8173661314421489\n",
      "Fold 4: test fold: ['0021' '0018' '0022' '0019' '0025']\n",
      "Epoch 1/20\n",
      "1011/1011 [==============================] - 16s 14ms/step - loss: 3.6439 - accuracy: 0.7296 - val_loss: 0.5297 - val_accuracy: 0.8104\n",
      "Epoch 2/20\n",
      "1011/1011 [==============================] - 14s 14ms/step - loss: 2.7616 - accuracy: 0.7961 - val_loss: 0.4462 - val_accuracy: 0.8418\n",
      "Epoch 3/20\n",
      "1011/1011 [==============================] - 14s 14ms/step - loss: 2.4432 - accuracy: 0.8203 - val_loss: 0.4666 - val_accuracy: 0.8415\n",
      "Epoch 4/20\n",
      "1011/1011 [==============================] - 14s 14ms/step - loss: 2.1444 - accuracy: 0.8368 - val_loss: 0.4219 - val_accuracy: 0.8509\n",
      "Epoch 5/20\n",
      "1011/1011 [==============================] - 14s 14ms/step - loss: 2.0089 - accuracy: 0.8547 - val_loss: 0.5210 - val_accuracy: 0.8366\n",
      "Epoch 6/20\n",
      "1011/1011 [==============================] - 14s 14ms/step - loss: 1.8320 - accuracy: 0.8654 - val_loss: 0.5616 - val_accuracy: 0.8309\n",
      "Epoch 7/20\n",
      "1011/1011 [==============================] - 14s 14ms/step - loss: 1.6844 - accuracy: 0.8743 - val_loss: 0.5631 - val_accuracy: 0.8332\n",
      "241/241 [==============================] - 3s 11ms/step\n",
      "Fold 4: Accuracy: 0.8508817427385892\n",
      "Fold 4: F1-Score: 0.8530063562579269\n",
      "Fold 5: test fold: ['0008' '0011' '0015' '0020' '0007']\n",
      "Epoch 1/20\n",
      "1001/1001 [==============================] - 16s 14ms/step - loss: 3.6574 - accuracy: 0.7358 - val_loss: 0.5310 - val_accuracy: 0.7950\n",
      "Epoch 2/20\n",
      "1001/1001 [==============================] - 14s 14ms/step - loss: 2.7373 - accuracy: 0.7994 - val_loss: 0.4870 - val_accuracy: 0.8213\n",
      "Epoch 3/20\n",
      "1001/1001 [==============================] - 14s 14ms/step - loss: 2.4080 - accuracy: 0.8214 - val_loss: 0.4727 - val_accuracy: 0.8235\n",
      "Epoch 4/20\n",
      "1001/1001 [==============================] - 14s 14ms/step - loss: 2.1620 - accuracy: 0.8392 - val_loss: 0.4700 - val_accuracy: 0.8290\n",
      "Epoch 5/20\n",
      "1001/1001 [==============================] - 14s 14ms/step - loss: 1.9822 - accuracy: 0.8510 - val_loss: 0.5302 - val_accuracy: 0.8198\n",
      "Epoch 6/20\n",
      "1001/1001 [==============================] - 15s 15ms/step - loss: 1.7993 - accuracy: 0.8669 - val_loss: 0.5484 - val_accuracy: 0.8195\n",
      "Epoch 7/20\n",
      "1001/1001 [==============================] - 15s 14ms/step - loss: 1.6232 - accuracy: 0.8757 - val_loss: 0.5587 - val_accuracy: 0.8217\n",
      "250/250 [==============================] - 3s 11ms/step\n",
      "Fold 5: Accuracy: 0.82875\n",
      "Fold 5: F1-Score: 0.8303342311020415\n",
      "Average Accuracy: 0.8327966175172969\n",
      "Average F1-Score: 0.83310977362464\n"
     ]
    },
    {
     "data": {
      "text/plain": [
       "2738"
      ]
     },
     "execution_count": 5,
     "metadata": {},
     "output_type": "execute_result"
    }
   ],
   "source": [
    "tf.keras.backend.clear_session()\n",
    "model = SAT1Base(len(data.channels), len(data.samples), len(data.labels))\n",
    "model.compile(**get_compile_kwargs())\n",
    "train_kwargs = {\n",
    "    \"logs_path\": Path(\"../logs/exp_formulation/\"),\n",
    "    \"additional_info\": {\"formulation\": \"base\"},\n",
    "    \"additional_name\": f\"formulation-base\",\n",
    "}\n",
    "results = k_fold_cross_validate(\n",
    "    data, model, 5, normalization_fn=norm_dummy, train_kwargs=train_kwargs\n",
    ")\n",
    "print_results(results)\n",
    "del model\n",
    "gc.collect()"
   ]
  },
  {
   "cell_type": "markdown",
   "metadata": {},
   "source": [
    "##### Topological model without topological convolution"
   ]
  },
  {
   "cell_type": "code",
   "execution_count": 3,
   "metadata": {},
   "outputs": [
    {
     "name": "stderr",
     "output_type": "stream",
     "text": [
      "2023-10-22 11:27:38.644430: I tensorflow/compiler/xla/stream_executor/cuda/cuda_gpu_executor.cc:981] could not open file to read NUMA node: /sys/bus/pci/devices/0000:07:00.0/numa_node\n",
      "Your kernel may have been built without NUMA support.\n",
      "2023-10-22 11:27:38.669528: I tensorflow/compiler/xla/stream_executor/cuda/cuda_gpu_executor.cc:981] could not open file to read NUMA node: /sys/bus/pci/devices/0000:07:00.0/numa_node\n",
      "Your kernel may have been built without NUMA support.\n",
      "2023-10-22 11:27:38.669609: I tensorflow/compiler/xla/stream_executor/cuda/cuda_gpu_executor.cc:981] could not open file to read NUMA node: /sys/bus/pci/devices/0000:07:00.0/numa_node\n",
      "Your kernel may have been built without NUMA support.\n",
      "2023-10-22 11:27:38.672015: I tensorflow/compiler/xla/stream_executor/cuda/cuda_gpu_executor.cc:981] could not open file to read NUMA node: /sys/bus/pci/devices/0000:07:00.0/numa_node\n",
      "Your kernel may have been built without NUMA support.\n",
      "2023-10-22 11:27:38.672086: I tensorflow/compiler/xla/stream_executor/cuda/cuda_gpu_executor.cc:981] could not open file to read NUMA node: /sys/bus/pci/devices/0000:07:00.0/numa_node\n",
      "Your kernel may have been built without NUMA support.\n",
      "2023-10-22 11:27:38.672131: I tensorflow/compiler/xla/stream_executor/cuda/cuda_gpu_executor.cc:981] could not open file to read NUMA node: /sys/bus/pci/devices/0000:07:00.0/numa_node\n",
      "Your kernel may have been built without NUMA support.\n",
      "2023-10-22 11:27:39.175908: I tensorflow/compiler/xla/stream_executor/cuda/cuda_gpu_executor.cc:981] could not open file to read NUMA node: /sys/bus/pci/devices/0000:07:00.0/numa_node\n",
      "Your kernel may have been built without NUMA support.\n",
      "2023-10-22 11:27:39.176000: I tensorflow/compiler/xla/stream_executor/cuda/cuda_gpu_executor.cc:981] could not open file to read NUMA node: /sys/bus/pci/devices/0000:07:00.0/numa_node\n",
      "Your kernel may have been built without NUMA support.\n",
      "2023-10-22 11:27:39.176009: I tensorflow/core/common_runtime/gpu/gpu_device.cc:1726] Could not identify NUMA node of platform GPU id 0, defaulting to 0.  Your kernel may not have been built with NUMA support.\n",
      "2023-10-22 11:27:39.176062: I tensorflow/compiler/xla/stream_executor/cuda/cuda_gpu_executor.cc:981] could not open file to read NUMA node: /sys/bus/pci/devices/0000:07:00.0/numa_node\n",
      "Your kernel may have been built without NUMA support.\n",
      "2023-10-22 11:27:39.176073: W tensorflow/core/common_runtime/gpu/gpu_bfc_allocator.cc:47] Overriding orig_value setting because the TF_FORCE_GPU_ALLOW_GROWTH environment variable is set. Original config value was 0.\n",
      "2023-10-22 11:27:39.176078: I tensorflow/core/common_runtime/gpu/gpu_process_state.cc:227] Using CUDA malloc Async allocator for GPU: 0\n",
      "2023-10-22 11:27:39.176179: I tensorflow/core/common_runtime/gpu/gpu_device.cc:1639] Created device /job:localhost/replica:0/task:0/device:GPU:0 with 21598 MB memory:  -> device: 0, name: NVIDIA GeForce RTX 3090, pci bus id: 0000:07:00.0, compute capability: 8.6\n"
     ]
    },
    {
     "name": "stdout",
     "output_type": "stream",
     "text": [
      "Fold 1: test fold: ['0009' '0017' '0001' '0024' '0012']\n",
      "Epoch 1/20\n"
     ]
    },
    {
     "name": "stderr",
     "output_type": "stream",
     "text": [
      "2023-10-22 11:27:42.281692: I tensorflow/compiler/xla/stream_executor/cuda/cuda_dnn.cc:432] Loaded cuDNN version 8600\n",
      "2023-10-22 11:27:43.020366: I tensorflow/compiler/xla/stream_executor/cuda/cuda_blas.cc:606] TensorFloat-32 will be used for the matrix multiplication. This will only be logged once.\n",
      "2023-10-22 11:27:43.302279: I tensorflow/compiler/xla/service/service.cc:168] XLA service 0x7f1e78906e40 initialized for platform CUDA (this does not guarantee that XLA will be used). Devices:\n",
      "2023-10-22 11:27:43.302314: I tensorflow/compiler/xla/service/service.cc:176]   StreamExecutor device (0): NVIDIA GeForce RTX 3090, Compute Capability 8.6\n",
      "2023-10-22 11:27:43.308296: I tensorflow/compiler/mlir/tensorflow/utils/dump_mlir_util.cc:255] disabling MLIR crash reproducer, set env var `MLIR_CRASH_REPRODUCER_DIRECTORY` to enable.\n",
      "2023-10-22 11:27:43.416363: I ./tensorflow/compiler/jit/device_compiler.h:186] Compiled cluster using XLA!  This line is logged at most once for the lifetime of the process.\n"
     ]
    },
    {
     "name": "stdout",
     "output_type": "stream",
     "text": [
      "997/997 [==============================] - 20s 17ms/step - loss: 3.7275 - accuracy: 0.7235 - val_loss: 0.5821 - val_accuracy: 0.7881\n",
      "Epoch 2/20\n",
      "997/997 [==============================] - 17s 17ms/step - loss: 2.7216 - accuracy: 0.8012 - val_loss: 0.5060 - val_accuracy: 0.8152\n",
      "Epoch 3/20\n",
      "997/997 [==============================] - 17s 17ms/step - loss: 2.3688 - accuracy: 0.8237 - val_loss: 0.4864 - val_accuracy: 0.8132\n",
      "Epoch 4/20\n",
      "997/997 [==============================] - 17s 17ms/step - loss: 2.1493 - accuracy: 0.8419 - val_loss: 0.4826 - val_accuracy: 0.8204\n",
      "Epoch 5/20\n",
      "997/997 [==============================] - 17s 17ms/step - loss: 1.9691 - accuracy: 0.8508 - val_loss: 0.5135 - val_accuracy: 0.8169\n",
      "Epoch 6/20\n",
      "997/997 [==============================] - 17s 17ms/step - loss: 1.8241 - accuracy: 0.8647 - val_loss: 0.4842 - val_accuracy: 0.8226\n",
      "Epoch 7/20\n",
      "997/997 [==============================] - 17s 17ms/step - loss: 1.6305 - accuracy: 0.8778 - val_loss: 0.5264 - val_accuracy: 0.8187\n",
      "254/254 [==============================] - 3s 11ms/step\n",
      "Fold 1: Accuracy: 0.8203740157480315\n",
      "Fold 1: F1-Score: 0.8173291191209013\n",
      "Fold 2: test fold: ['0010' '0014' '0002' '0023' '0006']\n",
      "Epoch 1/20\n",
      "995/995 [==============================] - 18s 17ms/step - loss: 3.8510 - accuracy: 0.7173 - val_loss: 0.5353 - val_accuracy: 0.8005\n",
      "Epoch 2/20\n",
      "995/995 [==============================] - 17s 17ms/step - loss: 2.8992 - accuracy: 0.7903 - val_loss: 0.5157 - val_accuracy: 0.8145\n",
      "Epoch 3/20\n",
      "995/995 [==============================] - 17s 17ms/step - loss: 2.5691 - accuracy: 0.8108 - val_loss: 0.4812 - val_accuracy: 0.8215\n",
      "Epoch 4/20\n",
      "995/995 [==============================] - 17s 17ms/step - loss: 2.3159 - accuracy: 0.8266 - val_loss: 0.4594 - val_accuracy: 0.8374\n",
      "Epoch 5/20\n",
      "995/995 [==============================] - 17s 17ms/step - loss: 2.1295 - accuracy: 0.8427 - val_loss: 0.4463 - val_accuracy: 0.8398\n",
      "Epoch 6/20\n",
      "995/995 [==============================] - 17s 17ms/step - loss: 1.9745 - accuracy: 0.8529 - val_loss: 0.4699 - val_accuracy: 0.8367\n",
      "Epoch 7/20\n",
      "995/995 [==============================] - 17s 17ms/step - loss: 1.8470 - accuracy: 0.8606 - val_loss: 0.4787 - val_accuracy: 0.8428\n",
      "Epoch 8/20\n",
      "995/995 [==============================] - 18s 18ms/step - loss: 1.6580 - accuracy: 0.8728 - val_loss: 0.5159 - val_accuracy: 0.8425\n",
      "256/256 [==============================] - 3s 11ms/step\n",
      "Fold 2: Accuracy: 0.840087890625\n",
      "Fold 2: F1-Score: 0.8382453716405861\n",
      "Fold 3: test fold: ['0003' '0013' '0016' '0004' '0005']\n",
      "Epoch 1/20\n",
      "1002/1002 [==============================] - 19s 17ms/step - loss: 3.6540 - accuracy: 0.7341 - val_loss: 0.5651 - val_accuracy: 0.7854\n",
      "Epoch 2/20\n",
      "1002/1002 [==============================] - 17s 17ms/step - loss: 2.7653 - accuracy: 0.7996 - val_loss: 0.5214 - val_accuracy: 0.8120\n",
      "Epoch 3/20\n",
      "1002/1002 [==============================] - 17s 17ms/step - loss: 2.4163 - accuracy: 0.8219 - val_loss: 0.5186 - val_accuracy: 0.8122\n",
      "Epoch 4/20\n",
      "1002/1002 [==============================] - 17s 17ms/step - loss: 2.1418 - accuracy: 0.8433 - val_loss: 0.5415 - val_accuracy: 0.8035\n",
      "Epoch 5/20\n",
      "1002/1002 [==============================] - 17s 17ms/step - loss: 1.9790 - accuracy: 0.8574 - val_loss: 0.5463 - val_accuracy: 0.8115\n",
      "Epoch 6/20\n",
      "1002/1002 [==============================] - 17s 17ms/step - loss: 1.7993 - accuracy: 0.8672 - val_loss: 0.5955 - val_accuracy: 0.8117\n",
      "Epoch 7/20\n",
      "1002/1002 [==============================] - 17s 17ms/step - loss: 1.6038 - accuracy: 0.8805 - val_loss: 0.6721 - val_accuracy: 0.8080\n",
      "249/249 [==============================] - 3s 10ms/step\n",
      "Fold 3: Accuracy: 0.8029618473895582\n",
      "Fold 3: F1-Score: 0.8028992457956955\n",
      "Fold 4: test fold: ['0021' '0018' '0022' '0019' '0025']\n",
      "Epoch 1/20\n",
      "1011/1011 [==============================] - 19s 17ms/step - loss: 3.6349 - accuracy: 0.7333 - val_loss: 0.5079 - val_accuracy: 0.8141\n",
      "Epoch 2/20\n",
      "1011/1011 [==============================] - 17s 17ms/step - loss: 2.7540 - accuracy: 0.7999 - val_loss: 0.4541 - val_accuracy: 0.8371\n",
      "Epoch 3/20\n",
      "1011/1011 [==============================] - 17s 17ms/step - loss: 2.4302 - accuracy: 0.8227 - val_loss: 0.4746 - val_accuracy: 0.8351\n",
      "Epoch 4/20\n",
      "1011/1011 [==============================] - 17s 17ms/step - loss: 2.1881 - accuracy: 0.8348 - val_loss: 0.4651 - val_accuracy: 0.8483\n",
      "Epoch 5/20\n",
      "1011/1011 [==============================] - 17s 17ms/step - loss: 1.9878 - accuracy: 0.8508 - val_loss: 0.4763 - val_accuracy: 0.8431\n",
      "Epoch 6/20\n",
      "1011/1011 [==============================] - 17s 17ms/step - loss: 1.8409 - accuracy: 0.8620 - val_loss: 0.4892 - val_accuracy: 0.8390\n",
      "Epoch 7/20\n",
      "1011/1011 [==============================] - 17s 17ms/step - loss: 1.6895 - accuracy: 0.8751 - val_loss: 0.5817 - val_accuracy: 0.8327\n",
      "241/241 [==============================] - 3s 10ms/step\n",
      "Fold 4: Accuracy: 0.8482883817427386\n",
      "Fold 4: F1-Score: 0.8497936189349533\n",
      "Fold 5: test fold: ['0008' '0011' '0015' '0020' '0007']\n",
      "Epoch 1/20\n",
      "1001/1001 [==============================] - 19s 17ms/step - loss: 3.6879 - accuracy: 0.7326 - val_loss: 0.5237 - val_accuracy: 0.8080\n",
      "Epoch 2/20\n",
      "1001/1001 [==============================] - 18s 17ms/step - loss: 2.7211 - accuracy: 0.8001 - val_loss: 0.4693 - val_accuracy: 0.8280\n",
      "Epoch 3/20\n",
      "1001/1001 [==============================] - 17s 17ms/step - loss: 2.3966 - accuracy: 0.8261 - val_loss: 0.4998 - val_accuracy: 0.8215\n",
      "Epoch 4/20\n",
      "1001/1001 [==============================] - 17s 17ms/step - loss: 2.1933 - accuracy: 0.8397 - val_loss: 0.5007 - val_accuracy: 0.8215\n",
      "Epoch 5/20\n",
      "1001/1001 [==============================] - 17s 17ms/step - loss: 2.0008 - accuracy: 0.8525 - val_loss: 0.5117 - val_accuracy: 0.8202\n",
      "Epoch 6/20\n",
      "1001/1001 [==============================] - 17s 17ms/step - loss: 1.7912 - accuracy: 0.8651 - val_loss: 0.4828 - val_accuracy: 0.8353\n",
      "Epoch 7/20\n",
      "1001/1001 [==============================] - 17s 16ms/step - loss: 1.6993 - accuracy: 0.8741 - val_loss: 0.5002 - val_accuracy: 0.8235\n",
      "Epoch 8/20\n",
      "1001/1001 [==============================] - 17s 16ms/step - loss: 1.5469 - accuracy: 0.8837 - val_loss: 0.5580 - val_accuracy: 0.8223\n",
      "Epoch 9/20\n",
      "1001/1001 [==============================] - 17s 17ms/step - loss: 1.4489 - accuracy: 0.8932 - val_loss: 0.5484 - val_accuracy: 0.8330\n",
      "250/250 [==============================] - 3s 11ms/step\n",
      "Fold 5: Accuracy: 0.835\n",
      "Fold 5: F1-Score: 0.83631858848459\n",
      "Average Accuracy: 0.8293424271010658\n",
      "Average F1-Score: 0.8289171887953453\n"
     ]
    },
    {
     "data": {
      "text/plain": [
       "2738"
      ]
     },
     "execution_count": 3,
     "metadata": {},
     "output_type": "execute_result"
    }
   ],
   "source": [
    "tf.keras.backend.clear_session()\n",
    "model = SAT1Topological(width, height, len(data.samples), len(data.labels))\n",
    "model.compile(**get_compile_kwargs())\n",
    "train_kwargs = {\n",
    "    \"logs_path\": Path(\"../logs/exp_formulation/\"),\n",
    "    \"additional_info\": {\"formulation\": \"topological-noconv\"},\n",
    "    \"additional_name\": f\"formulation-topological-noconv\",\n",
    "}\n",
    "results = k_fold_cross_validate(\n",
    "    data,\n",
    "    model,\n",
    "    5,\n",
    "    normalization_fn=norm_dummy,\n",
    "    gen_kwargs={\"shape_topological\": True},\n",
    "    train_kwargs=train_kwargs,\n",
    ")\n",
    "print_results(results)\n",
    "del model\n",
    "gc.collect()"
   ]
  },
  {
   "cell_type": "markdown",
   "metadata": {},
   "source": [
    "##### Topological model with topological convolution"
   ]
  },
  {
   "cell_type": "code",
   "execution_count": 3,
   "metadata": {},
   "outputs": [
    {
     "name": "stderr",
     "output_type": "stream",
     "text": [
      "2023-10-22 11:40:02.526422: I tensorflow/compiler/xla/stream_executor/cuda/cuda_gpu_executor.cc:981] could not open file to read NUMA node: /sys/bus/pci/devices/0000:07:00.0/numa_node\n",
      "Your kernel may have been built without NUMA support.\n",
      "2023-10-22 11:40:02.550335: I tensorflow/compiler/xla/stream_executor/cuda/cuda_gpu_executor.cc:981] could not open file to read NUMA node: /sys/bus/pci/devices/0000:07:00.0/numa_node\n",
      "Your kernel may have been built without NUMA support.\n",
      "2023-10-22 11:40:02.550417: I tensorflow/compiler/xla/stream_executor/cuda/cuda_gpu_executor.cc:981] could not open file to read NUMA node: /sys/bus/pci/devices/0000:07:00.0/numa_node\n",
      "Your kernel may have been built without NUMA support.\n",
      "2023-10-22 11:40:02.551930: I tensorflow/compiler/xla/stream_executor/cuda/cuda_gpu_executor.cc:981] could not open file to read NUMA node: /sys/bus/pci/devices/0000:07:00.0/numa_node\n",
      "Your kernel may have been built without NUMA support.\n",
      "2023-10-22 11:40:02.552001: I tensorflow/compiler/xla/stream_executor/cuda/cuda_gpu_executor.cc:981] could not open file to read NUMA node: /sys/bus/pci/devices/0000:07:00.0/numa_node\n",
      "Your kernel may have been built without NUMA support.\n",
      "2023-10-22 11:40:02.552069: I tensorflow/compiler/xla/stream_executor/cuda/cuda_gpu_executor.cc:981] could not open file to read NUMA node: /sys/bus/pci/devices/0000:07:00.0/numa_node\n",
      "Your kernel may have been built without NUMA support.\n",
      "2023-10-22 11:40:03.043273: I tensorflow/compiler/xla/stream_executor/cuda/cuda_gpu_executor.cc:981] could not open file to read NUMA node: /sys/bus/pci/devices/0000:07:00.0/numa_node\n",
      "Your kernel may have been built without NUMA support.\n",
      "2023-10-22 11:40:03.043367: I tensorflow/compiler/xla/stream_executor/cuda/cuda_gpu_executor.cc:981] could not open file to read NUMA node: /sys/bus/pci/devices/0000:07:00.0/numa_node\n",
      "Your kernel may have been built without NUMA support.\n",
      "2023-10-22 11:40:03.043375: I tensorflow/core/common_runtime/gpu/gpu_device.cc:1726] Could not identify NUMA node of platform GPU id 0, defaulting to 0.  Your kernel may not have been built with NUMA support.\n",
      "2023-10-22 11:40:03.043434: I tensorflow/compiler/xla/stream_executor/cuda/cuda_gpu_executor.cc:981] could not open file to read NUMA node: /sys/bus/pci/devices/0000:07:00.0/numa_node\n",
      "Your kernel may have been built without NUMA support.\n",
      "2023-10-22 11:40:03.043445: W tensorflow/core/common_runtime/gpu/gpu_bfc_allocator.cc:47] Overriding orig_value setting because the TF_FORCE_GPU_ALLOW_GROWTH environment variable is set. Original config value was 0.\n",
      "2023-10-22 11:40:03.043452: I tensorflow/core/common_runtime/gpu/gpu_process_state.cc:227] Using CUDA malloc Async allocator for GPU: 0\n",
      "2023-10-22 11:40:03.043540: I tensorflow/core/common_runtime/gpu/gpu_device.cc:1639] Created device /job:localhost/replica:0/task:0/device:GPU:0 with 21598 MB memory:  -> device: 0, name: NVIDIA GeForce RTX 3090, pci bus id: 0000:07:00.0, compute capability: 8.6\n"
     ]
    },
    {
     "name": "stdout",
     "output_type": "stream",
     "text": [
      "Fold 1: test fold: ['0009' '0017' '0001' '0024' '0012']\n",
      "Epoch 1/20\n"
     ]
    },
    {
     "name": "stderr",
     "output_type": "stream",
     "text": [
      "2023-10-22 11:40:06.178095: I tensorflow/compiler/xla/stream_executor/cuda/cuda_dnn.cc:432] Loaded cuDNN version 8600\n",
      "2023-10-22 11:40:06.882551: I tensorflow/compiler/xla/stream_executor/cuda/cuda_blas.cc:606] TensorFloat-32 will be used for the matrix multiplication. This will only be logged once.\n",
      "2023-10-22 11:40:07.121862: I tensorflow/compiler/xla/service/service.cc:168] XLA service 0x7fb70be36ba0 initialized for platform CUDA (this does not guarantee that XLA will be used). Devices:\n",
      "2023-10-22 11:40:07.121901: I tensorflow/compiler/xla/service/service.cc:176]   StreamExecutor device (0): NVIDIA GeForce RTX 3090, Compute Capability 8.6\n",
      "2023-10-22 11:40:07.128192: I tensorflow/compiler/mlir/tensorflow/utils/dump_mlir_util.cc:255] disabling MLIR crash reproducer, set env var `MLIR_CRASH_REPRODUCER_DIRECTORY` to enable.\n",
      "2023-10-22 11:40:07.236749: I ./tensorflow/compiler/jit/device_compiler.h:186] Compiled cluster using XLA!  This line is logged at most once for the lifetime of the process.\n"
     ]
    },
    {
     "name": "stdout",
     "output_type": "stream",
     "text": [
      "997/997 [==============================] - 17s 14ms/step - loss: 3.4560 - accuracy: 0.7534 - val_loss: 0.5655 - val_accuracy: 0.7928\n",
      "Epoch 2/20\n",
      "997/997 [==============================] - 14s 14ms/step - loss: 2.6016 - accuracy: 0.8135 - val_loss: 0.5202 - val_accuracy: 0.8081\n",
      "Epoch 3/20\n",
      "997/997 [==============================] - 14s 13ms/step - loss: 2.1847 - accuracy: 0.8380 - val_loss: 0.4865 - val_accuracy: 0.8248\n",
      "Epoch 4/20\n",
      "997/997 [==============================] - 14s 13ms/step - loss: 2.0290 - accuracy: 0.8512 - val_loss: 0.5053 - val_accuracy: 0.8228\n",
      "Epoch 5/20\n",
      "997/997 [==============================] - 14s 14ms/step - loss: 1.8316 - accuracy: 0.8643 - val_loss: 0.5728 - val_accuracy: 0.8145\n",
      "Epoch 6/20\n",
      "997/997 [==============================] - 14s 14ms/step - loss: 1.8261 - accuracy: 0.8662 - val_loss: 0.5638 - val_accuracy: 0.8255\n",
      "Epoch 7/20\n",
      "997/997 [==============================] - 14s 14ms/step - loss: 1.6203 - accuracy: 0.8793 - val_loss: 0.5932 - val_accuracy: 0.8214\n",
      "254/254 [==============================] - 3s 10ms/step\n",
      "Fold 1: Accuracy: 0.8225885826771654\n",
      "Fold 1: F1-Score: 0.8207762270476501\n",
      "Fold 2: test fold: ['0010' '0014' '0002' '0023' '0006']\n",
      "Epoch 1/20\n",
      "995/995 [==============================] - 16s 14ms/step - loss: 3.5059 - accuracy: 0.7450 - val_loss: 0.5303 - val_accuracy: 0.8132\n",
      "Epoch 2/20\n",
      "995/995 [==============================] - 14s 14ms/step - loss: 2.6099 - accuracy: 0.8122 - val_loss: 0.4545 - val_accuracy: 0.8384\n",
      "Epoch 3/20\n",
      "995/995 [==============================] - 14s 13ms/step - loss: 2.3132 - accuracy: 0.8312 - val_loss: 0.4734 - val_accuracy: 0.8374\n",
      "Epoch 4/20\n",
      "995/995 [==============================] - 14s 14ms/step - loss: 2.1005 - accuracy: 0.8439 - val_loss: 0.4727 - val_accuracy: 0.8420\n",
      "Epoch 5/20\n",
      "995/995 [==============================] - 14s 14ms/step - loss: 2.0115 - accuracy: 0.8501 - val_loss: 0.4656 - val_accuracy: 0.8489\n",
      "Epoch 6/20\n",
      "995/995 [==============================] - 14s 14ms/step - loss: 1.8936 - accuracy: 0.8575 - val_loss: 0.4355 - val_accuracy: 0.8474\n",
      "Epoch 7/20\n",
      "995/995 [==============================] - 14s 14ms/step - loss: 1.7370 - accuracy: 0.8685 - val_loss: 0.4505 - val_accuracy: 0.8550\n",
      "Epoch 8/20\n",
      "995/995 [==============================] - 15s 14ms/step - loss: 1.6418 - accuracy: 0.8764 - val_loss: 0.5310 - val_accuracy: 0.8313\n",
      "Epoch 9/20\n",
      "995/995 [==============================] - 14s 14ms/step - loss: 1.5300 - accuracy: 0.8849 - val_loss: 0.4831 - val_accuracy: 0.8501\n",
      "256/256 [==============================] - 3s 11ms/step\n",
      "Fold 2: Accuracy: 0.84716796875\n",
      "Fold 2: F1-Score: 0.8506442841570973\n",
      "Fold 3: test fold: ['0003' '0013' '0016' '0004' '0005']\n",
      "Epoch 1/20\n",
      "1002/1002 [==============================] - 15s 14ms/step - loss: 3.4500 - accuracy: 0.7586 - val_loss: 0.5508 - val_accuracy: 0.8060\n",
      "Epoch 2/20\n",
      "1002/1002 [==============================] - 14s 14ms/step - loss: 2.6247 - accuracy: 0.8144 - val_loss: 0.5004 - val_accuracy: 0.8150\n",
      "Epoch 3/20\n",
      "1002/1002 [==============================] - 14s 14ms/step - loss: 2.3029 - accuracy: 0.8345 - val_loss: 0.5145 - val_accuracy: 0.8165\n",
      "Epoch 4/20\n",
      "1002/1002 [==============================] - 14s 14ms/step - loss: 2.0779 - accuracy: 0.8513 - val_loss: 0.4625 - val_accuracy: 0.8394\n",
      "Epoch 5/20\n",
      "1002/1002 [==============================] - 14s 14ms/step - loss: 1.9067 - accuracy: 0.8600 - val_loss: 0.5002 - val_accuracy: 0.8283\n",
      "Epoch 6/20\n",
      "1002/1002 [==============================] - 14s 14ms/step - loss: 1.8058 - accuracy: 0.8666 - val_loss: 0.5370 - val_accuracy: 0.8276\n",
      "Epoch 7/20\n",
      "1002/1002 [==============================] - 14s 14ms/step - loss: 1.6965 - accuracy: 0.8761 - val_loss: 0.5101 - val_accuracy: 0.8276\n",
      "249/249 [==============================] - 3s 10ms/step\n",
      "Fold 3: Accuracy: 0.8393574297188755\n",
      "Fold 3: F1-Score: 0.8419141354490087\n",
      "Fold 4: test fold: ['0021' '0018' '0022' '0019' '0025']\n",
      "Epoch 1/20\n",
      "1011/1011 [==============================] - 16s 14ms/step - loss: 3.4643 - accuracy: 0.7496 - val_loss: 0.4987 - val_accuracy: 0.8286\n",
      "Epoch 2/20\n",
      "1011/1011 [==============================] - 15s 14ms/step - loss: 2.6040 - accuracy: 0.8150 - val_loss: 0.4568 - val_accuracy: 0.8519\n",
      "Epoch 3/20\n",
      "1011/1011 [==============================] - 15s 14ms/step - loss: 2.2867 - accuracy: 0.8333 - val_loss: 0.4711 - val_accuracy: 0.8465\n",
      "Epoch 4/20\n",
      "1011/1011 [==============================] - 15s 14ms/step - loss: 2.0375 - accuracy: 0.8476 - val_loss: 0.4643 - val_accuracy: 0.8496\n",
      "Epoch 5/20\n",
      "1011/1011 [==============================] - 14s 14ms/step - loss: 1.9335 - accuracy: 0.8589 - val_loss: 0.4966 - val_accuracy: 0.8447\n",
      "Epoch 6/20\n",
      "1011/1011 [==============================] - 14s 14ms/step - loss: 1.7678 - accuracy: 0.8702 - val_loss: 0.5301 - val_accuracy: 0.8491\n",
      "Epoch 7/20\n",
      "1011/1011 [==============================] - 14s 14ms/step - loss: 1.6455 - accuracy: 0.8755 - val_loss: 0.5428 - val_accuracy: 0.8540\n",
      "241/241 [==============================] - 3s 11ms/step\n",
      "Fold 4: Accuracy: 0.8495850622406639\n",
      "Fold 4: F1-Score: 0.8519202907198812\n",
      "Fold 5: test fold: ['0008' '0011' '0015' '0020' '0007']\n",
      "Epoch 1/20\n",
      "1001/1001 [==============================] - 16s 14ms/step - loss: 3.5284 - accuracy: 0.7509 - val_loss: 0.5723 - val_accuracy: 0.8035\n",
      "Epoch 2/20\n",
      "1001/1001 [==============================] - 14s 14ms/step - loss: 2.6212 - accuracy: 0.8108 - val_loss: 0.5160 - val_accuracy: 0.8190\n",
      "Epoch 3/20\n",
      "1001/1001 [==============================] - 14s 14ms/step - loss: 2.3004 - accuracy: 0.8332 - val_loss: 0.4746 - val_accuracy: 0.8307\n",
      "Epoch 4/20\n",
      "1001/1001 [==============================] - 14s 14ms/step - loss: 2.0665 - accuracy: 0.8462 - val_loss: 0.4941 - val_accuracy: 0.8350\n",
      "Epoch 5/20\n",
      "1001/1001 [==============================] - 14s 14ms/step - loss: 1.9605 - accuracy: 0.8553 - val_loss: 0.5094 - val_accuracy: 0.8298\n",
      "Epoch 6/20\n",
      "1001/1001 [==============================] - 15s 14ms/step - loss: 1.7873 - accuracy: 0.8679 - val_loss: 0.4892 - val_accuracy: 0.8457\n",
      "Epoch 7/20\n",
      "1001/1001 [==============================] - 14s 14ms/step - loss: 1.6893 - accuracy: 0.8733 - val_loss: 0.5283 - val_accuracy: 0.8282\n",
      "Epoch 8/20\n",
      "1001/1001 [==============================] - 14s 14ms/step - loss: 1.6136 - accuracy: 0.8781 - val_loss: 0.5694 - val_accuracy: 0.8320\n",
      "Epoch 9/20\n",
      "1001/1001 [==============================] - 14s 14ms/step - loss: 1.4890 - accuracy: 0.8893 - val_loss: 0.5452 - val_accuracy: 0.8320\n",
      "250/250 [==============================] - 3s 10ms/step\n",
      "Fold 5: Accuracy: 0.8455\n",
      "Fold 5: F1-Score: 0.8503059492073431\n",
      "Average Accuracy: 0.840839808677341\n",
      "Average F1-Score: 0.843112177316196\n"
     ]
    },
    {
     "data": {
      "text/plain": [
       "2540"
      ]
     },
     "execution_count": 3,
     "metadata": {},
     "output_type": "execute_result"
    }
   ],
   "source": [
    "tf.keras.backend.clear_session()\n",
    "model = SAT1TopologicalConv(width, height, len(data.samples), len(data.labels))\n",
    "model.compile(**get_compile_kwargs())\n",
    "train_kwargs = {\n",
    "    \"logs_path\": Path(\"../logs/exp_formulation/\"),\n",
    "    \"additional_info\": {\"formulation\": \"topological\"},\n",
    "    \"additional_name\": f\"formulation-topological\",\n",
    "}\n",
    "results = k_fold_cross_validate(\n",
    "    data,\n",
    "    model,\n",
    "    5,\n",
    "    normalization_fn=norm_dummy,\n",
    "    gen_kwargs={\"shape_topological\": True},\n",
    "    train_kwargs=train_kwargs,\n",
    ")\n",
    "print_results(results)\n",
    "del model\n",
    "gc.collect()"
   ]
  },
  {
   "cell_type": "markdown",
   "metadata": {},
   "source": [
    "View results in TensorBoard"
   ]
  },
  {
   "cell_type": "code",
   "execution_count": 6,
   "metadata": {},
   "outputs": [
    {
     "name": "stdout",
     "output_type": "stream",
     "text": [
      "2023-10-13 14:05:48.740655: W tensorflow/compiler/tf2tensorrt/utils/py_utils.cc:38] TF-TRT Warning: Could not find TensorRT\n",
      "\n",
      "NOTE: Using experimental fast data loading logic. To disable, pass\n",
      "    \"--load_fast=false\" and report issues on GitHub. More details:\n",
      "    https://github.com/tensorflow/tensorboard/issues/4784\n",
      "\n",
      "Serving TensorBoard on localhost; to expose to the network, use a proxy or pass --bind_all\n",
      "TensorBoard 2.13.0 at http://localhost:6006/ (Press CTRL+C to quit)\n",
      "^C\n"
     ]
    }
   ],
   "source": [
    "# View results in Tensorboard\n",
    "! tensorboard --logdir logs/exp_formulation/"
   ]
  }
 ],
 "metadata": {
  "kernelspec": {
   "display_name": "thesis",
   "language": "python",
   "name": "python3"
  },
  "language_info": {
   "codemirror_mode": {
    "name": "ipython",
    "version": 3
   },
   "file_extension": ".py",
   "mimetype": "text/x-python",
   "name": "python",
   "nbconvert_exporter": "python",
   "pygments_lexer": "ipython3",
   "version": "3.11.6"
  },
  "orig_nbformat": 4
 },
 "nbformat": 4,
 "nbformat_minor": 2
}

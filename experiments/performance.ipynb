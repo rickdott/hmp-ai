{
 "cells": [
  {
   "cell_type": "markdown",
   "metadata": {},
   "source": [
    "### Experiment: Normalization"
   ]
  },
  {
   "cell_type": "markdown",
   "metadata": {},
   "source": [
    "**Question**: What is the performance on one dataset for each of the models?\n",
    "\n",
    "**Hypothesis**: \n",
    "\n",
    "**Result**:"
   ]
  },
  {
   "cell_type": "code",
   "execution_count": null,
   "metadata": {},
   "outputs": [],
   "source": [
    "%load_ext autoreload\n",
    "%autoreload 2\n",
    "from pathlib import Path\n",
    "import xarray as xr\n",
    "from hmpai.utilities import print_results\n",
    "from hmpai.pytorch.models import *\n",
    "from hmpai.pytorch.training import k_fold_cross_validate\n",
    "from hmpai.normalization import *\n",
    "from hmpai.data import SAT1_STAGES_ACCURACY"
   ]
  },
  {
   "cell_type": "code",
   "execution_count": null,
   "metadata": {},
   "outputs": [],
   "source": []
  }
 ],
 "metadata": {
  "kernelspec": {
   "display_name": "thesis_pytorch",
   "language": "python",
   "name": "python3"
  },
  "language_info": {
   "name": "python",
   "version": "3.11.6"
  }
 },
 "nbformat": 4,
 "nbformat_minor": 2
}

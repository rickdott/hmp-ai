{
 "cells": [
  {
   "cell_type": "code",
   "execution_count": 33,
   "metadata": {},
   "outputs": [],
   "source": [
    "import json\n",
    "from pathlib import Path\n",
    "from collections import defaultdict\n",
    "from matplotlib import pyplot as plt"
   ]
  },
  {
   "cell_type": "code",
   "execution_count": 12,
   "metadata": {},
   "outputs": [],
   "source": [
    "base_path = Path(\"../logs/exp_generalization_datasets/results_SAT1Base.json\")\n",
    "gru_path = Path(\"../logs/exp_generalization_datasets/results_SAT1GRU.json\")\n",
    "transformer_path = Path(\"../logs/exp_generalization_datasets/results_TransformerModel.json\")"
   ]
  },
  {
   "cell_type": "code",
   "execution_count": 42,
   "metadata": {},
   "outputs": [],
   "source": [
    "classes = ['pre-attentive', 'encoding', 'confirmation', 'decision', 'response']"
   ]
  },
  {
   "cell_type": "code",
   "execution_count": 52,
   "metadata": {},
   "outputs": [],
   "source": [
    "scores = defaultdict(lambda: list())\n",
    "for path in [base_path, gru_path, transformer_path]:\n",
    "    data = json.load(path.open())\n",
    "    # 0/1/2, sat2/sat1/ar\n",
    "    for fold in data['1']:\n",
    "        # print(fold)\n",
    "        for label in ['0', '1', '2', '3', '4']:\n",
    "            # Add all F1-scores to label\n",
    "            scores[label].append(fold[label]['precision'])"
   ]
  },
  {
   "cell_type": "code",
   "execution_count": 53,
   "metadata": {},
   "outputs": [
    {
     "name": "stdout",
     "output_type": "stream",
     "text": [
      "pre-attentive: 0.5319518153599007\n",
      "encoding: 0.5673162700027113\n",
      "confirmation: 0.6040228951392604\n",
      "decision: 0.41417117479947685\n",
      "response: 0.7259719627203134\n"
     ]
    }
   ],
   "source": [
    "for key, val in scores.items():\n",
    "    print(f\"{classes[int(key)]}: {sum(val)/len(val)}\")"
   ]
  }
 ],
 "metadata": {
  "kernelspec": {
   "display_name": "thesis_pytorch",
   "language": "python",
   "name": "python3"
  },
  "language_info": {
   "codemirror_mode": {
    "name": "ipython",
    "version": 3
   },
   "file_extension": ".py",
   "mimetype": "text/x-python",
   "name": "python",
   "nbconvert_exporter": "python",
   "pygments_lexer": "ipython3",
   "version": "3.11.6"
  }
 },
 "nbformat": 4,
 "nbformat_minor": 2
}

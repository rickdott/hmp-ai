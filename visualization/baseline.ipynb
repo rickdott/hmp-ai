{
 "cells": [
  {
   "cell_type": "code",
   "execution_count": 8,
   "metadata": {},
   "outputs": [],
   "source": [
    "import numpy as np\n",
    "from sklearn.manifold import TSNE\n",
    "from pathlib import Path\n",
    "import xarray as xr\n",
    "from hmpai.normalization import *\n",
    "from hmpai.data import preprocess\n",
    "from hmpai.training import split_data_on_participants\n",
    "import matplotlib.pyplot as plt\n",
    "from hmpai.utilities import MASKING_VALUE\n",
    "from sklearn.linear_model import LogisticRegression\n",
    "from sklearn.ensemble import RandomForestClassifier\n",
    "import random"
   ]
  },
  {
   "cell_type": "code",
   "execution_count": 2,
   "metadata": {},
   "outputs": [],
   "source": [
    "data_path = Path(\"../data/sat1/split_stage_data.nc\")\n",
    "data = xr.load_dataset(data_path)\n",
    "random.seed(42)\n",
    "np.random.seed(42)\n",
    "train_data, val_data, test_data = split_data_on_participants(data, 60, norm_dummy)\n",
    "train_data = preprocess(train_data)\n",
    "test_data = preprocess(test_data)"
   ]
  },
  {
   "cell_type": "code",
   "execution_count": 3,
   "metadata": {},
   "outputs": [],
   "source": [
    "train_mean_activation = (\n",
    "    train_data.where(train_data.data != MASKING_VALUE)\n",
    "    .mean(dim=[\"samples\"], skipna=True)\n",
    "    .data\n",
    ")\n",
    "test_mean_activation = (\n",
    "    test_data.where(test_data.data != MASKING_VALUE)\n",
    "    .mean(dim=[\"samples\"], skipna=True)\n",
    "    .data\n",
    ")"
   ]
  },
  {
   "cell_type": "code",
   "execution_count": 12,
   "metadata": {},
   "outputs": [],
   "source": [
    "# stage_durations = np.isnandata.where(data.data != MASKING_VALUE)\n",
    "# np.isnan(test_set.data.where(test_set.data != MASKING_VALUE))\n",
    "\n",
    "train_lengths = np.isnan(\n",
    "    train_data.data.where(train_data.data != MASKING_VALUE)\n",
    ").argmax(dim=[\"samples\", \"channels\"])[\"samples\"]\n",
    "\n",
    "test_lengths = np.isnan(test_data.data.where(test_data.data != MASKING_VALUE)).argmax(\n",
    "    dim=[\"samples\", \"channels\"]\n",
    ")[\"samples\"]\n",
    "\n",
    "train_lengths_data = train_lengths.data.reshape(-1, 1)\n",
    "test_lengths_data = test_lengths.data.reshape(-1, 1)"
   ]
  },
  {
   "cell_type": "code",
   "execution_count": 25,
   "metadata": {},
   "outputs": [],
   "source": [
    "combined_train = np.append(train_mean_activation, train_lengths_data, axis=1)\n",
    "combined_test = np.append(test_mean_activation, test_lengths_data, axis=1)"
   ]
  },
  {
   "cell_type": "code",
   "execution_count": 27,
   "metadata": {},
   "outputs": [],
   "source": [
    "rf = RandomForestClassifier(random_state=42).fit(\n",
    "    combined_train, train_mean_activation.labels\n",
    ")"
   ]
  },
  {
   "cell_type": "code",
   "execution_count": 9,
   "metadata": {},
   "outputs": [],
   "source": [
    "rf = RandomForestClassifier(random_state=42).fit(\n",
    "    train_mean_activation.to_numpy(), train_mean_activation.labels\n",
    ")"
   ]
  },
  {
   "cell_type": "code",
   "execution_count": 13,
   "metadata": {},
   "outputs": [],
   "source": [
    "rf = RandomForestClassifier(random_state=42).fit(\n",
    "    train_lengths_data, train_lengths.labels\n",
    ")"
   ]
  },
  {
   "cell_type": "code",
   "execution_count": 28,
   "metadata": {},
   "outputs": [
    {
     "data": {
      "text/plain": [
       "0.6357931726907631"
      ]
     },
     "execution_count": 28,
     "metadata": {},
     "output_type": "execute_result"
    }
   ],
   "source": [
    "rf.score(combined_test, test_mean_activation.labels)"
   ]
  },
  {
   "cell_type": "code",
   "execution_count": 11,
   "metadata": {},
   "outputs": [
    {
     "data": {
      "text/plain": [
       "0.4445281124497992"
      ]
     },
     "execution_count": 11,
     "metadata": {},
     "output_type": "execute_result"
    }
   ],
   "source": [
    "rf.score(test_mean_activation, test_mean_activation.labels)"
   ]
  },
  {
   "cell_type": "code",
   "execution_count": 14,
   "metadata": {},
   "outputs": [
    {
     "data": {
      "text/plain": [
       "0.5240963855421686"
      ]
     },
     "execution_count": 14,
     "metadata": {},
     "output_type": "execute_result"
    }
   ],
   "source": [
    "rf.score(test_lengths_data, test_lengths.labels)"
   ]
  }
 ],
 "metadata": {
  "kernelspec": {
   "display_name": "thesis",
   "language": "python",
   "name": "python3"
  },
  "language_info": {
   "codemirror_mode": {
    "name": "ipython",
    "version": 3
   },
   "file_extension": ".py",
   "mimetype": "text/x-python",
   "name": "python",
   "nbconvert_exporter": "python",
   "pygments_lexer": "ipython3",
   "version": "3.11.6"
  }
 },
 "nbformat": 4,
 "nbformat_minor": 2
}

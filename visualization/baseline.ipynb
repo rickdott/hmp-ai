{
 "cells": [
  {
   "cell_type": "code",
   "execution_count": 19,
   "metadata": {},
   "outputs": [],
   "source": [
    "import numpy as np\n",
    "from sklearn.manifold import TSNE\n",
    "from pathlib import Path\n",
    "import xarray as xr\n",
    "from hmpai.normalization import *\n",
    "from hmpai.data import preprocess\n",
    "from hmpai.training import split_data_on_participants, train_and_evaluate, k_fold_cross_validate, get_compile_kwargs\n",
    "import matplotlib.pyplot as plt\n",
    "from hmpai.utilities import MASKING_VALUE, set_global_seed\n",
    "from sklearn.linear_model import LogisticRegression"
   ]
  },
  {
   "cell_type": "code",
   "execution_count": 27,
   "metadata": {},
   "outputs": [],
   "source": [
    "data_path = Path(\"../data/sat1/split_stage_data.nc\")\n",
    "data = xr.load_dataset(data_path)\n",
    "set_global_seed(42)\n",
    "train_data, val_data, test_data = split_data_on_participants(data, 60, norm_dummy)\n",
    "train_data = preprocess(train_data)\n",
    "test_data = preprocess(test_data)"
   ]
  },
  {
   "cell_type": "code",
   "execution_count": 28,
   "metadata": {},
   "outputs": [],
   "source": [
    "# stage_durations = np.isnandata.where(data.data != MASKING_VALUE)\n",
    "# np.isnan(test_set.data.where(test_set.data != MASKING_VALUE))\n",
    "\n",
    "train_lengths = np.isnan(train_data.data.where(train_data.data != MASKING_VALUE)).argmax(\n",
    "        dim=[\"samples\", \"channels\"]\n",
    "    )['samples']\n",
    "\n",
    "test_lengths = np.isnan(test_data.data.where(test_data.data != MASKING_VALUE)).argmax(\n",
    "        dim=[\"samples\", \"channels\"]\n",
    "    )['samples']\n",
    "\n",
    "train_lengths_data = train_lengths.data.reshape(-1, 1)\n",
    "test_lengths_data = test_lengths.data.reshape(-1, 1)"
   ]
  },
  {
   "cell_type": "code",
   "execution_count": 33,
   "metadata": {},
   "outputs": [],
   "source": [
    "log_res = LogisticRegression(random_state=42, class_weight='balanced').fit(train_lengths_data, train_lengths.labels)"
   ]
  },
  {
   "cell_type": "code",
   "execution_count": 34,
   "metadata": {},
   "outputs": [
    {
     "data": {
      "text/plain": [
       "0.4382360310699073"
      ]
     },
     "execution_count": 34,
     "metadata": {},
     "output_type": "execute_result"
    }
   ],
   "source": [
    "log_res.score(test_lengths_data, test_lengths.labels)"
   ]
  }
 ],
 "metadata": {
  "kernelspec": {
   "display_name": "thesis",
   "language": "python",
   "name": "python3"
  },
  "language_info": {
   "codemirror_mode": {
    "name": "ipython",
    "version": 3
   },
   "file_extension": ".py",
   "mimetype": "text/x-python",
   "name": "python",
   "nbconvert_exporter": "python",
   "pygments_lexer": "ipython3",
   "version": "3.11.6"
  }
 },
 "nbformat": 4,
 "nbformat_minor": 2
}

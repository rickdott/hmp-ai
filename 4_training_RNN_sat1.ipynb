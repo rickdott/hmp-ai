{
 "cells": [
  {
   "cell_type": "code",
   "execution_count": 1,
   "metadata": {},
   "outputs": [
    {
     "name": "stdout",
     "output_type": "stream",
     "text": [
      "env: TF_FORCE_GPU_ALLOW_GROWTH=true\n",
      "env: TF_GPU_ALLOCATOR=cuda_malloc_async\n"
     ]
    }
   ],
   "source": [
    "%load_ext autoreload\n",
    "%autoreload 2\n",
    "import numpy as np\n",
    "from pathlib import Path\n",
    "import xarray as xr\n",
    "import tensorflow as tf\n",
    "from shared.models import *\n",
    "from shared.utilities import *\n",
    "from shared.training import train_and_evaluate, split_data_on_participants, k_fold_cross_validate, get_compile_kwargs\n",
    "from shared.normalization import *\n",
    "from shared.generators import *\n",
    "%env TF_FORCE_GPU_ALLOW_GROWTH=true\n",
    "%env TF_GPU_ALLOCATOR=cuda_malloc_async"
   ]
  },
  {
   "cell_type": "markdown",
   "metadata": {},
   "source": [
    "### Set up data"
   ]
  },
  {
   "cell_type": "code",
   "execution_count": 2,
   "metadata": {},
   "outputs": [
    {
     "name": "stderr",
     "output_type": "stream",
     "text": [
      "<frozen importlib._bootstrap>:241: RuntimeWarning: numpy.ndarray size changed, may indicate binary incompatibility. Expected 16 from C header, got 96 from PyObject\n"
     ]
    }
   ],
   "source": [
    "data_path = Path(\"data/sat1/split_stage_data.nc\")\n",
    "\n",
    "data = xr.load_dataset(data_path)"
   ]
  },
  {
   "cell_type": "code",
   "execution_count": 8,
   "metadata": {},
   "outputs": [],
   "source": [
    "data_path = Path(\"data/sat1/split_stage_data_weighted_mean.nc\")\n",
    "\n",
    "data = xr.load_dataset(data_path)"
   ]
  },
  {
   "cell_type": "code",
   "execution_count": 2,
   "metadata": {},
   "outputs": [],
   "source": [
    "data_path = Path(\"data/sat1/split_stage_data_unprocessed_500hz.nc\")\n",
    "\n",
    "data = xr.load_dataset(data_path)"
   ]
  },
  {
   "cell_type": "code",
   "execution_count": 8,
   "metadata": {},
   "outputs": [],
   "source": [
    "data_path = Path(\"data/sat1/stage_data.nc\")\n",
    "\n",
    "data = xr.load_dataset(data_path)"
   ]
  },
  {
   "cell_type": "code",
   "execution_count": 9,
   "metadata": {},
   "outputs": [],
   "source": [
    "train_data, val_data, test_data = split_data_on_participants(data, 60, norm_dummy)"
   ]
  },
  {
   "cell_type": "code",
   "execution_count": 52,
   "metadata": {},
   "outputs": [],
   "source": [
    "model = SAT1LSTM(len(data.channels), len(data.samples), len(data.labels))\n",
    "model.compile(**get_compile_kwargs())"
   ]
  },
  {
   "cell_type": "code",
   "execution_count": 10,
   "metadata": {},
   "outputs": [],
   "source": [
    "model = SAT1GRU(len(data.channels), len(data.samples), len(data.labels))\n",
    "model.compile(**get_compile_kwargs())"
   ]
  },
  {
   "cell_type": "code",
   "execution_count": 10,
   "metadata": {},
   "outputs": [],
   "source": [
    "model = SAT1seq2seqGRU(len(data.channels), len(data.samples), len(data.labels))\n",
    "model.compile(**get_compile_kwargs())"
   ]
  },
  {
   "cell_type": "code",
   "execution_count": null,
   "metadata": {},
   "outputs": [],
   "source": [
    "train_and_evaluate(\n",
    "    model,\n",
    "    train_data,\n",
    "    val_data,\n",
    "    test_data,\n",
    "    epochs=20,\n",
    "    logs_path=Path(\"logs/\"),\n",
    "    generator=SequentialSAT1DataGenerator,\n",
    ")"
   ]
  },
  {
   "cell_type": "code",
   "execution_count": 7,
   "metadata": {},
   "outputs": [],
   "source": [
    "# Run before re-training to clear up VRAM\n",
    "import gc\n",
    "\n",
    "gc.collect()\n",
    "tf.keras.backend.clear_session()\n",
    "del model"
   ]
  },
  {
   "cell_type": "code",
   "execution_count": 12,
   "metadata": {},
   "outputs": [
    {
     "name": "stdout",
     "output_type": "stream",
     "text": [
      "Epoch 1/20\n",
      "766/766 [==============================] - 19s 20ms/step - loss: 1.1914 - accuracy: 0.5281 - val_loss: 0.7996 - val_accuracy: 0.7039\n",
      "Epoch 2/20\n",
      "766/766 [==============================] - 15s 19ms/step - loss: 0.7333 - accuracy: 0.7218 - val_loss: 0.8155 - val_accuracy: 0.6987\n",
      "Epoch 3/20\n",
      "766/766 [==============================] - 15s 19ms/step - loss: 0.6240 - accuracy: 0.7673 - val_loss: 0.8055 - val_accuracy: 0.7027\n",
      "Epoch 4/20\n",
      "766/766 [==============================] - 15s 19ms/step - loss: 0.5553 - accuracy: 0.7937 - val_loss: 0.8006 - val_accuracy: 0.7229\n",
      "Epoch 5/20\n",
      "766/766 [==============================] - 15s 19ms/step - loss: 0.5006 - accuracy: 0.8112 - val_loss: 0.8965 - val_accuracy: 0.7022\n",
      "Epoch 6/20\n",
      "766/766 [==============================] - 15s 19ms/step - loss: 0.4415 - accuracy: 0.8357 - val_loss: 0.8477 - val_accuracy: 0.7129\n",
      "Epoch 7/20\n",
      "766/766 [==============================] - 15s 19ms/step - loss: 0.3816 - accuracy: 0.8617 - val_loss: 0.8836 - val_accuracy: 0.7161\n",
      "247/247 [==============================] - 3s 11ms/step\n"
     ]
    },
    {
     "data": {
      "text/plain": [
       "(<keras.src.callbacks.History at 0x7f55e16f9650>,\n",
       " {'confirmation': {'precision': 0.6795252225519288,\n",
       "   'recall': 0.5204545454545455,\n",
       "   'f1-score': 0.5894465894465895,\n",
       "   'support': 440},\n",
       "  'decision': {'precision': 0.681265206812652,\n",
       "   'recall': 0.6363636363636364,\n",
       "   'f1-score': 0.6580493537015276,\n",
       "   'support': 880},\n",
       "  'encoding': {'precision': 0.659963436928702,\n",
       "   'recall': 0.8242009132420092,\n",
       "   'f1-score': 0.732994923857868,\n",
       "   'support': 876},\n",
       "  'pre-attentive': {'precision': 0.8543577981651376,\n",
       "   'recall': 0.8485193621867881,\n",
       "   'f1-score': 0.8514285714285713,\n",
       "   'support': 878},\n",
       "  'response': {'precision': 0.7750906892382105,\n",
       "   'recall': 0.7300683371298405,\n",
       "   'f1-score': 0.7519061583577713,\n",
       "   'support': 878},\n",
       "  'accuracy': 0.7330465587044535,\n",
       "  'macro avg': {'precision': 0.7300404707393262,\n",
       "   'recall': 0.711921358875364,\n",
       "   'f1-score': 0.7167651193584657,\n",
       "   'support': 3952},\n",
       "  'weighted avg': {'precision': 0.7356498538987007,\n",
       "   'recall': 0.7330465587044535,\n",
       "   'f1-score': 0.730837898953883,\n",
       "   'support': 3952}})"
      ]
     },
     "execution_count": 12,
     "metadata": {},
     "output_type": "execute_result"
    }
   ],
   "source": [
    "train_and_evaluate(\n",
    "    model, train_data, val_data, test_data, epochs=20, logs_path=Path(\"logs/\")\n",
    ")"
   ]
  },
  {
   "cell_type": "code",
   "execution_count": 6,
   "metadata": {},
   "outputs": [
    {
     "name": "stdout",
     "output_type": "stream",
     "text": [
      "INFO:tensorflow:Assets written to: models/gru/assets\n"
     ]
    },
    {
     "name": "stderr",
     "output_type": "stream",
     "text": [
      "INFO:tensorflow:Assets written to: models/gru/assets\n"
     ]
    }
   ],
   "source": [
    "model.save(\"models/gru\")"
   ]
  },
  {
   "cell_type": "code",
   "execution_count": 10,
   "metadata": {},
   "outputs": [
    {
     "name": "stdout",
     "output_type": "stream",
     "text": [
      "Model: \"model\"\n",
      "_________________________________________________________________\n",
      " Layer (type)                Output Shape              Param #   \n",
      "=================================================================\n",
      " input_1 (InputLayer)        [(None, 154, 30)]         0         \n",
      "                                                                 \n",
      " masking (Masking)           (None, 154, 30)           0         \n",
      "                                                                 \n",
      " gru (GRU)                   (None, 154, 64)           18432     \n",
      "                                                                 \n",
      " gru_1 (GRU)                 (None, 154, 32)           9408      \n",
      "                                                                 \n",
      " dense (Dense)               (None, 154, 5)            165       \n",
      "                                                                 \n",
      "=================================================================\n",
      "Total params: 28005 (109.39 KB)\n",
      "Trainable params: 28005 (109.39 KB)\n",
      "Non-trainable params: 0 (0.00 Byte)\n",
      "_________________________________________________________________\n"
     ]
    }
   ],
   "source": [
    "model.summary()"
   ]
  }
 ],
 "metadata": {
  "kernelspec": {
   "display_name": "thesis",
   "language": "python",
   "name": "python3"
  },
  "language_info": {
   "codemirror_mode": {
    "name": "ipython",
    "version": 3
   },
   "file_extension": ".py",
   "mimetype": "text/x-python",
   "name": "python",
   "nbconvert_exporter": "python",
   "pygments_lexer": "ipython3",
   "version": "3.11.3"
  },
  "orig_nbformat": 4
 },
 "nbformat": 4,
 "nbformat_minor": 2
}

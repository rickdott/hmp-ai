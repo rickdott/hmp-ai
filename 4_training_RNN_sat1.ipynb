{
 "cells": [
  {
   "cell_type": "code",
   "execution_count": 7,
   "metadata": {},
   "outputs": [
    {
     "name": "stdout",
     "output_type": "stream",
     "text": [
      "The autoreload extension is already loaded. To reload it, use:\n",
      "  %reload_ext autoreload\n",
      "env: TF_FORCE_GPU_ALLOW_GROWTH=true\n",
      "env: TF_GPU_ALLOCATOR=cuda_malloc_async\n"
     ]
    }
   ],
   "source": [
    "%load_ext autoreload\n",
    "%autoreload 2\n",
    "import numpy as np\n",
    "from pathlib import Path\n",
    "import xarray as xr\n",
    "import tensorflow as tf\n",
    "from hmpai.models import *\n",
    "from hmpai.utilities import *\n",
    "from hmpai.training import train_and_evaluate, split_data_on_participants, k_fold_cross_validate, get_compile_kwargs\n",
    "from hmpai.normalization import *\n",
    "from hmpai.generators import *\n",
    "%env TF_FORCE_GPU_ALLOW_GROWTH=true\n",
    "%env TF_GPU_ALLOCATOR=cuda_malloc_async"
   ]
  },
  {
   "cell_type": "markdown",
   "metadata": {},
   "source": [
    "### Set up data"
   ]
  },
  {
   "cell_type": "code",
   "execution_count": 2,
   "metadata": {},
   "outputs": [],
   "source": [
    "data_path = Path(\"data/sat1/split_stage_data.nc\")\n",
    "\n",
    "data = xr.load_dataset(data_path)"
   ]
  },
  {
   "cell_type": "code",
   "execution_count": 2,
   "metadata": {},
   "outputs": [],
   "source": [
    "data_path = Path(\"data/sat1/split_stage_data_unprocessed_100hz.nc\")\n",
    "\n",
    "data = xr.load_dataset(data_path)"
   ]
  },
  {
   "cell_type": "code",
   "execution_count": 8,
   "metadata": {},
   "outputs": [],
   "source": [
    "data_path = Path(\"data/sat1/split_stage_data_weighted_mean.nc\")\n",
    "\n",
    "data = xr.load_dataset(data_path)"
   ]
  },
  {
   "cell_type": "code",
   "execution_count": 2,
   "metadata": {},
   "outputs": [],
   "source": [
    "data_path = Path(\"data/sat1/split_stage_data_unprocessed_500hz.nc\")\n",
    "\n",
    "data = xr.load_dataset(data_path)"
   ]
  },
  {
   "cell_type": "code",
   "execution_count": 2,
   "metadata": {},
   "outputs": [],
   "source": [
    "data_path = Path(\"data/sat1/stage_data.nc\")\n",
    "\n",
    "data = xr.load_dataset(data_path)"
   ]
  },
  {
   "cell_type": "code",
   "execution_count": 3,
   "metadata": {},
   "outputs": [],
   "source": [
    "train_data, val_data, test_data = split_data_on_participants(data, 60, norm_dummy)"
   ]
  },
  {
   "cell_type": "code",
   "execution_count": null,
   "metadata": {},
   "outputs": [],
   "source": [
    "model = SAT1LSTM(len(data.channels), len(data.samples), len(data.labels))\n",
    "model.compile(**get_compile_kwargs())"
   ]
  },
  {
   "cell_type": "code",
   "execution_count": null,
   "metadata": {},
   "outputs": [],
   "source": [
    "model = SAT1GRU(len(data.channels), len(data.samples), len(data.labels))\n",
    "model.compile(**get_compile_kwargs())"
   ]
  },
  {
   "cell_type": "code",
   "execution_count": 6,
   "metadata": {},
   "outputs": [],
   "source": [
    "model = SAT1seq2seqGRU(len(data.channels), len(data.samples), len(data.labels))\n",
    "model.compile(**get_compile_kwargs())"
   ]
  },
  {
   "cell_type": "code",
   "execution_count": 5,
   "metadata": {},
   "outputs": [
    {
     "name": "stdout",
     "output_type": "stream",
     "text": [
      "Epoch 1/20\n"
     ]
    },
    {
     "name": "stderr",
     "output_type": "stream",
     "text": [
      "2023-10-23 14:03:51.960860: I tensorflow/compiler/xla/stream_executor/cuda/cuda_dnn.cc:432] Loaded cuDNN version 8600\n",
      "2023-10-23 14:03:52.050649: I tensorflow/compiler/xla/stream_executor/cuda/cuda_blas.cc:606] TensorFloat-32 will be used for the matrix multiplication. This will only be logged once.\n",
      "2023-10-23 14:03:52.293323: I tensorflow/compiler/xla/service/service.cc:168] XLA service 0x556348d5f7e0 initialized for platform CUDA (this does not guarantee that XLA will be used). Devices:\n",
      "2023-10-23 14:03:52.293358: I tensorflow/compiler/xla/service/service.cc:176]   StreamExecutor device (0): NVIDIA GeForce RTX 3090, Compute Capability 8.6\n",
      "2023-10-23 14:03:52.299391: I tensorflow/compiler/mlir/tensorflow/utils/dump_mlir_util.cc:255] disabling MLIR crash reproducer, set env var `MLIR_CRASH_REPRODUCER_DIRECTORY` to enable.\n",
      "2023-10-23 14:03:52.413421: I ./tensorflow/compiler/jit/device_compiler.h:186] Compiled cluster using XLA!  This line is logged at most once for the lifetime of the process.\n"
     ]
    },
    {
     "name": "stdout",
     "output_type": "stream",
     "text": [
      "757/757 [==============================] - 19s 20ms/step - loss: 5.7769 - accuracy: 0.5343 - val_loss: 0.7829 - val_accuracy: 0.7073\n",
      "Epoch 2/20\n",
      "757/757 [==============================] - 14s 18ms/step - loss: 3.3414 - accuracy: 0.7505 - val_loss: 0.6011 - val_accuracy: 0.7884\n",
      "Epoch 3/20\n",
      "757/757 [==============================] - 14s 18ms/step - loss: 2.6204 - accuracy: 0.8034 - val_loss: 0.5637 - val_accuracy: 0.8008\n",
      "Epoch 4/20\n",
      "757/757 [==============================] - 14s 18ms/step - loss: 2.4064 - accuracy: 0.8155 - val_loss: 0.4845 - val_accuracy: 0.8249\n",
      "Epoch 5/20\n",
      "757/757 [==============================] - 14s 18ms/step - loss: 2.2222 - accuracy: 0.8293 - val_loss: 0.5075 - val_accuracy: 0.8171\n",
      "Epoch 6/20\n",
      "757/757 [==============================] - 14s 18ms/step - loss: 2.0820 - accuracy: 0.8406 - val_loss: 0.5096 - val_accuracy: 0.8232\n",
      "Epoch 7/20\n",
      "757/757 [==============================] - 14s 18ms/step - loss: 1.9812 - accuracy: 0.8484 - val_loss: 0.4775 - val_accuracy: 0.8359\n",
      "Epoch 8/20\n",
      "757/757 [==============================] - 14s 19ms/step - loss: 1.8832 - accuracy: 0.8542 - val_loss: 0.4633 - val_accuracy: 0.8318\n",
      "Epoch 9/20\n",
      "757/757 [==============================] - 14s 18ms/step - loss: 1.7770 - accuracy: 0.8619 - val_loss: 0.4893 - val_accuracy: 0.8336\n",
      "Epoch 10/20\n",
      "757/757 [==============================] - 14s 18ms/step - loss: 1.7495 - accuracy: 0.8650 - val_loss: 0.4564 - val_accuracy: 0.8422\n",
      "Epoch 11/20\n",
      "757/757 [==============================] - 14s 18ms/step - loss: 1.6549 - accuracy: 0.8737 - val_loss: 0.4816 - val_accuracy: 0.8305\n",
      "Epoch 12/20\n",
      "757/757 [==============================] - 14s 18ms/step - loss: 1.6219 - accuracy: 0.8712 - val_loss: 0.4650 - val_accuracy: 0.8338\n",
      "Epoch 13/20\n",
      "757/757 [==============================] - 15s 19ms/step - loss: 1.5824 - accuracy: 0.8769 - val_loss: 0.4799 - val_accuracy: 0.8354\n",
      "248/248 [==============================] - 3s 10ms/step\n"
     ]
    },
    {
     "data": {
      "text/plain": [
       "(<keras.src.callbacks.History at 0x7f27eb4cb990>,\n",
       " {'confirmation': {'precision': 0.7322097378277154,\n",
       "   'recall': 0.8786516853932584,\n",
       "   'f1-score': 0.7987742594484167,\n",
       "   'support': 445},\n",
       "  'decision': {'precision': 0.9064245810055865,\n",
       "   'recall': 0.7267637178051511,\n",
       "   'f1-score': 0.8067122436295836,\n",
       "   'support': 893},\n",
       "  'encoding': {'precision': 0.7941507311586051,\n",
       "   'recall': 0.7897091722595079,\n",
       "   'f1-score': 0.791923724060572,\n",
       "   'support': 894},\n",
       "  'pre-attentive': {'precision': 0.7230419977298524,\n",
       "   'recall': 0.7529550827423168,\n",
       "   'f1-score': 0.7376954255935148,\n",
       "   'support': 846},\n",
       "  'response': {'precision': 0.8280590717299579,\n",
       "   'recall': 0.8820224719101124,\n",
       "   'f1-score': 0.8541893362350381,\n",
       "   'support': 890},\n",
       "  'accuracy': 0.7983870967741935,\n",
       "  'macro avg': {'precision': 0.7967772238903434,\n",
       "   'recall': 0.8060204260220694,\n",
       "   'f1-score': 0.7978589977934251,\n",
       "   'support': 3968},\n",
       "  'weighted avg': {'precision': 0.8049161647545949,\n",
       "   'recall': 0.7983870967741935,\n",
       "   'f1-score': 0.7984242005108902,\n",
       "   'support': 3968}})"
      ]
     },
     "execution_count": 5,
     "metadata": {},
     "output_type": "execute_result"
    }
   ],
   "source": [
    "train_and_evaluate(\n",
    "    model, train_data, val_data, test_data, epochs=20, logs_path=Path(\"logs/\")\n",
    ")"
   ]
  },
  {
   "cell_type": "code",
   "execution_count": null,
   "metadata": {},
   "outputs": [],
   "source": [
    "train_and_evaluate(\n",
    "    model,\n",
    "    train_data,\n",
    "    val_data,\n",
    "    test_data,\n",
    "    epochs=20,\n",
    "    logs_path=Path(\"logs/\"),\n",
    "    generator=SequentialSAT1DataGenerator,\n",
    ")"
   ]
  },
  {
   "cell_type": "code",
   "execution_count": 11,
   "metadata": {},
   "outputs": [],
   "source": [
    "# Run before re-training to clear up VRAM\n",
    "import gc\n",
    "\n",
    "gc.collect()\n",
    "tf.keras.backend.clear_session()\n",
    "del model"
   ]
  },
  {
   "cell_type": "code",
   "execution_count": 6,
   "metadata": {},
   "outputs": [
    {
     "name": "stdout",
     "output_type": "stream",
     "text": [
      "INFO:tensorflow:Assets written to: models/lstm/assets\n"
     ]
    },
    {
     "name": "stderr",
     "output_type": "stream",
     "text": [
      "INFO:tensorflow:Assets written to: models/lstm/assets\n"
     ]
    }
   ],
   "source": [
    "model.save(\"models/lstm\")"
   ]
  },
  {
   "cell_type": "code",
   "execution_count": 6,
   "metadata": {},
   "outputs": [
    {
     "name": "stdout",
     "output_type": "stream",
     "text": [
      "INFO:tensorflow:Assets written to: models/gru/assets\n"
     ]
    },
    {
     "name": "stderr",
     "output_type": "stream",
     "text": [
      "INFO:tensorflow:Assets written to: models/gru/assets\n"
     ]
    }
   ],
   "source": [
    "model.save(\"models/gru\")"
   ]
  },
  {
   "cell_type": "code",
   "execution_count": 10,
   "metadata": {},
   "outputs": [
    {
     "name": "stdout",
     "output_type": "stream",
     "text": [
      "Model: \"model\"\n",
      "_________________________________________________________________\n",
      " Layer (type)                Output Shape              Param #   \n",
      "=================================================================\n",
      " input_1 (InputLayer)        [(None, 154, 30)]         0         \n",
      "                                                                 \n",
      " masking (Masking)           (None, 154, 30)           0         \n",
      "                                                                 \n",
      " gru (GRU)                   (None, 154, 64)           18432     \n",
      "                                                                 \n",
      " gru_1 (GRU)                 (None, 154, 32)           9408      \n",
      "                                                                 \n",
      " dense (Dense)               (None, 154, 5)            165       \n",
      "                                                                 \n",
      "=================================================================\n",
      "Total params: 28005 (109.39 KB)\n",
      "Trainable params: 28005 (109.39 KB)\n",
      "Non-trainable params: 0 (0.00 Byte)\n",
      "_________________________________________________________________\n"
     ]
    }
   ],
   "source": [
    "model.summary()"
   ]
  }
 ],
 "metadata": {
  "kernelspec": {
   "display_name": "thesis",
   "language": "python",
   "name": "python3"
  },
  "language_info": {
   "codemirror_mode": {
    "name": "ipython",
    "version": 3
   },
   "file_extension": ".py",
   "mimetype": "text/x-python",
   "name": "python",
   "nbconvert_exporter": "python",
   "pygments_lexer": "ipython3",
   "version": "3.11.6"
  },
  "orig_nbformat": 4
 },
 "nbformat": 4,
 "nbformat_minor": 2
}

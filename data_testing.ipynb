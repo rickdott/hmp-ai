{
 "cells": [
  {
   "cell_type": "code",
   "execution_count": 57,
   "metadata": {},
   "outputs": [],
   "source": [
    "import xarray as xr\n",
    "import numpy as np\n",
    "from pathlib import Path\n",
    "from shared.utilities import pad_to_max_sample_length"
   ]
  },
  {
   "cell_type": "code",
   "execution_count": 62,
   "metadata": {},
   "outputs": [],
   "source": [
    "data_path = Path(\"data/sat1/stage_data.nc\")\n",
    "output_path = Path(\"data/sat1/split_stage_data.nc\")\n",
    "stage_data = xr.load_dataset(data_path)"
   ]
  },
  {
   "cell_type": "code",
   "execution_count": 59,
   "metadata": {},
   "outputs": [],
   "source": [
    "# Must convert to numpy since np.where does not work in this case on XArray\n",
    "label_data = stage_data.labels.to_numpy()"
   ]
  },
  {
   "cell_type": "code",
   "execution_count": 60,
   "metadata": {},
   "outputs": [],
   "source": [
    "segments = []\n",
    "\n",
    "changes = np.array(np.where(label_data[:, :, :-1] != label_data[:, :, 1:]))\n",
    "changes[2] += 1\n",
    "last_change = None\n",
    "\n",
    "for participant, epoch, change in zip(changes[0], changes[1], changes[2]):\n",
    "    if last_change is None:\n",
    "        last_change = change\n",
    "    else:\n",
    "        # Dont take segment ending at one epoch and beginning in the next\n",
    "        if last_change < change:\n",
    "            segment = stage_data.isel(\n",
    "                participant=[participant],  # List to retain dimension in segment\n",
    "                epochs=[epoch],  # List to retain dimension in segment\n",
    "                samples=slice(last_change, change),\n",
    "            )\n",
    "            # Ignore start/end segments containing only empty strings\n",
    "            if np.any(segment.labels != \"\"):\n",
    "                label = segment.labels[0, 0, 0].item()\n",
    "                segment = (\n",
    "                    segment[\"data\"]\n",
    "                    .expand_dims({\"labels\": 1}, axis=2)\n",
    "                    .assign_coords(labels=[label])\n",
    "                )\n",
    "                segment[\"samples\"] = np.arange(0, len(segment[\"samples\"]))\n",
    "                segments.append(segment)\n",
    "        last_change = change"
   ]
  },
  {
   "cell_type": "code",
   "execution_count": 63,
   "metadata": {},
   "outputs": [],
   "source": [
    "combined_segments = xr.combine_by_coords(segments)\n",
    "combined_segments.to_netcdf(output_path)"
   ]
  },
  {
   "cell_type": "markdown",
   "metadata": {},
   "source": [
    "# Deprecated"
   ]
  },
  {
   "cell_type": "code",
   "execution_count": null,
   "metadata": {},
   "outputs": [],
   "source": [
    "# %%time\n",
    "# 2488 labels/segments\n",
    "dimensions = stage_data.labels.shape\n",
    "segments = []\n",
    "labels = []\n",
    "for participant in range(dimensions[0]):\n",
    "    for epoch in range(dimensions[1]):\n",
    "        trial = stage_data.isel(participant=participant, epochs=epoch)\n",
    "        # If trial contains anything other than empty strings, at least one processing stage has been identified and labelled\n",
    "        if np.any(trial.labels != \"\"):\n",
    "            np_labels = trial.labels.to_numpy()\n",
    "            # Find locations where string changes in a sequence of strings to find changes in stages\n",
    "            changes = np.where(np_labels[:-1] != np_labels[1:])[0] + 1\n",
    "            # Get EEG data for participant/epoch\n",
    "\n",
    "            # Create list of EEG data splits\n",
    "            splits = np.split(trial.data, changes, 1)\n",
    "            label_splits = np.split(trial.labels, changes, 0)\n",
    "            for split, label_split in zip(splits, label_splits):\n",
    "                if np.any(label_split != \"\"):\n",
    "                    # Sanity check\n",
    "                    if np.any(np.isnan(split)):\n",
    "                        print(f\"NAN FOUND participant {participant}, epoch {epoch}\")\n",
    "                        print(f\"Label: {label_split[0].item()}\")\n",
    "                        print(split.to_numpy()[0, :])\n",
    "                        raise ValueError(\n",
    "                            \"Split found that is fully labeled but still contains NaNs in data\"\n",
    "                        )\n",
    "                    # Add split and label to lists\n",
    "                    segments.append(split.data)\n",
    "                    labels.append(label_split[0].item())\n",
    "        else:\n",
    "            print(f\"Trial unusable: participant {participant}, epoch {epoch}\")\n",
    "\n",
    "# Pad to max_sample_length, can differ per data set or subset\n",
    "max_sample_length = max(segment.shape[1] for segment in segments)\n",
    "segments = np.stack(\n",
    "    [pad_to_max_sample_length(segment, max_sample_length) for segment in segments]\n",
    ")"
   ]
  }
 ],
 "metadata": {
  "kernelspec": {
   "display_name": "thesis",
   "language": "python",
   "name": "python3"
  },
  "language_info": {
   "codemirror_mode": {
    "name": "ipython",
    "version": 3
   },
   "file_extension": ".py",
   "mimetype": "text/x-python",
   "name": "python",
   "nbconvert_exporter": "python",
   "pygments_lexer": "ipython3",
   "version": "3.11.3"
  },
  "orig_nbformat": 4
 },
 "nbformat": 4,
 "nbformat_minor": 2
}

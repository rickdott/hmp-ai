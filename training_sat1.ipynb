{
 "cells": [
  {
   "attachments": {},
   "cell_type": "markdown",
   "metadata": {},
   "source": [
    "### Import Libraries"
   ]
  },
  {
   "cell_type": "code",
   "execution_count": 58,
   "metadata": {},
   "outputs": [
    {
     "name": "stdout",
     "output_type": "stream",
     "text": [
      "The autoreload extension is already loaded. To reload it, use:\n",
      "  %reload_ext autoreload\n",
      "env: TF_FORCE_GPU_ALLOW_GROWTH=true\n",
      "env: TF_GPU_ALLOCATOR=cuda_malloc_async\n"
     ]
    }
   ],
   "source": [
    "%load_ext autoreload\n",
    "%autoreload 2\n",
    "import numpy as np\n",
    "from pathlib import Path\n",
    "import tensorflow as tf\n",
    "from shared.models import SAT1Start\n",
    "from shared.generators import SAT1DataGenerator\n",
    "from shared.utilities import earlyStopping_cb\n",
    "\n",
    "%env TF_FORCE_GPU_ALLOW_GROWTH=true\n",
    "%env TF_GPU_ALLOCATOR=cuda_malloc_async"
   ]
  },
  {
   "attachments": {},
   "cell_type": "markdown",
   "metadata": {},
   "source": [
    "### Set up data"
   ]
  },
  {
   "cell_type": "code",
   "execution_count": 59,
   "metadata": {},
   "outputs": [],
   "source": [
    "data_name = 'data21-25_AC.npz'\n",
    "data_path = Path('data/sat1') / data_name\n",
    "\n",
    "with np.load(data_path) as f_data:\n",
    "    data = f_data['data']\n",
    "    labels = f_data['labels']\n",
    "    participants = f_data['participants']\n",
    "    \n",
    "data = data.reshape(-1, 30, 210, 1)"
   ]
  },
  {
   "cell_type": "code",
   "execution_count": 60,
   "metadata": {},
   "outputs": [],
   "source": [
    "categories = sorted(list(set(labels.flatten())))\n",
    "x_train = data[np.isin(participants, ['0021', '0022', '0023', '0024'])]\n",
    "y_train = labels[np.isin(participants, ['0021', '0022', '0023', '0024'])]\n",
    "\n",
    "x_test = data[np.isin(participants, ['0025'])]\n",
    "y_test = labels[np.isin(participants, ['0025'])]\n",
    "\n",
    "train_gen = SAT1DataGenerator(x_train, y_train)\n",
    "test_gen = SAT1DataGenerator(x_test, y_test)"
   ]
  },
  {
   "cell_type": "code",
   "execution_count": 70,
   "metadata": {},
   "outputs": [],
   "source": [
    "# # Run before re-training to clear up VRAM\n",
    "import gc\n",
    "gc.collect()\n",
    "tf.keras.backend.clear_session()\n",
    "del model"
   ]
  },
  {
   "cell_type": "code",
   "execution_count": 71,
   "metadata": {},
   "outputs": [],
   "source": [
    "# Instantiate model for 210 sample length, 30 electrodes/features, and 4 classes\n",
    "model = SAT1Start(30, 210, 4)\n",
    "model.compile(optimizer=tf.keras.optimizers.Adam(learning_rate=0.00005),\n",
    "              loss=tf.keras.losses.SparseCategoricalCrossentropy(),\n",
    "              metrics=['accuracy'])"
   ]
  },
  {
   "cell_type": "code",
   "execution_count": 72,
   "metadata": {},
   "outputs": [
    {
     "name": "stdout",
     "output_type": "stream",
     "text": [
      "Epoch 1/20\n"
     ]
    },
    {
     "name": "stderr",
     "output_type": "stream",
     "text": [
      "2023-05-30 10:19:50.572357: I tensorflow/core/common_runtime/executor.cc:1197] [/device:CPU:0] (DEBUG INFO) Executor start aborting (this does not indicate an error and you can ignore this message): INVALID_ARGUMENT: You must feed a value for placeholder tensor 'Placeholder/_0' with dtype int32\n",
      "\t [[{{node Placeholder/_0}}]]\n",
      "2023-05-30 10:19:51.011440: E tensorflow/core/grappler/optimizers/meta_optimizer.cc:954] layout failed: INVALID_ARGUMENT: Size of values 0 does not match size of permutation 4 @ fanin shape inmodel/dropout/dropout/SelectV2-2-TransposeNHWCToNCHW-LayoutOptimizer\n"
     ]
    },
    {
     "name": "stdout",
     "output_type": "stream",
     "text": [
      "60/60 [==============================] - 2s 16ms/step - loss: 1.5290 - accuracy: 0.2729 - val_loss: 1.3763 - val_accuracy: 0.3255\n",
      "Epoch 2/20\n",
      " 1/60 [..............................] - ETA: 0s - loss: 1.4822 - accuracy: 0.4375"
     ]
    },
    {
     "name": "stderr",
     "output_type": "stream",
     "text": [
      "2023-05-30 10:19:52.463323: I tensorflow/core/common_runtime/executor.cc:1197] [/device:CPU:0] (DEBUG INFO) Executor start aborting (this does not indicate an error and you can ignore this message): INVALID_ARGUMENT: You must feed a value for placeholder tensor 'Placeholder/_0' with dtype int32\n",
      "\t [[{{node Placeholder/_0}}]]\n"
     ]
    },
    {
     "name": "stdout",
     "output_type": "stream",
     "text": [
      "60/60 [==============================] - 1s 9ms/step - loss: 1.4796 - accuracy: 0.3203 - val_loss: 1.5245 - val_accuracy: 0.3255\n",
      "Epoch 3/20\n",
      "60/60 [==============================] - 1s 10ms/step - loss: 1.4488 - accuracy: 0.3161 - val_loss: 1.6495 - val_accuracy: 0.3255\n",
      "Epoch 4/20\n",
      "60/60 [==============================] - 1s 9ms/step - loss: 1.3697 - accuracy: 0.3551 - val_loss: 1.7234 - val_accuracy: 0.3255\n",
      "Epoch 5/20\n",
      "60/60 [==============================] - 1s 9ms/step - loss: 1.3512 - accuracy: 0.3878 - val_loss: 1.9684 - val_accuracy: 0.3255\n",
      "Epoch 6/20\n",
      "60/60 [==============================] - 1s 9ms/step - loss: 1.2814 - accuracy: 0.4162 - val_loss: 1.9287 - val_accuracy: 0.3255\n",
      "Epoch 7/20\n",
      "60/60 [==============================] - 1s 9ms/step - loss: 1.2257 - accuracy: 0.4447 - val_loss: 1.6687 - val_accuracy: 0.3373\n",
      "Epoch 8/20\n",
      "60/60 [==============================] - 1s 9ms/step - loss: 1.1238 - accuracy: 0.5058 - val_loss: 1.3280 - val_accuracy: 0.4471\n",
      "Epoch 9/20\n",
      "60/60 [==============================] - 1s 9ms/step - loss: 1.0632 - accuracy: 0.5511 - val_loss: 2.2782 - val_accuracy: 0.3373\n",
      "Epoch 10/20\n",
      "60/60 [==============================] - 1s 9ms/step - loss: 0.9627 - accuracy: 0.5753 - val_loss: 1.6971 - val_accuracy: 0.3804\n",
      "Epoch 11/20\n",
      "60/60 [==============================] - 1s 9ms/step - loss: 0.9057 - accuracy: 0.6217 - val_loss: 2.5190 - val_accuracy: 0.3490\n",
      "Epoch 12/20\n",
      "60/60 [==============================] - 1s 9ms/step - loss: 0.8620 - accuracy: 0.6523 - val_loss: 1.2266 - val_accuracy: 0.5137\n",
      "Epoch 13/20\n",
      "60/60 [==============================] - 1s 10ms/step - loss: 0.8354 - accuracy: 0.6607 - val_loss: 1.6095 - val_accuracy: 0.4353\n",
      "Epoch 14/20\n",
      "60/60 [==============================] - 1s 10ms/step - loss: 0.8099 - accuracy: 0.6628 - val_loss: 1.2711 - val_accuracy: 0.5529\n",
      "Epoch 15/20\n",
      "60/60 [==============================] - 1s 9ms/step - loss: 0.7895 - accuracy: 0.6712 - val_loss: 1.4543 - val_accuracy: 0.5020\n",
      "Epoch 16/20\n",
      "60/60 [==============================] - 1s 10ms/step - loss: 0.7676 - accuracy: 0.6902 - val_loss: 1.9562 - val_accuracy: 0.4157\n",
      "Epoch 17/20\n",
      "60/60 [==============================] - 1s 9ms/step - loss: 0.7535 - accuracy: 0.6902 - val_loss: 1.0627 - val_accuracy: 0.6157\n",
      "Epoch 18/20\n",
      "60/60 [==============================] - 1s 10ms/step - loss: 0.7278 - accuracy: 0.7102 - val_loss: 1.2202 - val_accuracy: 0.5843\n",
      "Epoch 19/20\n",
      "60/60 [==============================] - 1s 9ms/step - loss: 0.7164 - accuracy: 0.7039 - val_loss: 1.1709 - val_accuracy: 0.6078\n",
      "Epoch 20/20\n",
      "60/60 [==============================] - 1s 9ms/step - loss: 0.6923 - accuracy: 0.7239 - val_loss: 1.4337 - val_accuracy: 0.5020\n"
     ]
    },
    {
     "data": {
      "text/plain": [
       "<keras.callbacks.History at 0x7f4d684f52d0>"
      ]
     },
     "execution_count": 72,
     "metadata": {},
     "output_type": "execute_result"
    }
   ],
   "source": [
    "# model.fit(train_gen,\n",
    "#           epochs=20,\n",
    "#           # TODO: Create val_gen (use 6th participant?)\n",
    "#           validation_data=test_gen,\n",
    "#           callbacks=[earlyStopping_cb])\n",
    "model.fit(train_gen,\n",
    "          epochs=20,\n",
    "          # TODO: Create val_gen (use 6th participant?)\n",
    "          validation_data=test_gen)"
   ]
  }
 ],
 "metadata": {
  "kernelspec": {
   "display_name": "thesis",
   "language": "python",
   "name": "python3"
  },
  "language_info": {
   "codemirror_mode": {
    "name": "ipython",
    "version": 3
   },
   "file_extension": ".py",
   "mimetype": "text/x-python",
   "name": "python",
   "nbconvert_exporter": "python",
   "pygments_lexer": "ipython3",
   "version": "3.11.3"
  },
  "orig_nbformat": 4
 },
 "nbformat": 4,
 "nbformat_minor": 2
}

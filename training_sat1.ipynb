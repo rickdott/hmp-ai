{
 "cells": [
  {
   "attachments": {},
   "cell_type": "markdown",
   "metadata": {},
   "source": [
    "### Import Libraries"
   ]
  },
  {
   "cell_type": "code",
   "execution_count": 126,
   "metadata": {},
   "outputs": [
    {
     "name": "stdout",
     "output_type": "stream",
     "text": [
      "The autoreload extension is already loaded. To reload it, use:\n",
      "  %reload_ext autoreload\n",
      "env: TF_FORCE_GPU_ALLOW_GROWTH=true\n",
      "env: TF_GPU_ALLOCATOR=cuda_malloc_async\n"
     ]
    }
   ],
   "source": [
    "%load_ext autoreload\n",
    "%autoreload 2\n",
    "import numpy as np\n",
    "from pathlib import Path\n",
    "import tensorflow as tf\n",
    "from shared.models import SAT1Start, ShallowConvNet, EEGNet\n",
    "from shared.generators import SAT1DataGenerator\n",
    "from shared.utilities import earlyStopping_cb\n",
    "from sklearn.metrics import classification_report\n",
    "\n",
    "%env TF_FORCE_GPU_ALLOW_GROWTH=true\n",
    "%env TF_GPU_ALLOCATOR=cuda_malloc_async"
   ]
  },
  {
   "attachments": {},
   "cell_type": "markdown",
   "metadata": {},
   "source": [
    "### Set up data"
   ]
  },
  {
   "cell_type": "code",
   "execution_count": 127,
   "metadata": {},
   "outputs": [],
   "source": [
    "data_name = 'data21-25_AC.npz'\n",
    "data_path = Path('data/sat1') / data_name\n",
    "\n",
    "with np.load(data_path) as f_data:\n",
    "    data = f_data['data']\n",
    "    labels = f_data['labels']\n",
    "    participants = f_data['participants']\n",
    "    \n",
    "data = data.reshape(-1, 30, 210, 1)"
   ]
  },
  {
   "cell_type": "code",
   "execution_count": 139,
   "metadata": {},
   "outputs": [],
   "source": [
    "categories = sorted(list(set(labels.flatten())))\n",
    "x_train = data[np.isin(participants, ['0021', '0022', '0023', '0024'])]\n",
    "y_train = labels[np.isin(participants, ['0021', '0022', '0023', '0024'])]\n",
    "\n",
    "x_test = data[np.isin(participants, ['0025'])]\n",
    "y_test = labels[np.isin(participants, ['0025'])]\n",
    "\n",
    "train_gen = SAT1DataGenerator(x_train, y_train)\n",
    "test_gen = SAT1DataGenerator(x_test, y_test)"
   ]
  },
  {
   "cell_type": "code",
   "execution_count": 140,
   "metadata": {},
   "outputs": [],
   "source": [
    "# # Run before re-training to clear up VRAM\n",
    "import gc\n",
    "gc.collect()\n",
    "tf.keras.backend.clear_session()\n",
    "del model"
   ]
  },
  {
   "cell_type": "code",
   "execution_count": 141,
   "metadata": {},
   "outputs": [
    {
     "name": "stdout",
     "output_type": "stream",
     "text": [
      "Model: \"model\"\n",
      "_________________________________________________________________\n",
      " Layer (type)                Output Shape              Param #   \n",
      "=================================================================\n",
      " input_1 (InputLayer)        [(None, 30, 210, 1)]      0         \n",
      "                                                                 \n",
      " conv2d (Conv2D)             (None, 30, 206, 16)       96        \n",
      "                                                                 \n",
      " dropout (Dropout)           (None, 30, 206, 16)       0         \n",
      "                                                                 \n",
      " conv2d_1 (Conv2D)           (None, 26, 202, 32)       12832     \n",
      "                                                                 \n",
      " dropout_1 (Dropout)         (None, 26, 202, 32)       0         \n",
      "                                                                 \n",
      " conv2d_2 (Conv2D)           (None, 22, 202, 64)       10304     \n",
      "                                                                 \n",
      " batch_normalization (BatchN  (None, 22, 202, 64)      256       \n",
      " ormalization)                                                   \n",
      "                                                                 \n",
      " average_pooling2d (AverageP  (None, 22, 99, 64)       0         \n",
      " ooling2D)                                                       \n",
      "                                                                 \n",
      " dropout_2 (Dropout)         (None, 22, 99, 64)        0         \n",
      "                                                                 \n",
      " flatten (Flatten)           (None, 139392)            0         \n",
      "                                                                 \n",
      " dense (Dense)               (None, 4)                 557572    \n",
      "                                                                 \n",
      "=================================================================\n",
      "Total params: 581,060\n",
      "Trainable params: 580,932\n",
      "Non-trainable params: 128\n",
      "_________________________________________________________________\n"
     ]
    }
   ],
   "source": [
    "# Instantiate model for 210 sample length, 30 electrodes/features, and 4 classes\n",
    "model = SAT1Start(30, 210, 4)\n",
    "model.compile(optimizer=tf.keras.optimizers.Adam(learning_rate=0.0001),\n",
    "              loss=tf.keras.losses.SparseCategoricalCrossentropy(),\n",
    "              metrics=['accuracy'])\n",
    "model.summary()"
   ]
  },
  {
   "cell_type": "code",
   "execution_count": 142,
   "metadata": {},
   "outputs": [
    {
     "name": "stdout",
     "output_type": "stream",
     "text": [
      "Epoch 1/20\n"
     ]
    },
    {
     "name": "stderr",
     "output_type": "stream",
     "text": [
      "2023-05-30 12:10:15.275740: I tensorflow/core/common_runtime/executor.cc:1197] [/device:CPU:0] (DEBUG INFO) Executor start aborting (this does not indicate an error and you can ignore this message): INVALID_ARGUMENT: You must feed a value for placeholder tensor 'Placeholder/_0' with dtype int32\n",
      "\t [[{{node Placeholder/_0}}]]\n",
      "2023-05-30 12:10:15.722538: E tensorflow/core/grappler/optimizers/meta_optimizer.cc:954] layout failed: INVALID_ARGUMENT: Size of values 0 does not match size of permutation 4 @ fanin shape inmodel/dropout/dropout/SelectV2-2-TransposeNHWCToNCHW-LayoutOptimizer\n"
     ]
    },
    {
     "name": "stdout",
     "output_type": "stream",
     "text": [
      "60/60 [==============================] - 2s 11ms/step - loss: 1.5254 - accuracy: 0.2666 - val_loss: 1.3249 - val_accuracy: 0.3804\n",
      "Epoch 2/20\n",
      " 1/60 [..............................] - ETA: 0s - loss: 1.4746 - accuracy: 0.2500"
     ]
    },
    {
     "name": "stderr",
     "output_type": "stream",
     "text": [
      "2023-05-30 12:10:16.962806: I tensorflow/core/common_runtime/executor.cc:1197] [/device:CPU:0] (DEBUG INFO) Executor start aborting (this does not indicate an error and you can ignore this message): INVALID_ARGUMENT: You must feed a value for placeholder tensor 'Placeholder/_0' with dtype int32\n",
      "\t [[{{node Placeholder/_0}}]]\n"
     ]
    },
    {
     "name": "stdout",
     "output_type": "stream",
     "text": [
      "60/60 [==============================] - 1s 10ms/step - loss: 1.5316 - accuracy: 0.2887 - val_loss: 1.3763 - val_accuracy: 0.3451\n",
      "Epoch 3/20\n",
      "60/60 [==============================] - 1s 10ms/step - loss: 1.4946 - accuracy: 0.3414 - val_loss: 1.4890 - val_accuracy: 0.3294\n",
      "Epoch 4/20\n",
      "60/60 [==============================] - 1s 10ms/step - loss: 1.4569 - accuracy: 0.3678 - val_loss: 1.5375 - val_accuracy: 0.3294\n",
      "Epoch 5/20\n",
      "60/60 [==============================] - 1s 10ms/step - loss: 1.4047 - accuracy: 0.3751 - val_loss: 1.4672 - val_accuracy: 0.3373\n",
      "Epoch 6/20\n",
      "60/60 [==============================] - 1s 10ms/step - loss: 1.4060 - accuracy: 0.3678 - val_loss: 1.5549 - val_accuracy: 0.2118\n",
      "Epoch 7/20\n",
      "60/60 [==============================] - 1s 10ms/step - loss: 1.3980 - accuracy: 0.3825 - val_loss: 1.3461 - val_accuracy: 0.4078\n",
      "Epoch 8/20\n",
      "60/60 [==============================] - 1s 10ms/step - loss: 1.3839 - accuracy: 0.4004 - val_loss: 1.3915 - val_accuracy: 0.3647\n",
      "Epoch 9/20\n",
      "60/60 [==============================] - 1s 10ms/step - loss: 1.3517 - accuracy: 0.4457 - val_loss: 3.1205 - val_accuracy: 0.3255\n",
      "Epoch 10/20\n",
      "60/60 [==============================] - 1s 10ms/step - loss: 1.3821 - accuracy: 0.4120 - val_loss: 2.6440 - val_accuracy: 0.3333\n",
      "Epoch 11/20\n",
      "60/60 [==============================] - 1s 10ms/step - loss: 1.3161 - accuracy: 0.4489 - val_loss: 3.1688 - val_accuracy: 0.3255\n",
      "Epoch 12/20\n",
      "60/60 [==============================] - 1s 10ms/step - loss: 1.3145 - accuracy: 0.4373 - val_loss: 3.5113 - val_accuracy: 0.3255\n",
      "Epoch 13/20\n",
      "60/60 [==============================] - 1s 10ms/step - loss: 1.2490 - accuracy: 0.4763 - val_loss: 3.3690 - val_accuracy: 0.3255\n",
      "Epoch 14/20\n",
      "60/60 [==============================] - 1s 10ms/step - loss: 1.2641 - accuracy: 0.4816 - val_loss: 3.5896 - val_accuracy: 0.3255\n",
      "Epoch 15/20\n",
      "60/60 [==============================] - 1s 10ms/step - loss: 1.2163 - accuracy: 0.4837 - val_loss: 2.5375 - val_accuracy: 0.3373\n",
      "Epoch 16/20\n",
      "60/60 [==============================] - 1s 10ms/step - loss: 1.2158 - accuracy: 0.5079 - val_loss: 2.4792 - val_accuracy: 0.3804\n",
      "Epoch 17/20\n",
      "60/60 [==============================] - 1s 10ms/step - loss: 1.1826 - accuracy: 0.5290 - val_loss: 2.1217 - val_accuracy: 0.4314\n",
      "Epoch 18/20\n",
      "60/60 [==============================] - 1s 10ms/step - loss: 1.1465 - accuracy: 0.5174 - val_loss: 2.0619 - val_accuracy: 0.3882\n",
      "Epoch 19/20\n",
      "60/60 [==============================] - 1s 10ms/step - loss: 1.1556 - accuracy: 0.5332 - val_loss: 1.6358 - val_accuracy: 0.4941\n",
      "Epoch 20/20\n",
      "60/60 [==============================] - 1s 10ms/step - loss: 1.1218 - accuracy: 0.5385 - val_loss: 1.3309 - val_accuracy: 0.5647\n"
     ]
    },
    {
     "data": {
      "text/plain": [
       "<keras.callbacks.History at 0x7f4cb40e18d0>"
      ]
     },
     "execution_count": 142,
     "metadata": {},
     "output_type": "execute_result"
    }
   ],
   "source": [
    "# model.fit(train_gen,\n",
    "#           epochs=20,\n",
    "#           # TODO: Create val_gen (use 6th participant?)\n",
    "#           validation_data=test_gen,\n",
    "#           callbacks=[earlyStopping_cb])\n",
    "model.fit(train_gen,\n",
    "          epochs=20,\n",
    "          # TODO: Create val_gen (use 6th participant?)\n",
    "          validation_data=test_gen)"
   ]
  },
  {
   "cell_type": "code",
   "execution_count": 144,
   "metadata": {},
   "outputs": [
    {
     "name": "stdout",
     "output_type": "stream",
     "text": [
      "Testset results\n",
      " 1/16 [>.............................] - ETA: 0s"
     ]
    },
    {
     "name": "stderr",
     "output_type": "stream",
     "text": [
      "2023-05-30 12:10:58.913476: I tensorflow/core/common_runtime/executor.cc:1197] [/device:CPU:0] (DEBUG INFO) Executor start aborting (this does not indicate an error and you can ignore this message): INVALID_ARGUMENT: You must feed a value for placeholder tensor 'Placeholder/_0' with dtype int32\n",
      "\t [[{{node Placeholder/_0}}]]\n"
     ]
    },
    {
     "name": "stdout",
     "output_type": "stream",
     "text": [
      "16/16 [==============================] - 0s 19ms/step\n",
      "              precision    recall  f1-score   support\n",
      "\n",
      "           0       0.58      0.36      0.44        81\n",
      "           1       0.88      0.13      0.23        52\n",
      "           2       0.44      0.95      0.60        39\n",
      "           3       0.63      0.86      0.73        83\n",
      "\n",
      "    accuracy                           0.56       255\n",
      "   macro avg       0.63      0.57      0.50       255\n",
      "weighted avg       0.64      0.56      0.52       255\n",
      "\n",
      "['2', '3', 'motor', 'perception']\n"
     ]
    }
   ],
   "source": [
    "print('Testset results')\n",
    "predicted_classes = np.argmax(model.predict(test_gen), axis=1)\n",
    "print(classification_report(test_gen.labels_cat, predicted_classes))\n",
    "print(test_gen.categories)"
   ]
  },
  {
   "cell_type": "code",
   "execution_count": 125,
   "metadata": {},
   "outputs": [
    {
     "data": {
      "text/plain": [
       "array(['motor', '3', '3', 'perception', 'perception', '3', 'perception',\n",
       "       'motor', '2', '3', '2', '3', 'perception', '2', 'perception', '2',\n",
       "       '2', 'motor', '3', 'perception', '2', 'motor', '2', '3', '2', '2',\n",
       "       'motor', '3', '3', 'perception', '2', 'motor', 'perception',\n",
       "       'perception', 'motor', '2', '2', '3', '3', '2', '3', '3', '2',\n",
       "       'perception', '2', '3', 'perception', 'perception', '2', 'motor',\n",
       "       'perception', '3', 'perception', 'motor', 'motor', 'perception',\n",
       "       '2', '2', '2', 'perception', 'perception', '2', '2', 'perception',\n",
       "       '2', '2', 'motor', '2', 'perception', '2', 'perception', '3', '2',\n",
       "       'perception', '3', 'perception', 'perception', '2', '3', '2', '3',\n",
       "       '2', '3', '2', 'perception', '2', 'perception', 'perception', '2',\n",
       "       'motor', 'perception', '3', 'motor', 'motor', 'perception',\n",
       "       'motor', 'perception', '3', 'motor', '3', 'perception', '3', '3',\n",
       "       '2', 'motor', '3', '2', '2', 'perception', 'motor', '2',\n",
       "       'perception', '2', '2', 'perception', '3', '2', 'perception', '2',\n",
       "       '2', 'perception', 'perception', '3', 'perception', '3', '3', '2',\n",
       "       '2', 'perception', 'perception', 'perception', 'perception', '2',\n",
       "       '3', '3', 'motor', 'perception', 'perception', 'motor', '2',\n",
       "       'perception', '2', 'perception', '3', '2', 'perception', '3', '2',\n",
       "       'perception', '3', 'perception', 'perception', 'motor',\n",
       "       'perception', 'perception', '2', '3', 'perception', 'perception',\n",
       "       'motor', 'motor', 'perception', 'perception', 'perception',\n",
       "       'motor', 'perception', 'motor', 'perception', '2', 'motor',\n",
       "       'motor', 'perception', '2', 'motor', 'perception', '2', '3',\n",
       "       'motor', 'perception', 'perception', '2', '2', 'motor', '3',\n",
       "       'motor', 'motor', 'perception', '2', 'perception', '3', '2',\n",
       "       'perception', '2', 'perception', '2', 'motor', '2', 'perception',\n",
       "       '2', '3', '3', '3', 'perception', '2', '3', 'motor', '3', '3', '3',\n",
       "       'perception', 'perception', '2', '3', '3', 'perception', 'motor',\n",
       "       '2', '3', 'motor', 'perception', 'perception', '2', '2',\n",
       "       'perception', '3', 'perception', 'perception', 'perception',\n",
       "       'perception', '2', 'motor', 'motor', '2', 'perception', '2', '2',\n",
       "       '2', 'perception', '2', 'motor', '3', '2', '2', '2', '2',\n",
       "       'perception', '2', 'perception', '2', '2', '2', '3', '2',\n",
       "       'perception', '2'], dtype='<U10')"
      ]
     },
     "execution_count": 125,
     "metadata": {},
     "output_type": "execute_result"
    }
   ],
   "source": [
    "test_gen.labels"
   ]
  }
 ],
 "metadata": {
  "kernelspec": {
   "display_name": "thesis",
   "language": "python",
   "name": "python3"
  },
  "language_info": {
   "codemirror_mode": {
    "name": "ipython",
    "version": 3
   },
   "file_extension": ".py",
   "mimetype": "text/x-python",
   "name": "python",
   "nbconvert_exporter": "python",
   "pygments_lexer": "ipython3",
   "version": "3.11.3"
  },
  "orig_nbformat": 4
 },
 "nbformat": 4,
 "nbformat_minor": 2
}

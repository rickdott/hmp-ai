{
 "cells": [
  {
   "cell_type": "code",
   "execution_count": 1,
   "metadata": {},
   "outputs": [],
   "source": [
    "%load_ext autoreload\n",
    "%autoreload 2\n",
    "from hmpai.pytorch.generators import SAT1DataLoader\n",
    "import xarray as xr\n",
    "from pathlib import Path\n",
    "import torch\n",
    "from hmpai.pytorch.models import *\n",
    "from hmpai.training import split_data_on_participants\n",
    "from hmpai.pytorch.training import train, validate, calculate_class_weights\n",
    "from hmpai.pytorch.utilities import DEVICE\n",
    "from hmpai.normalization import *\n",
    "import random\n",
    "import numpy as np\n",
    "from torchinfo import summary"
   ]
  },
  {
   "cell_type": "code",
   "execution_count": 2,
   "metadata": {},
   "outputs": [],
   "source": [
    "random.seed(42)\n",
    "np.random.seed(42)\n",
    "data_path = Path(\"../data/sat1/split_stage_data.nc\")\n",
    "\n",
    "dataset = xr.load_dataset(data_path)\n",
    "train_data, val_data, test_data = split_data_on_participants(dataset, 60, norm_0_to_1)\n",
    "\n",
    "# eeg_dataset = EegDataset(data)\n",
    "train_loader = SAT1DataLoader(train_data)\n",
    "val_loader = SAT1DataLoader(val_data)\n",
    "test_loader = SAT1DataLoader(test_data)"
   ]
  },
  {
   "cell_type": "code",
   "execution_count": 5,
   "metadata": {},
   "outputs": [
    {
     "data": {
      "text/plain": [
       "(12120, 147, 30)"
      ]
     },
     "execution_count": 5,
     "metadata": {},
     "output_type": "execute_result"
    }
   ],
   "source": [
    "train_loader.dataset.data.shape"
   ]
  },
  {
   "cell_type": "code",
   "execution_count": 14,
   "metadata": {},
   "outputs": [],
   "source": [
    "model = SAT1Base(len(dataset.channels), len(dataset.samples), len(dataset.labels)).to(\n",
    "    DEVICE\n",
    ")\n",
    "# model = SAT1Mlp(len(dataset.channels), len(dataset.samples), len(dataset.labels)).to(\n",
    "#     DEVICE\n",
    "# )\n",
    "loss = torch.nn.CrossEntropyLoss(weight=calculate_class_weights(train_loader).to(DEVICE))\n",
    "opt = torch.optim.NAdam(model.parameters())\n",
    "epochs = 10"
   ]
  },
  {
   "cell_type": "code",
   "execution_count": 12,
   "metadata": {},
   "outputs": [
    {
     "data": {
      "text/plain": [
       "==========================================================================================\n",
       "Layer (type:depth-idx)                   Output Shape              Param #\n",
       "==========================================================================================\n",
       "SAT1Base                                 [16, 5]                   --\n",
       "├─PartialConv2d: 1-1                     [16, 64, 143, 30]         384\n",
       "├─ReLU: 1-2                              [16, 64, 143, 30]         --\n",
       "├─MaxPool2d: 1-3                         [16, 64, 71, 30]          --\n",
       "├─Conv2d: 1-4                            [16, 128, 69, 30]         24,704\n",
       "├─ReLU: 1-5                              [16, 128, 69, 30]         --\n",
       "├─MaxPool2d: 1-6                         [16, 128, 34, 30]         --\n",
       "├─Conv2d: 1-7                            [16, 256, 32, 30]         98,560\n",
       "├─ReLU: 1-8                              [16, 256, 32, 30]         --\n",
       "├─MaxPool2d: 1-9                         [16, 256, 16, 30]         --\n",
       "├─Flatten: 1-10                          [16, 122880]              --\n",
       "├─Linear: 1-11                           [16, 128]                 15,728,768\n",
       "├─ReLU: 1-12                             [16, 128]                 --\n",
       "├─Dropout: 1-13                          [16, 128]                 --\n",
       "├─Linear: 1-14                           [16, 5]                   645\n",
       "==========================================================================================\n",
       "Total params: 15,853,061\n",
       "Trainable params: 15,853,061\n",
       "Non-trainable params: 0\n",
       "Total mult-adds (Units.GIGABYTES): 2.61\n",
       "==========================================================================================\n",
       "Input size (MB): 0.28\n",
       "Forward/backward pass size (MB): 100.53\n",
       "Params size (MB): 63.41\n",
       "Estimated Total Size (MB): 164.23\n",
       "=========================================================================================="
      ]
     },
     "execution_count": 12,
     "metadata": {},
     "output_type": "execute_result"
    }
   ],
   "source": [
    "summary(model, (16, 1, 147, 30))"
   ]
  },
  {
   "cell_type": "code",
   "execution_count": 15,
   "metadata": {},
   "outputs": [
    {
     "data": {
      "application/vnd.jupyter.widget-view+json": {
       "model_id": "e578adc95fed46879081c25a3e004eae",
       "version_major": 2,
       "version_minor": 0
      },
      "text/plain": [
       "  0%|          | 0/757 [00:00<?, ?it/s]"
      ]
     },
     "metadata": {},
     "output_type": "display_data"
    },
    {
     "data": {
      "application/vnd.jupyter.widget-view+json": {
       "model_id": "4be5544dd4fb47588d7f2fb13f162950",
       "version_major": 2,
       "version_minor": 0
      },
      "text/plain": [
       "  0%|          | 0/245 [00:00<?, ?it/s]"
      ]
     },
     "metadata": {},
     "output_type": "display_data"
    },
    {
     "name": "stdout",
     "output_type": "stream",
     "text": [
      "Epoch 0, loss: 1.1649976341223622, val_loss: 1.046687555069826, val_accuracy: 0.55638\n"
     ]
    },
    {
     "data": {
      "application/vnd.jupyter.widget-view+json": {
       "model_id": "0bbd64a817ae4fbf8e637b2dafacedd1",
       "version_major": 2,
       "version_minor": 0
      },
      "text/plain": [
       "  0%|          | 0/757 [00:00<?, ?it/s]"
      ]
     },
     "metadata": {},
     "output_type": "display_data"
    },
    {
     "data": {
      "application/vnd.jupyter.widget-view+json": {
       "model_id": "33f2ef8105c948c9b46aff4ada3c1803",
       "version_major": 2,
       "version_minor": 0
      },
      "text/plain": [
       "  0%|          | 0/245 [00:00<?, ?it/s]"
      ]
     },
     "metadata": {},
     "output_type": "display_data"
    },
    {
     "name": "stdout",
     "output_type": "stream",
     "text": [
      "Epoch 1, loss: 0.9716742517453676, val_loss: 0.6481188881762173, val_accuracy: 0.75944\n"
     ]
    },
    {
     "data": {
      "application/vnd.jupyter.widget-view+json": {
       "model_id": "9116c3364c884ad29692881ebbfbacf5",
       "version_major": 2,
       "version_minor": 0
      },
      "text/plain": [
       "  0%|          | 0/757 [00:00<?, ?it/s]"
      ]
     },
     "metadata": {},
     "output_type": "display_data"
    },
    {
     "data": {
      "application/vnd.jupyter.widget-view+json": {
       "model_id": "d8576b2d407e487ca175451dd777c754",
       "version_major": 2,
       "version_minor": 0
      },
      "text/plain": [
       "  0%|          | 0/245 [00:00<?, ?it/s]"
      ]
     },
     "metadata": {},
     "output_type": "display_data"
    },
    {
     "name": "stdout",
     "output_type": "stream",
     "text": [
      "Epoch 2, loss: 0.6981636209012337, val_loss: 0.556106546186671, val_accuracy: 0.79031\n"
     ]
    },
    {
     "data": {
      "application/vnd.jupyter.widget-view+json": {
       "model_id": "7c1266369c45467b8a95747da62c9d5a",
       "version_major": 2,
       "version_minor": 0
      },
      "text/plain": [
       "  0%|          | 0/757 [00:00<?, ?it/s]"
      ]
     },
     "metadata": {},
     "output_type": "display_data"
    },
    {
     "data": {
      "application/vnd.jupyter.widget-view+json": {
       "model_id": "056c008b34f7459baf8350321d397342",
       "version_major": 2,
       "version_minor": 0
      },
      "text/plain": [
       "  0%|          | 0/245 [00:00<?, ?it/s]"
      ]
     },
     "metadata": {},
     "output_type": "display_data"
    },
    {
     "name": "stdout",
     "output_type": "stream",
     "text": [
      "Epoch 3, loss: 0.6198194572404322, val_loss: 0.5475290050920175, val_accuracy: 0.79286\n"
     ]
    },
    {
     "data": {
      "application/vnd.jupyter.widget-view+json": {
       "model_id": "a09ea85d47c74bc1adbde0decf5903c3",
       "version_major": 2,
       "version_minor": 0
      },
      "text/plain": [
       "  0%|          | 0/757 [00:00<?, ?it/s]"
      ]
     },
     "metadata": {},
     "output_type": "display_data"
    },
    {
     "data": {
      "application/vnd.jupyter.widget-view+json": {
       "model_id": "5fca161580ad4ca1990437741ceb2a78",
       "version_major": 2,
       "version_minor": 0
      },
      "text/plain": [
       "  0%|          | 0/245 [00:00<?, ?it/s]"
      ]
     },
     "metadata": {},
     "output_type": "display_data"
    },
    {
     "name": "stdout",
     "output_type": "stream",
     "text": [
      "Epoch 4, loss: 0.5792121211438387, val_loss: 0.515024719737014, val_accuracy: 0.80918\n"
     ]
    },
    {
     "data": {
      "application/vnd.jupyter.widget-view+json": {
       "model_id": "38883ab7f65a4c328dab0ef9518d6f75",
       "version_major": 2,
       "version_minor": 0
      },
      "text/plain": [
       "  0%|          | 0/757 [00:00<?, ?it/s]"
      ]
     },
     "metadata": {},
     "output_type": "display_data"
    },
    {
     "data": {
      "application/vnd.jupyter.widget-view+json": {
       "model_id": "1656b9f116a949a8b30168f8509aca90",
       "version_major": 2,
       "version_minor": 0
      },
      "text/plain": [
       "  0%|          | 0/245 [00:00<?, ?it/s]"
      ]
     },
     "metadata": {},
     "output_type": "display_data"
    },
    {
     "name": "stdout",
     "output_type": "stream",
     "text": [
      "Epoch 5, loss: 0.5508768406341067, val_loss: 0.5058419232465783, val_accuracy: 0.81684\n"
     ]
    },
    {
     "data": {
      "application/vnd.jupyter.widget-view+json": {
       "model_id": "c4bec21750694f3e9e09c5328f78cfae",
       "version_major": 2,
       "version_minor": 0
      },
      "text/plain": [
       "  0%|          | 0/757 [00:00<?, ?it/s]"
      ]
     },
     "metadata": {},
     "output_type": "display_data"
    },
    {
     "data": {
      "application/vnd.jupyter.widget-view+json": {
       "model_id": "bfe094e70bd940d2a050f7c58fdd00c2",
       "version_major": 2,
       "version_minor": 0
      },
      "text/plain": [
       "  0%|          | 0/245 [00:00<?, ?it/s]"
      ]
     },
     "metadata": {},
     "output_type": "display_data"
    },
    {
     "name": "stdout",
     "output_type": "stream",
     "text": [
      "Epoch 6, loss: 0.5281009227332697, val_loss: 0.48963725466509256, val_accuracy: 0.82168\n"
     ]
    },
    {
     "data": {
      "application/vnd.jupyter.widget-view+json": {
       "model_id": "d40c171f6d1b4151a46189828dc42252",
       "version_major": 2,
       "version_minor": 0
      },
      "text/plain": [
       "  0%|          | 0/757 [00:00<?, ?it/s]"
      ]
     },
     "metadata": {},
     "output_type": "display_data"
    },
    {
     "data": {
      "application/vnd.jupyter.widget-view+json": {
       "model_id": "48563b792ab743dabd99ef952c989273",
       "version_major": 2,
       "version_minor": 0
      },
      "text/plain": [
       "  0%|          | 0/245 [00:00<?, ?it/s]"
      ]
     },
     "metadata": {},
     "output_type": "display_data"
    },
    {
     "name": "stdout",
     "output_type": "stream",
     "text": [
      "Epoch 7, loss: 0.5053418743641878, val_loss: 0.5071086904376138, val_accuracy: 0.81582\n"
     ]
    },
    {
     "data": {
      "application/vnd.jupyter.widget-view+json": {
       "model_id": "04353f147a2144e089ac7a96bdfd4716",
       "version_major": 2,
       "version_minor": 0
      },
      "text/plain": [
       "  0%|          | 0/757 [00:00<?, ?it/s]"
      ]
     },
     "metadata": {},
     "output_type": "display_data"
    },
    {
     "data": {
      "application/vnd.jupyter.widget-view+json": {
       "model_id": "2a602fc2dafd4d3faddc67541ac2531f",
       "version_major": 2,
       "version_minor": 0
      },
      "text/plain": [
       "  0%|          | 0/245 [00:00<?, ?it/s]"
      ]
     },
     "metadata": {},
     "output_type": "display_data"
    },
    {
     "name": "stdout",
     "output_type": "stream",
     "text": [
      "Epoch 8, loss: 0.4925675328668389, val_loss: 0.4761347716864274, val_accuracy: 0.82041\n"
     ]
    },
    {
     "data": {
      "application/vnd.jupyter.widget-view+json": {
       "model_id": "b04a9948643c43e1873c4e69c68a8ebe",
       "version_major": 2,
       "version_minor": 0
      },
      "text/plain": [
       "  0%|          | 0/757 [00:00<?, ?it/s]"
      ]
     },
     "metadata": {},
     "output_type": "display_data"
    },
    {
     "data": {
      "application/vnd.jupyter.widget-view+json": {
       "model_id": "f127f626d6ff4a3091eeb93cbe8b1ffe",
       "version_major": 2,
       "version_minor": 0
      },
      "text/plain": [
       "  0%|          | 0/245 [00:00<?, ?it/s]"
      ]
     },
     "metadata": {},
     "output_type": "display_data"
    },
    {
     "name": "stdout",
     "output_type": "stream",
     "text": [
      "Epoch 9, loss: 0.471193716884683, val_loss: 0.508051329364582, val_accuracy: 0.81888\n"
     ]
    }
   ],
   "source": [
    "for epoch in range(epochs):\n",
    "    batch_losses = train(model, train_loader, opt, loss)\n",
    "\n",
    "    # Shuffle data before next epoch\n",
    "    train_loader.shuffle()\n",
    "\n",
    "    val_losses, val_accuracy = validate(model, val_loader, loss)\n",
    "\n",
    "    print(\n",
    "        f\"Epoch {epoch}, loss: {np.mean(batch_losses)}, val_loss: {np.mean(val_losses)}, val_accuracy: {val_accuracy}\"\n",
    "    )"
   ]
  }
 ],
 "metadata": {
  "kernelspec": {
   "display_name": "thesis_pytorch",
   "language": "python",
   "name": "python3"
  },
  "language_info": {
   "codemirror_mode": {
    "name": "ipython",
    "version": 3
   },
   "file_extension": ".py",
   "mimetype": "text/x-python",
   "name": "python",
   "nbconvert_exporter": "python",
   "pygments_lexer": "ipython3",
   "version": "3.11.6"
  }
 },
 "nbformat": 4,
 "nbformat_minor": 2
}

{
 "cells": [
  {
   "cell_type": "code",
   "execution_count": 3,
   "metadata": {},
   "outputs": [
    {
     "name": "stdout",
     "output_type": "stream",
     "text": [
      "The autoreload extension is already loaded. To reload it, use:\n",
      "  %reload_ext autoreload\n"
     ]
    }
   ],
   "source": [
    "%load_ext autoreload\n",
    "%autoreload 2\n",
    "import xarray as xr\n",
    "from pathlib import Path\n",
    "from hmpai.pytorch.models import *\n",
    "from hmpai.training import split_data_on_participants\n",
    "from hmpai.pytorch.training import train, validate, calculate_class_weights, train_and_test, k_fold_cross_validate\n",
    "from hmpai.pytorch.utilities import DEVICE, set_global_seed\n",
    "from hmpai.pytorch.generators import SAT1Dataset\n",
    "from hmpai.normalization import *\n",
    "from torchinfo import summary\n",
    "from hmpai.utilities import print_results, CHANNELS_2D\n",
    "from torch.utils.data import DataLoader"
   ]
  },
  {
   "cell_type": "code",
   "execution_count": 4,
   "metadata": {},
   "outputs": [],
   "source": [
    "set_global_seed(42)\n",
    "data_path = Path(\"../data/sat1/split_stage_data.nc\")\n",
    "# data_path = Path(\"../data/sat1/split_stage_data_unprocessed_500hz.nc\")\n",
    "\n",
    "dataset = xr.load_dataset(data_path)\n",
    "train_data, val_data, test_data = split_data_on_participants(dataset, 60, norm_dummy)"
   ]
  },
  {
   "cell_type": "code",
   "execution_count": 5,
   "metadata": {},
   "outputs": [],
   "source": [
    "train_dataset = SAT1Dataset(train_data)\n",
    "val_dataset = SAT1Dataset(val_data)\n",
    "test_dataset = SAT1Dataset(test_data)"
   ]
  },
  {
   "cell_type": "code",
   "execution_count": 3,
   "metadata": {},
   "outputs": [],
   "source": [
    "train_dataset = SAT1Dataset(train_data, shape_topological=True)\n",
    "val_dataset = SAT1Dataset(val_data, shape_topological=True)\n",
    "test_dataset = SAT1Dataset(test_data, shape_topological=True)"
   ]
  },
  {
   "cell_type": "code",
   "execution_count": 6,
   "metadata": {},
   "outputs": [
    {
     "data": {
      "application/vnd.jupyter.widget-view+json": {
       "model_id": "f01cdd42ae314ae09df3c9f709f32e7f",
       "version_major": 2,
       "version_minor": 0
      },
      "text/plain": [
       "  0%|          | 0/95 [00:00<?, ? batch/s]"
      ]
     },
     "metadata": {},
     "output_type": "display_data"
    },
    {
     "data": {
      "application/vnd.jupyter.widget-view+json": {
       "model_id": "a7860819268e4a518cc0570a57a63a2d",
       "version_major": 2,
       "version_minor": 0
      },
      "text/plain": [
       "  0%|          | 0/95 [00:00<?, ? batch/s]"
      ]
     },
     "metadata": {},
     "output_type": "display_data"
    },
    {
     "data": {
      "application/vnd.jupyter.widget-view+json": {
       "model_id": "3f76b482e92a4281aa9ed1618ca89412",
       "version_major": 2,
       "version_minor": 0
      },
      "text/plain": [
       "  0%|          | 0/95 [00:00<?, ? batch/s]"
      ]
     },
     "metadata": {},
     "output_type": "display_data"
    },
    {
     "data": {
      "application/vnd.jupyter.widget-view+json": {
       "model_id": "01c53d6fb002497f9ef160fa86e3a626",
       "version_major": 2,
       "version_minor": 0
      },
      "text/plain": [
       "  0%|          | 0/95 [00:00<?, ? batch/s]"
      ]
     },
     "metadata": {},
     "output_type": "display_data"
    },
    {
     "data": {
      "application/vnd.jupyter.widget-view+json": {
       "model_id": "221982cb792f4b60b65264e8ef32189b",
       "version_major": 2,
       "version_minor": 0
      },
      "text/plain": [
       "  0%|          | 0/95 [00:00<?, ? batch/s]"
      ]
     },
     "metadata": {},
     "output_type": "display_data"
    },
    {
     "data": {
      "application/vnd.jupyter.widget-view+json": {
       "model_id": "408380ab240847129d32f259ef4b2250",
       "version_major": 2,
       "version_minor": 0
      },
      "text/plain": [
       "  0%|          | 0/95 [00:00<?, ? batch/s]"
      ]
     },
     "metadata": {},
     "output_type": "display_data"
    },
    {
     "data": {
      "application/vnd.jupyter.widget-view+json": {
       "model_id": "7ba106eeda374b7da114a3e24117f9fb",
       "version_major": 2,
       "version_minor": 0
      },
      "text/plain": [
       "  0%|          | 0/95 [00:00<?, ? batch/s]"
      ]
     },
     "metadata": {},
     "output_type": "display_data"
    },
    {
     "data": {
      "application/vnd.jupyter.widget-view+json": {
       "model_id": "472a790d475849afac6287a647feae0f",
       "version_major": 2,
       "version_minor": 0
      },
      "text/plain": [
       "  0%|          | 0/95 [00:00<?, ? batch/s]"
      ]
     },
     "metadata": {},
     "output_type": "display_data"
    },
    {
     "data": {
      "application/vnd.jupyter.widget-view+json": {
       "model_id": "a9105310a4514473a7dd5f84b861ba5e",
       "version_major": 2,
       "version_minor": 0
      },
      "text/plain": [
       "  0%|          | 0/95 [00:00<?, ? batch/s]"
      ]
     },
     "metadata": {},
     "output_type": "display_data"
    },
    {
     "data": {
      "application/vnd.jupyter.widget-view+json": {
       "model_id": "d3996452b93c4333a201ae5f0ca00614",
       "version_major": 2,
       "version_minor": 0
      },
      "text/plain": [
       "  0%|          | 0/95 [00:00<?, ? batch/s]"
      ]
     },
     "metadata": {},
     "output_type": "display_data"
    },
    {
     "data": {
      "text/plain": [
       "{'0': {'precision': 0.7158974358974359,\n",
       "  'recall': 0.8192488262910798,\n",
       "  'f1-score': 0.7640941434044883,\n",
       "  'support': 852.0},\n",
       " '1': {'precision': 0.7817745803357314,\n",
       "  'recall': 0.7317620650953984,\n",
       "  'f1-score': 0.7559420289855072,\n",
       "  'support': 891.0},\n",
       " '2': {'precision': 0.8867684478371501,\n",
       "  'recall': 0.7822671156004489,\n",
       "  'f1-score': 0.8312462731067383,\n",
       "  'support': 891.0},\n",
       " '3': {'precision': 0.8648018648018648,\n",
       "  'recall': 0.8082788671023965,\n",
       "  'f1-score': 0.8355855855855856,\n",
       "  'support': 459.0},\n",
       " '4': {'precision': 0.828125,\n",
       "  'recall': 0.8922558922558923,\n",
       "  'f1-score': 0.8589951377633711,\n",
       "  'support': 891.0},\n",
       " 'accuracy': 0.8064759036144579,\n",
       " 'macro avg': {'precision': 0.8154734657744364,\n",
       "  'recall': 0.8067625532690432,\n",
       "  'f1-score': 0.8091726337691381,\n",
       "  'support': 3984.0},\n",
       " 'weighted avg': {'precision': 0.8110993685820053,\n",
       "  'recall': 0.8064759036144579,\n",
       "  'f1-score': 0.8067498591555629,\n",
       "  'support': 3984.0}}"
      ]
     },
     "execution_count": 6,
     "metadata": {},
     "output_type": "execute_result"
    }
   ],
   "source": [
    "model = SAT1GRU(\n",
    "    len(train_data.channels), len(train_data.samples), len(train_data.labels)\n",
    ")\n",
    "# Set workers=0 when using debugger\n",
    "train_and_test(\n",
    "    model,\n",
    "    train_dataset,\n",
    "    test_dataset,\n",
    "    val_dataset,\n",
    "    logs_path=Path(\"../logs/\"),\n",
    "    workers=4,\n",
    ")"
   ]
  },
  {
   "cell_type": "code",
   "execution_count": 21,
   "metadata": {},
   "outputs": [
    {
     "data": {
      "application/vnd.jupyter.widget-view+json": {
       "model_id": "188d8569e9c24ae19400e3dcea72383f",
       "version_major": 2,
       "version_minor": 0
      },
      "text/plain": [
       "  0%|          | 0/95 [00:00<?, ? batch/s]"
      ]
     },
     "metadata": {},
     "output_type": "display_data"
    },
    {
     "data": {
      "application/vnd.jupyter.widget-view+json": {
       "model_id": "1fece3eae87f4d44a86818a219156640",
       "version_major": 2,
       "version_minor": 0
      },
      "text/plain": [
       "  0%|          | 0/95 [00:00<?, ? batch/s]"
      ]
     },
     "metadata": {},
     "output_type": "display_data"
    },
    {
     "data": {
      "application/vnd.jupyter.widget-view+json": {
       "model_id": "4d5ee1f19619405893890420dc36f441",
       "version_major": 2,
       "version_minor": 0
      },
      "text/plain": [
       "  0%|          | 0/95 [00:00<?, ? batch/s]"
      ]
     },
     "metadata": {},
     "output_type": "display_data"
    },
    {
     "data": {
      "application/vnd.jupyter.widget-view+json": {
       "model_id": "44008758de4d4c788a420164f66e6059",
       "version_major": 2,
       "version_minor": 0
      },
      "text/plain": [
       "  0%|          | 0/95 [00:00<?, ? batch/s]"
      ]
     },
     "metadata": {},
     "output_type": "display_data"
    },
    {
     "data": {
      "application/vnd.jupyter.widget-view+json": {
       "model_id": "fd664a39aa904948870d7937dccb8d7b",
       "version_major": 2,
       "version_minor": 0
      },
      "text/plain": [
       "  0%|          | 0/95 [00:00<?, ? batch/s]"
      ]
     },
     "metadata": {},
     "output_type": "display_data"
    },
    {
     "data": {
      "text/plain": [
       "{'0': {'precision': 0.7298701298701299,\n",
       "  'recall': 0.6596244131455399,\n",
       "  'f1-score': 0.6929716399506782,\n",
       "  'support': 852.0},\n",
       " '1': {'precision': 0.7516629711751663,\n",
       "  'recall': 0.7609427609427609,\n",
       "  'f1-score': 0.7562744004461796,\n",
       "  'support': 891.0},\n",
       " '2': {'precision': 0.8881578947368421,\n",
       "  'recall': 0.7575757575757576,\n",
       "  'f1-score': 0.8176862507571169,\n",
       "  'support': 891.0},\n",
       " '3': {'precision': 0.8600917431192661,\n",
       "  'recall': 0.8169934640522876,\n",
       "  'f1-score': 0.8379888268156425,\n",
       "  'support': 459.0},\n",
       " '4': {'precision': 0.735663082437276,\n",
       "  'recall': 0.9214365881032548,\n",
       "  'f1-score': 0.8181365221723966,\n",
       "  'support': 891.0},\n",
       " 'accuracy': 0.7808734939759037,\n",
       " 'macro avg': {'precision': 0.793089164267736,\n",
       "  'recall': 0.7833145967639201,\n",
       "  'f1-score': 0.7846115280284028,\n",
       "  'support': 3984.0},\n",
       " 'weighted avg': {'precision': 0.7864426854217635,\n",
       "  'recall': 0.7808734939759037,\n",
       "  'f1-score': 0.7797207053775352,\n",
       "  'support': 3984.0}}"
      ]
     },
     "execution_count": 21,
     "metadata": {},
     "output_type": "execute_result"
    }
   ],
   "source": [
    "torch.cuda.empty_cache()\n",
    "height, width = CHANNELS_2D.shape\n",
    "model = SAT1TopologicalConv(\n",
    "    width, height, len(train_data.samples), len(train_data.labels)\n",
    ")\n",
    "# Set workers=0 when using debugger\n",
    "train_and_test(\n",
    "    model,\n",
    "    train_dataset,\n",
    "    test_dataset,\n",
    "    val_dataset,\n",
    "    logs_path=Path(\"../logs/\"),\n",
    "    workers=4,\n",
    "    batch_size=128,\n",
    ")"
   ]
  },
  {
   "cell_type": "code",
   "execution_count": null,
   "metadata": {},
   "outputs": [],
   "source": [
    "train_kwargs = {\"logs_path\": Path(\"../logs/\")}\n",
    "model_kwargs = {\n",
    "    \"n_channels\": len(dataset.channels),\n",
    "    \"n_samples\": len(dataset.samples),\n",
    "    \"n_classes\": len(dataset.labels),\n",
    "}\n",
    "results = k_fold_cross_validate(\n",
    "    SAT1GRU,\n",
    "    model_kwargs,\n",
    "    dataset,\n",
    "    25,\n",
    "    batch_size=128,\n",
    "    normalization_fn=norm_dummy,\n",
    "    train_kwargs={\n",
    "        \"logs_path\": Path(\"../logs/GRU_performance\"),\n",
    "        \"additional_name\": \"GRU\",\n",
    "    },\n",
    ")\n",
    "print_results(results)"
   ]
  },
  {
   "cell_type": "code",
   "execution_count": null,
   "metadata": {},
   "outputs": [],
   "source": [
    "summary(model, (16, 1, 147, 30))"
   ]
  }
 ],
 "metadata": {
  "kernelspec": {
   "display_name": "thesis_pytorch",
   "language": "python",
   "name": "python3"
  },
  "language_info": {
   "codemirror_mode": {
    "name": "ipython",
    "version": 3
   },
   "file_extension": ".py",
   "mimetype": "text/x-python",
   "name": "python",
   "nbconvert_exporter": "python",
   "pygments_lexer": "ipython3",
   "version": "3.11.6"
  }
 },
 "nbformat": 4,
 "nbformat_minor": 2
}

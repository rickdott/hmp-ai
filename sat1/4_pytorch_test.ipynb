{
 "cells": [
  {
   "cell_type": "code",
   "execution_count": 1,
   "metadata": {},
   "outputs": [],
   "source": [
    "%load_ext autoreload\n",
    "%autoreload 2\n",
    "import xarray as xr\n",
    "from pathlib import Path\n",
    "from hmpai.pytorch.models import *\n",
    "from hmpai.training import split_data_on_participants\n",
    "from hmpai.pytorch.training import train, validate, calculate_class_weights, train_and_test, k_fold_cross_validate\n",
    "from hmpai.pytorch.utilities import DEVICE, set_global_seed\n",
    "from hmpai.normalization import *\n",
    "from torchinfo import summary\n",
    "from hmpai.utilities import print_results"
   ]
  },
  {
   "cell_type": "code",
   "execution_count": 2,
   "metadata": {},
   "outputs": [],
   "source": [
    "set_global_seed(42)\n",
    "data_path = Path(\"../data/sat1/split_stage_data.nc\")\n",
    "# data_path = Path(\"../data/sat1/split_stage_data_unprocessed_500hz.nc\")\n",
    "\n",
    "dataset = xr.load_dataset(data_path)\n",
    "train_data, val_data, test_data = split_data_on_participants(dataset, 60, norm_dummy)"
   ]
  },
  {
   "cell_type": "code",
   "execution_count": null,
   "metadata": {},
   "outputs": [],
   "source": [
    "train_kwargs = {\"logs_path\": Path(\"../logs/\")}\n",
    "model_kwargs = {\n",
    "    \"n_channels\": len(dataset.channels),\n",
    "    \"n_samples\": len(dataset.samples),\n",
    "    \"n_classes\": len(dataset.labels),\n",
    "}\n",
    "results = k_fold_cross_validate(\n",
    "    SAT1Base,\n",
    "    model_kwargs,\n",
    "    dataset,\n",
    "    5,\n",
    "    batch_size=128,\n",
    "    normalization_fn=norm_dummy,\n",
    "    train_kwargs={\n",
    "        \"logs_path\": Path(\"../logs\"),\n",
    "        \"additional_name\": \"CVtest\",\n",
    "    },\n",
    ")\n",
    "print_results(results)"
   ]
  },
  {
   "cell_type": "code",
   "execution_count": 10,
   "metadata": {},
   "outputs": [
    {
     "data": {
      "application/vnd.jupyter.widget-view+json": {
       "model_id": "021ce97782c34dcf90987d26ea7871fb",
       "version_major": 2,
       "version_minor": 0
      },
      "text/plain": [
       "  0%|          | 0/758 [00:00<?, ? batch/s]"
      ]
     },
     "metadata": {},
     "output_type": "display_data"
    },
    {
     "name": "stderr",
     "output_type": "stream",
     "text": [
      "ERROR:tornado.general:SEND Error: Host unreachable\n"
     ]
    }
   ],
   "source": [
    "model = SAT1GRU(\n",
    "    len(train_data.channels), len(train_data.samples), len(train_data.labels)\n",
    ")\n",
    "train_and_test(model, train_data, test_data, val_data, logs_path=Path(\"../logs/\"))"
   ]
  },
  {
   "cell_type": "code",
   "execution_count": null,
   "metadata": {},
   "outputs": [],
   "source": [
    "summary(model, (16, 1, 147, 30))"
   ]
  }
 ],
 "metadata": {
  "kernelspec": {
   "display_name": "thesis_pytorch",
   "language": "python",
   "name": "python3"
  },
  "language_info": {
   "codemirror_mode": {
    "name": "ipython",
    "version": 3
   },
   "file_extension": ".py",
   "mimetype": "text/x-python",
   "name": "python",
   "nbconvert_exporter": "python",
   "pygments_lexer": "ipython3",
   "version": "3.11.6"
  }
 },
 "nbformat": 4,
 "nbformat_minor": 2
}

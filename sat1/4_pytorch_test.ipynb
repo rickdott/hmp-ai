{
 "cells": [
  {
   "cell_type": "code",
   "execution_count": 1,
   "metadata": {},
   "outputs": [],
   "source": [
    "%load_ext autoreload\n",
    "%autoreload 2\n",
    "from hmpai.pytorch.generators import SAT1DataLoader\n",
    "import xarray as xr\n",
    "from pathlib import Path\n",
    "import torch\n",
    "from hmpai.pytorch.models import *\n",
    "from hmpai.training import split_data_on_participants\n",
    "from hmpai.pytorch.training import train, validate, calculate_class_weights, train_and_test\n",
    "from hmpai.pytorch.utilities import DEVICE\n",
    "from hmpai.normalization import *\n",
    "import random\n",
    "import numpy as np\n",
    "from torchinfo import summary\n",
    "from tqdm.notebook import tqdm, trange"
   ]
  },
  {
   "cell_type": "code",
   "execution_count": 3,
   "metadata": {},
   "outputs": [],
   "source": [
    "random.seed(42)\n",
    "np.random.seed(42)\n",
    "data_path = Path(\"../data/sat1/split_stage_data.nc\")\n",
    "\n",
    "dataset = xr.load_dataset(data_path)\n",
    "train_data, val_data, test_data = split_data_on_participants(dataset, 60, norm_0_to_1)\n",
    "\n",
    "# eeg_dataset = EegDataset(data)\n",
    "# train_loader = SAT1DataLoader(train_data)\n",
    "# val_loader = SAT1DataLoader(val_data)\n",
    "# test_loader = SAT1DataLoader(test_data)"
   ]
  },
  {
   "cell_type": "code",
   "execution_count": 5,
   "metadata": {},
   "outputs": [],
   "source": [
    "model = SAT1Base(len(dataset.channels), len(dataset.samples), len(dataset.labels)).to(\n",
    "    DEVICE\n",
    ")"
   ]
  },
  {
   "cell_type": "code",
   "execution_count": null,
   "metadata": {},
   "outputs": [],
   "source": [
    "summary(model, (16, 1, 147, 30))"
   ]
  },
  {
   "cell_type": "code",
   "execution_count": 6,
   "metadata": {},
   "outputs": [
    {
     "data": {
      "application/vnd.jupyter.widget-view+json": {
       "model_id": "d3b3cf9cca314c4caa437150db701e23",
       "version_major": 2,
       "version_minor": 0
      },
      "text/plain": [
       "  0%|          | 0/757 [00:00<?, ? batch/s]"
      ]
     },
     "metadata": {},
     "output_type": "display_data"
    },
    {
     "data": {
      "application/vnd.jupyter.widget-view+json": {
       "model_id": "69947bf6fd3b4c64bfe298818704156c",
       "version_major": 2,
       "version_minor": 0
      },
      "text/plain": [
       "  0%|          | 0/757 [00:00<?, ? batch/s]"
      ]
     },
     "metadata": {},
     "output_type": "display_data"
    },
    {
     "data": {
      "application/vnd.jupyter.widget-view+json": {
       "model_id": "7c9cad9a3b5f46b393c008508dd6b441",
       "version_major": 2,
       "version_minor": 0
      },
      "text/plain": [
       "  0%|          | 0/757 [00:00<?, ? batch/s]"
      ]
     },
     "metadata": {},
     "output_type": "display_data"
    },
    {
     "data": {
      "application/vnd.jupyter.widget-view+json": {
       "model_id": "cc05153de7cc4a989d1ccbf4d22b1cf7",
       "version_major": 2,
       "version_minor": 0
      },
      "text/plain": [
       "  0%|          | 0/757 [00:00<?, ? batch/s]"
      ]
     },
     "metadata": {},
     "output_type": "display_data"
    },
    {
     "data": {
      "application/vnd.jupyter.widget-view+json": {
       "model_id": "1c9fc0f4e40946ac96dcdf75e0b68b94",
       "version_major": 2,
       "version_minor": 0
      },
      "text/plain": [
       "  0%|          | 0/757 [00:00<?, ? batch/s]"
      ]
     },
     "metadata": {},
     "output_type": "display_data"
    },
    {
     "data": {
      "application/vnd.jupyter.widget-view+json": {
       "model_id": "94ad841900434a8fb76c8b9a773b48aa",
       "version_major": 2,
       "version_minor": 0
      },
      "text/plain": [
       "  0%|          | 0/757 [00:00<?, ? batch/s]"
      ]
     },
     "metadata": {},
     "output_type": "display_data"
    },
    {
     "data": {
      "application/vnd.jupyter.widget-view+json": {
       "model_id": "4e6c3b4cfc2b4e688cf96dac9c98dc75",
       "version_major": 2,
       "version_minor": 0
      },
      "text/plain": [
       "  0%|          | 0/757 [00:00<?, ? batch/s]"
      ]
     },
     "metadata": {},
     "output_type": "display_data"
    },
    {
     "data": {
      "application/vnd.jupyter.widget-view+json": {
       "model_id": "7cce547b103b41088bce71c1461f1096",
       "version_major": 2,
       "version_minor": 0
      },
      "text/plain": [
       "  0%|          | 0/757 [00:00<?, ? batch/s]"
      ]
     },
     "metadata": {},
     "output_type": "display_data"
    },
    {
     "data": {
      "application/vnd.jupyter.widget-view+json": {
       "model_id": "239387b3935e4cfe851a8ffd76d70993",
       "version_major": 2,
       "version_minor": 0
      },
      "text/plain": [
       "  0%|          | 0/757 [00:00<?, ? batch/s]"
      ]
     },
     "metadata": {},
     "output_type": "display_data"
    },
    {
     "data": {
      "application/vnd.jupyter.widget-view+json": {
       "model_id": "76acac02c91241c2b59661a17b696f82",
       "version_major": 2,
       "version_minor": 0
      },
      "text/plain": [
       "  0%|          | 0/757 [00:00<?, ? batch/s]"
      ]
     },
     "metadata": {},
     "output_type": "display_data"
    },
    {
     "data": {
      "application/vnd.jupyter.widget-view+json": {
       "model_id": "34fff25f84ee4d4f805b206251d7c89d",
       "version_major": 2,
       "version_minor": 0
      },
      "text/plain": [
       "  0%|          | 0/757 [00:00<?, ? batch/s]"
      ]
     },
     "metadata": {},
     "output_type": "display_data"
    },
    {
     "data": {
      "application/vnd.jupyter.widget-view+json": {
       "model_id": "937a4955cd614c338d5a96c21fa92729",
       "version_major": 2,
       "version_minor": 0
      },
      "text/plain": [
       "  0%|          | 0/757 [00:00<?, ? batch/s]"
      ]
     },
     "metadata": {},
     "output_type": "display_data"
    },
    {
     "data": {
      "application/vnd.jupyter.widget-view+json": {
       "model_id": "b6cc2d6f23e54974954e8d229f9c3278",
       "version_major": 2,
       "version_minor": 0
      },
      "text/plain": [
       "  0%|          | 0/757 [00:00<?, ? batch/s]"
      ]
     },
     "metadata": {},
     "output_type": "display_data"
    },
    {
     "data": {
      "application/vnd.jupyter.widget-view+json": {
       "model_id": "f7e101a8d226487a8f998897e5941846",
       "version_major": 2,
       "version_minor": 0
      },
      "text/plain": [
       "  0%|          | 0/757 [00:00<?, ? batch/s]"
      ]
     },
     "metadata": {},
     "output_type": "display_data"
    },
    {
     "data": {
      "application/vnd.jupyter.widget-view+json": {
       "model_id": "4b041a6d0dfa44c98006cf32d7bb8112",
       "version_major": 2,
       "version_minor": 0
      },
      "text/plain": [
       "  0%|          | 0/757 [00:00<?, ? batch/s]"
      ]
     },
     "metadata": {},
     "output_type": "display_data"
    },
    {
     "data": {
      "application/vnd.jupyter.widget-view+json": {
       "model_id": "4374627931c2424aae293f24faad77f8",
       "version_major": 2,
       "version_minor": 0
      },
      "text/plain": [
       "  0%|          | 0/757 [00:00<?, ? batch/s]"
      ]
     },
     "metadata": {},
     "output_type": "display_data"
    },
    {
     "data": {
      "text/plain": [
       "{'confirmation': {'precision': 0.851528384279476,\n",
       "  'recall': 0.8496732026143791,\n",
       "  'f1-score': 0.8505997818974919,\n",
       "  'support': 459.0},\n",
       " 'decision': {'precision': 0.8893178893178894,\n",
       "  'recall': 0.7755331088664422,\n",
       "  'f1-score': 0.8285371702637889,\n",
       "  'support': 891.0},\n",
       " 'encoding': {'precision': 0.7869615832363213,\n",
       "  'recall': 0.7586980920314254,\n",
       "  'f1-score': 0.7725714285714285,\n",
       "  'support': 891.0},\n",
       " 'pre-attentive': {'precision': 0.6806122448979591,\n",
       "  'recall': 0.7828638497652582,\n",
       "  'f1-score': 0.7281659388646289,\n",
       "  'support': 852.0},\n",
       " 'response': {'precision': 0.8615384615384616,\n",
       "  'recall': 0.8799102132435466,\n",
       "  'f1-score': 0.8706274292059967,\n",
       "  'support': 891.0},\n",
       " 'accuracy': 0.8052208835341366,\n",
       " 'macro avg': {'precision': 0.8139917126540215,\n",
       "  'recall': 0.8093356933042102,\n",
       "  'f1-score': 0.8101003497606669,\n",
       "  'support': 3984.0},\n",
       " 'weighted avg': {'precision': 0.8112271436530902,\n",
       "  'recall': 0.8052208835341366,\n",
       "  'f1-score': 0.8065109138524935,\n",
       "  'support': 3984.0}}"
      ]
     },
     "execution_count": 6,
     "metadata": {},
     "output_type": "execute_result"
    }
   ],
   "source": [
    "train_and_test(model, train_data, test_data, val_data, logs_path=Path(\"../logs/\"))"
   ]
  },
  {
   "cell_type": "code",
   "execution_count": 20,
   "metadata": {},
   "outputs": [
    {
     "data": {
      "application/vnd.jupyter.widget-view+json": {
       "model_id": "12367ff78e134022adbe5b098a3e741c",
       "version_major": 2,
       "version_minor": 0
      },
      "text/plain": [
       "  0%|          | 0/757 [00:00<?, ? batch/s]"
      ]
     },
     "metadata": {},
     "output_type": "display_data"
    },
    {
     "data": {
      "application/vnd.jupyter.widget-view+json": {
       "model_id": "90ab12ad5d724afab281955401cfe65a",
       "version_major": 2,
       "version_minor": 0
      },
      "text/plain": [
       "  0%|          | 0/757 [00:00<?, ? batch/s]"
      ]
     },
     "metadata": {},
     "output_type": "display_data"
    },
    {
     "data": {
      "application/vnd.jupyter.widget-view+json": {
       "model_id": "dcb324dd034b4a33a9d22f621adb922c",
       "version_major": 2,
       "version_minor": 0
      },
      "text/plain": [
       "  0%|          | 0/757 [00:00<?, ? batch/s]"
      ]
     },
     "metadata": {},
     "output_type": "display_data"
    },
    {
     "data": {
      "application/vnd.jupyter.widget-view+json": {
       "model_id": "0ff66ed7158a4ab68b036a8e9f63329e",
       "version_major": 2,
       "version_minor": 0
      },
      "text/plain": [
       "  0%|          | 0/757 [00:00<?, ? batch/s]"
      ]
     },
     "metadata": {},
     "output_type": "display_data"
    },
    {
     "ename": "KeyboardInterrupt",
     "evalue": "",
     "output_type": "error",
     "traceback": [
      "\u001b[0;31m---------------------------------------------------------------------------\u001b[0m",
      "\u001b[0;31mKeyboardInterrupt\u001b[0m                         Traceback (most recent call last)",
      "\u001b[1;32m/mnt/c/git/hmp-ai/sat1/4_pytorch_test.ipynb Cell 5\u001b[0m line \u001b[0;36m1\n\u001b[1;32m      <a href='vscode-notebook-cell://wsl%2Bubuntu/mnt/c/git/hmp-ai/sat1/4_pytorch_test.ipynb#W5sdnNjb2RlLXJlbW90ZQ%3D%3D?line=6'>7</a>\u001b[0m \u001b[39m# Shuffle data before next epoch\u001b[39;00m\n\u001b[1;32m      <a href='vscode-notebook-cell://wsl%2Bubuntu/mnt/c/git/hmp-ai/sat1/4_pytorch_test.ipynb#W5sdnNjb2RlLXJlbW90ZQ%3D%3D?line=7'>8</a>\u001b[0m train_loader\u001b[39m.\u001b[39mshuffle()\n\u001b[0;32m---> <a href='vscode-notebook-cell://wsl%2Bubuntu/mnt/c/git/hmp-ai/sat1/4_pytorch_test.ipynb#W5sdnNjb2RlLXJlbW90ZQ%3D%3D?line=9'>10</a>\u001b[0m val_losses, val_accuracy \u001b[39m=\u001b[39m validate(model, val_loader, loss)\n\u001b[1;32m     <a href='vscode-notebook-cell://wsl%2Bubuntu/mnt/c/git/hmp-ai/sat1/4_pytorch_test.ipynb#W5sdnNjb2RlLXJlbW90ZQ%3D%3D?line=10'>11</a>\u001b[0m tepoch\u001b[39m.\u001b[39mset_postfix(\n\u001b[1;32m     <a href='vscode-notebook-cell://wsl%2Bubuntu/mnt/c/git/hmp-ai/sat1/4_pytorch_test.ipynb#W5sdnNjb2RlLXJlbW90ZQ%3D%3D?line=11'>12</a>\u001b[0m     {\n\u001b[1;32m     <a href='vscode-notebook-cell://wsl%2Bubuntu/mnt/c/git/hmp-ai/sat1/4_pytorch_test.ipynb#W5sdnNjb2RlLXJlbW90ZQ%3D%3D?line=12'>13</a>\u001b[0m         \u001b[39m\"\u001b[39m\u001b[39mloss\u001b[39m\u001b[39m\"\u001b[39m: np\u001b[39m.\u001b[39mmean(batch_losses),\n\u001b[0;32m   (...)\u001b[0m\n\u001b[1;32m     <a href='vscode-notebook-cell://wsl%2Bubuntu/mnt/c/git/hmp-ai/sat1/4_pytorch_test.ipynb#W5sdnNjb2RlLXJlbW90ZQ%3D%3D?line=15'>16</a>\u001b[0m     }\n\u001b[1;32m     <a href='vscode-notebook-cell://wsl%2Bubuntu/mnt/c/git/hmp-ai/sat1/4_pytorch_test.ipynb#W5sdnNjb2RlLXJlbW90ZQ%3D%3D?line=16'>17</a>\u001b[0m )\n\u001b[1;32m     <a href='vscode-notebook-cell://wsl%2Bubuntu/mnt/c/git/hmp-ai/sat1/4_pytorch_test.ipynb#W5sdnNjb2RlLXJlbW90ZQ%3D%3D?line=17'>18</a>\u001b[0m \u001b[39m# tepoch.set_postfix_str(\u001b[39;00m\n\u001b[1;32m     <a href='vscode-notebook-cell://wsl%2Bubuntu/mnt/c/git/hmp-ai/sat1/4_pytorch_test.ipynb#W5sdnNjb2RlLXJlbW90ZQ%3D%3D?line=18'>19</a>\u001b[0m \u001b[39m#     f\"epoch {epoch}, loss: {np.mean(batch_losses)}, val_loss: {np.mean(val_losses)}, val_accuracy: {val_accuracy}\"\u001b[39;00m\n\u001b[1;32m     <a href='vscode-notebook-cell://wsl%2Bubuntu/mnt/c/git/hmp-ai/sat1/4_pytorch_test.ipynb#W5sdnNjb2RlLXJlbW90ZQ%3D%3D?line=19'>20</a>\u001b[0m \u001b[39m# )\u001b[39;00m\n",
      "File \u001b[0;32m/mnt/c/git/hmp-ai/pkg/hmpai/pytorch/training.py:172\u001b[0m, in \u001b[0;36mvalidate\u001b[0;34m(model, validation_loader, loss_function)\u001b[0m\n\u001b[1;32m    169\u001b[0m total_instances \u001b[39m=\u001b[39m \u001b[39m0\u001b[39m\n\u001b[1;32m    171\u001b[0m \u001b[39mwith\u001b[39;00m torch\u001b[39m.\u001b[39mno_grad():\n\u001b[0;32m--> 172\u001b[0m     \u001b[39mfor\u001b[39;49;00m batch \u001b[39min\u001b[39;49;00m validation_loader:\n\u001b[1;32m    173\u001b[0m         \u001b[39m# (Index, samples, channels), (Index, )\u001b[39;49;00m\n\u001b[1;32m    174\u001b[0m         data, labels \u001b[39m=\u001b[39;49m batch[\u001b[39m0\u001b[39;49m]\u001b[39m.\u001b[39;49mto(DEVICE), batch[\u001b[39m1\u001b[39;49m]\u001b[39m.\u001b[39;49mto(DEVICE)\n\u001b[1;32m    176\u001b[0m         predictions \u001b[39m=\u001b[39;49m model(data)\n",
      "File \u001b[0;32m/mnt/c/git/hmp-ai/pkg/hmpai/pytorch/generators.py:86\u001b[0m, in \u001b[0;36mSAT1DataLoader.__getitem__\u001b[0;34m(self, idx)\u001b[0m\n\u001b[1;32m     83\u001b[0m \u001b[39mdef\u001b[39;00m \u001b[39m__getitem__\u001b[39m(\u001b[39mself\u001b[39m, idx):\n\u001b[1;32m     84\u001b[0m     batch \u001b[39m=\u001b[39m \u001b[39mself\u001b[39m\u001b[39m.\u001b[39mgenerator\u001b[39m.\u001b[39m\u001b[39m__getitem__\u001b[39m(idx)\n\u001b[1;32m     85\u001b[0m     batch_labels \u001b[39m=\u001b[39m np\u001b[39m.\u001b[39marray(\n\u001b[0;32m---> 86\u001b[0m         [\u001b[39mself\u001b[39;49m\u001b[39m.\u001b[39;49mcat_labels\u001b[39m.\u001b[39;49mindex(label) \u001b[39mfor\u001b[39;49;00m label \u001b[39min\u001b[39;49;00m batch\u001b[39m.\u001b[39;49mlabels]\n\u001b[1;32m     87\u001b[0m     )\n\u001b[1;32m     88\u001b[0m     batch_data \u001b[39m=\u001b[39m batch\u001b[39m.\u001b[39mdata\u001b[39m.\u001b[39mto_numpy()\u001b[39m.\u001b[39mastype(np\u001b[39m.\u001b[39mfloat32)\n\u001b[1;32m     89\u001b[0m     batch_data \u001b[39m=\u001b[39m batch_data[:, \u001b[39mNone\u001b[39;00m, :, :]\n",
      "File \u001b[0;32m/mnt/c/git/hmp-ai/pkg/hmpai/pytorch/generators.py:86\u001b[0m, in \u001b[0;36m<listcomp>\u001b[0;34m(.0)\u001b[0m\n\u001b[1;32m     83\u001b[0m \u001b[39mdef\u001b[39;00m \u001b[39m__getitem__\u001b[39m(\u001b[39mself\u001b[39m, idx):\n\u001b[1;32m     84\u001b[0m     batch \u001b[39m=\u001b[39m \u001b[39mself\u001b[39m\u001b[39m.\u001b[39mgenerator\u001b[39m.\u001b[39m\u001b[39m__getitem__\u001b[39m(idx)\n\u001b[1;32m     85\u001b[0m     batch_labels \u001b[39m=\u001b[39m np\u001b[39m.\u001b[39marray(\n\u001b[0;32m---> 86\u001b[0m         [\u001b[39mself\u001b[39;49m\u001b[39m.\u001b[39;49mcat_labels\u001b[39m.\u001b[39;49mindex(label) \u001b[39mfor\u001b[39;49;00m label \u001b[39min\u001b[39;49;00m batch\u001b[39m.\u001b[39;49mlabels]\n\u001b[1;32m     87\u001b[0m     )\n\u001b[1;32m     88\u001b[0m     batch_data \u001b[39m=\u001b[39m batch\u001b[39m.\u001b[39mdata\u001b[39m.\u001b[39mto_numpy()\u001b[39m.\u001b[39mastype(np\u001b[39m.\u001b[39mfloat32)\n\u001b[1;32m     89\u001b[0m     batch_data \u001b[39m=\u001b[39m batch_data[:, \u001b[39mNone\u001b[39;00m, :, :]\n",
      "File \u001b[0;32m~/miniconda3/envs/thesis_pytorch/lib/python3.11/site-packages/xarray/core/common.py:194\u001b[0m, in \u001b[0;36mAbstractArray._iter\u001b[0;34m(self)\u001b[0m\n\u001b[1;32m    192\u001b[0m \u001b[39mdef\u001b[39;00m \u001b[39m_iter\u001b[39m(\u001b[39mself\u001b[39m: Any) \u001b[39m-\u001b[39m\u001b[39m>\u001b[39m Iterator[Any]:\n\u001b[1;32m    193\u001b[0m     \u001b[39mfor\u001b[39;00m n \u001b[39min\u001b[39;00m \u001b[39mrange\u001b[39m(\u001b[39mlen\u001b[39m(\u001b[39mself\u001b[39m)):\n\u001b[0;32m--> 194\u001b[0m         \u001b[39myield\u001b[39;00m \u001b[39mself\u001b[39;49m[n]\n",
      "File \u001b[0;32m~/miniconda3/envs/thesis_pytorch/lib/python3.11/site-packages/xarray/core/dataarray.py:823\u001b[0m, in \u001b[0;36mDataArray.__getitem__\u001b[0;34m(self, key)\u001b[0m\n\u001b[1;32m    820\u001b[0m     \u001b[39mreturn\u001b[39;00m \u001b[39mself\u001b[39m\u001b[39m.\u001b[39m_getitem_coord(key)\n\u001b[1;32m    821\u001b[0m \u001b[39melse\u001b[39;00m:\n\u001b[1;32m    822\u001b[0m     \u001b[39m# xarray-style array indexing\u001b[39;00m\n\u001b[0;32m--> 823\u001b[0m     \u001b[39mreturn\u001b[39;00m \u001b[39mself\u001b[39;49m\u001b[39m.\u001b[39;49misel(indexers\u001b[39m=\u001b[39;49m\u001b[39mself\u001b[39;49m\u001b[39m.\u001b[39;49m_item_key_to_dict(key))\n",
      "File \u001b[0;32m~/miniconda3/envs/thesis_pytorch/lib/python3.11/site-packages/xarray/core/dataarray.py:1422\u001b[0m, in \u001b[0;36mDataArray.isel\u001b[0;34m(self, indexers, drop, missing_dims, **indexers_kwargs)\u001b[0m\n\u001b[1;32m   1418\u001b[0m \u001b[39m# Much faster algorithm for when all indexers are ints, slices, one-dimensional\u001b[39;00m\n\u001b[1;32m   1419\u001b[0m \u001b[39m# lists, or zero or one-dimensional np.ndarray's\u001b[39;00m\n\u001b[1;32m   1421\u001b[0m variable \u001b[39m=\u001b[39m \u001b[39mself\u001b[39m\u001b[39m.\u001b[39m_variable\u001b[39m.\u001b[39misel(indexers, missing_dims\u001b[39m=\u001b[39mmissing_dims)\n\u001b[0;32m-> 1422\u001b[0m indexes, index_variables \u001b[39m=\u001b[39m isel_indexes(\u001b[39mself\u001b[39;49m\u001b[39m.\u001b[39;49mxindexes, indexers)\n\u001b[1;32m   1424\u001b[0m coords \u001b[39m=\u001b[39m {}\n\u001b[1;32m   1425\u001b[0m \u001b[39mfor\u001b[39;00m coord_name, coord_value \u001b[39min\u001b[39;00m \u001b[39mself\u001b[39m\u001b[39m.\u001b[39m_coords\u001b[39m.\u001b[39mitems():\n",
      "File \u001b[0;32m~/miniconda3/envs/thesis_pytorch/lib/python3.11/site-packages/xarray/core/indexes.py:1478\u001b[0m, in \u001b[0;36misel_indexes\u001b[0;34m(indexes, indexers)\u001b[0m\n\u001b[1;32m   1474\u001b[0m \u001b[39mdef\u001b[39;00m \u001b[39misel_indexes\u001b[39m(\n\u001b[1;32m   1475\u001b[0m     indexes: Indexes[Index],\n\u001b[1;32m   1476\u001b[0m     indexers: Mapping[Any, Any],\n\u001b[1;32m   1477\u001b[0m ) \u001b[39m-\u001b[39m\u001b[39m>\u001b[39m \u001b[39mtuple\u001b[39m[\u001b[39mdict\u001b[39m[Hashable, Index], \u001b[39mdict\u001b[39m[Hashable, Variable]]:\n\u001b[0;32m-> 1478\u001b[0m     \u001b[39mreturn\u001b[39;00m _apply_indexes(indexes, indexers, \u001b[39m\"\u001b[39;49m\u001b[39misel\u001b[39;49m\u001b[39m\"\u001b[39;49m)\n",
      "File \u001b[0;32m~/miniconda3/envs/thesis_pytorch/lib/python3.11/site-packages/xarray/core/indexes.py:1459\u001b[0m, in \u001b[0;36m_apply_indexes\u001b[0;34m(indexes, args, func)\u001b[0m\n\u001b[1;32m   1456\u001b[0m new_index_variables: \u001b[39mdict\u001b[39m[Hashable, Variable] \u001b[39m=\u001b[39m {}\n\u001b[1;32m   1458\u001b[0m \u001b[39mfor\u001b[39;00m index, index_vars \u001b[39min\u001b[39;00m indexes\u001b[39m.\u001b[39mgroup_by_index():\n\u001b[0;32m-> 1459\u001b[0m     index_dims \u001b[39m=\u001b[39m {d \u001b[39mfor\u001b[39;49;00m var \u001b[39min\u001b[39;49;00m index_vars\u001b[39m.\u001b[39;49mvalues() \u001b[39mfor\u001b[39;49;00m d \u001b[39min\u001b[39;49;00m var\u001b[39m.\u001b[39;49mdims}\n\u001b[1;32m   1460\u001b[0m     index_args \u001b[39m=\u001b[39m {k: v \u001b[39mfor\u001b[39;00m k, v \u001b[39min\u001b[39;00m args\u001b[39m.\u001b[39mitems() \u001b[39mif\u001b[39;00m k \u001b[39min\u001b[39;00m index_dims}\n\u001b[1;32m   1461\u001b[0m     \u001b[39mif\u001b[39;00m index_args:\n",
      "File \u001b[0;32m~/miniconda3/envs/thesis_pytorch/lib/python3.11/site-packages/xarray/core/indexes.py:1459\u001b[0m, in \u001b[0;36m<setcomp>\u001b[0;34m(.0)\u001b[0m\n\u001b[1;32m   1456\u001b[0m new_index_variables: \u001b[39mdict\u001b[39m[Hashable, Variable] \u001b[39m=\u001b[39m {}\n\u001b[1;32m   1458\u001b[0m \u001b[39mfor\u001b[39;00m index, index_vars \u001b[39min\u001b[39;00m indexes\u001b[39m.\u001b[39mgroup_by_index():\n\u001b[0;32m-> 1459\u001b[0m     index_dims \u001b[39m=\u001b[39m {d \u001b[39mfor\u001b[39;00m var \u001b[39min\u001b[39;00m index_vars\u001b[39m.\u001b[39mvalues() \u001b[39mfor\u001b[39;00m d \u001b[39min\u001b[39;00m var\u001b[39m.\u001b[39;49mdims}\n\u001b[1;32m   1460\u001b[0m     index_args \u001b[39m=\u001b[39m {k: v \u001b[39mfor\u001b[39;00m k, v \u001b[39min\u001b[39;00m args\u001b[39m.\u001b[39mitems() \u001b[39mif\u001b[39;00m k \u001b[39min\u001b[39;00m index_dims}\n\u001b[1;32m   1461\u001b[0m     \u001b[39mif\u001b[39;00m index_args:\n",
      "File \u001b[0;32m~/miniconda3/envs/thesis_pytorch/lib/python3.11/site-packages/xarray/core/variable.py:668\u001b[0m, in \u001b[0;36mVariable.dims\u001b[0;34m(self)\u001b[0m\n\u001b[1;32m    664\u001b[0m         item[\u001b[39m\"\u001b[39m\u001b[39mencoding\u001b[39m\u001b[39m\"\u001b[39m] \u001b[39m=\u001b[39m \u001b[39mdict\u001b[39m(\u001b[39mself\u001b[39m\u001b[39m.\u001b[39mencoding)\n\u001b[1;32m    666\u001b[0m     \u001b[39mreturn\u001b[39;00m item\n\u001b[0;32m--> 668\u001b[0m \u001b[39m@property\u001b[39m\n\u001b[1;32m    669\u001b[0m \u001b[39mdef\u001b[39;00m \u001b[39mdims\u001b[39m(\u001b[39mself\u001b[39m) \u001b[39m-\u001b[39m\u001b[39m>\u001b[39m \u001b[39mtuple\u001b[39m[Hashable, \u001b[39m.\u001b[39m\u001b[39m.\u001b[39m\u001b[39m.\u001b[39m]:\n\u001b[1;32m    670\u001b[0m \u001b[39m    \u001b[39m\u001b[39m\"\"\"Tuple of dimension names with which this variable is associated.\"\"\"\u001b[39;00m\n\u001b[1;32m    671\u001b[0m     \u001b[39mreturn\u001b[39;00m \u001b[39mself\u001b[39m\u001b[39m.\u001b[39m_dims\n",
      "\u001b[0;31mKeyboardInterrupt\u001b[0m: "
     ]
    }
   ],
   "source": [
    "# progress = trange(epochs)\n",
    "for epoch in range(epochs):\n",
    "    # progress.set_description(f\"Epoch {epoch}\")\n",
    "    with tqdm(total=len(train_loader), unit=\" batch\") as tepoch:\n",
    "        tepoch.set_description(f\"Epoch {epoch + 1}\")\n",
    "        batch_losses = train(model, train_loader, opt, loss, tepoch)\n",
    "        # Shuffle data before next epoch\n",
    "        train_loader.shuffle()\n",
    "\n",
    "        val_losses, val_accuracy = validate(model, val_loader, loss)\n",
    "        tepoch.set_postfix(\n",
    "            {\n",
    "                \"loss\": np.mean(batch_losses),\n",
    "                \"val_loss\": np.mean(val_losses),\n",
    "                \"val_accuracy\": val_accuracy,\n",
    "            }\n",
    "        )\n",
    "        # tepoch.set_postfix_str(\n",
    "        #     f\"epoch {epoch}, loss: {np.mean(batch_losses)}, val_loss: {np.mean(val_losses)}, val_accuracy: {val_accuracy}\"\n",
    "        # )"
   ]
  }
 ],
 "metadata": {
  "kernelspec": {
   "display_name": "thesis_pytorch",
   "language": "python",
   "name": "python3"
  },
  "language_info": {
   "codemirror_mode": {
    "name": "ipython",
    "version": 3
   },
   "file_extension": ".py",
   "mimetype": "text/x-python",
   "name": "python",
   "nbconvert_exporter": "python",
   "pygments_lexer": "ipython3",
   "version": "3.11.6"
  }
 },
 "nbformat": 4,
 "nbformat_minor": 2
}

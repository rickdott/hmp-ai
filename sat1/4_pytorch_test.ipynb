{
 "cells": [
  {
   "cell_type": "code",
   "execution_count": 1,
   "metadata": {},
   "outputs": [],
   "source": [
    "%load_ext autoreload\n",
    "%autoreload 2\n",
    "from hmpai.pytorch.generators import SAT1DataLoader\n",
    "import xarray as xr\n",
    "from pathlib import Path\n",
    "import torch\n",
    "from hmpai.pytorch.models import SAT1Base\n",
    "from hmpai.training import split_data_on_participants\n",
    "from hmpai.pytorch.training import train, validate\n",
    "from hmpai.pytorch.utilities import DEVICE\n",
    "from hmpai.normalization import norm_dummy\n",
    "import random\n",
    "import numpy as np"
   ]
  },
  {
   "cell_type": "code",
   "execution_count": 2,
   "metadata": {},
   "outputs": [],
   "source": [
    "random.seed(42)\n",
    "np.random.seed(42)\n",
    "data_path = Path(\"../data/sat1/split_stage_data.nc\")\n",
    "\n",
    "dataset = xr.load_dataset(data_path)\n",
    "train_data, val_data, test_data = split_data_on_participants(dataset, 60, norm_dummy)\n",
    "\n",
    "# eeg_dataset = EegDataset(data)\n",
    "train_loader = SAT1DataLoader(train_data)\n",
    "val_loader = SAT1DataLoader(val_data)\n",
    "test_loader = SAT1DataLoader(test_data)"
   ]
  },
  {
   "cell_type": "code",
   "execution_count": 19,
   "metadata": {},
   "outputs": [],
   "source": [
    "model = SAT1Base(len(dataset.channels), len(dataset.samples), len(dataset.labels)).to(\n",
    "    DEVICE\n",
    ")\n",
    "loss = torch.nn.CrossEntropyLoss()\n",
    "opt = torch.optim.NAdam(model.parameters())\n",
    "epochs = 10"
   ]
  },
  {
   "cell_type": "code",
   "execution_count": 20,
   "metadata": {},
   "outputs": [
    {
     "data": {
      "application/vnd.jupyter.widget-view+json": {
       "model_id": "f04965442c65471ca7f03e9518638938",
       "version_major": 2,
       "version_minor": 0
      },
      "text/plain": [
       "  0%|          | 0/757 [00:00<?, ?it/s]"
      ]
     },
     "metadata": {},
     "output_type": "display_data"
    },
    {
     "data": {
      "application/vnd.jupyter.widget-view+json": {
       "model_id": "2d5c1e657fcb40f689dae871f227151c",
       "version_major": 2,
       "version_minor": 0
      },
      "text/plain": [
       "  0%|          | 0/245 [00:00<?, ?it/s]"
      ]
     },
     "metadata": {},
     "output_type": "display_data"
    },
    {
     "name": "stdout",
     "output_type": "stream",
     "text": [
      "Epoch 0, loss: 0.8009541091980361, val_loss: 0.5199890367230591, val_accuracy: 0.811\n"
     ]
    },
    {
     "data": {
      "application/vnd.jupyter.widget-view+json": {
       "model_id": "d84751315a0f4611b1ee0bfe87e89432",
       "version_major": 2,
       "version_minor": 0
      },
      "text/plain": [
       "  0%|          | 0/757 [00:00<?, ?it/s]"
      ]
     },
     "metadata": {},
     "output_type": "display_data"
    },
    {
     "data": {
      "application/vnd.jupyter.widget-view+json": {
       "model_id": "20c82eeed6b2433e81f7fb17c019bf4d",
       "version_major": 2,
       "version_minor": 0
      },
      "text/plain": [
       "  0%|          | 0/245 [00:00<?, ?it/s]"
      ]
     },
     "metadata": {},
     "output_type": "display_data"
    },
    {
     "name": "stdout",
     "output_type": "stream",
     "text": [
      "Epoch 1, loss: 0.636851741662901, val_loss: 0.5077349846156276, val_accuracy: 0.816\n"
     ]
    },
    {
     "data": {
      "application/vnd.jupyter.widget-view+json": {
       "model_id": "a336cfb0157742be85cf433439fa0fbb",
       "version_major": 2,
       "version_minor": 0
      },
      "text/plain": [
       "  0%|          | 0/757 [00:00<?, ?it/s]"
      ]
     },
     "metadata": {},
     "output_type": "display_data"
    },
    {
     "data": {
      "application/vnd.jupyter.widget-view+json": {
       "model_id": "f75ceade7f7f48f7ae2c5edbe0ba7703",
       "version_major": 2,
       "version_minor": 0
      },
      "text/plain": [
       "  0%|          | 0/245 [00:00<?, ?it/s]"
      ]
     },
     "metadata": {},
     "output_type": "display_data"
    },
    {
     "name": "stdout",
     "output_type": "stream",
     "text": [
      "Epoch 2, loss: 0.5752055038460573, val_loss: 0.5505207806065374, val_accuracy: 0.816\n"
     ]
    },
    {
     "data": {
      "application/vnd.jupyter.widget-view+json": {
       "model_id": "8501ab5d2fcb4b06b7b1312ecd2599b3",
       "version_major": 2,
       "version_minor": 0
      },
      "text/plain": [
       "  0%|          | 0/757 [00:00<?, ?it/s]"
      ]
     },
     "metadata": {},
     "output_type": "display_data"
    },
    {
     "data": {
      "application/vnd.jupyter.widget-view+json": {
       "model_id": "c9fd9c51470448169a9c51135793ea67",
       "version_major": 2,
       "version_minor": 0
      },
      "text/plain": [
       "  0%|          | 0/245 [00:00<?, ?it/s]"
      ]
     },
     "metadata": {},
     "output_type": "display_data"
    },
    {
     "name": "stdout",
     "output_type": "stream",
     "text": [
      "Epoch 3, loss: 0.5448356793561022, val_loss: 0.48351270673530444, val_accuracy: 0.82\n"
     ]
    },
    {
     "data": {
      "application/vnd.jupyter.widget-view+json": {
       "model_id": "cdef86c9fb4d4f2589c5f7cbf56f47f4",
       "version_major": 2,
       "version_minor": 0
      },
      "text/plain": [
       "  0%|          | 0/757 [00:00<?, ?it/s]"
      ]
     },
     "metadata": {},
     "output_type": "display_data"
    },
    {
     "data": {
      "application/vnd.jupyter.widget-view+json": {
       "model_id": "66cde79a491e4918b62f6ba1998afb55",
       "version_major": 2,
       "version_minor": 0
      },
      "text/plain": [
       "  0%|          | 0/245 [00:00<?, ?it/s]"
      ]
     },
     "metadata": {},
     "output_type": "display_data"
    },
    {
     "name": "stdout",
     "output_type": "stream",
     "text": [
      "Epoch 4, loss: 0.5175450766407436, val_loss: 0.48263640835577126, val_accuracy: 0.829\n"
     ]
    },
    {
     "data": {
      "application/vnd.jupyter.widget-view+json": {
       "model_id": "00e4d37ab2fb412fa5fc6821ce65b4f0",
       "version_major": 2,
       "version_minor": 0
      },
      "text/plain": [
       "  0%|          | 0/757 [00:00<?, ?it/s]"
      ]
     },
     "metadata": {},
     "output_type": "display_data"
    },
    {
     "data": {
      "application/vnd.jupyter.widget-view+json": {
       "model_id": "d50c93d5addd48ce8a23dbfc000e1338",
       "version_major": 2,
       "version_minor": 0
      },
      "text/plain": [
       "  0%|          | 0/245 [00:00<?, ?it/s]"
      ]
     },
     "metadata": {},
     "output_type": "display_data"
    },
    {
     "name": "stdout",
     "output_type": "stream",
     "text": [
      "Epoch 5, loss: 0.49240607940536507, val_loss: 0.5078647947585097, val_accuracy: 0.834\n"
     ]
    },
    {
     "data": {
      "application/vnd.jupyter.widget-view+json": {
       "model_id": "3c958dcd9f6a4eb0a80f9f4943574a3f",
       "version_major": 2,
       "version_minor": 0
      },
      "text/plain": [
       "  0%|          | 0/757 [00:00<?, ?it/s]"
      ]
     },
     "metadata": {},
     "output_type": "display_data"
    },
    {
     "data": {
      "application/vnd.jupyter.widget-view+json": {
       "model_id": "fdb7ba5b6d594e8491d5e15184c598e5",
       "version_major": 2,
       "version_minor": 0
      },
      "text/plain": [
       "  0%|          | 0/245 [00:00<?, ?it/s]"
      ]
     },
     "metadata": {},
     "output_type": "display_data"
    },
    {
     "name": "stdout",
     "output_type": "stream",
     "text": [
      "Epoch 6, loss: 0.47144039415187217, val_loss: 0.5277855453746659, val_accuracy: 0.821\n"
     ]
    },
    {
     "data": {
      "application/vnd.jupyter.widget-view+json": {
       "model_id": "6577ab0f7a3f439c855395a9949debf3",
       "version_major": 2,
       "version_minor": 0
      },
      "text/plain": [
       "  0%|          | 0/757 [00:00<?, ?it/s]"
      ]
     },
     "metadata": {},
     "output_type": "display_data"
    },
    {
     "data": {
      "application/vnd.jupyter.widget-view+json": {
       "model_id": "18700b6c656e422e8f2d77ae1d762c1f",
       "version_major": 2,
       "version_minor": 0
      },
      "text/plain": [
       "  0%|          | 0/245 [00:00<?, ?it/s]"
      ]
     },
     "metadata": {},
     "output_type": "display_data"
    },
    {
     "name": "stdout",
     "output_type": "stream",
     "text": [
      "Epoch 7, loss: 0.4421960789183723, val_loss: 0.5088404929303393, val_accuracy: 0.832\n"
     ]
    },
    {
     "data": {
      "application/vnd.jupyter.widget-view+json": {
       "model_id": "4ec8c07ebadd40d08411142d440b64d5",
       "version_major": 2,
       "version_minor": 0
      },
      "text/plain": [
       "  0%|          | 0/757 [00:00<?, ?it/s]"
      ]
     },
     "metadata": {},
     "output_type": "display_data"
    },
    {
     "data": {
      "application/vnd.jupyter.widget-view+json": {
       "model_id": "affb465bc8f94786aa827d3d54db34a3",
       "version_major": 2,
       "version_minor": 0
      },
      "text/plain": [
       "  0%|          | 0/245 [00:00<?, ?it/s]"
      ]
     },
     "metadata": {},
     "output_type": "display_data"
    },
    {
     "name": "stdout",
     "output_type": "stream",
     "text": [
      "Epoch 8, loss: 0.433515852137593, val_loss: 0.5280860272901399, val_accuracy: 0.824\n"
     ]
    },
    {
     "data": {
      "application/vnd.jupyter.widget-view+json": {
       "model_id": "d2c02fd62c174f3eb904ce428e876be9",
       "version_major": 2,
       "version_minor": 0
      },
      "text/plain": [
       "  0%|          | 0/757 [00:00<?, ?it/s]"
      ]
     },
     "metadata": {},
     "output_type": "display_data"
    },
    {
     "ename": "KeyboardInterrupt",
     "evalue": "",
     "output_type": "error",
     "traceback": [
      "\u001b[0;31m---------------------------------------------------------------------------\u001b[0m",
      "\u001b[0;31mKeyboardInterrupt\u001b[0m                         Traceback (most recent call last)",
      "\u001b[1;32m/mnt/c/git/hmp-ai/sat1/4_pytorch_test.ipynb Cell 4\u001b[0m line \u001b[0;36m2\n\u001b[1;32m      <a href='vscode-notebook-cell://wsl%2Bubuntu/mnt/c/git/hmp-ai/sat1/4_pytorch_test.ipynb#W3sdnNjb2RlLXJlbW90ZQ%3D%3D?line=0'>1</a>\u001b[0m \u001b[39mfor\u001b[39;00m epoch \u001b[39min\u001b[39;00m \u001b[39mrange\u001b[39m(epochs):\n\u001b[0;32m----> <a href='vscode-notebook-cell://wsl%2Bubuntu/mnt/c/git/hmp-ai/sat1/4_pytorch_test.ipynb#W3sdnNjb2RlLXJlbW90ZQ%3D%3D?line=1'>2</a>\u001b[0m     batch_losses \u001b[39m=\u001b[39m train(model, train_loader, opt, loss)\n\u001b[1;32m      <a href='vscode-notebook-cell://wsl%2Bubuntu/mnt/c/git/hmp-ai/sat1/4_pytorch_test.ipynb#W3sdnNjb2RlLXJlbW90ZQ%3D%3D?line=3'>4</a>\u001b[0m     \u001b[39m# Shuffle data before next epoch\u001b[39;00m\n\u001b[1;32m      <a href='vscode-notebook-cell://wsl%2Bubuntu/mnt/c/git/hmp-ai/sat1/4_pytorch_test.ipynb#W3sdnNjb2RlLXJlbW90ZQ%3D%3D?line=4'>5</a>\u001b[0m     train_loader\u001b[39m.\u001b[39mshuffle()\n",
      "File \u001b[0;32m/mnt/c/git/hmp-ai/pkg/hmpai/pytorch/training.py:11\u001b[0m, in \u001b[0;36mtrain\u001b[0;34m(model, train_loader, optimizer, loss_function)\u001b[0m\n\u001b[1;32m      7\u001b[0m model\u001b[39m.\u001b[39mtrain(\u001b[39mTrue\u001b[39;00m)\n\u001b[1;32m      9\u001b[0m loss_per_batch \u001b[39m=\u001b[39m []\n\u001b[0;32m---> 11\u001b[0m \u001b[39mfor\u001b[39;49;00m batch \u001b[39min\u001b[39;49;00m tqdm(train_loader):\n\u001b[1;32m     12\u001b[0m     \u001b[39m# (Index, samples, channels), (Index, )\u001b[39;49;00m\n\u001b[1;32m     13\u001b[0m     data, labels \u001b[39m=\u001b[39;49m batch[\u001b[39m0\u001b[39;49m]\u001b[39m.\u001b[39;49mto(DEVICE), batch[\u001b[39m1\u001b[39;49m]\u001b[39m.\u001b[39;49mto(DEVICE)\n\u001b[1;32m     15\u001b[0m     optimizer\u001b[39m.\u001b[39;49mzero_grad()\n",
      "File \u001b[0;32m~/miniconda3/envs/thesis_pytorch/lib/python3.11/site-packages/tqdm/notebook.py:249\u001b[0m, in \u001b[0;36mtqdm_notebook.__iter__\u001b[0;34m(self)\u001b[0m\n\u001b[1;32m    247\u001b[0m \u001b[39mtry\u001b[39;00m:\n\u001b[1;32m    248\u001b[0m     it \u001b[39m=\u001b[39m \u001b[39msuper\u001b[39m(tqdm_notebook, \u001b[39mself\u001b[39m)\u001b[39m.\u001b[39m\u001b[39m__iter__\u001b[39m()\n\u001b[0;32m--> 249\u001b[0m     \u001b[39mfor\u001b[39;49;00m obj \u001b[39min\u001b[39;49;00m it:\n\u001b[1;32m    250\u001b[0m         \u001b[39m# return super(tqdm...) will not catch exception\u001b[39;49;00m\n\u001b[1;32m    251\u001b[0m         \u001b[39myield\u001b[39;49;00m obj\n\u001b[1;32m    252\u001b[0m \u001b[39m# NB: except ... [ as ...] breaks IPython async KeyboardInterrupt\u001b[39;00m\n",
      "File \u001b[0;32m~/miniconda3/envs/thesis_pytorch/lib/python3.11/site-packages/tqdm/std.py:1182\u001b[0m, in \u001b[0;36mtqdm.__iter__\u001b[0;34m(self)\u001b[0m\n\u001b[1;32m   1179\u001b[0m time \u001b[39m=\u001b[39m \u001b[39mself\u001b[39m\u001b[39m.\u001b[39m_time\n\u001b[1;32m   1181\u001b[0m \u001b[39mtry\u001b[39;00m:\n\u001b[0;32m-> 1182\u001b[0m     \u001b[39mfor\u001b[39;49;00m obj \u001b[39min\u001b[39;49;00m iterable:\n\u001b[1;32m   1183\u001b[0m         \u001b[39myield\u001b[39;49;00m obj\n\u001b[1;32m   1184\u001b[0m         \u001b[39m# Update and possibly print the progressbar.\u001b[39;49;00m\n\u001b[1;32m   1185\u001b[0m         \u001b[39m# Note: does not call self.update(1) for speed optimisation.\u001b[39;49;00m\n",
      "File \u001b[0;32m/mnt/c/git/hmp-ai/pkg/hmpai/pytorch/generators.py:86\u001b[0m, in \u001b[0;36mSAT1DataLoader.__getitem__\u001b[0;34m(self, idx)\u001b[0m\n\u001b[1;32m     83\u001b[0m \u001b[39mdef\u001b[39;00m \u001b[39m__getitem__\u001b[39m(\u001b[39mself\u001b[39m, idx):\n\u001b[1;32m     84\u001b[0m     batch \u001b[39m=\u001b[39m \u001b[39mself\u001b[39m\u001b[39m.\u001b[39mgenerator\u001b[39m.\u001b[39m\u001b[39m__getitem__\u001b[39m(idx)\n\u001b[1;32m     85\u001b[0m     batch_labels \u001b[39m=\u001b[39m np\u001b[39m.\u001b[39marray(\n\u001b[0;32m---> 86\u001b[0m         [\u001b[39mself\u001b[39;49m\u001b[39m.\u001b[39;49mcat_labels\u001b[39m.\u001b[39;49mindex(label) \u001b[39mfor\u001b[39;49;00m label \u001b[39min\u001b[39;49;00m batch\u001b[39m.\u001b[39;49mlabels]\n\u001b[1;32m     87\u001b[0m     )\n\u001b[1;32m     88\u001b[0m     batch_data \u001b[39m=\u001b[39m batch\u001b[39m.\u001b[39mdata\u001b[39m.\u001b[39mto_numpy()\u001b[39m.\u001b[39mastype(np\u001b[39m.\u001b[39mfloat32)\n\u001b[1;32m     89\u001b[0m     batch_data \u001b[39m=\u001b[39m batch_data[:, \u001b[39mNone\u001b[39;00m, :, :]\n",
      "File \u001b[0;32m/mnt/c/git/hmp-ai/pkg/hmpai/pytorch/generators.py:86\u001b[0m, in \u001b[0;36m<listcomp>\u001b[0;34m(.0)\u001b[0m\n\u001b[1;32m     83\u001b[0m \u001b[39mdef\u001b[39;00m \u001b[39m__getitem__\u001b[39m(\u001b[39mself\u001b[39m, idx):\n\u001b[1;32m     84\u001b[0m     batch \u001b[39m=\u001b[39m \u001b[39mself\u001b[39m\u001b[39m.\u001b[39mgenerator\u001b[39m.\u001b[39m\u001b[39m__getitem__\u001b[39m(idx)\n\u001b[1;32m     85\u001b[0m     batch_labels \u001b[39m=\u001b[39m np\u001b[39m.\u001b[39marray(\n\u001b[0;32m---> 86\u001b[0m         [\u001b[39mself\u001b[39;49m\u001b[39m.\u001b[39;49mcat_labels\u001b[39m.\u001b[39;49mindex(label) \u001b[39mfor\u001b[39;49;00m label \u001b[39min\u001b[39;49;00m batch\u001b[39m.\u001b[39;49mlabels]\n\u001b[1;32m     87\u001b[0m     )\n\u001b[1;32m     88\u001b[0m     batch_data \u001b[39m=\u001b[39m batch\u001b[39m.\u001b[39mdata\u001b[39m.\u001b[39mto_numpy()\u001b[39m.\u001b[39mastype(np\u001b[39m.\u001b[39mfloat32)\n\u001b[1;32m     89\u001b[0m     batch_data \u001b[39m=\u001b[39m batch_data[:, \u001b[39mNone\u001b[39;00m, :, :]\n",
      "File \u001b[0;32m~/miniconda3/envs/thesis_pytorch/lib/python3.11/site-packages/xarray/core/common.py:194\u001b[0m, in \u001b[0;36mAbstractArray._iter\u001b[0;34m(self)\u001b[0m\n\u001b[1;32m    192\u001b[0m \u001b[39mdef\u001b[39;00m \u001b[39m_iter\u001b[39m(\u001b[39mself\u001b[39m: Any) \u001b[39m-\u001b[39m\u001b[39m>\u001b[39m Iterator[Any]:\n\u001b[1;32m    193\u001b[0m     \u001b[39mfor\u001b[39;00m n \u001b[39min\u001b[39;00m \u001b[39mrange\u001b[39m(\u001b[39mlen\u001b[39m(\u001b[39mself\u001b[39m)):\n\u001b[0;32m--> 194\u001b[0m         \u001b[39myield\u001b[39;00m \u001b[39mself\u001b[39;49m[n]\n",
      "File \u001b[0;32m~/miniconda3/envs/thesis_pytorch/lib/python3.11/site-packages/xarray/core/dataarray.py:823\u001b[0m, in \u001b[0;36mDataArray.__getitem__\u001b[0;34m(self, key)\u001b[0m\n\u001b[1;32m    820\u001b[0m     \u001b[39mreturn\u001b[39;00m \u001b[39mself\u001b[39m\u001b[39m.\u001b[39m_getitem_coord(key)\n\u001b[1;32m    821\u001b[0m \u001b[39melse\u001b[39;00m:\n\u001b[1;32m    822\u001b[0m     \u001b[39m# xarray-style array indexing\u001b[39;00m\n\u001b[0;32m--> 823\u001b[0m     \u001b[39mreturn\u001b[39;00m \u001b[39mself\u001b[39;49m\u001b[39m.\u001b[39;49misel(indexers\u001b[39m=\u001b[39;49m\u001b[39mself\u001b[39;49m\u001b[39m.\u001b[39;49m_item_key_to_dict(key))\n",
      "File \u001b[0;32m~/miniconda3/envs/thesis_pytorch/lib/python3.11/site-packages/xarray/core/dataarray.py:1433\u001b[0m, in \u001b[0;36mDataArray.isel\u001b[0;34m(self, indexers, drop, missing_dims, **indexers_kwargs)\u001b[0m\n\u001b[1;32m   1429\u001b[0m coord_indexers \u001b[39m=\u001b[39m {\n\u001b[1;32m   1430\u001b[0m     k: v \u001b[39mfor\u001b[39;00m k, v \u001b[39min\u001b[39;00m indexers\u001b[39m.\u001b[39mitems() \u001b[39mif\u001b[39;00m k \u001b[39min\u001b[39;00m coord_value\u001b[39m.\u001b[39mdims\n\u001b[1;32m   1431\u001b[0m }\n\u001b[1;32m   1432\u001b[0m \u001b[39mif\u001b[39;00m coord_indexers:\n\u001b[0;32m-> 1433\u001b[0m     coord_value \u001b[39m=\u001b[39m coord_value\u001b[39m.\u001b[39;49misel(coord_indexers)\n\u001b[1;32m   1434\u001b[0m     \u001b[39mif\u001b[39;00m drop \u001b[39mand\u001b[39;00m coord_value\u001b[39m.\u001b[39mndim \u001b[39m==\u001b[39m \u001b[39m0\u001b[39m:\n\u001b[1;32m   1435\u001b[0m         \u001b[39mcontinue\u001b[39;00m\n",
      "File \u001b[0;32m~/miniconda3/envs/thesis_pytorch/lib/python3.11/site-packages/xarray/core/variable.py:1378\u001b[0m, in \u001b[0;36mVariable.isel\u001b[0;34m(self, indexers, missing_dims, **indexers_kwargs)\u001b[0m\n\u001b[1;32m   1375\u001b[0m indexers \u001b[39m=\u001b[39m drop_dims_from_indexers(indexers, \u001b[39mself\u001b[39m\u001b[39m.\u001b[39mdims, missing_dims)\n\u001b[1;32m   1377\u001b[0m key \u001b[39m=\u001b[39m \u001b[39mtuple\u001b[39m(indexers\u001b[39m.\u001b[39mget(dim, \u001b[39mslice\u001b[39m(\u001b[39mNone\u001b[39;00m)) \u001b[39mfor\u001b[39;00m dim \u001b[39min\u001b[39;00m \u001b[39mself\u001b[39m\u001b[39m.\u001b[39mdims)\n\u001b[0;32m-> 1378\u001b[0m \u001b[39mreturn\u001b[39;00m \u001b[39mself\u001b[39;49m[key]\n",
      "File \u001b[0;32m~/miniconda3/envs/thesis_pytorch/lib/python3.11/site-packages/xarray/core/variable.py:903\u001b[0m, in \u001b[0;36mVariable.__getitem__\u001b[0;34m(self, key)\u001b[0m\n\u001b[1;32m    901\u001b[0m \u001b[39mif\u001b[39;00m new_order:\n\u001b[1;32m    902\u001b[0m     data \u001b[39m=\u001b[39m np\u001b[39m.\u001b[39mmoveaxis(data, \u001b[39mrange\u001b[39m(\u001b[39mlen\u001b[39m(new_order)), new_order)\n\u001b[0;32m--> 903\u001b[0m \u001b[39mreturn\u001b[39;00m \u001b[39mself\u001b[39;49m\u001b[39m.\u001b[39;49m_finalize_indexing_result(dims, data)\n",
      "File \u001b[0;32m~/miniconda3/envs/thesis_pytorch/lib/python3.11/site-packages/xarray/core/variable.py:907\u001b[0m, in \u001b[0;36mVariable._finalize_indexing_result\u001b[0;34m(self, dims, data)\u001b[0m\n\u001b[1;32m    905\u001b[0m \u001b[39mdef\u001b[39;00m \u001b[39m_finalize_indexing_result\u001b[39m(\u001b[39mself\u001b[39m: T_Variable, dims, data) \u001b[39m-\u001b[39m\u001b[39m>\u001b[39m T_Variable:\n\u001b[1;32m    906\u001b[0m \u001b[39m    \u001b[39m\u001b[39m\"\"\"Used by IndexVariable to return IndexVariable objects when possible.\"\"\"\u001b[39;00m\n\u001b[0;32m--> 907\u001b[0m     \u001b[39mreturn\u001b[39;00m \u001b[39mself\u001b[39;49m\u001b[39m.\u001b[39;49m_replace(dims\u001b[39m=\u001b[39;49mdims, data\u001b[39m=\u001b[39;49mdata)\n",
      "File \u001b[0;32m~/miniconda3/envs/thesis_pytorch/lib/python3.11/site-packages/xarray/core/variable.py:1116\u001b[0m, in \u001b[0;36mVariable._replace\u001b[0;34m(self, dims, data, attrs, encoding)\u001b[0m\n\u001b[1;32m   1114\u001b[0m \u001b[39mif\u001b[39;00m encoding \u001b[39mis\u001b[39;00m _default:\n\u001b[1;32m   1115\u001b[0m     encoding \u001b[39m=\u001b[39m copy\u001b[39m.\u001b[39mcopy(\u001b[39mself\u001b[39m\u001b[39m.\u001b[39m_encoding)\n\u001b[0;32m-> 1116\u001b[0m \u001b[39mreturn\u001b[39;00m \u001b[39mtype\u001b[39;49m(\u001b[39mself\u001b[39;49m)(dims, data, attrs, encoding, fastpath\u001b[39m=\u001b[39;49m\u001b[39mTrue\u001b[39;49;00m)\n",
      "File \u001b[0;32m~/miniconda3/envs/thesis_pytorch/lib/python3.11/site-packages/xarray/core/variable.py:366\u001b[0m, in \u001b[0;36mVariable.__init__\u001b[0;34m(self, dims, data, attrs, encoding, fastpath)\u001b[0m\n\u001b[1;32m    346\u001b[0m \u001b[39mdef\u001b[39;00m \u001b[39m__init__\u001b[39m(\u001b[39mself\u001b[39m, dims, data, attrs\u001b[39m=\u001b[39m\u001b[39mNone\u001b[39;00m, encoding\u001b[39m=\u001b[39m\u001b[39mNone\u001b[39;00m, fastpath\u001b[39m=\u001b[39m\u001b[39mFalse\u001b[39;00m):\n\u001b[1;32m    347\u001b[0m \u001b[39m    \u001b[39m\u001b[39m\"\"\"\u001b[39;00m\n\u001b[1;32m    348\u001b[0m \u001b[39m    Parameters\u001b[39;00m\n\u001b[1;32m    349\u001b[0m \u001b[39m    ----------\u001b[39;00m\n\u001b[0;32m   (...)\u001b[0m\n\u001b[1;32m    364\u001b[0m \u001b[39m        unrecognized encoding items.\u001b[39;00m\n\u001b[1;32m    365\u001b[0m \u001b[39m    \"\"\"\u001b[39;00m\n\u001b[0;32m--> 366\u001b[0m     \u001b[39mself\u001b[39m\u001b[39m.\u001b[39m_data \u001b[39m=\u001b[39m as_compatible_data(data, fastpath\u001b[39m=\u001b[39;49mfastpath)\n\u001b[1;32m    367\u001b[0m     \u001b[39mself\u001b[39m\u001b[39m.\u001b[39m_dims \u001b[39m=\u001b[39m \u001b[39mself\u001b[39m\u001b[39m.\u001b[39m_parse_dimensions(dims)\n\u001b[1;32m    368\u001b[0m     \u001b[39mself\u001b[39m\u001b[39m.\u001b[39m_attrs \u001b[39m=\u001b[39m \u001b[39mNone\u001b[39;00m\n",
      "File \u001b[0;32m~/miniconda3/envs/thesis_pytorch/lib/python3.11/site-packages/xarray/core/variable.py:296\u001b[0m, in \u001b[0;36mas_compatible_data\u001b[0;34m(data, fastpath)\u001b[0m\n\u001b[1;32m    293\u001b[0m data \u001b[39m=\u001b[39m np\u001b[39m.\u001b[39masarray(data)\n\u001b[1;32m    295\u001b[0m \u001b[39mif\u001b[39;00m \u001b[39misinstance\u001b[39m(data, np\u001b[39m.\u001b[39mndarray) \u001b[39mand\u001b[39;00m data\u001b[39m.\u001b[39mdtype\u001b[39m.\u001b[39mkind \u001b[39min\u001b[39;00m \u001b[39m\"\u001b[39m\u001b[39mOMm\u001b[39m\u001b[39m\"\u001b[39m:\n\u001b[0;32m--> 296\u001b[0m     data \u001b[39m=\u001b[39m _possibly_convert_objects(data)\n\u001b[1;32m    297\u001b[0m \u001b[39mreturn\u001b[39;00m _maybe_wrap_data(data)\n",
      "File \u001b[0;32m~/miniconda3/envs/thesis_pytorch/lib/python3.11/site-packages/xarray/core/variable.py:223\u001b[0m, in \u001b[0;36m_possibly_convert_objects\u001b[0;34m(values)\u001b[0m\n\u001b[1;32m    211\u001b[0m \u001b[39mdef\u001b[39;00m \u001b[39m_possibly_convert_objects\u001b[39m(values):\n\u001b[1;32m    212\u001b[0m \u001b[39m    \u001b[39m\u001b[39m\"\"\"Convert arrays of datetime.datetime and datetime.timedelta objects into\u001b[39;00m\n\u001b[1;32m    213\u001b[0m \u001b[39m    datetime64 and timedelta64, according to the pandas convention. For the time\u001b[39;00m\n\u001b[1;32m    214\u001b[0m \u001b[39m    being, convert any non-nanosecond precision DatetimeIndex or TimedeltaIndex\u001b[39;00m\n\u001b[0;32m   (...)\u001b[0m\n\u001b[1;32m    221\u001b[0m \u001b[39m    if they are not.\u001b[39;00m\n\u001b[1;32m    222\u001b[0m \u001b[39m    \"\"\"\u001b[39;00m\n\u001b[0;32m--> 223\u001b[0m     as_series \u001b[39m=\u001b[39m pd\u001b[39m.\u001b[39;49mSeries(values\u001b[39m.\u001b[39;49mravel(), copy\u001b[39m=\u001b[39;49m\u001b[39mFalse\u001b[39;49;00m)\n\u001b[1;32m    224\u001b[0m     \u001b[39mif\u001b[39;00m as_series\u001b[39m.\u001b[39mdtype\u001b[39m.\u001b[39mkind \u001b[39min\u001b[39;00m \u001b[39m\"\u001b[39m\u001b[39mmM\u001b[39m\u001b[39m\"\u001b[39m:\n\u001b[1;32m    225\u001b[0m         as_series \u001b[39m=\u001b[39m _as_nanosecond_precision(as_series)\n",
      "File \u001b[0;32m~/miniconda3/envs/thesis_pytorch/lib/python3.11/site-packages/pandas/core/series.py:514\u001b[0m, in \u001b[0;36mSeries.__init__\u001b[0;34m(self, data, index, dtype, name, copy, fastpath)\u001b[0m\n\u001b[1;32m    511\u001b[0m \u001b[39melse\u001b[39;00m:\n\u001b[1;32m    512\u001b[0m     data \u001b[39m=\u001b[39m sanitize_array(data, index, dtype, copy)\n\u001b[0;32m--> 514\u001b[0m     manager \u001b[39m=\u001b[39m get_option(\u001b[39m\"\u001b[39;49m\u001b[39mmode.data_manager\u001b[39;49m\u001b[39m\"\u001b[39;49m)\n\u001b[1;32m    515\u001b[0m     \u001b[39mif\u001b[39;00m manager \u001b[39m==\u001b[39m \u001b[39m\"\u001b[39m\u001b[39mblock\u001b[39m\u001b[39m\"\u001b[39m:\n\u001b[1;32m    516\u001b[0m         data \u001b[39m=\u001b[39m SingleBlockManager\u001b[39m.\u001b[39mfrom_array(data, index, refs\u001b[39m=\u001b[39mrefs)\n",
      "File \u001b[0;32m~/miniconda3/envs/thesis_pytorch/lib/python3.11/site-packages/pandas/_config/config.py:272\u001b[0m, in \u001b[0;36mCallableDynamicDoc.__call__\u001b[0;34m(self, *args, **kwds)\u001b[0m\n\u001b[1;32m    271\u001b[0m \u001b[39mdef\u001b[39;00m \u001b[39m__call__\u001b[39m(\u001b[39mself\u001b[39m, \u001b[39m*\u001b[39margs, \u001b[39m*\u001b[39m\u001b[39m*\u001b[39mkwds) \u001b[39m-\u001b[39m\u001b[39m>\u001b[39m T:\n\u001b[0;32m--> 272\u001b[0m     \u001b[39mreturn\u001b[39;00m \u001b[39mself\u001b[39;49m\u001b[39m.\u001b[39;49m\u001b[39m__func__\u001b[39;49m(\u001b[39m*\u001b[39;49margs, \u001b[39m*\u001b[39;49m\u001b[39m*\u001b[39;49mkwds)\n",
      "File \u001b[0;32m~/miniconda3/envs/thesis_pytorch/lib/python3.11/site-packages/pandas/_config/config.py:146\u001b[0m, in \u001b[0;36m_get_option\u001b[0;34m(pat, silent)\u001b[0m\n\u001b[1;32m    145\u001b[0m \u001b[39mdef\u001b[39;00m \u001b[39m_get_option\u001b[39m(pat: \u001b[39mstr\u001b[39m, silent: \u001b[39mbool\u001b[39m \u001b[39m=\u001b[39m \u001b[39mFalse\u001b[39;00m) \u001b[39m-\u001b[39m\u001b[39m>\u001b[39m Any:\n\u001b[0;32m--> 146\u001b[0m     key \u001b[39m=\u001b[39m _get_single_key(pat, silent)\n\u001b[1;32m    148\u001b[0m     \u001b[39m# walk the nested dict\u001b[39;00m\n\u001b[1;32m    149\u001b[0m     root, k \u001b[39m=\u001b[39m _get_root(key)\n",
      "File \u001b[0;32m~/miniconda3/envs/thesis_pytorch/lib/python3.11/site-packages/pandas/_config/config.py:138\u001b[0m, in \u001b[0;36m_get_single_key\u001b[0;34m(pat, silent)\u001b[0m\n\u001b[1;32m    135\u001b[0m key \u001b[39m=\u001b[39m keys[\u001b[39m0\u001b[39m]\n\u001b[1;32m    137\u001b[0m \u001b[39mif\u001b[39;00m \u001b[39mnot\u001b[39;00m silent:\n\u001b[0;32m--> 138\u001b[0m     _warn_if_deprecated(key)\n\u001b[1;32m    140\u001b[0m key \u001b[39m=\u001b[39m _translate_key(key)\n\u001b[1;32m    142\u001b[0m \u001b[39mreturn\u001b[39;00m key\n",
      "File \u001b[0;32m~/miniconda3/envs/thesis_pytorch/lib/python3.11/site-packages/pandas/_config/config.py:686\u001b[0m, in \u001b[0;36m_warn_if_deprecated\u001b[0;34m(key)\u001b[0m\n\u001b[1;32m    682\u001b[0m     \u001b[39melse\u001b[39;00m:\n\u001b[1;32m    683\u001b[0m         \u001b[39mreturn\u001b[39;00m key\n\u001b[0;32m--> 686\u001b[0m \u001b[39mdef\u001b[39;00m \u001b[39m_warn_if_deprecated\u001b[39m(key: \u001b[39mstr\u001b[39m) \u001b[39m-\u001b[39m\u001b[39m>\u001b[39m \u001b[39mbool\u001b[39m:\n\u001b[1;32m    687\u001b[0m \u001b[39m    \u001b[39m\u001b[39m\"\"\"\u001b[39;00m\n\u001b[1;32m    688\u001b[0m \u001b[39m    Checks if `key` is a deprecated option and if so, prints a warning.\u001b[39;00m\n\u001b[1;32m    689\u001b[0m \n\u001b[0;32m   (...)\u001b[0m\n\u001b[1;32m    692\u001b[0m \u001b[39m    bool - True if `key` is deprecated, False otherwise.\u001b[39;00m\n\u001b[1;32m    693\u001b[0m \u001b[39m    \"\"\"\u001b[39;00m\n\u001b[1;32m    694\u001b[0m     d \u001b[39m=\u001b[39m _get_deprecated_option(key)\n",
      "\u001b[0;31mKeyboardInterrupt\u001b[0m: "
     ]
    }
   ],
   "source": [
    "for epoch in range(epochs):\n",
    "    batch_losses = train(model, train_loader, opt, loss)\n",
    "\n",
    "    # Shuffle data before next epoch\n",
    "    train_loader.shuffle()\n",
    "\n",
    "    val_losses, val_accuracy = validate(model, val_loader, loss)\n",
    "\n",
    "    print(\n",
    "        f\"Epoch {epoch}, loss: {np.mean(batch_losses)}, val_loss: {np.mean(val_losses)}, val_accuracy: {val_accuracy}\"\n",
    "    )"
   ]
  }
 ],
 "metadata": {
  "kernelspec": {
   "display_name": "thesis_pytorch",
   "language": "python",
   "name": "python3"
  },
  "language_info": {
   "codemirror_mode": {
    "name": "ipython",
    "version": 3
   },
   "file_extension": ".py",
   "mimetype": "text/x-python",
   "name": "python",
   "nbconvert_exporter": "python",
   "pygments_lexer": "ipython3",
   "version": "3.11.6"
  }
 },
 "nbformat": 4,
 "nbformat_minor": 2
}

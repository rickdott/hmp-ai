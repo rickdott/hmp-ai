{
 "cells": [
  {
   "cell_type": "code",
   "execution_count": 6,
   "metadata": {},
   "outputs": [
    {
     "name": "stdout",
     "output_type": "stream",
     "text": [
      "The autoreload extension is already loaded. To reload it, use:\n",
      "  %reload_ext autoreload\n"
     ]
    }
   ],
   "source": [
    "%load_ext autoreload\n",
    "%autoreload 2\n",
    "import xarray as xr\n",
    "from pathlib import Path\n",
    "from hmpai.pytorch.models import *\n",
    "from hmpai.training import split_data_on_participants\n",
    "from hmpai.pytorch.training import train, validate, calculate_class_weights, train_and_test, k_fold_cross_validate, test\n",
    "from hmpai.pytorch.utilities import DEVICE, set_global_seed, get_summary_str, save_model, load_model\n",
    "from hmpai.pytorch.generators import SAT1Dataset\n",
    "from hmpai.data import SAT1_STAGES_ACCURACY\n",
    "from hmpai.visualization import plot_confusion_matrix\n",
    "from hmpai.normalization import *\n",
    "from torchinfo import summary\n",
    "from hmpai.utilities import print_results, CHANNELS_2D, AR_SAT1_CHANNELS\n",
    "from torch.utils.data import DataLoader\n",
    "# from braindecode.models.eegconformer import EEGConformer\n",
    "from mne.io import read_info"
   ]
  },
  {
   "cell_type": "markdown",
   "metadata": {},
   "source": [
    "### Load datasets"
   ]
  },
  {
   "cell_type": "code",
   "execution_count": 2,
   "metadata": {},
   "outputs": [],
   "source": [
    "set_global_seed(42)\n",
    "# data_path = Path(\"../data/sat1/split_stage_data.nc\")\n",
    "data_path = Path(\"../data/sat1/split_stage_data_100hz.nc\")\n",
    "# data_path = Path(\"../data/ar/split_stage_data.nc\")\n",
    "# data_path = Path(\"../data/sat1/split_stage_data_unprocessed_500hz.nc\")\n",
    "\n",
    "dataset = xr.load_dataset(data_path)"
   ]
  },
  {
   "cell_type": "code",
   "execution_count": 5,
   "metadata": {},
   "outputs": [],
   "source": [
    "ar_data_path = Path(\"../data/ar/split_stage_data.nc\")\n",
    "ar_dataset = xr.load_dataset(ar_data_path)"
   ]
  },
  {
   "cell_type": "code",
   "execution_count": 61,
   "metadata": {},
   "outputs": [
    {
     "data": {
      "text/html": [
       "<div><svg style=\"position: absolute; width: 0; height: 0; overflow: hidden\">\n",
       "<defs>\n",
       "<symbol id=\"icon-database\" viewBox=\"0 0 32 32\">\n",
       "<path d=\"M16 0c-8.837 0-16 2.239-16 5v4c0 2.761 7.163 5 16 5s16-2.239 16-5v-4c0-2.761-7.163-5-16-5z\"></path>\n",
       "<path d=\"M16 17c-8.837 0-16-2.239-16-5v6c0 2.761 7.163 5 16 5s16-2.239 16-5v-6c0 2.761-7.163 5-16 5z\"></path>\n",
       "<path d=\"M16 26c-8.837 0-16-2.239-16-5v6c0 2.761 7.163 5 16 5s16-2.239 16-5v-6c0 2.761-7.163 5-16 5z\"></path>\n",
       "</symbol>\n",
       "<symbol id=\"icon-file-text2\" viewBox=\"0 0 32 32\">\n",
       "<path d=\"M28.681 7.159c-0.694-0.947-1.662-2.053-2.724-3.116s-2.169-2.030-3.116-2.724c-1.612-1.182-2.393-1.319-2.841-1.319h-15.5c-1.378 0-2.5 1.121-2.5 2.5v27c0 1.378 1.122 2.5 2.5 2.5h23c1.378 0 2.5-1.122 2.5-2.5v-19.5c0-0.448-0.137-1.23-1.319-2.841zM24.543 5.457c0.959 0.959 1.712 1.825 2.268 2.543h-4.811v-4.811c0.718 0.556 1.584 1.309 2.543 2.268zM28 29.5c0 0.271-0.229 0.5-0.5 0.5h-23c-0.271 0-0.5-0.229-0.5-0.5v-27c0-0.271 0.229-0.5 0.5-0.5 0 0 15.499-0 15.5 0v7c0 0.552 0.448 1 1 1h7v19.5z\"></path>\n",
       "<path d=\"M23 26h-14c-0.552 0-1-0.448-1-1s0.448-1 1-1h14c0.552 0 1 0.448 1 1s-0.448 1-1 1z\"></path>\n",
       "<path d=\"M23 22h-14c-0.552 0-1-0.448-1-1s0.448-1 1-1h14c0.552 0 1 0.448 1 1s-0.448 1-1 1z\"></path>\n",
       "<path d=\"M23 18h-14c-0.552 0-1-0.448-1-1s0.448-1 1-1h14c0.552 0 1 0.448 1 1s-0.448 1-1 1z\"></path>\n",
       "</symbol>\n",
       "</defs>\n",
       "</svg>\n",
       "<style>/* CSS stylesheet for displaying xarray objects in jupyterlab.\n",
       " *\n",
       " */\n",
       "\n",
       ":root {\n",
       "  --xr-font-color0: var(--jp-content-font-color0, rgba(0, 0, 0, 1));\n",
       "  --xr-font-color2: var(--jp-content-font-color2, rgba(0, 0, 0, 0.54));\n",
       "  --xr-font-color3: var(--jp-content-font-color3, rgba(0, 0, 0, 0.38));\n",
       "  --xr-border-color: var(--jp-border-color2, #e0e0e0);\n",
       "  --xr-disabled-color: var(--jp-layout-color3, #bdbdbd);\n",
       "  --xr-background-color: var(--jp-layout-color0, white);\n",
       "  --xr-background-color-row-even: var(--jp-layout-color1, white);\n",
       "  --xr-background-color-row-odd: var(--jp-layout-color2, #eeeeee);\n",
       "}\n",
       "\n",
       "html[theme=dark],\n",
       "body[data-theme=dark],\n",
       "body.vscode-dark {\n",
       "  --xr-font-color0: rgba(255, 255, 255, 1);\n",
       "  --xr-font-color2: rgba(255, 255, 255, 0.54);\n",
       "  --xr-font-color3: rgba(255, 255, 255, 0.38);\n",
       "  --xr-border-color: #1F1F1F;\n",
       "  --xr-disabled-color: #515151;\n",
       "  --xr-background-color: #111111;\n",
       "  --xr-background-color-row-even: #111111;\n",
       "  --xr-background-color-row-odd: #313131;\n",
       "}\n",
       "\n",
       ".xr-wrap {\n",
       "  display: block !important;\n",
       "  min-width: 300px;\n",
       "  max-width: 700px;\n",
       "}\n",
       "\n",
       ".xr-text-repr-fallback {\n",
       "  /* fallback to plain text repr when CSS is not injected (untrusted notebook) */\n",
       "  display: none;\n",
       "}\n",
       "\n",
       ".xr-header {\n",
       "  padding-top: 6px;\n",
       "  padding-bottom: 6px;\n",
       "  margin-bottom: 4px;\n",
       "  border-bottom: solid 1px var(--xr-border-color);\n",
       "}\n",
       "\n",
       ".xr-header > div,\n",
       ".xr-header > ul {\n",
       "  display: inline;\n",
       "  margin-top: 0;\n",
       "  margin-bottom: 0;\n",
       "}\n",
       "\n",
       ".xr-obj-type,\n",
       ".xr-array-name {\n",
       "  margin-left: 2px;\n",
       "  margin-right: 10px;\n",
       "}\n",
       "\n",
       ".xr-obj-type {\n",
       "  color: var(--xr-font-color2);\n",
       "}\n",
       "\n",
       ".xr-sections {\n",
       "  padding-left: 0 !important;\n",
       "  display: grid;\n",
       "  grid-template-columns: 150px auto auto 1fr 20px 20px;\n",
       "}\n",
       "\n",
       ".xr-section-item {\n",
       "  display: contents;\n",
       "}\n",
       "\n",
       ".xr-section-item input {\n",
       "  display: none;\n",
       "}\n",
       "\n",
       ".xr-section-item input + label {\n",
       "  color: var(--xr-disabled-color);\n",
       "}\n",
       "\n",
       ".xr-section-item input:enabled + label {\n",
       "  cursor: pointer;\n",
       "  color: var(--xr-font-color2);\n",
       "}\n",
       "\n",
       ".xr-section-item input:enabled + label:hover {\n",
       "  color: var(--xr-font-color0);\n",
       "}\n",
       "\n",
       ".xr-section-summary {\n",
       "  grid-column: 1;\n",
       "  color: var(--xr-font-color2);\n",
       "  font-weight: 500;\n",
       "}\n",
       "\n",
       ".xr-section-summary > span {\n",
       "  display: inline-block;\n",
       "  padding-left: 0.5em;\n",
       "}\n",
       "\n",
       ".xr-section-summary-in:disabled + label {\n",
       "  color: var(--xr-font-color2);\n",
       "}\n",
       "\n",
       ".xr-section-summary-in + label:before {\n",
       "  display: inline-block;\n",
       "  content: '►';\n",
       "  font-size: 11px;\n",
       "  width: 15px;\n",
       "  text-align: center;\n",
       "}\n",
       "\n",
       ".xr-section-summary-in:disabled + label:before {\n",
       "  color: var(--xr-disabled-color);\n",
       "}\n",
       "\n",
       ".xr-section-summary-in:checked + label:before {\n",
       "  content: '▼';\n",
       "}\n",
       "\n",
       ".xr-section-summary-in:checked + label > span {\n",
       "  display: none;\n",
       "}\n",
       "\n",
       ".xr-section-summary,\n",
       ".xr-section-inline-details {\n",
       "  padding-top: 4px;\n",
       "  padding-bottom: 4px;\n",
       "}\n",
       "\n",
       ".xr-section-inline-details {\n",
       "  grid-column: 2 / -1;\n",
       "}\n",
       "\n",
       ".xr-section-details {\n",
       "  display: none;\n",
       "  grid-column: 1 / -1;\n",
       "  margin-bottom: 5px;\n",
       "}\n",
       "\n",
       ".xr-section-summary-in:checked ~ .xr-section-details {\n",
       "  display: contents;\n",
       "}\n",
       "\n",
       ".xr-array-wrap {\n",
       "  grid-column: 1 / -1;\n",
       "  display: grid;\n",
       "  grid-template-columns: 20px auto;\n",
       "}\n",
       "\n",
       ".xr-array-wrap > label {\n",
       "  grid-column: 1;\n",
       "  vertical-align: top;\n",
       "}\n",
       "\n",
       ".xr-preview {\n",
       "  color: var(--xr-font-color3);\n",
       "}\n",
       "\n",
       ".xr-array-preview,\n",
       ".xr-array-data {\n",
       "  padding: 0 5px !important;\n",
       "  grid-column: 2;\n",
       "}\n",
       "\n",
       ".xr-array-data,\n",
       ".xr-array-in:checked ~ .xr-array-preview {\n",
       "  display: none;\n",
       "}\n",
       "\n",
       ".xr-array-in:checked ~ .xr-array-data,\n",
       ".xr-array-preview {\n",
       "  display: inline-block;\n",
       "}\n",
       "\n",
       ".xr-dim-list {\n",
       "  display: inline-block !important;\n",
       "  list-style: none;\n",
       "  padding: 0 !important;\n",
       "  margin: 0;\n",
       "}\n",
       "\n",
       ".xr-dim-list li {\n",
       "  display: inline-block;\n",
       "  padding: 0;\n",
       "  margin: 0;\n",
       "}\n",
       "\n",
       ".xr-dim-list:before {\n",
       "  content: '(';\n",
       "}\n",
       "\n",
       ".xr-dim-list:after {\n",
       "  content: ')';\n",
       "}\n",
       "\n",
       ".xr-dim-list li:not(:last-child):after {\n",
       "  content: ',';\n",
       "  padding-right: 5px;\n",
       "}\n",
       "\n",
       ".xr-has-index {\n",
       "  font-weight: bold;\n",
       "}\n",
       "\n",
       ".xr-var-list,\n",
       ".xr-var-item {\n",
       "  display: contents;\n",
       "}\n",
       "\n",
       ".xr-var-item > div,\n",
       ".xr-var-item label,\n",
       ".xr-var-item > .xr-var-name span {\n",
       "  background-color: var(--xr-background-color-row-even);\n",
       "  margin-bottom: 0;\n",
       "}\n",
       "\n",
       ".xr-var-item > .xr-var-name:hover span {\n",
       "  padding-right: 5px;\n",
       "}\n",
       "\n",
       ".xr-var-list > li:nth-child(odd) > div,\n",
       ".xr-var-list > li:nth-child(odd) > label,\n",
       ".xr-var-list > li:nth-child(odd) > .xr-var-name span {\n",
       "  background-color: var(--xr-background-color-row-odd);\n",
       "}\n",
       "\n",
       ".xr-var-name {\n",
       "  grid-column: 1;\n",
       "}\n",
       "\n",
       ".xr-var-dims {\n",
       "  grid-column: 2;\n",
       "}\n",
       "\n",
       ".xr-var-dtype {\n",
       "  grid-column: 3;\n",
       "  text-align: right;\n",
       "  color: var(--xr-font-color2);\n",
       "}\n",
       "\n",
       ".xr-var-preview {\n",
       "  grid-column: 4;\n",
       "}\n",
       "\n",
       ".xr-index-preview {\n",
       "  grid-column: 2 / 5;\n",
       "  color: var(--xr-font-color2);\n",
       "}\n",
       "\n",
       ".xr-var-name,\n",
       ".xr-var-dims,\n",
       ".xr-var-dtype,\n",
       ".xr-preview,\n",
       ".xr-attrs dt {\n",
       "  white-space: nowrap;\n",
       "  overflow: hidden;\n",
       "  text-overflow: ellipsis;\n",
       "  padding-right: 10px;\n",
       "}\n",
       "\n",
       ".xr-var-name:hover,\n",
       ".xr-var-dims:hover,\n",
       ".xr-var-dtype:hover,\n",
       ".xr-attrs dt:hover {\n",
       "  overflow: visible;\n",
       "  width: auto;\n",
       "  z-index: 1;\n",
       "}\n",
       "\n",
       ".xr-var-attrs,\n",
       ".xr-var-data,\n",
       ".xr-index-data {\n",
       "  display: none;\n",
       "  background-color: var(--xr-background-color) !important;\n",
       "  padding-bottom: 5px !important;\n",
       "}\n",
       "\n",
       ".xr-var-attrs-in:checked ~ .xr-var-attrs,\n",
       ".xr-var-data-in:checked ~ .xr-var-data,\n",
       ".xr-index-data-in:checked ~ .xr-index-data {\n",
       "  display: block;\n",
       "}\n",
       "\n",
       ".xr-var-data > table {\n",
       "  float: right;\n",
       "}\n",
       "\n",
       ".xr-var-name span,\n",
       ".xr-var-data,\n",
       ".xr-index-name div,\n",
       ".xr-index-data,\n",
       ".xr-attrs {\n",
       "  padding-left: 25px !important;\n",
       "}\n",
       "\n",
       ".xr-attrs,\n",
       ".xr-var-attrs,\n",
       ".xr-var-data,\n",
       ".xr-index-data {\n",
       "  grid-column: 1 / -1;\n",
       "}\n",
       "\n",
       "dl.xr-attrs {\n",
       "  padding: 0;\n",
       "  margin: 0;\n",
       "  display: grid;\n",
       "  grid-template-columns: 125px auto;\n",
       "}\n",
       "\n",
       ".xr-attrs dt,\n",
       ".xr-attrs dd {\n",
       "  padding: 0;\n",
       "  margin: 0;\n",
       "  float: left;\n",
       "  padding-right: 10px;\n",
       "  width: auto;\n",
       "}\n",
       "\n",
       ".xr-attrs dt {\n",
       "  font-weight: normal;\n",
       "  grid-column: 1;\n",
       "}\n",
       "\n",
       ".xr-attrs dt:hover span {\n",
       "  display: inline-block;\n",
       "  background: var(--xr-background-color);\n",
       "  padding-right: 10px;\n",
       "}\n",
       "\n",
       ".xr-attrs dd {\n",
       "  grid-column: 2;\n",
       "  white-space: pre-wrap;\n",
       "  word-break: break-all;\n",
       "}\n",
       "\n",
       ".xr-icon-database,\n",
       ".xr-icon-file-text2,\n",
       ".xr-no-icon {\n",
       "  display: inline-block;\n",
       "  vertical-align: middle;\n",
       "  width: 1em;\n",
       "  height: 1.5em !important;\n",
       "  stroke-width: 0;\n",
       "  stroke: currentColor;\n",
       "  fill: currentColor;\n",
       "}\n",
       "</style><pre class='xr-text-repr-fallback'>&lt;xarray.Dataset&gt;\n",
       "Dimensions:      (channels: 32, samples: 239, participant: 20, epochs: 788,\n",
       "                  labels: 6)\n",
       "Coordinates:\n",
       "  * channels     (channels) object &#x27;FP1&#x27; &#x27;FPZ&#x27; &#x27;FP2&#x27; &#x27;F7&#x27; ... &#x27;O1&#x27; &#x27;OZ&#x27; &#x27;O2&#x27;\n",
       "  * samples      (samples) int64 0 1 2 3 4 5 6 7 ... 232 233 234 235 236 237 238\n",
       "  * participant  (participant) object &#x27;AR_1&#x27; &#x27;AR_10&#x27; &#x27;AR_11&#x27; ... &#x27;AR_8&#x27; &#x27;AR_9&#x27;\n",
       "  * epochs       (epochs) int64 0 1 2 3 4 5 6 7 ... 781 782 783 784 786 787 788\n",
       "  * labels       (labels) object &#x27;decision&#x27; &#x27;encoding&#x27; ... &#x27;response&#x27;\n",
       "    cond         (participant, epochs) object &#x27;TargetFan1&#x27; &#x27;TargetFan1&#x27; ... &#x27;&#x27;\n",
       "    RT           (participant, epochs) float64 1.36e+03 1.04e+03 ... nan nan\n",
       "Data variables:\n",
       "    data         (participant, epochs, labels, channels, samples) float64 -7....</pre><div class='xr-wrap' style='display:none'><div class='xr-header'><div class='xr-obj-type'>xarray.Dataset</div></div><ul class='xr-sections'><li class='xr-section-item'><input id='section-a2b994a4-1f66-4e0b-ab92-b88ee5a12d96' class='xr-section-summary-in' type='checkbox' disabled ><label for='section-a2b994a4-1f66-4e0b-ab92-b88ee5a12d96' class='xr-section-summary'  title='Expand/collapse section'>Dimensions:</label><div class='xr-section-inline-details'><ul class='xr-dim-list'><li><span class='xr-has-index'>channels</span>: 32</li><li><span class='xr-has-index'>samples</span>: 239</li><li><span class='xr-has-index'>participant</span>: 20</li><li><span class='xr-has-index'>epochs</span>: 788</li><li><span class='xr-has-index'>labels</span>: 6</li></ul></div><div class='xr-section-details'></div></li><li class='xr-section-item'><input id='section-793cc947-8b05-4bd4-a3e9-19dc10923187' class='xr-section-summary-in' type='checkbox'  checked><label for='section-793cc947-8b05-4bd4-a3e9-19dc10923187' class='xr-section-summary' >Coordinates: <span>(7)</span></label><div class='xr-section-inline-details'></div><div class='xr-section-details'><ul class='xr-var-list'><li class='xr-var-item'><div class='xr-var-name'><span class='xr-has-index'>channels</span></div><div class='xr-var-dims'>(channels)</div><div class='xr-var-dtype'>object</div><div class='xr-var-preview xr-preview'>&#x27;FP1&#x27; &#x27;FPZ&#x27; &#x27;FP2&#x27; ... &#x27;OZ&#x27; &#x27;O2&#x27;</div><input id='attrs-9928f605-651c-482b-8233-1ee7388dcbcf' class='xr-var-attrs-in' type='checkbox' disabled><label for='attrs-9928f605-651c-482b-8233-1ee7388dcbcf' title='Show/Hide attributes'><svg class='icon xr-icon-file-text2'><use xlink:href='#icon-file-text2'></use></svg></label><input id='data-5d00d4f8-be8c-441a-9f1f-eca052d3287a' class='xr-var-data-in' type='checkbox'><label for='data-5d00d4f8-be8c-441a-9f1f-eca052d3287a' title='Show/Hide data repr'><svg class='icon xr-icon-database'><use xlink:href='#icon-database'></use></svg></label><div class='xr-var-attrs'><dl class='xr-attrs'></dl></div><div class='xr-var-data'><pre>array([&#x27;FP1&#x27;, &#x27;FPZ&#x27;, &#x27;FP2&#x27;, &#x27;F7&#x27;, &#x27;F3&#x27;, &#x27;FZ&#x27;, &#x27;F4&#x27;, &#x27;F8&#x27;, &#x27;FT7&#x27;, &#x27;FC3&#x27;, &#x27;FCZ&#x27;,\n",
       "       &#x27;FC4&#x27;, &#x27;FT8&#x27;, &#x27;T7&#x27;, &#x27;C3&#x27;, &#x27;CZ&#x27;, &#x27;C4&#x27;, &#x27;T8&#x27;, &#x27;TP7&#x27;, &#x27;CP3&#x27;, &#x27;CPZ&#x27;, &#x27;CP4&#x27;,\n",
       "       &#x27;TP8&#x27;, &#x27;P7&#x27;, &#x27;P3&#x27;, &#x27;PZ&#x27;, &#x27;P4&#x27;, &#x27;P8&#x27;, &#x27;POZ&#x27;, &#x27;O1&#x27;, &#x27;OZ&#x27;, &#x27;O2&#x27;],\n",
       "      dtype=object)</pre></div></li><li class='xr-var-item'><div class='xr-var-name'><span class='xr-has-index'>samples</span></div><div class='xr-var-dims'>(samples)</div><div class='xr-var-dtype'>int64</div><div class='xr-var-preview xr-preview'>0 1 2 3 4 5 ... 234 235 236 237 238</div><input id='attrs-cb5c2399-1ed0-4fee-b205-057e01de5158' class='xr-var-attrs-in' type='checkbox' disabled><label for='attrs-cb5c2399-1ed0-4fee-b205-057e01de5158' title='Show/Hide attributes'><svg class='icon xr-icon-file-text2'><use xlink:href='#icon-file-text2'></use></svg></label><input id='data-2c5d1be3-59be-4203-8ce9-069e058576a7' class='xr-var-data-in' type='checkbox'><label for='data-2c5d1be3-59be-4203-8ce9-069e058576a7' title='Show/Hide data repr'><svg class='icon xr-icon-database'><use xlink:href='#icon-database'></use></svg></label><div class='xr-var-attrs'><dl class='xr-attrs'></dl></div><div class='xr-var-data'><pre>array([  0,   1,   2, ..., 236, 237, 238])</pre></div></li><li class='xr-var-item'><div class='xr-var-name'><span class='xr-has-index'>participant</span></div><div class='xr-var-dims'>(participant)</div><div class='xr-var-dtype'>object</div><div class='xr-var-preview xr-preview'>&#x27;AR_1&#x27; &#x27;AR_10&#x27; ... &#x27;AR_8&#x27; &#x27;AR_9&#x27;</div><input id='attrs-b6f30de8-8b11-4745-b390-bea3e5beb8c2' class='xr-var-attrs-in' type='checkbox' disabled><label for='attrs-b6f30de8-8b11-4745-b390-bea3e5beb8c2' title='Show/Hide attributes'><svg class='icon xr-icon-file-text2'><use xlink:href='#icon-file-text2'></use></svg></label><input id='data-0481cb7b-ffca-4f4b-ba6a-0fa11c9b44e7' class='xr-var-data-in' type='checkbox'><label for='data-0481cb7b-ffca-4f4b-ba6a-0fa11c9b44e7' title='Show/Hide data repr'><svg class='icon xr-icon-database'><use xlink:href='#icon-database'></use></svg></label><div class='xr-var-attrs'><dl class='xr-attrs'></dl></div><div class='xr-var-data'><pre>array([&#x27;AR_1&#x27;, &#x27;AR_10&#x27;, &#x27;AR_11&#x27;, &#x27;AR_12&#x27;, &#x27;AR_13&#x27;, &#x27;AR_14&#x27;, &#x27;AR_15&#x27;, &#x27;AR_16&#x27;,\n",
       "       &#x27;AR_17&#x27;, &#x27;AR_18&#x27;, &#x27;AR_19&#x27;, &#x27;AR_2&#x27;, &#x27;AR_20&#x27;, &#x27;AR_3&#x27;, &#x27;AR_4&#x27;, &#x27;AR_5&#x27;,\n",
       "       &#x27;AR_6&#x27;, &#x27;AR_7&#x27;, &#x27;AR_8&#x27;, &#x27;AR_9&#x27;], dtype=object)</pre></div></li><li class='xr-var-item'><div class='xr-var-name'><span class='xr-has-index'>epochs</span></div><div class='xr-var-dims'>(epochs)</div><div class='xr-var-dtype'>int64</div><div class='xr-var-preview xr-preview'>0 1 2 3 4 5 ... 783 784 786 787 788</div><input id='attrs-2d6f2619-1c11-458f-bb33-25b7402a87da' class='xr-var-attrs-in' type='checkbox' disabled><label for='attrs-2d6f2619-1c11-458f-bb33-25b7402a87da' title='Show/Hide attributes'><svg class='icon xr-icon-file-text2'><use xlink:href='#icon-file-text2'></use></svg></label><input id='data-8a67193c-1bfd-4b4b-bcad-9f545c7572b7' class='xr-var-data-in' type='checkbox'><label for='data-8a67193c-1bfd-4b4b-bcad-9f545c7572b7' title='Show/Hide data repr'><svg class='icon xr-icon-database'><use xlink:href='#icon-database'></use></svg></label><div class='xr-var-attrs'><dl class='xr-attrs'></dl></div><div class='xr-var-data'><pre>array([  0,   1,   2, ..., 786, 787, 788])</pre></div></li><li class='xr-var-item'><div class='xr-var-name'><span class='xr-has-index'>labels</span></div><div class='xr-var-dims'>(labels)</div><div class='xr-var-dtype'>object</div><div class='xr-var-preview xr-preview'>&#x27;decision&#x27; ... &#x27;response&#x27;</div><input id='attrs-c7932665-98da-4bbe-92fc-f08d9b985d12' class='xr-var-attrs-in' type='checkbox' disabled><label for='attrs-c7932665-98da-4bbe-92fc-f08d9b985d12' title='Show/Hide attributes'><svg class='icon xr-icon-file-text2'><use xlink:href='#icon-file-text2'></use></svg></label><input id='data-43b2ffed-cb86-417c-b713-5f26c75de5ee' class='xr-var-data-in' type='checkbox'><label for='data-43b2ffed-cb86-417c-b713-5f26c75de5ee' title='Show/Hide data repr'><svg class='icon xr-icon-database'><use xlink:href='#icon-database'></use></svg></label><div class='xr-var-attrs'><dl class='xr-attrs'></dl></div><div class='xr-var-data'><pre>array([&#x27;decision&#x27;, &#x27;encoding&#x27;, &#x27;familiarity&#x27;, &#x27;memory&#x27;, &#x27;pre-attentive&#x27;,\n",
       "       &#x27;response&#x27;], dtype=object)</pre></div></li><li class='xr-var-item'><div class='xr-var-name'><span>cond</span></div><div class='xr-var-dims'>(participant, epochs)</div><div class='xr-var-dtype'>object</div><div class='xr-var-preview xr-preview'>&#x27;TargetFan1&#x27; &#x27;TargetFan1&#x27; ... &#x27;&#x27; &#x27;&#x27;</div><input id='attrs-35b9d276-6ef9-4447-bb1c-32003ee4e132' class='xr-var-attrs-in' type='checkbox' disabled><label for='attrs-35b9d276-6ef9-4447-bb1c-32003ee4e132' title='Show/Hide attributes'><svg class='icon xr-icon-file-text2'><use xlink:href='#icon-file-text2'></use></svg></label><input id='data-5b54c604-12b7-491d-8cef-9a9b61875b7a' class='xr-var-data-in' type='checkbox'><label for='data-5b54c604-12b7-491d-8cef-9a9b61875b7a' title='Show/Hide data repr'><svg class='icon xr-icon-database'><use xlink:href='#icon-database'></use></svg></label><div class='xr-var-attrs'><dl class='xr-attrs'></dl></div><div class='xr-var-data'><pre>array([[&#x27;TargetFan1&#x27;, &#x27;TargetFan1&#x27;, &#x27;TargetFan2&#x27;, ..., &#x27;&#x27;, &#x27;&#x27;, &#x27;&#x27;],\n",
       "       [&#x27;FoilFan1&#x27;, &#x27;FoilFan1&#x27;, &#x27;FoilFan1&#x27;, ..., &#x27;&#x27;, &#x27;&#x27;, &#x27;&#x27;],\n",
       "       [&#x27;TargetFan2&#x27;, &#x27;TargetFan1&#x27;, &#x27;FoilFan1&#x27;, ..., &#x27;&#x27;, &#x27;&#x27;, &#x27;&#x27;],\n",
       "       ...,\n",
       "       [&#x27;TargetFan1&#x27;, &#x27;FoilFan1&#x27;, &#x27;TargetFan2&#x27;, ..., &#x27;&#x27;, &#x27;&#x27;, &#x27;&#x27;],\n",
       "       [&#x27;FoilFan2&#x27;, &#x27;FoilFan2&#x27;, &#x27;TargetFan2&#x27;, ..., &#x27;&#x27;, &#x27;&#x27;, &#x27;&#x27;],\n",
       "       [&#x27;FoilFan1&#x27;, &#x27;TargetFan1&#x27;, &#x27;FoilFan2&#x27;, ..., &#x27;&#x27;, &#x27;&#x27;, &#x27;&#x27;]],\n",
       "      dtype=object)</pre></div></li><li class='xr-var-item'><div class='xr-var-name'><span>RT</span></div><div class='xr-var-dims'>(participant, epochs)</div><div class='xr-var-dtype'>float64</div><div class='xr-var-preview xr-preview'>1.36e+03 1.04e+03 ... nan nan</div><input id='attrs-ce5a4502-0c1e-4c9d-99b3-901e6d4bb0d0' class='xr-var-attrs-in' type='checkbox' disabled><label for='attrs-ce5a4502-0c1e-4c9d-99b3-901e6d4bb0d0' title='Show/Hide attributes'><svg class='icon xr-icon-file-text2'><use xlink:href='#icon-file-text2'></use></svg></label><input id='data-14a219e0-e6c9-4364-b4bd-c9ee69ffc10b' class='xr-var-data-in' type='checkbox'><label for='data-14a219e0-e6c9-4364-b4bd-c9ee69ffc10b' title='Show/Hide data repr'><svg class='icon xr-icon-database'><use xlink:href='#icon-database'></use></svg></label><div class='xr-var-attrs'><dl class='xr-attrs'></dl></div><div class='xr-var-data'><pre>array([[1360., 1040., 1190., ...,   nan,   nan,   nan],\n",
       "       [1160., 1190., 1040., ...,   nan,   nan,   nan],\n",
       "       [ 870.,  770., 1150., ...,   nan,   nan,   nan],\n",
       "       ...,\n",
       "       [1000., 1240., 2020., ...,   nan,   nan,   nan],\n",
       "       [1640., 1690.,  880., ...,   nan,   nan,   nan],\n",
       "       [ 760.,  730.,  830., ...,   nan,   nan,   nan]])</pre></div></li></ul></div></li><li class='xr-section-item'><input id='section-20afad70-448b-4901-be7a-c6d5324189e3' class='xr-section-summary-in' type='checkbox'  checked><label for='section-20afad70-448b-4901-be7a-c6d5324189e3' class='xr-section-summary' >Data variables: <span>(1)</span></label><div class='xr-section-inline-details'></div><div class='xr-section-details'><ul class='xr-var-list'><li class='xr-var-item'><div class='xr-var-name'><span>data</span></div><div class='xr-var-dims'>(participant, epochs, labels, channels, samples)</div><div class='xr-var-dtype'>float64</div><div class='xr-var-preview xr-preview'>-7.184 -7.732 -9.618 ... nan nan</div><input id='attrs-34770cf8-0dbb-4b15-ad66-5f0d6bcb8243' class='xr-var-attrs-in' type='checkbox' disabled><label for='attrs-34770cf8-0dbb-4b15-ad66-5f0d6bcb8243' title='Show/Hide attributes'><svg class='icon xr-icon-file-text2'><use xlink:href='#icon-file-text2'></use></svg></label><input id='data-36d25328-5684-46c6-a052-ed98bac6cdd1' class='xr-var-data-in' type='checkbox'><label for='data-36d25328-5684-46c6-a052-ed98bac6cdd1' title='Show/Hide data repr'><svg class='icon xr-icon-database'><use xlink:href='#icon-database'></use></svg></label><div class='xr-var-attrs'><dl class='xr-attrs'></dl></div><div class='xr-var-data'><pre>array([[[[[-7.18444014e+00, -7.73209810e+00, -9.61830807e+00, ...,\n",
       "                       nan,             nan,             nan],\n",
       "          [-6.03070688e+00, -5.27859354e+00, -5.94770813e+00, ...,\n",
       "                       nan,             nan,             nan],\n",
       "          [-8.40423870e+00, -8.01735497e+00, -9.27419853e+00, ...,\n",
       "                       nan,             nan,             nan],\n",
       "          ...,\n",
       "          [ 4.14291668e+00,  1.28419602e+00, -1.03229189e+00, ...,\n",
       "                       nan,             nan,             nan],\n",
       "          [ 2.60678148e+00,  1.52753639e+00, -1.08839369e+00, ...,\n",
       "                       nan,             nan,             nan],\n",
       "          [ 3.29275656e+00,  5.25928926e+00,  1.55540884e+00, ...,\n",
       "                       nan,             nan,             nan]],\n",
       "\n",
       "         [[-3.07897162e+00, -9.62313938e+00, -5.48400307e+00, ...,\n",
       "                       nan,             nan,             nan],\n",
       "          [-5.30971432e+00, -9.94973850e+00, -6.43697596e+00, ...,\n",
       "                       nan,             nan,             nan],\n",
       "          [-5.46432400e+00, -9.51656914e+00, -4.20477009e+00, ...,\n",
       "                       nan,             nan,             nan],\n",
       "...\n",
       "          [            nan,             nan,             nan, ...,\n",
       "                       nan,             nan,             nan],\n",
       "          [            nan,             nan,             nan, ...,\n",
       "                       nan,             nan,             nan],\n",
       "          [            nan,             nan,             nan, ...,\n",
       "                       nan,             nan,             nan]],\n",
       "\n",
       "         [[            nan,             nan,             nan, ...,\n",
       "                       nan,             nan,             nan],\n",
       "          [            nan,             nan,             nan, ...,\n",
       "                       nan,             nan,             nan],\n",
       "          [            nan,             nan,             nan, ...,\n",
       "                       nan,             nan,             nan],\n",
       "          ...,\n",
       "          [            nan,             nan,             nan, ...,\n",
       "                       nan,             nan,             nan],\n",
       "          [            nan,             nan,             nan, ...,\n",
       "                       nan,             nan,             nan],\n",
       "          [            nan,             nan,             nan, ...,\n",
       "                       nan,             nan,             nan]]]]])</pre></div></li></ul></div></li><li class='xr-section-item'><input id='section-38f5ae57-bb87-4bfb-93e4-5fcec1b4482e' class='xr-section-summary-in' type='checkbox'  ><label for='section-38f5ae57-bb87-4bfb-93e4-5fcec1b4482e' class='xr-section-summary' >Indexes: <span>(5)</span></label><div class='xr-section-inline-details'></div><div class='xr-section-details'><ul class='xr-var-list'><li class='xr-var-item'><div class='xr-index-name'><div>channels</div></div><div class='xr-index-preview'>PandasIndex</div><div></div><input id='index-0f9b2b8e-d37d-421b-8708-18e2e5b93177' class='xr-index-data-in' type='checkbox'/><label for='index-0f9b2b8e-d37d-421b-8708-18e2e5b93177' title='Show/Hide index repr'><svg class='icon xr-icon-database'><use xlink:href='#icon-database'></use></svg></label><div class='xr-index-data'><pre>PandasIndex(Index([&#x27;FP1&#x27;, &#x27;FPZ&#x27;, &#x27;FP2&#x27;, &#x27;F7&#x27;, &#x27;F3&#x27;, &#x27;FZ&#x27;, &#x27;F4&#x27;, &#x27;F8&#x27;, &#x27;FT7&#x27;, &#x27;FC3&#x27;, &#x27;FCZ&#x27;,\n",
       "       &#x27;FC4&#x27;, &#x27;FT8&#x27;, &#x27;T7&#x27;, &#x27;C3&#x27;, &#x27;CZ&#x27;, &#x27;C4&#x27;, &#x27;T8&#x27;, &#x27;TP7&#x27;, &#x27;CP3&#x27;, &#x27;CPZ&#x27;, &#x27;CP4&#x27;,\n",
       "       &#x27;TP8&#x27;, &#x27;P7&#x27;, &#x27;P3&#x27;, &#x27;PZ&#x27;, &#x27;P4&#x27;, &#x27;P8&#x27;, &#x27;POZ&#x27;, &#x27;O1&#x27;, &#x27;OZ&#x27;, &#x27;O2&#x27;],\n",
       "      dtype=&#x27;object&#x27;, name=&#x27;channels&#x27;))</pre></div></li><li class='xr-var-item'><div class='xr-index-name'><div>samples</div></div><div class='xr-index-preview'>PandasIndex</div><div></div><input id='index-79d6b903-baab-4776-8ea5-9172a0062a4c' class='xr-index-data-in' type='checkbox'/><label for='index-79d6b903-baab-4776-8ea5-9172a0062a4c' title='Show/Hide index repr'><svg class='icon xr-icon-database'><use xlink:href='#icon-database'></use></svg></label><div class='xr-index-data'><pre>PandasIndex(Index([  0,   1,   2,   3,   4,   5,   6,   7,   8,   9,\n",
       "       ...\n",
       "       229, 230, 231, 232, 233, 234, 235, 236, 237, 238],\n",
       "      dtype=&#x27;int64&#x27;, name=&#x27;samples&#x27;, length=239))</pre></div></li><li class='xr-var-item'><div class='xr-index-name'><div>participant</div></div><div class='xr-index-preview'>PandasIndex</div><div></div><input id='index-418d0ed5-a6a5-478b-9f69-afc3a2f1c42d' class='xr-index-data-in' type='checkbox'/><label for='index-418d0ed5-a6a5-478b-9f69-afc3a2f1c42d' title='Show/Hide index repr'><svg class='icon xr-icon-database'><use xlink:href='#icon-database'></use></svg></label><div class='xr-index-data'><pre>PandasIndex(Index([&#x27;AR_1&#x27;, &#x27;AR_10&#x27;, &#x27;AR_11&#x27;, &#x27;AR_12&#x27;, &#x27;AR_13&#x27;, &#x27;AR_14&#x27;, &#x27;AR_15&#x27;, &#x27;AR_16&#x27;,\n",
       "       &#x27;AR_17&#x27;, &#x27;AR_18&#x27;, &#x27;AR_19&#x27;, &#x27;AR_2&#x27;, &#x27;AR_20&#x27;, &#x27;AR_3&#x27;, &#x27;AR_4&#x27;, &#x27;AR_5&#x27;,\n",
       "       &#x27;AR_6&#x27;, &#x27;AR_7&#x27;, &#x27;AR_8&#x27;, &#x27;AR_9&#x27;],\n",
       "      dtype=&#x27;object&#x27;, name=&#x27;participant&#x27;))</pre></div></li><li class='xr-var-item'><div class='xr-index-name'><div>epochs</div></div><div class='xr-index-preview'>PandasIndex</div><div></div><input id='index-190b65d3-caf2-4ad8-8c01-c50367af2bcb' class='xr-index-data-in' type='checkbox'/><label for='index-190b65d3-caf2-4ad8-8c01-c50367af2bcb' title='Show/Hide index repr'><svg class='icon xr-icon-database'><use xlink:href='#icon-database'></use></svg></label><div class='xr-index-data'><pre>PandasIndex(Index([  0,   1,   2,   3,   4,   5,   6,   7,   8,   9,\n",
       "       ...\n",
       "       778, 779, 780, 781, 782, 783, 784, 786, 787, 788],\n",
       "      dtype=&#x27;int64&#x27;, name=&#x27;epochs&#x27;, length=788))</pre></div></li><li class='xr-var-item'><div class='xr-index-name'><div>labels</div></div><div class='xr-index-preview'>PandasIndex</div><div></div><input id='index-667236c6-1f5f-46fd-87bd-9c6fbbd2d6a3' class='xr-index-data-in' type='checkbox'/><label for='index-667236c6-1f5f-46fd-87bd-9c6fbbd2d6a3' title='Show/Hide index repr'><svg class='icon xr-icon-database'><use xlink:href='#icon-database'></use></svg></label><div class='xr-index-data'><pre>PandasIndex(Index([&#x27;decision&#x27;, &#x27;encoding&#x27;, &#x27;familiarity&#x27;, &#x27;memory&#x27;, &#x27;pre-attentive&#x27;,\n",
       "       &#x27;response&#x27;],\n",
       "      dtype=&#x27;object&#x27;, name=&#x27;labels&#x27;))</pre></div></li></ul></div></li><li class='xr-section-item'><input id='section-3bdaa911-de69-442d-879b-08d6cd3921ae' class='xr-section-summary-in' type='checkbox' disabled ><label for='section-3bdaa911-de69-442d-879b-08d6cd3921ae' class='xr-section-summary'  title='Expand/collapse section'>Attributes: <span>(0)</span></label><div class='xr-section-inline-details'></div><div class='xr-section-details'><dl class='xr-attrs'></dl></div></li></ul></div></div>"
      ],
      "text/plain": [
       "<xarray.Dataset>\n",
       "Dimensions:      (channels: 32, samples: 239, participant: 20, epochs: 788,\n",
       "                  labels: 6)\n",
       "Coordinates:\n",
       "  * channels     (channels) object 'FP1' 'FPZ' 'FP2' 'F7' ... 'O1' 'OZ' 'O2'\n",
       "  * samples      (samples) int64 0 1 2 3 4 5 6 7 ... 232 233 234 235 236 237 238\n",
       "  * participant  (participant) object 'AR_1' 'AR_10' 'AR_11' ... 'AR_8' 'AR_9'\n",
       "  * epochs       (epochs) int64 0 1 2 3 4 5 6 7 ... 781 782 783 784 786 787 788\n",
       "  * labels       (labels) object 'decision' 'encoding' ... 'response'\n",
       "    cond         (participant, epochs) object 'TargetFan1' 'TargetFan1' ... ''\n",
       "    RT           (participant, epochs) float64 1.36e+03 1.04e+03 ... nan nan\n",
       "Data variables:\n",
       "    data         (participant, epochs, labels, channels, samples) float64 -7...."
      ]
     },
     "execution_count": 61,
     "metadata": {},
     "output_type": "execute_result"
    }
   ],
   "source": [
    "ar_dataset"
   ]
  },
  {
   "cell_type": "code",
   "execution_count": 72,
   "metadata": {},
   "outputs": [],
   "source": [
    "channels = list(dataset.channels.to_numpy())\n",
    "channels_upper = [ch.upper() for ch in channels]\n",
    "dataset[\"channels\"] = channels_upper\n",
    "dataset = dataset.reindex({\"channels\": AR_SAT1_CHANNELS})"
   ]
  },
  {
   "cell_type": "code",
   "execution_count": 3,
   "metadata": {},
   "outputs": [],
   "source": [
    "shape_topological = False\n",
    "train_data, val_data, test_data = split_data_on_participants(\n",
    "    dataset, 60, norm_min1_to_1\n",
    ")\n",
    "train_dataset = SAT1Dataset(train_data, shape_topological=shape_topological)\n",
    "val_dataset = SAT1Dataset(val_data, shape_topological=shape_topological)\n",
    "test_dataset = SAT1Dataset(test_data, shape_topological=shape_topological)"
   ]
  },
  {
   "cell_type": "markdown",
   "metadata": {},
   "source": [
    "#### Braindecode EEGConformer"
   ]
  },
  {
   "cell_type": "code",
   "execution_count": 59,
   "metadata": {},
   "outputs": [
    {
     "name": "stderr",
     "output_type": "stream",
     "text": [
      "/home/rick/miniconda3/envs/thesis_pytorch/lib/python3.11/site-packages/braindecode/models/base.py:180: UserWarning: LogSoftmax final layer will be removed! Please adjust your loss function accordingly (e.g. CrossEntropyLoss)!\n",
      "  warnings.warn(\"LogSoftmax final layer will be removed! \" +\n"
     ]
    },
    {
     "data": {
      "application/vnd.jupyter.widget-view+json": {
       "model_id": "42bb4247cdd04920999634a1bb290630",
       "version_major": 2,
       "version_minor": 0
      },
      "text/plain": [
       "  0%|          | 0/96 [00:00<?, ? batch/s]"
      ]
     },
     "metadata": {},
     "output_type": "display_data"
    },
    {
     "data": {
      "application/vnd.jupyter.widget-view+json": {
       "model_id": "b62b195ce57d451b865b157e8e222793",
       "version_major": 2,
       "version_minor": 0
      },
      "text/plain": [
       "  0%|          | 0/96 [00:00<?, ? batch/s]"
      ]
     },
     "metadata": {},
     "output_type": "display_data"
    },
    {
     "data": {
      "application/vnd.jupyter.widget-view+json": {
       "model_id": "fdff088616e847b79a1354ada266729b",
       "version_major": 2,
       "version_minor": 0
      },
      "text/plain": [
       "  0%|          | 0/96 [00:00<?, ? batch/s]"
      ]
     },
     "metadata": {},
     "output_type": "display_data"
    },
    {
     "data": {
      "application/vnd.jupyter.widget-view+json": {
       "model_id": "f08da6c7e88d442daf12970bcc44cddd",
       "version_major": 2,
       "version_minor": 0
      },
      "text/plain": [
       "  0%|          | 0/96 [00:00<?, ? batch/s]"
      ]
     },
     "metadata": {},
     "output_type": "display_data"
    },
    {
     "data": {
      "application/vnd.jupyter.widget-view+json": {
       "model_id": "e5e956c111ba439e82acbf450fae2bb0",
       "version_major": 2,
       "version_minor": 0
      },
      "text/plain": [
       "  0%|          | 0/96 [00:00<?, ? batch/s]"
      ]
     },
     "metadata": {},
     "output_type": "display_data"
    },
    {
     "data": {
      "text/plain": [
       "{'0': {'precision': 0.44291091593475534,\n",
       "  'recall': 0.3979706877113867,\n",
       "  'f1-score': 0.4192399049881236,\n",
       "  'support': 887.0},\n",
       " '1': {'precision': 0.44686648501362397,\n",
       "  'recall': 0.5528089887640449,\n",
       "  'f1-score': 0.4942240080361627,\n",
       "  'support': 890.0},\n",
       " '2': {'precision': 0.544280442804428,\n",
       "  'recall': 0.33146067415730335,\n",
       "  'f1-score': 0.41201117318435754,\n",
       "  'support': 890.0},\n",
       " '3': {'precision': 0.6254980079681275,\n",
       "  'recall': 0.34279475982532753,\n",
       "  'f1-score': 0.4428772919605078,\n",
       "  'support': 458.0},\n",
       " '4': {'precision': 0.6314199395770392,\n",
       "  'recall': 0.9393258426966292,\n",
       "  'f1-score': 0.7551942186088526,\n",
       "  'support': 890.0},\n",
       " 'accuracy': 0.5312577833125778,\n",
       " 'macro avg': {'precision': 0.5381951582595947,\n",
       "  'recall': 0.5128721906309384,\n",
       "  'f1-score': 0.5047093193556008,\n",
       "  'support': 4015.0},\n",
       " 'weighted avg': {'precision': 0.5288728722453703,\n",
       "  'recall': 0.5312577833125778,\n",
       "  'f1-score': 0.5114260924758456,\n",
       "  'support': 4015.0}}"
      ]
     },
     "execution_count": 59,
     "metadata": {},
     "output_type": "execute_result"
    }
   ],
   "source": [
    "info_path = Path(\"../data/sat1/preprocessed/processed_0001_epo.fif\")\n",
    "positions = read_info(info_path)\n",
    "\n",
    "model = EEGConformer(\n",
    "    n_outputs=len(train_data.labels),\n",
    "    n_chans=len(train_data.channels),\n",
    "    n_times=len(train_data.samples),\n",
    "    chs_info=positions[\"chs\"],\n",
    "    sfreq=100,\n",
    "    # add_log_softmax=True,\n",
    "    n_filters_time=30,\n",
    "    filter_time_length=10,\n",
    "    pool_time_length=30,\n",
    "    pool_time_stride=6,\n",
    "    # n_filters_time=80,\n",
    "    # filter_time_length=50,\n",
    "    # pool_time_length=150,\n",
    "    # pool_time_stride=30,\n",
    "    final_fc_length=630,\n",
    ")\n",
    "train_and_test(\n",
    "    model,\n",
    "    train_dataset,\n",
    "    test_dataset,\n",
    "    val_dataset,\n",
    "    logs_path=Path(\"../logs/\"),\n",
    "    workers=4,\n",
    "    batch_size=128,\n",
    ")"
   ]
  },
  {
   "cell_type": "code",
   "execution_count": null,
   "metadata": {},
   "outputs": [],
   "source": [
    "model"
   ]
  },
  {
   "cell_type": "markdown",
   "metadata": {},
   "source": [
    "#### Transformer (single run)"
   ]
  },
  {
   "cell_type": "code",
   "execution_count": null,
   "metadata": {},
   "outputs": [],
   "source": [
    "# TODO: Look into tensor device mismatch\n",
    "model = TransformerModel(len(train_data.channels), 10, 512, 6, len(train_data.labels))\n",
    "\n",
    "train_and_test(\n",
    "    model,\n",
    "    train_dataset,\n",
    "    test_dataset,\n",
    "    val_dataset,\n",
    "    logs_path=Path(\"../logs/\"),\n",
    "    workers=4,\n",
    "    batch_size=128,\n",
    ")"
   ]
  },
  {
   "cell_type": "markdown",
   "metadata": {},
   "source": [
    "#### LSTM (Single run)"
   ]
  },
  {
   "cell_type": "code",
   "execution_count": 5,
   "metadata": {},
   "outputs": [
    {
     "name": "stderr",
     "output_type": "stream",
     "text": [
      "/home/rick/miniconda3/envs/thesis_pytorch/lib/python3.11/site-packages/torch/nn/modules/rnn.py:82: UserWarning: dropout option adds dropout after all but last recurrent layer, so non-zero dropout expects num_layers greater than 1, but got dropout=0.25 and num_layers=1\n",
      "  warnings.warn(\"dropout option adds dropout after all but last \"\n",
      "/home/rick/miniconda3/envs/thesis_pytorch/lib/python3.11/site-packages/torch/nn/modules/lazy.py:180: UserWarning: Lazy modules are a new feature under heavy development so changes to the API or functionality can happen at any moment.\n",
      "  warnings.warn('Lazy modules are a new feature under heavy development '\n"
     ]
    },
    {
     "data": {
      "application/vnd.jupyter.widget-view+json": {
       "model_id": "43895dec3e934ac5a53f7cee479bb61b",
       "version_major": 2,
       "version_minor": 0
      },
      "text/plain": [
       "  0%|          | 0/96 [00:00<?, ? batch/s]"
      ]
     },
     "metadata": {},
     "output_type": "display_data"
    },
    {
     "data": {
      "application/vnd.jupyter.widget-view+json": {
       "model_id": "450862ae688347128214c4bae1cf0bbc",
       "version_major": 2,
       "version_minor": 0
      },
      "text/plain": [
       "  0%|          | 0/96 [00:00<?, ? batch/s]"
      ]
     },
     "metadata": {},
     "output_type": "display_data"
    },
    {
     "data": {
      "application/vnd.jupyter.widget-view+json": {
       "model_id": "fbea3189c57a4981926f410299e3a320",
       "version_major": 2,
       "version_minor": 0
      },
      "text/plain": [
       "  0%|          | 0/96 [00:00<?, ? batch/s]"
      ]
     },
     "metadata": {},
     "output_type": "display_data"
    },
    {
     "data": {
      "application/vnd.jupyter.widget-view+json": {
       "model_id": "17dffceff0ca4671b1d63a81bd512e7f",
       "version_major": 2,
       "version_minor": 0
      },
      "text/plain": [
       "  0%|          | 0/96 [00:00<?, ? batch/s]"
      ]
     },
     "metadata": {},
     "output_type": "display_data"
    },
    {
     "data": {
      "application/vnd.jupyter.widget-view+json": {
       "model_id": "693b8af7dfee4588b428d16e95a8a564",
       "version_major": 2,
       "version_minor": 0
      },
      "text/plain": [
       "  0%|          | 0/96 [00:00<?, ? batch/s]"
      ]
     },
     "metadata": {},
     "output_type": "display_data"
    },
    {
     "data": {
      "application/vnd.jupyter.widget-view+json": {
       "model_id": "fe1be79d8d7842ff805b7e23a38cfe12",
       "version_major": 2,
       "version_minor": 0
      },
      "text/plain": [
       "  0%|          | 0/96 [00:00<?, ? batch/s]"
      ]
     },
     "metadata": {},
     "output_type": "display_data"
    },
    {
     "data": {
      "application/vnd.jupyter.widget-view+json": {
       "model_id": "08206f85f7e44caaaba323e2d4552387",
       "version_major": 2,
       "version_minor": 0
      },
      "text/plain": [
       "  0%|          | 0/96 [00:00<?, ? batch/s]"
      ]
     },
     "metadata": {},
     "output_type": "display_data"
    },
    {
     "data": {
      "application/vnd.jupyter.widget-view+json": {
       "model_id": "a371601dc0a4460f9855049ae92e5372",
       "version_major": 2,
       "version_minor": 0
      },
      "text/plain": [
       "  0%|          | 0/96 [00:00<?, ? batch/s]"
      ]
     },
     "metadata": {},
     "output_type": "display_data"
    },
    {
     "data": {
      "text/plain": [
       "{'0': {'precision': 0.8204081632653061,\n",
       "  'recall': 0.6798196166854565,\n",
       "  'f1-score': 0.7435265104808877,\n",
       "  'support': 887.0},\n",
       " '1': {'precision': 0.8590604026845637,\n",
       "  'recall': 0.8629213483146068,\n",
       "  'f1-score': 0.8609865470852018,\n",
       "  'support': 890.0},\n",
       " '2': {'precision': 0.8613756613756614,\n",
       "  'recall': 0.9146067415730337,\n",
       "  'f1-score': 0.8871934604904631,\n",
       "  'support': 890.0},\n",
       " '3': {'precision': 0.9044444444444445,\n",
       "  'recall': 0.888646288209607,\n",
       "  'f1-score': 0.8964757709251102,\n",
       "  'support': 458.0},\n",
       " '4': {'precision': 0.82744702320888,\n",
       "  'recall': 0.9213483146067416,\n",
       "  'f1-score': 0.8718766613503456,\n",
       "  'support': 890.0},\n",
       " 'accuracy': 0.849813200498132,\n",
       " 'macro avg': {'precision': 0.8545471389957712,\n",
       "  'recall': 0.8534684618778889,\n",
       "  'f1-score': 0.8520117900664017,\n",
       "  'support': 4015.0},\n",
       " 'weighted avg': {'precision': 0.8492038714922504,\n",
       "  'recall': 0.849813200498132,\n",
       "  'f1-score': 0.8473086807532746,\n",
       "  'support': 4015.0}}"
      ]
     },
     "execution_count": 5,
     "metadata": {},
     "output_type": "execute_result"
    }
   ],
   "source": [
    "model = SAT1GRU(\n",
    "    len(train_data.channels), len(train_data.samples), len(train_data.labels)\n",
    ")\n",
    "\n",
    "train_and_test(\n",
    "    model,\n",
    "    train_dataset,\n",
    "    test_dataset,\n",
    "    val_dataset,\n",
    "    logs_path=Path(\"../logs/\"),\n",
    "    workers=4,\n",
    "    batch_size=128,\n",
    "    labels = SAT1_STAGES_ACCURACY\n",
    ")"
   ]
  },
  {
   "cell_type": "markdown",
   "metadata": {},
   "source": [
    "#### GRU (Single run, with manual test/train selection)"
   ]
  },
  {
   "cell_type": "code",
   "execution_count": null,
   "metadata": {},
   "outputs": [],
   "source": [
    "model = SAT1GRU(len(dataset.channels), len(dataset.samples), len(dataset.labels))\n",
    "test_dataset = SAT1Dataset(dataset.sel(participant=[\"0014\"]))\n",
    "train_dataset = SAT1Dataset(\n",
    "    dataset.sel(participant=[p for p in dataset.participant.values if p != \"0014\"])\n",
    ")\n",
    "train_and_test(\n",
    "    model,\n",
    "    train_dataset,\n",
    "    test_dataset,\n",
    "    test_dataset,\n",
    "    logs_path=Path(\"../logs/\"),\n",
    "    workers=0,\n",
    "    batch_size=128,\n",
    ")"
   ]
  },
  {
   "cell_type": "markdown",
   "metadata": {},
   "source": [
    "#### CNN (Deep, for 500Hz data, single run)"
   ]
  },
  {
   "cell_type": "code",
   "execution_count": null,
   "metadata": {},
   "outputs": [],
   "source": [
    "model = SAT1Deep(\n",
    "    len(train_data.channels), len(train_data.samples), len(train_data.labels)\n",
    ")\n",
    "\n",
    "train_and_test(\n",
    "    model,\n",
    "    train_dataset,\n",
    "    test_dataset,\n",
    "    val_dataset,\n",
    "    logs_path=Path(\"../logs/\"),\n",
    "    workers=4,\n",
    ")"
   ]
  },
  {
   "cell_type": "markdown",
   "metadata": {},
   "source": [
    "#### CNN (Deep, for topological 500Hz data, single run)"
   ]
  },
  {
   "cell_type": "code",
   "execution_count": null,
   "metadata": {},
   "outputs": [],
   "source": [
    "height, width = CHANNELS_2D.shape\n",
    "model = SAT1TopologicalConv(\n",
    "    width, height, len(train_data.samples), len(train_data.labels)\n",
    ")\n",
    "train_and_test(\n",
    "    model,\n",
    "    train_dataset,\n",
    "    test_dataset,\n",
    "    val_dataset,\n",
    "    logs_path=Path(\"../logs/\"),\n",
    "    workers=4,\n",
    ")"
   ]
  },
  {
   "cell_type": "markdown",
   "metadata": {},
   "source": [
    "#### CNN K-Fold CV (Deep)"
   ]
  },
  {
   "cell_type": "code",
   "execution_count": null,
   "metadata": {},
   "outputs": [],
   "source": [
    "train_kwargs = {\"logs_path\": Path(\"../logs/\")}\n",
    "model_kwargs = {\n",
    "    \"n_channels\": len(dataset.channels),\n",
    "    \"n_samples\": len(dataset.samples),\n",
    "    \"n_classes\": len(dataset.labels),\n",
    "}\n",
    "results = k_fold_cross_validate(\n",
    "    SAT1Deep,\n",
    "    model_kwargs,\n",
    "    dataset,\n",
    "    k=25,\n",
    "    batch_size=128,\n",
    "    normalization_fn=norm_dummy,\n",
    "    train_kwargs={\n",
    "        \"logs_path\": Path(\"../logs/CNN_performance\"),\n",
    "        \"additional_name\": \"CNN_DEEP\",\n",
    "    },\n",
    ")\n",
    "print_results(results)"
   ]
  },
  {
   "cell_type": "markdown",
   "metadata": {},
   "source": [
    "#### GRU K-Fold CV"
   ]
  },
  {
   "cell_type": "code",
   "execution_count": null,
   "metadata": {},
   "outputs": [],
   "source": [
    "train_kwargs = {\"logs_path\": Path(\"../logs/\")}\n",
    "model_kwargs = {\n",
    "    \"n_channels\": len(dataset.channels),\n",
    "    \"n_samples\": len(dataset.samples),\n",
    "    \"n_classes\": len(dataset.labels),\n",
    "}\n",
    "results = k_fold_cross_validate(\n",
    "    SAT1GRU,\n",
    "    model_kwargs,\n",
    "    dataset,\n",
    "    k=25,\n",
    "    batch_size=128,\n",
    "    normalization_fn=norm_min1_to_1,\n",
    "    train_kwargs={\n",
    "        \"logs_path\": Path(\"../logs/GRU_performance\"),\n",
    "        \"additional_name\": \"GRU\",\n",
    "    },\n",
    ")\n",
    "print_results(results)"
   ]
  },
  {
   "cell_type": "markdown",
   "metadata": {},
   "source": [
    "### Examine results using confusion matrix"
   ]
  },
  {
   "cell_type": "code",
   "execution_count": 4,
   "metadata": {},
   "outputs": [
    {
     "name": "stderr",
     "output_type": "stream",
     "text": [
      "/home/rick/miniconda3/envs/thesis_pytorch/lib/python3.11/site-packages/torch/nn/modules/lazy.py:180: UserWarning: Lazy modules are a new feature under heavy development so changes to the API or functionality can happen at any moment.\n",
      "  warnings.warn('Lazy modules are a new feature under heavy development '\n"
     ]
    }
   ],
   "source": [
    "chk_path = Path(\"../models/cnn100/checkpoint.pt\")\n",
    "checkpoint = load_model(chk_path)\n",
    "\n",
    "model_kwargs = {\n",
    "    \"n_channels\": len(dataset.channels),\n",
    "    \"n_samples\": len(dataset.samples),\n",
    "    \"n_classes\": len(dataset.labels),\n",
    "}\n",
    "model = SAT1Base(**model_kwargs)\n",
    "model.load_state_dict(checkpoint[\"model_state_dict\"])\n",
    "model = model.to(DEVICE)"
   ]
  },
  {
   "cell_type": "code",
   "execution_count": 8,
   "metadata": {},
   "outputs": [],
   "source": [
    "test_loader = DataLoader(\n",
    "    test_dataset, 128, shuffle=True, num_workers=4, pin_memory=True\n",
    ")\n",
    "results, pred, true = test(model, test_loader, None)\n",
    "pred = pred.cpu()"
   ]
  },
  {
   "cell_type": "code",
   "execution_count": 9,
   "metadata": {},
   "outputs": [
    {
     "data": {
      "image/png": "[encoded data removed]",
      "text/plain": [
       "<Figure size 800x800 with 2 Axes>"
      ]
     },
     "metadata": {},
     "output_type": "display_data"
    }
   ],
   "source": [
    "plot_confusion_matrix(true, pred, SAT1_STAGES_ACCURACY)"
   ]
  }
 ],
 "metadata": {
  "kernelspec": {
   "display_name": "thesis_pytorch",
   "language": "python",
   "name": "python3"
  },
  "language_info": {
   "codemirror_mode": {
    "name": "ipython",
    "version": 3
   },
   "file_extension": ".py",
   "mimetype": "text/x-python",
   "name": "python",
   "nbconvert_exporter": "python",
   "pygments_lexer": "ipython3",
   "version": "3.11.6"
  }
 },
 "nbformat": 4,
 "nbformat_minor": 2
}

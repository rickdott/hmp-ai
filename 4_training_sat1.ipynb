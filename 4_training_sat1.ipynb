{
 "cells": [
  {
   "cell_type": "code",
   "execution_count": 1,
   "metadata": {},
   "outputs": [
    {
     "name": "stderr",
     "output_type": "stream",
     "text": [
      "2023-08-22 13:17:34.056260: I tensorflow/core/platform/cpu_feature_guard.cc:182] This TensorFlow binary is optimized to use available CPU instructions in performance-critical operations.\n",
      "To enable the following instructions: AVX2 FMA, in other operations, rebuild TensorFlow with the appropriate compiler flags.\n",
      "2023-08-22 13:17:34.871297: W tensorflow/compiler/tf2tensorrt/utils/py_utils.cc:38] TF-TRT Warning: Could not find TensorRT\n"
     ]
    },
    {
     "name": "stdout",
     "output_type": "stream",
     "text": [
      "env: TF_FORCE_GPU_ALLOW_GROWTH=true\n",
      "env: TF_GPU_ALLOCATOR=cuda_malloc_async\n"
     ]
    }
   ],
   "source": [
    "%load_ext autoreload\n",
    "%autoreload 2\n",
    "import numpy as np\n",
    "from pathlib import Path\n",
    "import xarray as xr\n",
    "import tensorflow as tf\n",
    "from shared.models import SAT1Start, ShallowConvNet, EEGNet\n",
    "from shared.generators import SAT1DataGenerator\n",
    "from shared.utilities import earlyStopping_cb\n",
    "from sklearn.metrics import classification_report\n",
    "\n",
    "%env TF_FORCE_GPU_ALLOW_GROWTH=true\n",
    "%env TF_GPU_ALLOCATOR=cuda_malloc_async"
   ]
  },
  {
   "cell_type": "markdown",
   "metadata": {},
   "source": [
    "### Set up data"
   ]
  },
  {
   "cell_type": "code",
   "execution_count": 2,
   "metadata": {},
   "outputs": [],
   "source": [
    "data_path = Path(\"data/sat1/split_stage_data.nc\")\n",
    "\n",
    "data = xr.load_dataset(data_path)"
   ]
  },
  {
   "cell_type": "code",
   "execution_count": 3,
   "metadata": {},
   "outputs": [],
   "source": [
    "train_data = data.sel(\n",
    "    participant=[\n",
    "        \"0021\",\n",
    "        \"0022\",\n",
    "        \"0023\",\n",
    "        \"0024\",\n",
    "    ]\n",
    ")\n",
    "test_data = data.sel(participant=[\"0025\"])"
   ]
  },
  {
   "cell_type": "code",
   "execution_count": 4,
   "metadata": {},
   "outputs": [],
   "source": [
    "batch_size = 32\n",
    "train_gen = SAT1DataGenerator(train_data, batch_size=batch_size)\n",
    "test_gen = SAT1DataGenerator(test_data, batch_size=batch_size)\n",
    "\n",
    "# tf.config.optimizer.set_experimental_options({\"layout_optimizer\": False})"
   ]
  },
  {
   "cell_type": "code",
   "execution_count": 11,
   "metadata": {},
   "outputs": [
    {
     "ename": "NameError",
     "evalue": "name 'model' is not defined",
     "output_type": "error",
     "traceback": [
      "\u001b[0;31m---------------------------------------------------------------------------\u001b[0m",
      "\u001b[0;31mNameError\u001b[0m                                 Traceback (most recent call last)",
      "Cell \u001b[0;32mIn[11], line 6\u001b[0m\n\u001b[1;32m      4\u001b[0m gc\u001b[39m.\u001b[39mcollect()\n\u001b[1;32m      5\u001b[0m tf\u001b[39m.\u001b[39mkeras\u001b[39m.\u001b[39mbackend\u001b[39m.\u001b[39mclear_session()\n\u001b[0;32m----> 6\u001b[0m \u001b[39mdel\u001b[39;00m model\n",
      "\u001b[0;31mNameError\u001b[0m: name 'model' is not defined"
     ]
    }
   ],
   "source": [
    "# Run before re-training to clear up VRAM\n",
    "import gc\n",
    "\n",
    "gc.collect()\n",
    "tf.keras.backend.clear_session()\n",
    "del model"
   ]
  },
  {
   "cell_type": "code",
   "execution_count": 5,
   "metadata": {},
   "outputs": [
    {
     "name": "stdout",
     "output_type": "stream",
     "text": [
      "Model: \"model\"\n",
      "_________________________________________________________________\n",
      " Layer (type)                Output Shape              Param #   \n",
      "=================================================================\n",
      " input_1 (InputLayer)        [(None, 30, 157, 1)]      0         \n",
      "                                                                 \n",
      " conv2d (Conv2D)             (None, 30, 153, 16)       96        \n",
      "                                                                 \n",
      " dropout (Dropout)           (None, 30, 153, 16)       0         \n",
      "                                                                 \n",
      " conv2d_1 (Conv2D)           (None, 26, 149, 32)       12832     \n",
      "                                                                 \n",
      " dropout_1 (Dropout)         (None, 26, 149, 32)       0         \n",
      "                                                                 \n",
      " conv2d_2 (Conv2D)           (None, 22, 149, 64)       10304     \n",
      "                                                                 \n",
      " batch_normalization (Batch  (None, 22, 149, 64)       256       \n",
      " Normalization)                                                  \n",
      "                                                                 \n",
      " average_pooling2d (Average  (None, 22, 73, 64)        0         \n",
      " Pooling2D)                                                      \n",
      "                                                                 \n",
      " dropout_2 (Dropout)         (None, 22, 73, 64)        0         \n",
      "                                                                 \n",
      " flatten (Flatten)           (None, 102784)            0         \n",
      "                                                                 \n",
      " dense (Dense)               (None, 4)                 411140    \n",
      "                                                                 \n",
      "=================================================================\n",
      "Total params: 434628 (1.66 MB)\n",
      "Trainable params: 434500 (1.66 MB)\n",
      "Non-trainable params: 128 (512.00 Byte)\n",
      "_________________________________________________________________\n"
     ]
    },
    {
     "name": "stderr",
     "output_type": "stream",
     "text": [
      "2023-08-22 13:17:50.336489: I tensorflow/compiler/xla/stream_executor/cuda/cuda_gpu_executor.cc:981] could not open file to read NUMA node: /sys/bus/pci/devices/0000:07:00.0/numa_node\n",
      "Your kernel may have been built without NUMA support.\n",
      "2023-08-22 13:17:50.435901: I tensorflow/compiler/xla/stream_executor/cuda/cuda_gpu_executor.cc:981] could not open file to read NUMA node: /sys/bus/pci/devices/0000:07:00.0/numa_node\n",
      "Your kernel may have been built without NUMA support.\n",
      "2023-08-22 13:17:50.435983: I tensorflow/compiler/xla/stream_executor/cuda/cuda_gpu_executor.cc:981] could not open file to read NUMA node: /sys/bus/pci/devices/0000:07:00.0/numa_node\n",
      "Your kernel may have been built without NUMA support.\n",
      "2023-08-22 13:17:50.439112: I tensorflow/compiler/xla/stream_executor/cuda/cuda_gpu_executor.cc:981] could not open file to read NUMA node: /sys/bus/pci/devices/0000:07:00.0/numa_node\n",
      "Your kernel may have been built without NUMA support.\n",
      "2023-08-22 13:17:50.439171: I tensorflow/compiler/xla/stream_executor/cuda/cuda_gpu_executor.cc:981] could not open file to read NUMA node: /sys/bus/pci/devices/0000:07:00.0/numa_node\n",
      "Your kernel may have been built without NUMA support.\n",
      "2023-08-22 13:17:50.439214: I tensorflow/compiler/xla/stream_executor/cuda/cuda_gpu_executor.cc:981] could not open file to read NUMA node: /sys/bus/pci/devices/0000:07:00.0/numa_node\n",
      "Your kernel may have been built without NUMA support.\n",
      "2023-08-22 13:17:51.227428: I tensorflow/compiler/xla/stream_executor/cuda/cuda_gpu_executor.cc:981] could not open file to read NUMA node: /sys/bus/pci/devices/0000:07:00.0/numa_node\n",
      "Your kernel may have been built without NUMA support.\n",
      "2023-08-22 13:17:51.227508: I tensorflow/compiler/xla/stream_executor/cuda/cuda_gpu_executor.cc:981] could not open file to read NUMA node: /sys/bus/pci/devices/0000:07:00.0/numa_node\n",
      "Your kernel may have been built without NUMA support.\n",
      "2023-08-22 13:17:51.227517: I tensorflow/core/common_runtime/gpu/gpu_device.cc:1726] Could not identify NUMA node of platform GPU id 0, defaulting to 0.  Your kernel may not have been built with NUMA support.\n",
      "2023-08-22 13:17:51.227565: I tensorflow/compiler/xla/stream_executor/cuda/cuda_gpu_executor.cc:981] could not open file to read NUMA node: /sys/bus/pci/devices/0000:07:00.0/numa_node\n",
      "Your kernel may have been built without NUMA support.\n",
      "2023-08-22 13:17:51.227575: W tensorflow/core/common_runtime/gpu/gpu_bfc_allocator.cc:47] Overriding orig_value setting because the TF_FORCE_GPU_ALLOW_GROWTH environment variable is set. Original config value was 0.\n",
      "2023-08-22 13:17:51.227581: I tensorflow/core/common_runtime/gpu/gpu_process_state.cc:227] Using CUDA malloc Async allocator for GPU: 0\n",
      "2023-08-22 13:17:51.227698: I tensorflow/core/common_runtime/gpu/gpu_device.cc:1639] Created device /job:localhost/replica:0/task:0/device:GPU:0 with 21597 MB memory:  -> device: 0, name: NVIDIA GeForce RTX 3090, pci bus id: 0000:07:00.0, compute capability: 8.6\n"
     ]
    }
   ],
   "source": [
    "model = SAT1Start(30, 157, 4)\n",
    "model.compile(\n",
    "    optimizer=tf.keras.optimizers.Adam(learning_rate=0.0001),\n",
    "    loss=tf.keras.losses.SparseCategoricalCrossentropy(),\n",
    "    metrics=[\"accuracy\"],\n",
    ")\n",
    "model.summary()"
   ]
  },
  {
   "cell_type": "code",
   "execution_count": 6,
   "metadata": {},
   "outputs": [
    {
     "name": "stdout",
     "output_type": "stream",
     "text": [
      "Epoch 1/20\n"
     ]
    },
    {
     "name": "stderr",
     "output_type": "stream",
     "text": [
      "2023-08-22 13:17:55.858466: E tensorflow/core/grappler/optimizers/meta_optimizer.cc:954] layout failed: INVALID_ARGUMENT: Size of values 0 does not match size of permutation 4 @ fanin shape inmodel/dropout/dropout/SelectV2-2-TransposeNHWCToNCHW-LayoutOptimizer\n",
      "2023-08-22 13:17:58.049042: I tensorflow/compiler/xla/stream_executor/cuda/cuda_dnn.cc:432] Loaded cuDNN version 8600\n",
      "2023-08-22 13:17:59.209554: I tensorflow/tsl/platform/default/subprocess.cc:304] Start cannot spawn child process: No such file or directory\n",
      "2023-08-22 13:17:59.623673: I tensorflow/compiler/xla/stream_executor/cuda/cuda_blas.cc:606] TensorFloat-32 will be used for the matrix multiplication. This will only be logged once.\n",
      "2023-08-22 13:17:59.633651: I tensorflow/compiler/xla/service/service.cc:168] XLA service 0x7fd664043750 initialized for platform CUDA (this does not guarantee that XLA will be used). Devices:\n",
      "2023-08-22 13:17:59.633677: I tensorflow/compiler/xla/service/service.cc:176]   StreamExecutor device (0): NVIDIA GeForce RTX 3090, Compute Capability 8.6\n",
      "2023-08-22 13:17:59.657431: I tensorflow/compiler/mlir/tensorflow/utils/dump_mlir_util.cc:255] disabling MLIR crash reproducer, set env var `MLIR_CRASH_REPRODUCER_DIRECTORY` to enable.\n",
      "2023-08-22 13:17:59.807823: I tensorflow/tsl/platform/default/subprocess.cc:304] Start cannot spawn child process: No such file or directory\n",
      "2023-08-22 13:17:59.868069: I ./tensorflow/compiler/jit/device_compiler.h:186] Compiled cluster using XLA!  This line is logged at most once for the lifetime of the process.\n"
     ]
    },
    {
     "name": "stdout",
     "output_type": "stream",
     "text": [
      "100/100 [==============================] - 118s 1s/step - loss: 1.5412 - accuracy: 0.2584 - val_loss: 1.4398 - val_accuracy: 0.2500\n",
      "Epoch 2/20\n",
      "100/100 [==============================] - 114s 1s/step - loss: 1.5036 - accuracy: 0.2844 - val_loss: 1.4643 - val_accuracy: 0.2688\n",
      "Epoch 3/20\n",
      "100/100 [==============================] - 115s 1s/step - loss: 1.4865 - accuracy: 0.2941 - val_loss: 1.5363 - val_accuracy: 0.2500\n",
      "Epoch 4/20\n",
      "100/100 [==============================] - 113s 1s/step - loss: 1.4356 - accuracy: 0.3200 - val_loss: 1.6311 - val_accuracy: 0.2500\n",
      "Epoch 5/20\n",
      "100/100 [==============================] - 115s 1s/step - loss: 1.4058 - accuracy: 0.3459 - val_loss: 1.6917 - val_accuracy: 0.2575\n",
      "Epoch 6/20\n",
      "100/100 [==============================] - 113s 1s/step - loss: 1.3562 - accuracy: 0.3716 - val_loss: 1.9300 - val_accuracy: 0.2575\n",
      "Epoch 7/20\n",
      "100/100 [==============================] - 116s 1s/step - loss: 1.3139 - accuracy: 0.3925 - val_loss: 2.4698 - val_accuracy: 0.2575\n",
      "Epoch 8/20\n",
      "100/100 [==============================] - 115s 1s/step - loss: 1.2470 - accuracy: 0.4194 - val_loss: 2.6266 - val_accuracy: 0.2725\n",
      "Epoch 9/20\n",
      "100/100 [==============================] - 116s 1s/step - loss: 1.2310 - accuracy: 0.4313 - val_loss: 2.7909 - val_accuracy: 0.2812\n",
      "Epoch 10/20\n",
      " 96/100 [===========================>..] - ETA: 3s - loss: 1.1527 - accuracy: 0.4730"
     ]
    }
   ],
   "source": [
    "model.fit(\n",
    "    train_gen,\n",
    "    epochs=20,\n",
    "    # TODO: Create val_gen (use 6th participant?)\n",
    "    validation_data=test_gen,\n",
    "    batch_size=batch_size,\n",
    ")"
   ]
  }
 ],
 "metadata": {
  "kernelspec": {
   "display_name": "thesis",
   "language": "python",
   "name": "python3"
  },
  "language_info": {
   "codemirror_mode": {
    "name": "ipython",
    "version": 3
   },
   "file_extension": ".py",
   "mimetype": "text/x-python",
   "name": "python",
   "nbconvert_exporter": "python",
   "pygments_lexer": "ipython3",
   "version": "3.11.3"
  },
  "orig_nbformat": 4
 },
 "nbformat": 4,
 "nbformat_minor": 2
}

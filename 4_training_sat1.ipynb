{
 "cells": [
  {
   "cell_type": "code",
   "execution_count": 1,
   "metadata": {},
   "outputs": [
    {
     "name": "stderr",
     "output_type": "stream",
     "text": [
      "2023-09-25 14:13:44.271513: I tensorflow/core/platform/cpu_feature_guard.cc:182] This TensorFlow binary is optimized to use available CPU instructions in performance-critical operations.\n",
      "To enable the following instructions: AVX2 FMA, in other operations, rebuild TensorFlow with the appropriate compiler flags.\n",
      "2023-09-25 14:13:45.109488: W tensorflow/compiler/tf2tensorrt/utils/py_utils.cc:38] TF-TRT Warning: Could not find TensorRT\n"
     ]
    },
    {
     "name": "stdout",
     "output_type": "stream",
     "text": [
      "env: TF_FORCE_GPU_ALLOW_GROWTH=true\n",
      "env: TF_GPU_ALLOCATOR=cuda_malloc_async\n"
     ]
    }
   ],
   "source": [
    "%load_ext autoreload\n",
    "%autoreload 2\n",
    "import numpy as np\n",
    "from pathlib import Path\n",
    "import xarray as xr\n",
    "import tensorflow as tf\n",
    "from shared.models import *\n",
    "from shared.utilities import *\n",
    "from shared.training import train_and_evaluate, split_data_on_participants, k_fold_cross_validate\n",
    "from shared.normalization import *\n",
    "from shared.generators import *\n",
    "%env TF_FORCE_GPU_ALLOW_GROWTH=true\n",
    "%env TF_GPU_ALLOCATOR=cuda_malloc_async"
   ]
  },
  {
   "cell_type": "markdown",
   "metadata": {},
   "source": [
    "### Set up data"
   ]
  },
  {
   "cell_type": "code",
   "execution_count": 2,
   "metadata": {},
   "outputs": [],
   "source": [
    "data_path = Path(\"data/sat1/split_stage_data.nc\")\n",
    "\n",
    "data = xr.load_dataset(data_path)"
   ]
  },
  {
   "cell_type": "code",
   "execution_count": 2,
   "metadata": {},
   "outputs": [],
   "source": [
    "data_path = Path(\"data/sat1/split_stage_data_unprocessed_500hz.nc\")\n",
    "\n",
    "data = xr.load_dataset(data_path)"
   ]
  },
  {
   "cell_type": "code",
   "execution_count": 3,
   "metadata": {},
   "outputs": [],
   "source": [
    "train_data, val_data, test_data = split_data_on_participants(data, 60, norm_dummy)"
   ]
  },
  {
   "cell_type": "code",
   "execution_count": 4,
   "metadata": {},
   "outputs": [
    {
     "name": "stderr",
     "output_type": "stream",
     "text": [
      "2023-09-25 14:13:55.562065: I tensorflow/compiler/xla/stream_executor/cuda/cuda_gpu_executor.cc:981] could not open file to read NUMA node: /sys/bus/pci/devices/0000:07:00.0/numa_node\n",
      "Your kernel may have been built without NUMA support.\n",
      "2023-09-25 14:13:55.676804: I tensorflow/compiler/xla/stream_executor/cuda/cuda_gpu_executor.cc:981] could not open file to read NUMA node: /sys/bus/pci/devices/0000:07:00.0/numa_node\n",
      "Your kernel may have been built without NUMA support.\n",
      "2023-09-25 14:13:55.676875: I tensorflow/compiler/xla/stream_executor/cuda/cuda_gpu_executor.cc:981] could not open file to read NUMA node: /sys/bus/pci/devices/0000:07:00.0/numa_node\n",
      "Your kernel may have been built without NUMA support.\n",
      "2023-09-25 14:13:55.684773: I tensorflow/compiler/xla/stream_executor/cuda/cuda_gpu_executor.cc:981] could not open file to read NUMA node: /sys/bus/pci/devices/0000:07:00.0/numa_node\n",
      "Your kernel may have been built without NUMA support.\n",
      "2023-09-25 14:13:55.684828: I tensorflow/compiler/xla/stream_executor/cuda/cuda_gpu_executor.cc:981] could not open file to read NUMA node: /sys/bus/pci/devices/0000:07:00.0/numa_node\n",
      "Your kernel may have been built without NUMA support.\n",
      "2023-09-25 14:13:55.684870: I tensorflow/compiler/xla/stream_executor/cuda/cuda_gpu_executor.cc:981] could not open file to read NUMA node: /sys/bus/pci/devices/0000:07:00.0/numa_node\n",
      "Your kernel may have been built without NUMA support.\n",
      "2023-09-25 14:13:56.505738: I tensorflow/compiler/xla/stream_executor/cuda/cuda_gpu_executor.cc:981] could not open file to read NUMA node: /sys/bus/pci/devices/0000:07:00.0/numa_node\n",
      "Your kernel may have been built without NUMA support.\n",
      "2023-09-25 14:13:56.505811: I tensorflow/compiler/xla/stream_executor/cuda/cuda_gpu_executor.cc:981] could not open file to read NUMA node: /sys/bus/pci/devices/0000:07:00.0/numa_node\n",
      "Your kernel may have been built without NUMA support.\n",
      "2023-09-25 14:13:56.505819: I tensorflow/core/common_runtime/gpu/gpu_device.cc:1726] Could not identify NUMA node of platform GPU id 0, defaulting to 0.  Your kernel may not have been built with NUMA support.\n",
      "2023-09-25 14:13:56.505864: I tensorflow/compiler/xla/stream_executor/cuda/cuda_gpu_executor.cc:981] could not open file to read NUMA node: /sys/bus/pci/devices/0000:07:00.0/numa_node\n",
      "Your kernel may have been built without NUMA support.\n",
      "2023-09-25 14:13:56.505874: W tensorflow/core/common_runtime/gpu/gpu_bfc_allocator.cc:47] Overriding orig_value setting because the TF_FORCE_GPU_ALLOW_GROWTH environment variable is set. Original config value was 0.\n",
      "2023-09-25 14:13:56.505879: I tensorflow/core/common_runtime/gpu/gpu_process_state.cc:227] Using CUDA malloc Async allocator for GPU: 0\n",
      "2023-09-25 14:13:56.505991: I tensorflow/core/common_runtime/gpu/gpu_device.cc:1639] Created device /job:localhost/replica:0/task:0/device:GPU:0 with 21598 MB memory:  -> device: 0, name: NVIDIA GeForce RTX 3090, pci bus id: 0000:07:00.0, compute capability: 8.6\n"
     ]
    }
   ],
   "source": [
    "model = SAT1Deep(len(data.channels), len(data.samples), len(data.labels))\n",
    "model.compile(\n",
    "    optimizer=tf.keras.optimizers.Adam(learning_rate=0.00001),\n",
    "    loss=tf.keras.losses.SparseCategoricalCrossentropy(),\n",
    "    metrics=[\"accuracy\"],\n",
    ")"
   ]
  },
  {
   "cell_type": "code",
   "execution_count": null,
   "metadata": {},
   "outputs": [],
   "source": [
    "model = SAT1Topological(8, 5, len(data.samples), len(data.labels))\n",
    "model.compile(\n",
    "    optimizer=tf.keras.optimizers.Adam(learning_rate=0.0001),\n",
    "    loss=tf.keras.losses.SparseCategoricalCrossentropy(),\n",
    "    metrics=[\"accuracy\"],\n",
    ")"
   ]
  },
  {
   "cell_type": "code",
   "execution_count": null,
   "metadata": {},
   "outputs": [],
   "source": [
    "model = SAT1Base(len(data.channels), len(data.samples), len(data.labels))\n",
    "model.compile(\n",
    "    optimizer=tf.keras.optimizers.Adam(learning_rate=0.0001),\n",
    "    loss=tf.keras.losses.SparseCategoricalCrossentropy(),\n",
    "    metrics=[\"accuracy\"],\n",
    ")"
   ]
  },
  {
   "cell_type": "code",
   "execution_count": 5,
   "metadata": {},
   "outputs": [
    {
     "name": "stdout",
     "output_type": "stream",
     "text": [
      "Epoch 1/20\n"
     ]
    },
    {
     "name": "stderr",
     "output_type": "stream",
     "text": [
      "2023-09-25 14:14:04.555781: E tensorflow/core/grappler/optimizers/meta_optimizer.cc:954] layout failed: INVALID_ARGUMENT: Size of values 0 does not match size of permutation 4 @ fanin shape inmodel/dropout/dropout/SelectV2-2-TransposeNHWCToNCHW-LayoutOptimizer\n",
      "2023-09-25 14:14:06.138556: I tensorflow/compiler/xla/stream_executor/cuda/cuda_dnn.cc:432] Loaded cuDNN version 8600\n",
      "2023-09-25 14:14:07.893634: I tensorflow/compiler/xla/stream_executor/cuda/cuda_blas.cc:606] TensorFloat-32 will be used for the matrix multiplication. This will only be logged once.\n",
      "2023-09-25 14:14:07.905609: I tensorflow/compiler/xla/service/service.cc:168] XLA service 0x55e583071eb0 initialized for platform CUDA (this does not guarantee that XLA will be used). Devices:\n",
      "2023-09-25 14:14:07.905638: I tensorflow/compiler/xla/service/service.cc:176]   StreamExecutor device (0): NVIDIA GeForce RTX 3090, Compute Capability 8.6\n",
      "2023-09-25 14:14:07.929372: I tensorflow/compiler/mlir/tensorflow/utils/dump_mlir_util.cc:255] disabling MLIR crash reproducer, set env var `MLIR_CRASH_REPRODUCER_DIRECTORY` to enable.\n",
      "2023-09-25 14:14:08.101141: I ./tensorflow/compiler/jit/device_compiler.h:186] Compiled cluster using XLA!  This line is logged at most once for the lifetime of the process.\n"
     ]
    },
    {
     "name": "stdout",
     "output_type": "stream",
     "text": [
      "  6/765 [..............................] - ETA: 35s - loss: 1.5736 - accuracy: 0.2500  WARNING:tensorflow:Callback method `on_train_batch_end` is slow compared to the batch time (batch time: 0.0184s vs `on_train_batch_end` time: 0.0260s). Check your callbacks.\n",
      "765/765 [==============================] - 51s 57ms/step - loss: 1.0940 - accuracy: 0.5476 - val_loss: 0.8736 - val_accuracy: 0.6689\n",
      "Epoch 2/20\n",
      "765/765 [==============================] - 43s 56ms/step - loss: 0.7812 - accuracy: 0.7088 - val_loss: 0.6974 - val_accuracy: 0.7321\n",
      "Epoch 3/20\n",
      "765/765 [==============================] - 44s 57ms/step - loss: 0.6176 - accuracy: 0.7712 - val_loss: 0.5721 - val_accuracy: 0.7908\n",
      "Epoch 4/20\n",
      "765/765 [==============================] - 44s 57ms/step - loss: 0.5358 - accuracy: 0.7940 - val_loss: 0.5213 - val_accuracy: 0.8117\n",
      "Epoch 5/20\n",
      "765/765 [==============================] - 44s 57ms/step - loss: 0.4894 - accuracy: 0.8139 - val_loss: 0.5025 - val_accuracy: 0.8145\n",
      "Epoch 6/20\n",
      "765/765 [==============================] - 44s 57ms/step - loss: 0.4524 - accuracy: 0.8311 - val_loss: 0.4619 - val_accuracy: 0.8284\n",
      "Epoch 7/20\n",
      "765/765 [==============================] - 44s 57ms/step - loss: 0.4232 - accuracy: 0.8441 - val_loss: 0.4463 - val_accuracy: 0.8385\n",
      "Epoch 8/20\n",
      "765/765 [==============================] - 44s 57ms/step - loss: 0.3985 - accuracy: 0.8538 - val_loss: 0.4249 - val_accuracy: 0.8468\n",
      "Epoch 9/20\n",
      "765/765 [==============================] - 44s 57ms/step - loss: 0.3805 - accuracy: 0.8599 - val_loss: 0.4312 - val_accuracy: 0.8420\n",
      "Epoch 10/20\n",
      "765/765 [==============================] - 44s 57ms/step - loss: 0.3571 - accuracy: 0.8689 - val_loss: 0.4164 - val_accuracy: 0.8475\n",
      "Epoch 11/20\n",
      "765/765 [==============================] - 44s 57ms/step - loss: 0.3350 - accuracy: 0.8792 - val_loss: 0.3848 - val_accuracy: 0.8574\n",
      "Epoch 12/20\n",
      "765/765 [==============================] - 44s 57ms/step - loss: 0.3210 - accuracy: 0.8801 - val_loss: 0.3819 - val_accuracy: 0.8647\n",
      "Epoch 13/20\n",
      "765/765 [==============================] - 44s 57ms/step - loss: 0.3169 - accuracy: 0.8841 - val_loss: 0.3855 - val_accuracy: 0.8654\n",
      "Epoch 14/20\n",
      "765/765 [==============================] - 44s 57ms/step - loss: 0.2952 - accuracy: 0.8940 - val_loss: 0.3750 - val_accuracy: 0.8684\n",
      "Epoch 15/20\n",
      "765/765 [==============================] - 44s 57ms/step - loss: 0.2795 - accuracy: 0.8988 - val_loss: 0.3700 - val_accuracy: 0.8690\n",
      "Epoch 16/20\n",
      "765/765 [==============================] - 44s 57ms/step - loss: 0.2735 - accuracy: 0.8992 - val_loss: 0.3890 - val_accuracy: 0.8649\n",
      "Epoch 17/20\n",
      "765/765 [==============================] - 44s 57ms/step - loss: 0.2667 - accuracy: 0.9025 - val_loss: 0.3710 - val_accuracy: 0.8727\n",
      "Epoch 18/20\n",
      "765/765 [==============================] - 45s 58ms/step - loss: 0.2492 - accuracy: 0.9092 - val_loss: 0.3588 - val_accuracy: 0.8760\n",
      "Epoch 19/20\n",
      "765/765 [==============================] - 44s 57ms/step - loss: 0.2478 - accuracy: 0.9114 - val_loss: 0.3731 - val_accuracy: 0.8710\n",
      "Epoch 20/20\n",
      "765/765 [==============================] - 46s 59ms/step - loss: 0.2426 - accuracy: 0.9117 - val_loss: 0.3700 - val_accuracy: 0.8732\n",
      "247/247 [==============================] - 3s 13ms/step\n"
     ]
    },
    {
     "data": {
      "text/plain": [
       "(<keras.src.callbacks.History at 0x7fbe31621dd0>, None)"
      ]
     },
     "execution_count": 5,
     "metadata": {},
     "output_type": "execute_result"
    }
   ],
   "source": [
    "train_and_evaluate(\n",
    "    model, train_data, val_data, test_data, epochs=20, logs_path=Path(\"logs/\")\n",
    ")"
   ]
  },
  {
   "cell_type": "code",
   "execution_count": 13,
   "metadata": {},
   "outputs": [],
   "source": [
    "# Run before re-training to clear up VRAM\n",
    "import gc\n",
    "\n",
    "gc.collect()\n",
    "tf.keras.backend.clear_session()\n",
    "del model"
   ]
  },
  {
   "cell_type": "code",
   "execution_count": 5,
   "metadata": {},
   "outputs": [
    {
     "name": "stdout",
     "output_type": "stream",
     "text": [
      "Model: \"model\"\n",
      "_________________________________________________________________\n",
      " Layer (type)                Output Shape              Param #   \n",
      "=================================================================\n",
      " input_1 (InputLayer)        [(None, 30, 147, 1)]      0         \n",
      "                                                                 \n",
      " conv2d (Conv2D)             (None, 30, 143, 64)       384       \n",
      "                                                                 \n",
      " max_pooling2d (MaxPooling2  (None, 30, 71, 64)        0         \n",
      " D)                                                              \n",
      "                                                                 \n",
      " conv2d_1 (Conv2D)           (None, 30, 69, 128)       24704     \n",
      "                                                                 \n",
      " max_pooling2d_1 (MaxPoolin  (None, 30, 34, 128)       0         \n",
      " g2D)                                                            \n",
      "                                                                 \n",
      " conv2d_2 (Conv2D)           (None, 30, 32, 256)       98560     \n",
      "                                                                 \n",
      " max_pooling2d_2 (MaxPoolin  (None, 30, 16, 256)       0         \n",
      " g2D)                                                            \n",
      "                                                                 \n",
      " flatten (Flatten)           (None, 122880)            0         \n",
      "                                                                 \n",
      " dense (Dense)               (None, 128)               15728768  \n",
      "                                                                 \n",
      " dropout (Dropout)           (None, 128)               0         \n",
      "                                                                 \n",
      " dense_1 (Dense)             (None, 4)                 516       \n",
      "                                                                 \n",
      "=================================================================\n",
      "Total params: 15852932 (60.47 MB)\n",
      "Trainable params: 15852932 (60.47 MB)\n",
      "Non-trainable params: 0 (0.00 Byte)\n",
      "_________________________________________________________________\n"
     ]
    }
   ],
   "source": [
    "model.summary()"
   ]
  }
 ],
 "metadata": {
  "kernelspec": {
   "display_name": "thesis",
   "language": "python",
   "name": "python3"
  },
  "language_info": {
   "codemirror_mode": {
    "name": "ipython",
    "version": 3
   },
   "file_extension": ".py",
   "mimetype": "text/x-python",
   "name": "python",
   "nbconvert_exporter": "python",
   "pygments_lexer": "ipython3",
   "version": "3.11.3"
  },
  "orig_nbformat": 4
 },
 "nbformat": 4,
 "nbformat_minor": 2
}

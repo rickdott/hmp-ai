{
 "cells": [
  {
   "cell_type": "code",
   "execution_count": 1,
   "metadata": {},
   "outputs": [
    {
     "name": "stderr",
     "output_type": "stream",
     "text": [
      "2023-08-24 13:08:23.199908: I tensorflow/core/platform/cpu_feature_guard.cc:182] This TensorFlow binary is optimized to use available CPU instructions in performance-critical operations.\n",
      "To enable the following instructions: AVX2 FMA, in other operations, rebuild TensorFlow with the appropriate compiler flags.\n",
      "2023-08-24 13:08:23.732377: W tensorflow/compiler/tf2tensorrt/utils/py_utils.cc:38] TF-TRT Warning: Could not find TensorRT\n"
     ]
    },
    {
     "name": "stdout",
     "output_type": "stream",
     "text": [
      "env: TF_FORCE_GPU_ALLOW_GROWTH=true\n",
      "env: TF_GPU_ALLOCATOR=cuda_malloc_async\n"
     ]
    }
   ],
   "source": [
    "%load_ext autoreload\n",
    "%autoreload 2\n",
    "import numpy as np\n",
    "from pathlib import Path\n",
    "import xarray as xr\n",
    "import tensorflow as tf\n",
    "from shared.models import *\n",
    "from shared.generators import SAT1DataGenerator, NewSAT1DataGenerator\n",
    "from shared.utilities import earlyStopping_cb\n",
    "from sklearn.metrics import classification_report\n",
    "import random\n",
    "random.seed(42)\n",
    "%env TF_FORCE_GPU_ALLOW_GROWTH=true\n",
    "%env TF_GPU_ALLOCATOR=cuda_malloc_async"
   ]
  },
  {
   "cell_type": "markdown",
   "metadata": {},
   "source": [
    "### Set up data"
   ]
  },
  {
   "cell_type": "code",
   "execution_count": 2,
   "metadata": {},
   "outputs": [],
   "source": [
    "data_path = Path(\"data/sat1/split_stage_data.nc\")\n",
    "\n",
    "data = xr.load_dataset(data_path)"
   ]
  },
  {
   "cell_type": "code",
   "execution_count": 3,
   "metadata": {},
   "outputs": [],
   "source": [
    "participants = data.participant.values.tolist()\n",
    "test_participants = random.sample(participants, 5)\n",
    "train_participants = [p for p in participants if p not in test_participants]"
   ]
  },
  {
   "cell_type": "code",
   "execution_count": 4,
   "metadata": {},
   "outputs": [],
   "source": [
    "test_data = data.sel(participant=test_participants)\n",
    "train_data = data.sel(participant=train_participants)\n",
    "\n",
    "# train_data = data.sel(\n",
    "#     participant=[\n",
    "#         \"0021\",\n",
    "#         \"0022\",\n",
    "#         \"0023\",\n",
    "#         \"0024\",\n",
    "#     ]\n",
    "# )\n",
    "\n",
    "# test_data = data.sel(\n",
    "#     participant=[\n",
    "#         \"0025\"\n",
    "#     ]\n",
    "# )"
   ]
  },
  {
   "cell_type": "code",
   "execution_count": 22,
   "metadata": {},
   "outputs": [],
   "source": [
    "batch_size = 16\n",
    "train_gen = NewSAT1DataGenerator(train_data, batch_size=batch_size)\n",
    "test_gen = NewSAT1DataGenerator(test_data, batch_size=batch_size)\n",
    "\n",
    "# tf.config.optimizer.set_experimental_options({\"layout_optimizer\": False})"
   ]
  },
  {
   "cell_type": "code",
   "execution_count": 39,
   "metadata": {},
   "outputs": [
    {
     "name": "stdout",
     "output_type": "stream",
     "text": [
      "Model: \"model\"\n",
      "_________________________________________________________________\n",
      " Layer (type)                Output Shape              Param #   \n",
      "=================================================================\n",
      " input_1 (InputLayer)        [(None, 30, 157, 1)]      0         \n",
      "                                                                 \n",
      " conv2d (Conv2D)             (None, 30, 153, 64)       384       \n",
      "                                                                 \n",
      " max_pooling2d (MaxPooling2  (None, 30, 76, 64)        0         \n",
      " D)                                                              \n",
      "                                                                 \n",
      " conv2d_1 (Conv2D)           (None, 30, 74, 128)       24704     \n",
      "                                                                 \n",
      " max_pooling2d_1 (MaxPoolin  (None, 30, 37, 128)       0         \n",
      " g2D)                                                            \n",
      "                                                                 \n",
      " conv2d_2 (Conv2D)           (None, 30, 35, 256)       98560     \n",
      "                                                                 \n",
      " max_pooling2d_2 (MaxPoolin  (None, 30, 17, 256)       0         \n",
      " g2D)                                                            \n",
      "                                                                 \n",
      " flatten (Flatten)           (None, 130560)            0         \n",
      "                                                                 \n",
      " dense (Dense)               (None, 128)               16711808  \n",
      "                                                                 \n",
      " dropout (Dropout)           (None, 128)               0         \n",
      "                                                                 \n",
      " dense_1 (Dense)             (None, 4)                 516       \n",
      "                                                                 \n",
      "=================================================================\n",
      "Total params: 16835972 (64.22 MB)\n",
      "Trainable params: 16835972 (64.22 MB)\n",
      "Non-trainable params: 0 (0.00 Byte)\n",
      "_________________________________________________________________\n"
     ]
    }
   ],
   "source": [
    "model = SAT1Test(30, 157, 4)\n",
    "model.compile(\n",
    "    optimizer=tf.keras.optimizers.Adam(learning_rate=0.0001),\n",
    "    loss=tf.keras.losses.SparseCategoricalCrossentropy(),\n",
    "    metrics=[\"accuracy\"],\n",
    ")\n",
    "model.summary()"
   ]
  },
  {
   "cell_type": "code",
   "execution_count": 40,
   "metadata": {},
   "outputs": [
    {
     "name": "stdout",
     "output_type": "stream",
     "text": [
      "Epoch 1/20\n",
      "785/785 [==============================] - 14s 16ms/step - loss: 1.3593 - accuracy: 0.2975 - val_loss: 1.3280 - val_accuracy: 0.2874\n",
      "Epoch 2/20\n",
      "785/785 [==============================] - 12s 15ms/step - loss: 1.1988 - accuracy: 0.4666 - val_loss: 1.0380 - val_accuracy: 0.5542\n",
      "Epoch 3/20\n",
      "785/785 [==============================] - 12s 15ms/step - loss: 0.9693 - accuracy: 0.5931 - val_loss: 0.8527 - val_accuracy: 0.6799\n",
      "Epoch 4/20\n",
      "785/785 [==============================] - 12s 15ms/step - loss: 0.8473 - accuracy: 0.6570 - val_loss: 0.7490 - val_accuracy: 0.7120\n",
      "Epoch 5/20\n",
      "785/785 [==============================] - 12s 15ms/step - loss: 0.7749 - accuracy: 0.6938 - val_loss: 0.6860 - val_accuracy: 0.7285\n",
      "Epoch 6/20\n",
      "785/785 [==============================] - 12s 15ms/step - loss: 0.7105 - accuracy: 0.7273 - val_loss: 0.6202 - val_accuracy: 0.7679\n",
      "Epoch 7/20\n",
      "785/785 [==============================] - 12s 15ms/step - loss: 0.6580 - accuracy: 0.7463 - val_loss: 0.5854 - val_accuracy: 0.7804\n",
      "Epoch 8/20\n",
      "785/785 [==============================] - 12s 14ms/step - loss: 0.6153 - accuracy: 0.7665 - val_loss: 0.5698 - val_accuracy: 0.7808\n",
      "Epoch 9/20\n",
      "785/785 [==============================] - 12s 15ms/step - loss: 0.5857 - accuracy: 0.7741 - val_loss: 0.5477 - val_accuracy: 0.7854\n",
      "Epoch 10/20\n",
      "785/785 [==============================] - 12s 14ms/step - loss: 0.5637 - accuracy: 0.7845 - val_loss: 0.5521 - val_accuracy: 0.7837\n",
      "Epoch 11/20\n",
      "785/785 [==============================] - 12s 15ms/step - loss: 0.5476 - accuracy: 0.7880 - val_loss: 0.5463 - val_accuracy: 0.7877\n",
      "Epoch 12/20\n",
      "785/785 [==============================] - 12s 15ms/step - loss: 0.5382 - accuracy: 0.7912 - val_loss: 0.5258 - val_accuracy: 0.7966\n",
      "Epoch 13/20\n",
      "785/785 [==============================] - 12s 14ms/step - loss: 0.5237 - accuracy: 0.8025 - val_loss: 0.5313 - val_accuracy: 0.7920\n",
      "Epoch 14/20\n",
      "785/785 [==============================] - 13s 15ms/step - loss: 0.5107 - accuracy: 0.8078 - val_loss: 0.5197 - val_accuracy: 0.8042\n",
      "Epoch 15/20\n",
      "785/785 [==============================] - 12s 15ms/step - loss: 0.4999 - accuracy: 0.8167 - val_loss: 0.5232 - val_accuracy: 0.7970\n",
      "Epoch 16/20\n",
      "785/785 [==============================] - 12s 15ms/step - loss: 0.4965 - accuracy: 0.8094 - val_loss: 0.5154 - val_accuracy: 0.7983\n"
     ]
    }
   ],
   "source": [
    "fit = model.fit(\n",
    "    train_gen,\n",
    "    epochs=20,\n",
    "    callbacks=[earlyStopping_cb],\n",
    "    # TODO: Create val_gen\n",
    "    validation_data=test_gen,\n",
    "    use_multiprocessing=True,\n",
    "    workers=8,\n",
    ")\n",
    "\n",
    "# model.fit(\n",
    "#     train_gen,\n",
    "#     epochs=20,\n",
    "#     # TODO: Create val_gen (use 6th participant?)\n",
    "#     validation_data=test_gen,\n",
    "#     use_multiprocessing=True,\n",
    "#     workers=8,\n",
    "# )"
   ]
  },
  {
   "cell_type": "code",
   "execution_count": 38,
   "metadata": {},
   "outputs": [],
   "source": [
    "# Run before re-training to clear up VRAM\n",
    "import gc\n",
    "\n",
    "gc.collect()\n",
    "tf.keras.backend.clear_session()\n",
    "del model"
   ]
  },
  {
   "cell_type": "code",
   "execution_count": 30,
   "metadata": {},
   "outputs": [
    {
     "data": {
      "text/plain": [
       "['confirmation', 'decision', 'encoding', 'response']"
      ]
     },
     "execution_count": 30,
     "metadata": {},
     "output_type": "execute_result"
    }
   ],
   "source": [
    "test_gen.cat_labels"
   ]
  },
  {
   "cell_type": "code",
   "execution_count": 41,
   "metadata": {},
   "outputs": [
    {
     "name": "stdout",
     "output_type": "stream",
     "text": [
      "Testset results\n",
      "189/189 [==============================] - 2s 11ms/step\n",
      "              precision    recall  f1-score   support\n",
      "\n",
      "confirmation       0.73      0.63      0.68       441\n",
      "    decision       0.72      0.81      0.76       844\n",
      "    encoding       0.88      0.89      0.89       869\n",
      "    response       0.84      0.80      0.82       870\n",
      "\n",
      "    accuracy                           0.80      3024\n",
      "   macro avg       0.80      0.78      0.79      3024\n",
      "weighted avg       0.81      0.80      0.80      3024\n",
      "\n"
     ]
    }
   ],
   "source": [
    "print(\"Testset results\")\n",
    "predicted_classes = np.argmax(model.predict(test_gen), axis=1)\n",
    "predicted_classes = [test_gen.cat_labels[idx] for idx in list(predicted_classes)]\n",
    "print(classification_report(test_gen.full_labels, predicted_classes))\n",
    "# print(test_gen.categories)"
   ]
  }
 ],
 "metadata": {
  "kernelspec": {
   "display_name": "thesis",
   "language": "python",
   "name": "python3"
  },
  "language_info": {
   "codemirror_mode": {
    "name": "ipython",
    "version": 3
   },
   "file_extension": ".py",
   "mimetype": "text/x-python",
   "name": "python",
   "nbconvert_exporter": "python",
   "pygments_lexer": "ipython3",
   "version": "3.11.3"
  },
  "orig_nbformat": 4
 },
 "nbformat": 4,
 "nbformat_minor": 2
}

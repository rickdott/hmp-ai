{
 "cells": [
  {
   "cell_type": "code",
   "execution_count": 1,
   "metadata": {},
   "outputs": [
    {
     "name": "stderr",
     "output_type": "stream",
     "text": [
      "2023-08-31 13:07:06.003286: I tensorflow/core/platform/cpu_feature_guard.cc:182] This TensorFlow binary is optimized to use available CPU instructions in performance-critical operations.\n",
      "To enable the following instructions: AVX2 FMA, in other operations, rebuild TensorFlow with the appropriate compiler flags.\n",
      "2023-08-31 13:07:06.762115: W tensorflow/compiler/tf2tensorrt/utils/py_utils.cc:38] TF-TRT Warning: Could not find TensorRT\n"
     ]
    },
    {
     "name": "stdout",
     "output_type": "stream",
     "text": [
      "env: TF_FORCE_GPU_ALLOW_GROWTH=true\n",
      "env: TF_GPU_ALLOCATOR=cuda_malloc_async\n"
     ]
    }
   ],
   "source": [
    "%load_ext autoreload\n",
    "%autoreload 2\n",
    "import numpy as np\n",
    "from pathlib import Path\n",
    "import xarray as xr\n",
    "import tensorflow as tf\n",
    "import datetime\n",
    "from shared.models import *\n",
    "from shared.utilities import *\n",
    "from shared.training import train_and_evaluate, split_data_on_participants\n",
    "import random\n",
    "%env TF_FORCE_GPU_ALLOW_GROWTH=true\n",
    "%env TF_GPU_ALLOCATOR=cuda_malloc_async"
   ]
  },
  {
   "cell_type": "markdown",
   "metadata": {},
   "source": [
    "### Set up data"
   ]
  },
  {
   "cell_type": "code",
   "execution_count": 7,
   "metadata": {},
   "outputs": [],
   "source": [
    "data_path = Path(\"data/sat1/split_stage_data.nc\")\n",
    "\n",
    "data = xr.load_dataset(data_path)"
   ]
  },
  {
   "cell_type": "code",
   "execution_count": 8,
   "metadata": {},
   "outputs": [],
   "source": [
    "data = data.where(data.cue == \"SP\")"
   ]
  },
  {
   "cell_type": "code",
   "execution_count": 9,
   "metadata": {},
   "outputs": [],
   "source": [
    "train_data, val_data, test_data = split_data_on_participants(data, 60)"
   ]
  },
  {
   "cell_type": "code",
   "execution_count": 10,
   "metadata": {},
   "outputs": [],
   "source": [
    "model = SAT1Base(len(data.channels), len(data.samples), len(data.labels))\n",
    "model.compile(\n",
    "    optimizer=tf.keras.optimizers.Adam(learning_rate=0.00005),\n",
    "    loss=tf.keras.losses.SparseCategoricalCrossentropy(),\n",
    "    metrics=[\"accuracy\"],\n",
    ")"
   ]
  },
  {
   "cell_type": "code",
   "execution_count": 11,
   "metadata": {},
   "outputs": [
    {
     "name": "stdout",
     "output_type": "stream",
     "text": [
      "Epoch 1/20\n",
      "  3/249 [..............................] - ETA: 39s - loss: 1.3128 - accuracy: 0.2917WARNING:tensorflow:Callback method `on_train_batch_end` is slow compared to the batch time (batch time: 0.0238s vs `on_train_batch_end` time: 0.0402s). Check your callbacks.\n",
      "249/249 [==============================] - 9s 31ms/step - loss: 1.1437 - accuracy: 0.3434 - val_loss: 1.0970 - val_accuracy: 0.6204\n",
      "Epoch 2/20\n",
      "249/249 [==============================] - 8s 29ms/step - loss: 1.1104 - accuracy: 0.3650 - val_loss: 1.0227 - val_accuracy: 0.7119\n",
      "Epoch 3/20\n",
      "249/249 [==============================] - 8s 29ms/step - loss: 1.0043 - accuracy: 0.5030 - val_loss: 0.8114 - val_accuracy: 0.7309\n",
      "Epoch 4/20\n",
      "249/249 [==============================] - 8s 29ms/step - loss: 0.8460 - accuracy: 0.6250 - val_loss: 0.6572 - val_accuracy: 0.7363\n",
      "Epoch 5/20\n",
      "249/249 [==============================] - 8s 30ms/step - loss: 0.7687 - accuracy: 0.6556 - val_loss: 0.6059 - val_accuracy: 0.7439\n",
      "Epoch 6/20\n",
      "249/249 [==============================] - 8s 29ms/step - loss: 0.7290 - accuracy: 0.6752 - val_loss: 0.5589 - val_accuracy: 0.7584\n",
      "Epoch 7/20\n",
      "249/249 [==============================] - 8s 29ms/step - loss: 0.6795 - accuracy: 0.7116 - val_loss: 0.5160 - val_accuracy: 0.8133\n",
      "Epoch 8/20\n",
      "249/249 [==============================] - 8s 29ms/step - loss: 0.6231 - accuracy: 0.7440 - val_loss: 0.4959 - val_accuracy: 0.8133\n",
      "Epoch 9/20\n",
      "249/249 [==============================] - 8s 29ms/step - loss: 0.5736 - accuracy: 0.7786 - val_loss: 0.3937 - val_accuracy: 0.8613\n",
      "Epoch 10/20\n",
      "249/249 [==============================] - 8s 29ms/step - loss: 0.5405 - accuracy: 0.7884 - val_loss: 0.3705 - val_accuracy: 0.8704\n",
      "Epoch 11/20\n",
      "249/249 [==============================] - 7s 29ms/step - loss: 0.4995 - accuracy: 0.8052 - val_loss: 0.3351 - val_accuracy: 0.8811\n",
      "Epoch 12/20\n",
      "249/249 [==============================] - 8s 29ms/step - loss: 0.4837 - accuracy: 0.8150 - val_loss: 0.3147 - val_accuracy: 0.8834\n",
      "Epoch 13/20\n",
      "249/249 [==============================] - 7s 29ms/step - loss: 0.4551 - accuracy: 0.8303 - val_loss: 0.3027 - val_accuracy: 0.8864\n",
      "Epoch 14/20\n",
      "249/249 [==============================] - 8s 30ms/step - loss: 0.4342 - accuracy: 0.8401 - val_loss: 0.2984 - val_accuracy: 0.8872\n",
      "Epoch 15/20\n",
      "249/249 [==============================] - 7s 29ms/step - loss: 0.4100 - accuracy: 0.8459 - val_loss: 0.2773 - val_accuracy: 0.8979\n",
      "Epoch 16/20\n",
      "249/249 [==============================] - 8s 29ms/step - loss: 0.3955 - accuracy: 0.8486 - val_loss: 0.2612 - val_accuracy: 0.9093\n",
      "Epoch 17/20\n",
      "249/249 [==============================] - 8s 30ms/step - loss: 0.3754 - accuracy: 0.8647 - val_loss: 0.2572 - val_accuracy: 0.9078\n",
      "Epoch 18/20\n",
      "249/249 [==============================] - 8s 29ms/step - loss: 0.3588 - accuracy: 0.8732 - val_loss: 0.2532 - val_accuracy: 0.9123\n",
      "Epoch 19/20\n",
      "249/249 [==============================] - 8s 29ms/step - loss: 0.3618 - accuracy: 0.8702 - val_loss: 0.2419 - val_accuracy: 0.9139\n",
      "Epoch 20/20\n",
      "249/249 [==============================] - 8s 30ms/step - loss: 0.3454 - accuracy: 0.8773 - val_loss: 0.2346 - val_accuracy: 0.9146\n",
      "78/78 [==============================] - 1s 12ms/step\n"
     ]
    },
    {
     "data": {
      "text/plain": [
       "<keras.src.callbacks.History at 0x7fd590595ad0>"
      ]
     },
     "execution_count": 11,
     "metadata": {},
     "output_type": "execute_result"
    }
   ],
   "source": [
    "train_and_evaluate(model, train_data, val_data, test_data, epochs=20)"
   ]
  },
  {
   "cell_type": "code",
   "execution_count": 42,
   "metadata": {},
   "outputs": [],
   "source": [
    "# Run before re-training to clear up VRAM\n",
    "import gc\n",
    "\n",
    "gc.collect()\n",
    "tf.keras.backend.clear_session()\n",
    "del model"
   ]
  }
 ],
 "metadata": {
  "kernelspec": {
   "display_name": "thesis",
   "language": "python",
   "name": "python3"
  },
  "language_info": {
   "codemirror_mode": {
    "name": "ipython",
    "version": 3
   },
   "file_extension": ".py",
   "mimetype": "text/x-python",
   "name": "python",
   "nbconvert_exporter": "python",
   "pygments_lexer": "ipython3",
   "version": "3.11.3"
  },
  "orig_nbformat": 4
 },
 "nbformat": 4,
 "nbformat_minor": 2
}

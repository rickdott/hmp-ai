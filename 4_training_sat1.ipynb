{
 "cells": [
  {
   "cell_type": "code",
   "execution_count": 1,
   "metadata": {},
   "outputs": [
    {
     "name": "stderr",
     "output_type": "stream",
     "text": [
      "2023-08-28 15:33:45.905470: I tensorflow/core/platform/cpu_feature_guard.cc:182] This TensorFlow binary is optimized to use available CPU instructions in performance-critical operations.\n",
      "To enable the following instructions: AVX2 FMA, in other operations, rebuild TensorFlow with the appropriate compiler flags.\n",
      "2023-08-28 15:33:46.505099: W tensorflow/compiler/tf2tensorrt/utils/py_utils.cc:38] TF-TRT Warning: Could not find TensorRT\n"
     ]
    },
    {
     "name": "stdout",
     "output_type": "stream",
     "text": [
      "env: TF_FORCE_GPU_ALLOW_GROWTH=true\n",
      "env: TF_GPU_ALLOCATOR=cuda_malloc_async\n"
     ]
    }
   ],
   "source": [
    "%load_ext autoreload\n",
    "%autoreload 2\n",
    "import numpy as np\n",
    "from pathlib import Path\n",
    "import xarray as xr\n",
    "import tensorflow as tf\n",
    "import datetime\n",
    "from shared.models import *\n",
    "from shared.utilities import *\n",
    "from shared.training import train_and_evaluate, split_data_on_participants\n",
    "import random\n",
    "%env TF_FORCE_GPU_ALLOW_GROWTH=true\n",
    "%env TF_GPU_ALLOCATOR=cuda_malloc_async"
   ]
  },
  {
   "cell_type": "markdown",
   "metadata": {},
   "source": [
    "### Set up data"
   ]
  },
  {
   "cell_type": "code",
   "execution_count": 2,
   "metadata": {},
   "outputs": [],
   "source": [
    "data_path = Path(\"data/sat1/split_stage_data.nc\")\n",
    "\n",
    "data = xr.load_dataset(data_path)"
   ]
  },
  {
   "cell_type": "code",
   "execution_count": 3,
   "metadata": {},
   "outputs": [],
   "source": [
    "train_data, val_data, test_data = split_data_on_participants(data, 60)"
   ]
  },
  {
   "cell_type": "code",
   "execution_count": 6,
   "metadata": {},
   "outputs": [],
   "source": [
    "model = SAT1Base(len(data.channels), len(data.samples), len(data.labels))\n",
    "model.compile(\n",
    "    optimizer=tf.keras.optimizers.Adam(learning_rate=0.00005),\n",
    "    loss=tf.keras.losses.SparseCategoricalCrossentropy(),\n",
    "    metrics=[\"accuracy\"],\n",
    ")"
   ]
  },
  {
   "cell_type": "code",
   "execution_count": 7,
   "metadata": {},
   "outputs": [
    {
     "name": "stdout",
     "output_type": "stream",
     "text": [
      "Epoch 1/20\n",
      "591/591 [==============================] - 12s 17ms/step - loss: 1.3614 - accuracy: 0.2878 - val_loss: 1.3457 - val_accuracy: 0.2888\n",
      "Epoch 2/20\n",
      "591/591 [==============================] - 10s 17ms/step - loss: 1.3350 - accuracy: 0.3543 - val_loss: 1.2802 - val_accuracy: 0.4082\n",
      "Epoch 3/20\n",
      "591/591 [==============================] - 10s 17ms/step - loss: 1.2642 - accuracy: 0.4062 - val_loss: 1.2002 - val_accuracy: 0.4224\n",
      "Epoch 4/20\n",
      "591/591 [==============================] - 10s 17ms/step - loss: 1.1865 - accuracy: 0.4539 - val_loss: 1.0777 - val_accuracy: 0.5520\n",
      "Epoch 5/20\n",
      "591/591 [==============================] - 10s 17ms/step - loss: 1.0856 - accuracy: 0.5207 - val_loss: 0.9414 - val_accuracy: 0.6036\n",
      "Epoch 6/20\n",
      "591/591 [==============================] - 10s 17ms/step - loss: 0.9816 - accuracy: 0.5828 - val_loss: 0.8531 - val_accuracy: 0.6671\n",
      "Epoch 7/20\n",
      "591/591 [==============================] - 10s 17ms/step - loss: 0.9104 - accuracy: 0.6184 - val_loss: 0.7811 - val_accuracy: 0.6990\n",
      "Epoch 8/20\n",
      "591/591 [==============================] - 10s 17ms/step - loss: 0.8492 - accuracy: 0.6508 - val_loss: 0.7192 - val_accuracy: 0.7339\n",
      "Epoch 9/20\n",
      "591/591 [==============================] - 10s 17ms/step - loss: 0.8016 - accuracy: 0.6724 - val_loss: 0.6748 - val_accuracy: 0.7516\n",
      "Epoch 10/20\n",
      "591/591 [==============================] - 10s 17ms/step - loss: 0.7774 - accuracy: 0.6864 - val_loss: 0.6411 - val_accuracy: 0.7628\n",
      "Epoch 11/20\n",
      "591/591 [==============================] - 10s 17ms/step - loss: 0.7508 - accuracy: 0.6969 - val_loss: 0.6282 - val_accuracy: 0.7661\n",
      "Epoch 12/20\n",
      "591/591 [==============================] - 10s 17ms/step - loss: 0.7138 - accuracy: 0.7115 - val_loss: 0.6019 - val_accuracy: 0.7737\n",
      "Epoch 13/20\n",
      "591/591 [==============================] - 10s 17ms/step - loss: 0.7045 - accuracy: 0.7139 - val_loss: 0.5950 - val_accuracy: 0.7727\n",
      "Epoch 14/20\n",
      "591/591 [==============================] - 11s 18ms/step - loss: 0.6962 - accuracy: 0.7198 - val_loss: 0.5910 - val_accuracy: 0.7727\n",
      "192/192 [==============================] - 2s 11ms/step\n"
     ]
    },
    {
     "data": {
      "text/plain": [
       "<keras.src.callbacks.History at 0x7fc0f31b8c50>"
      ]
     },
     "execution_count": 7,
     "metadata": {},
     "output_type": "execute_result"
    }
   ],
   "source": [
    "train_and_evaluate(model, train_data, val_data, test_data, epochs=20)"
   ]
  },
  {
   "cell_type": "code",
   "execution_count": 42,
   "metadata": {},
   "outputs": [],
   "source": [
    "# Run before re-training to clear up VRAM\n",
    "import gc\n",
    "\n",
    "gc.collect()\n",
    "tf.keras.backend.clear_session()\n",
    "del model"
   ]
  }
 ],
 "metadata": {
  "kernelspec": {
   "display_name": "thesis",
   "language": "python",
   "name": "python3"
  },
  "language_info": {
   "codemirror_mode": {
    "name": "ipython",
    "version": 3
   },
   "file_extension": ".py",
   "mimetype": "text/x-python",
   "name": "python",
   "nbconvert_exporter": "python",
   "pygments_lexer": "ipython3",
   "version": "3.11.3"
  },
  "orig_nbformat": 4
 },
 "nbformat": 4,
 "nbformat_minor": 2
}

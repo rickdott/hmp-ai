{
 "cells": [
  {
   "cell_type": "code",
   "execution_count": 6,
   "metadata": {},
   "outputs": [
    {
     "name": "stdout",
     "output_type": "stream",
     "text": [
      "The autoreload extension is already loaded. To reload it, use:\n",
      "  %reload_ext autoreload\n",
      "env: TF_FORCE_GPU_ALLOW_GROWTH=true\n",
      "env: TF_GPU_ALLOCATOR=cuda_malloc_async\n"
     ]
    }
   ],
   "source": [
    "%load_ext autoreload\n",
    "%autoreload 2\n",
    "import numpy as np\n",
    "from pathlib import Path\n",
    "import xarray as xr\n",
    "import tensorflow as tf\n",
    "import datetime\n",
    "from shared.models import *\n",
    "from shared.utilities import *\n",
    "from shared.training import train_and_evaluate, split_data_on_participants\n",
    "from shared.normalization import *\n",
    "from shared.generators import *\n",
    "import random\n",
    "%env TF_FORCE_GPU_ALLOW_GROWTH=true\n",
    "%env TF_GPU_ALLOCATOR=cuda_malloc_async"
   ]
  },
  {
   "cell_type": "markdown",
   "metadata": {},
   "source": [
    "### Set up data"
   ]
  },
  {
   "cell_type": "code",
   "execution_count": 7,
   "metadata": {},
   "outputs": [],
   "source": [
    "data_path = Path(\"data/sat1/split_stage_data.nc\")\n",
    "\n",
    "data = xr.load_dataset(data_path)"
   ]
  },
  {
   "cell_type": "code",
   "execution_count": 8,
   "metadata": {},
   "outputs": [],
   "source": [
    "train_data, val_data, test_data = split_data_on_participants(data, 60, norm_0_to_1)"
   ]
  },
  {
   "cell_type": "code",
   "execution_count": 11,
   "metadata": {},
   "outputs": [],
   "source": [
    "model = SAT1Base(len(data.channels), len(data.samples), len(data.labels))\n",
    "model.compile(\n",
    "    optimizer=tf.keras.optimizers.Adam(learning_rate=0.0005),\n",
    "    loss=tf.keras.losses.SparseCategoricalCrossentropy(),\n",
    "    metrics=[\"accuracy\"],\n",
    ")"
   ]
  },
  {
   "cell_type": "code",
   "execution_count": 12,
   "metadata": {},
   "outputs": [
    {
     "name": "stdout",
     "output_type": "stream",
     "text": [
      "Epoch 1/20\n",
      "  5/765 [..............................] - ETA: 35s - loss: 2.3899 - accuracy: 0.2250WARNING:tensorflow:Callback method `on_train_batch_end` is slow compared to the batch time (batch time: 0.0150s vs `on_train_batch_end` time: 0.0222s). Check your callbacks.\n",
      "765/765 [==============================] - 20s 25ms/step - loss: 1.2704 - accuracy: 0.4333 - val_loss: 1.0645 - val_accuracy: 0.5400\n",
      "Epoch 2/20\n",
      "765/765 [==============================] - 11s 14ms/step - loss: 1.1189 - accuracy: 0.5237 - val_loss: 0.9104 - val_accuracy: 0.6288\n",
      "Epoch 3/20\n",
      "765/765 [==============================] - 11s 14ms/step - loss: 0.9524 - accuracy: 0.6125 - val_loss: 0.7460 - val_accuracy: 0.6999\n",
      "Epoch 4/20\n",
      "765/765 [==============================] - 11s 14ms/step - loss: 0.8257 - accuracy: 0.6793 - val_loss: 0.6498 - val_accuracy: 0.7409\n",
      "Epoch 5/20\n",
      "765/765 [==============================] - 11s 14ms/step - loss: 0.7613 - accuracy: 0.7105 - val_loss: 0.6083 - val_accuracy: 0.7584\n",
      "Epoch 6/20\n",
      "765/765 [==============================] - 11s 14ms/step - loss: 0.7156 - accuracy: 0.7282 - val_loss: 0.5742 - val_accuracy: 0.7847\n",
      "Epoch 7/20\n",
      "765/765 [==============================] - 11s 14ms/step - loss: 0.6701 - accuracy: 0.7440 - val_loss: 0.5310 - val_accuracy: 0.7915\n",
      "Epoch 8/20\n",
      "765/765 [==============================] - 11s 14ms/step - loss: 0.6467 - accuracy: 0.7463 - val_loss: 0.5222 - val_accuracy: 0.7958\n",
      "Epoch 9/20\n",
      "765/765 [==============================] - 11s 14ms/step - loss: 0.6271 - accuracy: 0.7654 - val_loss: 0.5170 - val_accuracy: 0.8029\n",
      "Epoch 10/20\n",
      "765/765 [==============================] - 11s 14ms/step - loss: 0.6102 - accuracy: 0.7655 - val_loss: 0.5123 - val_accuracy: 0.7978\n",
      "Epoch 11/20\n",
      "765/765 [==============================] - 11s 14ms/step - loss: 0.5946 - accuracy: 0.7695 - val_loss: 0.4928 - val_accuracy: 0.8100\n",
      "Epoch 12/20\n",
      "765/765 [==============================] - 11s 14ms/step - loss: 0.5804 - accuracy: 0.7779 - val_loss: 0.5181 - val_accuracy: 0.8034\n",
      "Epoch 13/20\n",
      "765/765 [==============================] - 11s 14ms/step - loss: 0.5667 - accuracy: 0.7864 - val_loss: 0.4997 - val_accuracy: 0.8095\n",
      "251/251 [==============================] - 3s 11ms/step\n"
     ]
    },
    {
     "data": {
      "text/plain": [
       "<keras.src.callbacks.History at 0x7f27bc8e3a10>"
      ]
     },
     "execution_count": 12,
     "metadata": {},
     "output_type": "execute_result"
    }
   ],
   "source": [
    "train_and_evaluate(model, train_data, val_data, test_data, epochs=20)"
   ]
  },
  {
   "cell_type": "code",
   "execution_count": 10,
   "metadata": {},
   "outputs": [],
   "source": [
    "# Run before re-training to clear up VRAM\n",
    "import gc\n",
    "\n",
    "gc.collect()\n",
    "tf.keras.backend.clear_session()\n",
    "del model"
   ]
  },
  {
   "cell_type": "code",
   "execution_count": 5,
   "metadata": {},
   "outputs": [
    {
     "name": "stdout",
     "output_type": "stream",
     "text": [
      "Model: \"model\"\n",
      "_________________________________________________________________\n",
      " Layer (type)                Output Shape              Param #   \n",
      "=================================================================\n",
      " input_1 (InputLayer)        [(None, 30, 147, 1)]      0         \n",
      "                                                                 \n",
      " conv2d (Conv2D)             (None, 30, 143, 64)       384       \n",
      "                                                                 \n",
      " max_pooling2d (MaxPooling2  (None, 30, 71, 64)        0         \n",
      " D)                                                              \n",
      "                                                                 \n",
      " conv2d_1 (Conv2D)           (None, 30, 69, 128)       24704     \n",
      "                                                                 \n",
      " max_pooling2d_1 (MaxPoolin  (None, 30, 34, 128)       0         \n",
      " g2D)                                                            \n",
      "                                                                 \n",
      " conv2d_2 (Conv2D)           (None, 30, 32, 256)       98560     \n",
      "                                                                 \n",
      " max_pooling2d_2 (MaxPoolin  (None, 30, 16, 256)       0         \n",
      " g2D)                                                            \n",
      "                                                                 \n",
      " flatten (Flatten)           (None, 122880)            0         \n",
      "                                                                 \n",
      " dense (Dense)               (None, 128)               15728768  \n",
      "                                                                 \n",
      " dropout (Dropout)           (None, 128)               0         \n",
      "                                                                 \n",
      " dense_1 (Dense)             (None, 4)                 516       \n",
      "                                                                 \n",
      "=================================================================\n",
      "Total params: 15852932 (60.47 MB)\n",
      "Trainable params: 15852932 (60.47 MB)\n",
      "Non-trainable params: 0 (0.00 Byte)\n",
      "_________________________________________________________________\n"
     ]
    }
   ],
   "source": [
    "model.summary()"
   ]
  }
 ],
 "metadata": {
  "kernelspec": {
   "display_name": "thesis",
   "language": "python",
   "name": "python3"
  },
  "language_info": {
   "codemirror_mode": {
    "name": "ipython",
    "version": 3
   },
   "file_extension": ".py",
   "mimetype": "text/x-python",
   "name": "python",
   "nbconvert_exporter": "python",
   "pygments_lexer": "ipython3",
   "version": "3.11.3"
  },
  "orig_nbformat": 4
 },
 "nbformat": 4,
 "nbformat_minor": 2
}

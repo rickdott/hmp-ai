{
 "cells": [
  {
   "cell_type": "code",
   "execution_count": 1,
   "metadata": {},
   "outputs": [
    {
     "name": "stderr",
     "output_type": "stream",
     "text": [
      "2023-08-21 13:25:17.960732: I tensorflow/core/platform/cpu_feature_guard.cc:182] This TensorFlow binary is optimized to use available CPU instructions in performance-critical operations.\n",
      "To enable the following instructions: AVX2 FMA, in other operations, rebuild TensorFlow with the appropriate compiler flags.\n",
      "2023-08-21 13:25:18.478517: W tensorflow/compiler/tf2tensorrt/utils/py_utils.cc:38] TF-TRT Warning: Could not find TensorRT\n"
     ]
    }
   ],
   "source": [
    "import numpy as np\n",
    "from pathlib import Path\n",
    "from shared.utilities import pad_to_max_sample_length\n",
    "from shared.data import add_stage_dimension"
   ]
  },
  {
   "cell_type": "markdown",
   "metadata": {},
   "source": [
    "### Split data into segments"
   ]
  },
  {
   "cell_type": "code",
   "execution_count": 2,
   "metadata": {},
   "outputs": [],
   "source": [
    "data_path = Path(\"data/sat1/stage_data.nc\")\n",
    "output_path = Path(\"data/sat1/split_stage_data.nc\")\n",
    "# Takes ~9 minutes\n",
    "output_data = add_stage_dimension(data_path)"
   ]
  },
  {
   "cell_type": "code",
   "execution_count": null,
   "metadata": {},
   "outputs": [],
   "source": [
    "# Save segmented data\n",
    "output_data.to_netcdf(output_path)"
   ]
  },
  {
   "cell_type": "markdown",
   "metadata": {},
   "source": [
    "### Deprecated"
   ]
  },
  {
   "cell_type": "code",
   "execution_count": null,
   "metadata": {},
   "outputs": [],
   "source": [
    "# %%time\n",
    "# 2488 labels/segments\n",
    "stage_data = xr.load_dataset(data_path)\n",
    "dimensions = stage_data.labels.shape\n",
    "segments = []\n",
    "labels = []\n",
    "for participant in range(dimensions[0]):\n",
    "    for epoch in range(dimensions[1]):\n",
    "        trial = stage_data.isel(participant=participant, epochs=epoch)\n",
    "        # If trial contains anything other than empty strings, at least one processing stage has been identified and labelled\n",
    "        if np.any(trial.labels != \"\"):\n",
    "            np_labels = trial.labels.to_numpy()\n",
    "            # Find locations where string changes in a sequence of strings to find changes in stages\n",
    "            changes = np.where(np_labels[:-1] != np_labels[1:])[0] + 1\n",
    "            # Get EEG data for participant/epoch\n",
    "\n",
    "            # Create list of EEG data splits\n",
    "            splits = np.split(trial.data, changes, 1)\n",
    "            label_splits = np.split(trial.labels, changes, 0)\n",
    "            for split, label_split in zip(splits, label_splits):\n",
    "                if np.any(label_split != \"\"):\n",
    "                    # Sanity check\n",
    "                    if np.any(np.isnan(split)):\n",
    "                        print(f\"NAN FOUND participant {participant}, epoch {epoch}\")\n",
    "                        print(f\"Label: {label_split[0].item()}\")\n",
    "                        print(split.to_numpy()[0, :])\n",
    "                        raise ValueError(\n",
    "                            \"Split found that is fully labeled but still contains NaNs in data\"\n",
    "                        )\n",
    "                    # Add split and label to lists\n",
    "                    segments.append(split.data)\n",
    "                    labels.append(label_split[0].item())\n",
    "        else:\n",
    "            print(f\"Trial unusable: participant {participant}, epoch {epoch}\")\n",
    "\n",
    "# Pad to max_sample_length, can differ per data set or subset\n",
    "max_sample_length = max(segment.shape[1] for segment in segments)\n",
    "segments = np.stack(\n",
    "    [pad_to_max_sample_length(segment, max_sample_length) for segment in segments]\n",
    ")"
   ]
  }
 ],
 "metadata": {
  "kernelspec": {
   "display_name": "thesis",
   "language": "python",
   "name": "python3"
  },
  "language_info": {
   "codemirror_mode": {
    "name": "ipython",
    "version": 3
   },
   "file_extension": ".py",
   "mimetype": "text/x-python",
   "name": "python",
   "nbconvert_exporter": "python",
   "pygments_lexer": "ipython3",
   "version": "3.11.3"
  },
  "orig_nbformat": 4
 },
 "nbformat": 4,
 "nbformat_minor": 2
}

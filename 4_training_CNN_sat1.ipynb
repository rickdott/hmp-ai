{
 "cells": [
  {
   "cell_type": "code",
   "execution_count": 1,
   "metadata": {},
   "outputs": [
    {
     "name": "stderr",
     "output_type": "stream",
     "text": [
      "2023-10-16 12:15:18.358515: I tensorflow/core/platform/cpu_feature_guard.cc:182] This TensorFlow binary is optimized to use available CPU instructions in performance-critical operations.\n",
      "To enable the following instructions: AVX2 FMA, in other operations, rebuild TensorFlow with the appropriate compiler flags.\n",
      "2023-10-16 12:15:18.966782: W tensorflow/compiler/tf2tensorrt/utils/py_utils.cc:38] TF-TRT Warning: Could not find TensorRT\n"
     ]
    },
    {
     "name": "stdout",
     "output_type": "stream",
     "text": [
      "env: TF_FORCE_GPU_ALLOW_GROWTH=true\n",
      "env: TF_GPU_ALLOCATOR=cuda_malloc_async\n"
     ]
    }
   ],
   "source": [
    "%load_ext autoreload\n",
    "%autoreload 2\n",
    "import numpy as np\n",
    "from pathlib import Path\n",
    "import xarray as xr\n",
    "import tensorflow as tf\n",
    "from shared.models import *\n",
    "from shared.utilities import *\n",
    "from shared.training import train_and_evaluate, split_data_on_participants, k_fold_cross_validate, compile_kwargs\n",
    "from shared.normalization import *\n",
    "from shared.generators import *\n",
    "%env TF_FORCE_GPU_ALLOW_GROWTH=true\n",
    "%env TF_GPU_ALLOCATOR=cuda_malloc_async"
   ]
  },
  {
   "cell_type": "markdown",
   "metadata": {},
   "source": [
    "### Set up data"
   ]
  },
  {
   "cell_type": "code",
   "execution_count": 7,
   "metadata": {},
   "outputs": [],
   "source": [
    "data_path = Path(\"data/sat1/split_stage_data.nc\")\n",
    "\n",
    "data = xr.load_dataset(data_path)"
   ]
  },
  {
   "cell_type": "code",
   "execution_count": 2,
   "metadata": {},
   "outputs": [],
   "source": [
    "data_path = Path(\"data/sat1/split_stage_data_unprocessed_500hz.nc\")\n",
    "\n",
    "data = xr.load_dataset(data_path)"
   ]
  },
  {
   "cell_type": "code",
   "execution_count": 3,
   "metadata": {},
   "outputs": [],
   "source": [
    "train_data, val_data, test_data = split_data_on_participants(data, 60, norm_min1_to_1)"
   ]
  },
  {
   "cell_type": "code",
   "execution_count": 4,
   "metadata": {},
   "outputs": [
    {
     "name": "stderr",
     "output_type": "stream",
     "text": [
      "2023-10-16 12:15:29.016894: I tensorflow/compiler/xla/stream_executor/cuda/cuda_gpu_executor.cc:981] could not open file to read NUMA node: /sys/bus/pci/devices/0000:07:00.0/numa_node\n",
      "Your kernel may have been built without NUMA support.\n",
      "2023-10-16 12:15:29.043206: I tensorflow/compiler/xla/stream_executor/cuda/cuda_gpu_executor.cc:981] could not open file to read NUMA node: /sys/bus/pci/devices/0000:07:00.0/numa_node\n",
      "Your kernel may have been built without NUMA support.\n",
      "2023-10-16 12:15:29.043296: I tensorflow/compiler/xla/stream_executor/cuda/cuda_gpu_executor.cc:981] could not open file to read NUMA node: /sys/bus/pci/devices/0000:07:00.0/numa_node\n",
      "Your kernel may have been built without NUMA support.\n",
      "2023-10-16 12:15:29.044899: I tensorflow/compiler/xla/stream_executor/cuda/cuda_gpu_executor.cc:981] could not open file to read NUMA node: /sys/bus/pci/devices/0000:07:00.0/numa_node\n",
      "Your kernel may have been built without NUMA support.\n",
      "2023-10-16 12:15:29.044963: I tensorflow/compiler/xla/stream_executor/cuda/cuda_gpu_executor.cc:981] could not open file to read NUMA node: /sys/bus/pci/devices/0000:07:00.0/numa_node\n",
      "Your kernel may have been built without NUMA support.\n",
      "2023-10-16 12:15:29.045012: I tensorflow/compiler/xla/stream_executor/cuda/cuda_gpu_executor.cc:981] could not open file to read NUMA node: /sys/bus/pci/devices/0000:07:00.0/numa_node\n",
      "Your kernel may have been built without NUMA support.\n",
      "2023-10-16 12:15:29.565313: I tensorflow/compiler/xla/stream_executor/cuda/cuda_gpu_executor.cc:981] could not open file to read NUMA node: /sys/bus/pci/devices/0000:07:00.0/numa_node\n",
      "Your kernel may have been built without NUMA support.\n",
      "2023-10-16 12:15:29.565395: I tensorflow/compiler/xla/stream_executor/cuda/cuda_gpu_executor.cc:981] could not open file to read NUMA node: /sys/bus/pci/devices/0000:07:00.0/numa_node\n",
      "Your kernel may have been built without NUMA support.\n",
      "2023-10-16 12:15:29.565404: I tensorflow/core/common_runtime/gpu/gpu_device.cc:1726] Could not identify NUMA node of platform GPU id 0, defaulting to 0.  Your kernel may not have been built with NUMA support.\n",
      "2023-10-16 12:15:29.565457: I tensorflow/compiler/xla/stream_executor/cuda/cuda_gpu_executor.cc:981] could not open file to read NUMA node: /sys/bus/pci/devices/0000:07:00.0/numa_node\n",
      "Your kernel may have been built without NUMA support.\n",
      "2023-10-16 12:15:29.565468: W tensorflow/core/common_runtime/gpu/gpu_bfc_allocator.cc:47] Overriding orig_value setting because the TF_FORCE_GPU_ALLOW_GROWTH environment variable is set. Original config value was 0.\n",
      "2023-10-16 12:15:29.565473: I tensorflow/core/common_runtime/gpu/gpu_process_state.cc:227] Using CUDA malloc Async allocator for GPU: 0\n",
      "2023-10-16 12:15:29.565585: I tensorflow/core/common_runtime/gpu/gpu_device.cc:1639] Created device /job:localhost/replica:0/task:0/device:GPU:0 with 21598 MB memory:  -> device: 0, name: NVIDIA GeForce RTX 3090, pci bus id: 0000:07:00.0, compute capability: 8.6\n"
     ]
    }
   ],
   "source": [
    "model = SAT1Deep(len(data.channels), len(data.samples), len(data.labels))\n",
    "model.compile(**compile_kwargs)"
   ]
  },
  {
   "cell_type": "code",
   "execution_count": 20,
   "metadata": {},
   "outputs": [],
   "source": [
    "model = SAT1TopologicalConv(5, 8, len(data.samples), len(data.labels))\n",
    "model.compile(**compile_kwargs)"
   ]
  },
  {
   "cell_type": "code",
   "execution_count": 17,
   "metadata": {},
   "outputs": [],
   "source": [
    "model = SAT1Base(len(data.channels), len(data.samples), len(data.labels))\n",
    "model.compile(**compile_kwargs)"
   ]
  },
  {
   "cell_type": "code",
   "execution_count": 5,
   "metadata": {},
   "outputs": [
    {
     "name": "stdout",
     "output_type": "stream",
     "text": [
      "Epoch 1/20\n"
     ]
    },
    {
     "name": "stderr",
     "output_type": "stream",
     "text": [
      "2023-10-16 12:15:38.127548: I tensorflow/compiler/xla/stream_executor/cuda/cuda_dnn.cc:432] Loaded cuDNN version 8600\n",
      "2023-10-16 12:15:39.175511: I tensorflow/compiler/xla/stream_executor/cuda/cuda_blas.cc:606] TensorFloat-32 will be used for the matrix multiplication. This will only be logged once.\n",
      "2023-10-16 12:15:39.181077: I tensorflow/compiler/xla/service/service.cc:168] XLA service 0x55f576b0c5b0 initialized for platform CUDA (this does not guarantee that XLA will be used). Devices:\n",
      "2023-10-16 12:15:39.181102: I tensorflow/compiler/xla/service/service.cc:176]   StreamExecutor device (0): NVIDIA GeForce RTX 3090, Compute Capability 8.6\n",
      "2023-10-16 12:15:39.184628: I tensorflow/compiler/mlir/tensorflow/utils/dump_mlir_util.cc:255] disabling MLIR crash reproducer, set env var `MLIR_CRASH_REPRODUCER_DIRECTORY` to enable.\n",
      "2023-10-16 12:15:39.279693: I ./tensorflow/compiler/jit/device_compiler.h:186] Compiled cluster using XLA!  This line is logged at most once for the lifetime of the process.\n"
     ]
    },
    {
     "name": "stdout",
     "output_type": "stream",
     "text": [
      "755/755 [==============================] - 62s 75ms/step - loss: 0.8215 - accuracy: 0.6748 - val_loss: 0.5097 - val_accuracy: 0.7990\n",
      "Epoch 2/20\n",
      "755/755 [==============================] - 56s 74ms/step - loss: 0.5508 - accuracy: 0.7922 - val_loss: 0.4366 - val_accuracy: 0.8273\n",
      "Epoch 3/20\n",
      "755/755 [==============================] - 56s 73ms/step - loss: 0.4947 - accuracy: 0.8136 - val_loss: 0.4084 - val_accuracy: 0.8375\n",
      "Epoch 4/20\n",
      "755/755 [==============================] - 57s 75ms/step - loss: 0.4661 - accuracy: 0.8235 - val_loss: 0.4000 - val_accuracy: 0.8401\n",
      "Epoch 5/20\n",
      "755/755 [==============================] - 56s 74ms/step - loss: 0.4361 - accuracy: 0.8316 - val_loss: 0.4118 - val_accuracy: 0.8329\n",
      "Epoch 6/20\n",
      "755/755 [==============================] - 56s 74ms/step - loss: 0.4164 - accuracy: 0.8379 - val_loss: 0.4030 - val_accuracy: 0.8411\n",
      "Epoch 7/20\n",
      "755/755 [==============================] - 57s 75ms/step - loss: 0.4133 - accuracy: 0.8420 - val_loss: 0.4090 - val_accuracy: 0.8431\n",
      "Epoch 8/20\n",
      "755/755 [==============================] - 56s 74ms/step - loss: 0.3982 - accuracy: 0.8451 - val_loss: 0.4127 - val_accuracy: 0.8383\n",
      "Epoch 9/20\n",
      "755/755 [==============================] - 57s 75ms/step - loss: 0.3872 - accuracy: 0.8522 - val_loss: 0.3897 - val_accuracy: 0.8482\n",
      "Epoch 10/20\n",
      "755/755 [==============================] - 55s 73ms/step - loss: 0.3912 - accuracy: 0.8509 - val_loss: 0.4409 - val_accuracy: 0.8237\n",
      "Epoch 11/20\n",
      "755/755 [==============================] - 57s 75ms/step - loss: 0.3795 - accuracy: 0.8532 - val_loss: 0.3708 - val_accuracy: 0.8495\n",
      "Epoch 12/20\n",
      "755/755 [==============================] - 56s 74ms/step - loss: 0.3618 - accuracy: 0.8572 - val_loss: 0.3862 - val_accuracy: 0.8459\n",
      "Epoch 13/20\n",
      "755/755 [==============================] - 86s 114ms/step - loss: 0.3545 - accuracy: 0.8613 - val_loss: 0.4093 - val_accuracy: 0.8452\n",
      "245/245 [==============================] - 5s 19ms/step\n"
     ]
    },
    {
     "data": {
      "text/plain": [
       "(<keras.src.callbacks.History at 0x7f1a33c3da90>,\n",
       " {'confirmation': {'precision': 0.5967302452316077,\n",
       "   'recall': 0.49772727272727274,\n",
       "   'f1-score': 0.5427509293680297,\n",
       "   'support': 440},\n",
       "  'decision': {'precision': 0.7303128371089536,\n",
       "   'recall': 0.7754868270332188,\n",
       "   'f1-score': 0.7522222222222221,\n",
       "   'support': 873},\n",
       "  'encoding': {'precision': 0.8783638320775027,\n",
       "   'recall': 0.9325714285714286,\n",
       "   'f1-score': 0.9046563192904656,\n",
       "   'support': 875},\n",
       "  'pre-attentive': {'precision': 0.9277389277389277,\n",
       "   'recall': 0.9353701527614571,\n",
       "   'f1-score': 0.9315389116442365,\n",
       "   'support': 851},\n",
       "  'response': {'precision': 0.9880810488676997,\n",
       "   'recall': 0.9409761634506243,\n",
       "   'f1-score': 0.963953488372093,\n",
       "   'support': 881},\n",
       "  'accuracy': 0.8512755102040817,\n",
       "  'macro avg': {'precision': 0.8242453782049383,\n",
       "   'recall': 0.8164263689088003,\n",
       "   'f1-score': 0.8190243741794093,\n",
       "   'support': 3920},\n",
       "  'weighted avg': {'precision': 0.8491576528888034,\n",
       "   'recall': 0.8512755102040817,\n",
       "   'f1-score': 0.8492493176954464,\n",
       "   'support': 3920}})"
      ]
     },
     "execution_count": 5,
     "metadata": {},
     "output_type": "execute_result"
    }
   ],
   "source": [
    "train_and_evaluate(\n",
    "    model, train_data, val_data, test_data, epochs=20, logs_path=Path(\"logs/\")\n",
    ")"
   ]
  },
  {
   "cell_type": "code",
   "execution_count": null,
   "metadata": {},
   "outputs": [],
   "source": [
    "train_and_evaluate(\n",
    "    model,\n",
    "    train_data,\n",
    "    val_data,\n",
    "    test_data,\n",
    "    epochs=20,\n",
    "    logs_path=Path(\"logs/\"),\n",
    "    gen_kwargs={\"shape_topological\": True},\n",
    ")"
   ]
  },
  {
   "cell_type": "code",
   "execution_count": 6,
   "metadata": {},
   "outputs": [
    {
     "name": "stdout",
     "output_type": "stream",
     "text": [
      "INFO:tensorflow:Assets written to: models/cnn_base_bigger_conv/assets\n"
     ]
    },
    {
     "name": "stderr",
     "output_type": "stream",
     "text": [
      "INFO:tensorflow:Assets written to: models/cnn_base_bigger_conv/assets\n"
     ]
    }
   ],
   "source": [
    "model.save(\"models/cnn_base_bigger_conv\")"
   ]
  },
  {
   "cell_type": "code",
   "execution_count": 16,
   "metadata": {},
   "outputs": [],
   "source": [
    "# Run before re-training to clear up VRAM\n",
    "import gc\n",
    "\n",
    "gc.collect()\n",
    "tf.keras.backend.clear_session()\n",
    "del model"
   ]
  },
  {
   "cell_type": "code",
   "execution_count": 17,
   "metadata": {},
   "outputs": [
    {
     "name": "stdout",
     "output_type": "stream",
     "text": [
      "Model: \"model\"\n",
      "_________________________________________________________________\n",
      " Layer (type)                Output Shape              Param #   \n",
      "=================================================================\n",
      " input_1 (InputLayer)        [(None, 770, 30, 1)]      0         \n",
      "                                                                 \n",
      " masking (Masking)           (None, 770, 30, 1)        0         \n",
      "                                                                 \n",
      " conv2d (Conv2D)             (None, 746, 30, 64)       1664      \n",
      "                                                                 \n",
      " max_pooling2d (MaxPooling2  (None, 373, 30, 64)       0         \n",
      " D)                                                              \n",
      "                                                                 \n",
      " conv2d_1 (Conv2D)           (None, 357, 30, 128)      139392    \n",
      "                                                                 \n",
      " max_pooling2d_1 (MaxPoolin  (None, 178, 30, 128)      0         \n",
      " g2D)                                                            \n",
      "                                                                 \n",
      " conv2d_2 (Conv2D)           (None, 168, 30, 256)      360704    \n",
      "                                                                 \n",
      " max_pooling2d_2 (MaxPoolin  (None, 84, 30, 256)       0         \n",
      " g2D)                                                            \n",
      "                                                                 \n",
      " conv2d_3 (Conv2D)           (None, 80, 30, 512)       655872    \n",
      "                                                                 \n",
      " dropout (Dropout)           (None, 80, 30, 512)       0         \n",
      "                                                                 \n",
      " max_pooling2d_3 (MaxPoolin  (None, 40, 30, 512)       0         \n",
      " g2D)                                                            \n",
      "                                                                 \n",
      " conv2d_4 (Conv2D)           (None, 38, 30, 1024)      1573888   \n",
      "                                                                 \n",
      " dropout_1 (Dropout)         (None, 38, 30, 1024)      0         \n",
      "                                                                 \n",
      " max_pooling2d_4 (MaxPoolin  (None, 19, 30, 1024)      0         \n",
      " g2D)                                                            \n",
      "                                                                 \n",
      " flatten (Flatten)           (None, 583680)            0         \n",
      "                                                                 \n",
      " dense (Dense)               (None, 128)               74711168  \n",
      "                                                                 \n",
      " dropout_2 (Dropout)         (None, 128)               0         \n",
      "                                                                 \n",
      " dense_1 (Dense)             (None, 5)                 645       \n",
      "                                                                 \n",
      "=================================================================\n",
      "Total params: 77443333 (295.42 MB)\n",
      "Trainable params: 77443333 (295.42 MB)\n",
      "Non-trainable params: 0 (0.00 Byte)\n",
      "_________________________________________________________________\n"
     ]
    }
   ],
   "source": [
    "model.summary()"
   ]
  }
 ],
 "metadata": {
  "kernelspec": {
   "display_name": "thesis",
   "language": "python",
   "name": "python3"
  },
  "language_info": {
   "codemirror_mode": {
    "name": "ipython",
    "version": 3
   },
   "file_extension": ".py",
   "mimetype": "text/x-python",
   "name": "python",
   "nbconvert_exporter": "python",
   "pygments_lexer": "ipython3",
   "version": "3.11.3"
  },
  "orig_nbformat": 4
 },
 "nbformat": 4,
 "nbformat_minor": 2
}

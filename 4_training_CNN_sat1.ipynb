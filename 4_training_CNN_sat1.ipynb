{
 "cells": [
  {
   "cell_type": "code",
   "execution_count": 1,
   "metadata": {},
   "outputs": [
    {
     "name": "stderr",
     "output_type": "stream",
     "text": [
      "2023-09-28 09:41:06.423923: I tensorflow/core/platform/cpu_feature_guard.cc:182] This TensorFlow binary is optimized to use available CPU instructions in performance-critical operations.\n",
      "To enable the following instructions: AVX2 FMA, in other operations, rebuild TensorFlow with the appropriate compiler flags.\n",
      "2023-09-28 09:41:06.939056: W tensorflow/compiler/tf2tensorrt/utils/py_utils.cc:38] TF-TRT Warning: Could not find TensorRT\n"
     ]
    },
    {
     "name": "stdout",
     "output_type": "stream",
     "text": [
      "env: TF_FORCE_GPU_ALLOW_GROWTH=true\n",
      "env: TF_GPU_ALLOCATOR=cuda_malloc_async\n"
     ]
    }
   ],
   "source": [
    "%load_ext autoreload\n",
    "%autoreload 2\n",
    "import numpy as np\n",
    "from pathlib import Path\n",
    "import xarray as xr\n",
    "import tensorflow as tf\n",
    "from shared.models import *\n",
    "from shared.utilities import *\n",
    "from shared.training import train_and_evaluate, split_data_on_participants, k_fold_cross_validate\n",
    "from shared.normalization import *\n",
    "from shared.generators import *\n",
    "%env TF_FORCE_GPU_ALLOW_GROWTH=true\n",
    "%env TF_GPU_ALLOCATOR=cuda_malloc_async"
   ]
  },
  {
   "cell_type": "markdown",
   "metadata": {},
   "source": [
    "### Set up data"
   ]
  },
  {
   "cell_type": "code",
   "execution_count": 2,
   "metadata": {},
   "outputs": [],
   "source": [
    "data_path = Path(\"data/sat1/split_stage_data.nc\")\n",
    "\n",
    "data = xr.load_dataset(data_path)"
   ]
  },
  {
   "cell_type": "code",
   "execution_count": 2,
   "metadata": {},
   "outputs": [],
   "source": [
    "data_path = Path(\"data/sat1/split_stage_data_unprocessed_500hz.nc\")\n",
    "\n",
    "data = xr.load_dataset(data_path)"
   ]
  },
  {
   "cell_type": "code",
   "execution_count": 3,
   "metadata": {},
   "outputs": [],
   "source": [
    "train_data, val_data, test_data = split_data_on_participants(data, 60, norm_dummy)"
   ]
  },
  {
   "cell_type": "code",
   "execution_count": 4,
   "metadata": {},
   "outputs": [
    {
     "name": "stderr",
     "output_type": "stream",
     "text": [
      "2023-09-25 14:13:55.562065: I tensorflow/compiler/xla/stream_executor/cuda/cuda_gpu_executor.cc:981] could not open file to read NUMA node: /sys/bus/pci/devices/0000:07:00.0/numa_node\n",
      "Your kernel may have been built without NUMA support.\n",
      "2023-09-25 14:13:55.676804: I tensorflow/compiler/xla/stream_executor/cuda/cuda_gpu_executor.cc:981] could not open file to read NUMA node: /sys/bus/pci/devices/0000:07:00.0/numa_node\n",
      "Your kernel may have been built without NUMA support.\n",
      "2023-09-25 14:13:55.676875: I tensorflow/compiler/xla/stream_executor/cuda/cuda_gpu_executor.cc:981] could not open file to read NUMA node: /sys/bus/pci/devices/0000:07:00.0/numa_node\n",
      "Your kernel may have been built without NUMA support.\n",
      "2023-09-25 14:13:55.684773: I tensorflow/compiler/xla/stream_executor/cuda/cuda_gpu_executor.cc:981] could not open file to read NUMA node: /sys/bus/pci/devices/0000:07:00.0/numa_node\n",
      "Your kernel may have been built without NUMA support.\n",
      "2023-09-25 14:13:55.684828: I tensorflow/compiler/xla/stream_executor/cuda/cuda_gpu_executor.cc:981] could not open file to read NUMA node: /sys/bus/pci/devices/0000:07:00.0/numa_node\n",
      "Your kernel may have been built without NUMA support.\n",
      "2023-09-25 14:13:55.684870: I tensorflow/compiler/xla/stream_executor/cuda/cuda_gpu_executor.cc:981] could not open file to read NUMA node: /sys/bus/pci/devices/0000:07:00.0/numa_node\n",
      "Your kernel may have been built without NUMA support.\n",
      "2023-09-25 14:13:56.505738: I tensorflow/compiler/xla/stream_executor/cuda/cuda_gpu_executor.cc:981] could not open file to read NUMA node: /sys/bus/pci/devices/0000:07:00.0/numa_node\n",
      "Your kernel may have been built without NUMA support.\n",
      "2023-09-25 14:13:56.505811: I tensorflow/compiler/xla/stream_executor/cuda/cuda_gpu_executor.cc:981] could not open file to read NUMA node: /sys/bus/pci/devices/0000:07:00.0/numa_node\n",
      "Your kernel may have been built without NUMA support.\n",
      "2023-09-25 14:13:56.505819: I tensorflow/core/common_runtime/gpu/gpu_device.cc:1726] Could not identify NUMA node of platform GPU id 0, defaulting to 0.  Your kernel may not have been built with NUMA support.\n",
      "2023-09-25 14:13:56.505864: I tensorflow/compiler/xla/stream_executor/cuda/cuda_gpu_executor.cc:981] could not open file to read NUMA node: /sys/bus/pci/devices/0000:07:00.0/numa_node\n",
      "Your kernel may have been built without NUMA support.\n",
      "2023-09-25 14:13:56.505874: W tensorflow/core/common_runtime/gpu/gpu_bfc_allocator.cc:47] Overriding orig_value setting because the TF_FORCE_GPU_ALLOW_GROWTH environment variable is set. Original config value was 0.\n",
      "2023-09-25 14:13:56.505879: I tensorflow/core/common_runtime/gpu/gpu_process_state.cc:227] Using CUDA malloc Async allocator for GPU: 0\n",
      "2023-09-25 14:13:56.505991: I tensorflow/core/common_runtime/gpu/gpu_device.cc:1639] Created device /job:localhost/replica:0/task:0/device:GPU:0 with 21598 MB memory:  -> device: 0, name: NVIDIA GeForce RTX 3090, pci bus id: 0000:07:00.0, compute capability: 8.6\n"
     ]
    }
   ],
   "source": [
    "model = SAT1Deep(len(data.channels), len(data.samples), len(data.labels))\n",
    "model.compile(\n",
    "    optimizer=tf.keras.optimizers.Adam(learning_rate=0.00001),\n",
    "    loss=tf.keras.losses.SparseCategoricalCrossentropy(),\n",
    "    metrics=[\"accuracy\"],\n",
    ")"
   ]
  },
  {
   "cell_type": "code",
   "execution_count": 20,
   "metadata": {},
   "outputs": [],
   "source": [
    "model = SAT1TopologicalConv(5, 8, len(data.samples), len(data.labels))\n",
    "model.compile(\n",
    "    optimizer=tf.keras.optimizers.Adam(learning_rate=0.0001),\n",
    "    loss=tf.keras.losses.SparseCategoricalCrossentropy(),\n",
    "    metrics=[\"accuracy\"],\n",
    ")"
   ]
  },
  {
   "cell_type": "code",
   "execution_count": 4,
   "metadata": {},
   "outputs": [
    {
     "name": "stderr",
     "output_type": "stream",
     "text": [
      "2023-09-28 09:41:14.302183: I tensorflow/compiler/xla/stream_executor/cuda/cuda_gpu_executor.cc:981] could not open file to read NUMA node: /sys/bus/pci/devices/0000:07:00.0/numa_node\n",
      "Your kernel may have been built without NUMA support.\n",
      "2023-09-28 09:41:14.399367: I tensorflow/compiler/xla/stream_executor/cuda/cuda_gpu_executor.cc:981] could not open file to read NUMA node: /sys/bus/pci/devices/0000:07:00.0/numa_node\n",
      "Your kernel may have been built without NUMA support.\n",
      "2023-09-28 09:41:14.399447: I tensorflow/compiler/xla/stream_executor/cuda/cuda_gpu_executor.cc:981] could not open file to read NUMA node: /sys/bus/pci/devices/0000:07:00.0/numa_node\n",
      "Your kernel may have been built without NUMA support.\n",
      "2023-09-28 09:41:14.401945: I tensorflow/compiler/xla/stream_executor/cuda/cuda_gpu_executor.cc:981] could not open file to read NUMA node: /sys/bus/pci/devices/0000:07:00.0/numa_node\n",
      "Your kernel may have been built without NUMA support.\n",
      "2023-09-28 09:41:14.402003: I tensorflow/compiler/xla/stream_executor/cuda/cuda_gpu_executor.cc:981] could not open file to read NUMA node: /sys/bus/pci/devices/0000:07:00.0/numa_node\n",
      "Your kernel may have been built without NUMA support.\n",
      "2023-09-28 09:41:14.402049: I tensorflow/compiler/xla/stream_executor/cuda/cuda_gpu_executor.cc:981] could not open file to read NUMA node: /sys/bus/pci/devices/0000:07:00.0/numa_node\n",
      "Your kernel may have been built without NUMA support.\n",
      "2023-09-28 09:41:15.244228: I tensorflow/compiler/xla/stream_executor/cuda/cuda_gpu_executor.cc:981] could not open file to read NUMA node: /sys/bus/pci/devices/0000:07:00.0/numa_node\n",
      "Your kernel may have been built without NUMA support.\n",
      "2023-09-28 09:41:15.244305: I tensorflow/compiler/xla/stream_executor/cuda/cuda_gpu_executor.cc:981] could not open file to read NUMA node: /sys/bus/pci/devices/0000:07:00.0/numa_node\n",
      "Your kernel may have been built without NUMA support.\n",
      "2023-09-28 09:41:15.244312: I tensorflow/core/common_runtime/gpu/gpu_device.cc:1726] Could not identify NUMA node of platform GPU id 0, defaulting to 0.  Your kernel may not have been built with NUMA support.\n",
      "2023-09-28 09:41:15.244358: I tensorflow/compiler/xla/stream_executor/cuda/cuda_gpu_executor.cc:981] could not open file to read NUMA node: /sys/bus/pci/devices/0000:07:00.0/numa_node\n",
      "Your kernel may have been built without NUMA support.\n",
      "2023-09-28 09:41:15.244367: W tensorflow/core/common_runtime/gpu/gpu_bfc_allocator.cc:47] Overriding orig_value setting because the TF_FORCE_GPU_ALLOW_GROWTH environment variable is set. Original config value was 0.\n",
      "2023-09-28 09:41:15.244372: I tensorflow/core/common_runtime/gpu/gpu_process_state.cc:227] Using CUDA malloc Async allocator for GPU: 0\n",
      "2023-09-28 09:41:15.244474: I tensorflow/core/common_runtime/gpu/gpu_device.cc:1639] Created device /job:localhost/replica:0/task:0/device:GPU:0 with 21598 MB memory:  -> device: 0, name: NVIDIA GeForce RTX 3090, pci bus id: 0000:07:00.0, compute capability: 8.6\n"
     ]
    }
   ],
   "source": [
    "model = SAT1Base(len(data.channels), len(data.samples), len(data.labels))\n",
    "model.compile(\n",
    "    optimizer=tf.keras.optimizers.Adam(learning_rate=0.0001),\n",
    "    loss=tf.keras.losses.SparseCategoricalCrossentropy(),\n",
    "    metrics=[\"accuracy\"],\n",
    ")"
   ]
  },
  {
   "cell_type": "code",
   "execution_count": 6,
   "metadata": {},
   "outputs": [
    {
     "name": "stdout",
     "output_type": "stream",
     "text": [
      "Epoch 1/20\n"
     ]
    },
    {
     "name": "stderr",
     "output_type": "stream",
     "text": [
      "2023-09-28 09:41:33.699547: I tensorflow/compiler/xla/stream_executor/cuda/cuda_dnn.cc:432] Loaded cuDNN version 8600\n",
      "2023-09-28 09:41:35.126021: I tensorflow/compiler/xla/stream_executor/cuda/cuda_blas.cc:606] TensorFloat-32 will be used for the matrix multiplication. This will only be logged once.\n",
      "2023-09-28 09:41:35.139844: I tensorflow/compiler/xla/service/service.cc:168] XLA service 0x562506be52d0 initialized for platform CUDA (this does not guarantee that XLA will be used). Devices:\n",
      "2023-09-28 09:41:35.139874: I tensorflow/compiler/xla/service/service.cc:176]   StreamExecutor device (0): NVIDIA GeForce RTX 3090, Compute Capability 8.6\n",
      "2023-09-28 09:41:35.162536: I tensorflow/compiler/mlir/tensorflow/utils/dump_mlir_util.cc:255] disabling MLIR crash reproducer, set env var `MLIR_CRASH_REPRODUCER_DIRECTORY` to enable.\n",
      "2023-09-28 09:41:35.329644: I ./tensorflow/compiler/jit/device_compiler.h:186] Compiled cluster using XLA!  This line is logged at most once for the lifetime of the process.\n"
     ]
    },
    {
     "name": "stdout",
     "output_type": "stream",
     "text": [
      "765/765 [==============================] - 16s 14ms/step - loss: 0.8571 - accuracy: 0.6727 - val_loss: 0.6429 - val_accuracy: 0.7602\n",
      "Epoch 2/20\n",
      "765/765 [==============================] - 11s 14ms/step - loss: 0.6112 - accuracy: 0.7775 - val_loss: 0.5544 - val_accuracy: 0.7876\n",
      "Epoch 3/20\n",
      "765/765 [==============================] - 11s 14ms/step - loss: 0.5227 - accuracy: 0.8045 - val_loss: 0.5337 - val_accuracy: 0.8065\n",
      "Epoch 4/20\n",
      "765/765 [==============================] - 11s 14ms/step - loss: 0.4825 - accuracy: 0.8220 - val_loss: 0.5014 - val_accuracy: 0.8083\n",
      "Epoch 5/20\n",
      "765/765 [==============================] - 11s 14ms/step - loss: 0.4389 - accuracy: 0.8392 - val_loss: 0.5255 - val_accuracy: 0.8123\n",
      "Epoch 6/20\n",
      "765/765 [==============================] - 11s 14ms/step - loss: 0.4050 - accuracy: 0.8537 - val_loss: 0.4854 - val_accuracy: 0.8210\n",
      "Epoch 7/20\n",
      "765/765 [==============================] - 11s 14ms/step - loss: 0.3655 - accuracy: 0.8658 - val_loss: 0.4938 - val_accuracy: 0.8220\n",
      "Epoch 8/20\n",
      "765/765 [==============================] - 11s 14ms/step - loss: 0.3409 - accuracy: 0.8725 - val_loss: 0.5024 - val_accuracy: 0.8192\n",
      "Epoch 9/20\n",
      "765/765 [==============================] - 11s 14ms/step - loss: 0.3202 - accuracy: 0.8820 - val_loss: 0.5128 - val_accuracy: 0.8289\n",
      "Epoch 10/20\n",
      "765/765 [==============================] - 11s 14ms/step - loss: 0.2981 - accuracy: 0.8896 - val_loss: 0.5197 - val_accuracy: 0.8235\n",
      "Epoch 11/20\n",
      "765/765 [==============================] - 11s 14ms/step - loss: 0.2821 - accuracy: 0.8993 - val_loss: 0.5269 - val_accuracy: 0.8225\n",
      "247/247 [==============================] - 3s 10ms/step\n"
     ]
    },
    {
     "data": {
      "text/plain": [
       "(<keras.src.callbacks.History at 0x7f306fb7f550>, None)"
      ]
     },
     "execution_count": 6,
     "metadata": {},
     "output_type": "execute_result"
    }
   ],
   "source": [
    "train_and_evaluate(\n",
    "    model,\n",
    "    train_data,\n",
    "    val_data,\n",
    "    test_data,\n",
    "    epochs=20,\n",
    "    logs_path=Path(\"logs/\")\n",
    ")"
   ]
  },
  {
   "cell_type": "code",
   "execution_count": 21,
   "metadata": {},
   "outputs": [
    {
     "name": "stdout",
     "output_type": "stream",
     "text": [
      "Epoch 1/20\n",
      "765/765 [==============================] - 12s 14ms/step - loss: 0.7901 - accuracy: 0.6996 - val_loss: 0.6132 - val_accuracy: 0.7712\n",
      "Epoch 2/20\n",
      "765/765 [==============================] - 10s 13ms/step - loss: 0.5591 - accuracy: 0.7946 - val_loss: 0.5193 - val_accuracy: 0.8043\n",
      "Epoch 3/20\n",
      "765/765 [==============================] - 10s 13ms/step - loss: 0.4688 - accuracy: 0.8308 - val_loss: 0.5023 - val_accuracy: 0.8147\n",
      "Epoch 4/20\n",
      "765/765 [==============================] - 10s 13ms/step - loss: 0.4113 - accuracy: 0.8460 - val_loss: 0.4798 - val_accuracy: 0.8274\n",
      "Epoch 5/20\n",
      "765/765 [==============================] - 10s 13ms/step - loss: 0.3623 - accuracy: 0.8669 - val_loss: 0.4723 - val_accuracy: 0.8294\n",
      "Epoch 6/20\n",
      "765/765 [==============================] - 11s 14ms/step - loss: 0.3210 - accuracy: 0.8834 - val_loss: 0.4800 - val_accuracy: 0.8329\n",
      "Epoch 7/20\n",
      "765/765 [==============================] - 11s 14ms/step - loss: 0.2844 - accuracy: 0.8963 - val_loss: 0.4799 - val_accuracy: 0.8386\n",
      "Epoch 8/20\n",
      "765/765 [==============================] - 11s 14ms/step - loss: 0.2622 - accuracy: 0.9030 - val_loss: 0.4647 - val_accuracy: 0.8396\n",
      "Epoch 9/20\n",
      "765/765 [==============================] - 11s 13ms/step - loss: 0.2369 - accuracy: 0.9155 - val_loss: 0.5026 - val_accuracy: 0.8416\n",
      "Epoch 10/20\n",
      "765/765 [==============================] - 11s 13ms/step - loss: 0.2018 - accuracy: 0.9288 - val_loss: 0.5008 - val_accuracy: 0.8454\n",
      "Epoch 11/20\n",
      "765/765 [==============================] - 10s 13ms/step - loss: 0.1874 - accuracy: 0.9348 - val_loss: 0.5232 - val_accuracy: 0.8446\n",
      "Epoch 12/20\n",
      "765/765 [==============================] - 11s 14ms/step - loss: 0.1652 - accuracy: 0.9426 - val_loss: 0.5832 - val_accuracy: 0.8451\n",
      "247/247 [==============================] - 3s 10ms/step\n"
     ]
    },
    {
     "data": {
      "text/plain": [
       "(<keras.src.callbacks.History at 0x7fa497865d50>, None)"
      ]
     },
     "execution_count": 21,
     "metadata": {},
     "output_type": "execute_result"
    },
    {
     "ename": "",
     "evalue": "",
     "output_type": "error",
     "traceback": [
      "\u001b[1;31mThe Kernel crashed while executing code in the the current cell or a previous cell. Please review the code in the cell(s) to identify a possible cause of the failure. Click <a href='https://aka.ms/vscodeJupyterKernelCrash'>here</a> for more info. View Jupyter <a href='command:jupyter.viewOutput'>log</a> for further details."
     ]
    }
   ],
   "source": [
    "train_and_evaluate(\n",
    "    model,\n",
    "    train_data,\n",
    "    val_data,\n",
    "    test_data,\n",
    "    epochs=20,\n",
    "    logs_path=Path(\"logs/\"),\n",
    "    gen_kwargs={\"shape_topological\": True},\n",
    ")"
   ]
  },
  {
   "cell_type": "code",
   "execution_count": 19,
   "metadata": {},
   "outputs": [],
   "source": [
    "# Run before re-training to clear up VRAM\n",
    "import gc\n",
    "\n",
    "gc.collect()\n",
    "tf.keras.backend.clear_session()\n",
    "del model"
   ]
  },
  {
   "cell_type": "code",
   "execution_count": 5,
   "metadata": {},
   "outputs": [
    {
     "name": "stdout",
     "output_type": "stream",
     "text": [
      "Model: \"model\"\n",
      "_________________________________________________________________\n",
      " Layer (type)                Output Shape              Param #   \n",
      "=================================================================\n",
      " input_1 (InputLayer)        [(None, 154, 30, 1)]      0         \n",
      "                                                                 \n",
      " masking (Masking)           (None, 154, 30, 1)        0         \n",
      "                                                                 \n",
      " conv2d (Conv2D)             (None, 150, 30, 64)       384       \n",
      "                                                                 \n",
      " max_pooling2d (MaxPooling2  (None, 75, 30, 64)        0         \n",
      " D)                                                              \n",
      "                                                                 \n",
      " conv2d_1 (Conv2D)           (None, 73, 30, 128)       24704     \n",
      "                                                                 \n",
      " max_pooling2d_1 (MaxPoolin  (None, 36, 30, 128)       0         \n",
      " g2D)                                                            \n",
      "                                                                 \n",
      " conv2d_2 (Conv2D)           (None, 34, 30, 256)       98560     \n",
      "                                                                 \n",
      " max_pooling2d_2 (MaxPoolin  (None, 17, 30, 256)       0         \n",
      " g2D)                                                            \n",
      "                                                                 \n",
      " flatten (Flatten)           (None, 130560)            0         \n",
      "                                                                 \n",
      " dense (Dense)               (None, 128)               16711808  \n",
      "                                                                 \n",
      " dropout (Dropout)           (None, 128)               0         \n",
      "                                                                 \n",
      " dense_1 (Dense)             (None, 5)                 645       \n",
      "                                                                 \n",
      "=================================================================\n",
      "Total params: 16836101 (64.22 MB)\n",
      "Trainable params: 16836101 (64.22 MB)\n",
      "Non-trainable params: 0 (0.00 Byte)\n",
      "_________________________________________________________________\n"
     ]
    }
   ],
   "source": [
    "model.summary()"
   ]
  }
 ],
 "metadata": {
  "kernelspec": {
   "display_name": "thesis",
   "language": "python",
   "name": "python3"
  },
  "language_info": {
   "codemirror_mode": {
    "name": "ipython",
    "version": 3
   },
   "file_extension": ".py",
   "mimetype": "text/x-python",
   "name": "python",
   "nbconvert_exporter": "python",
   "pygments_lexer": "ipython3",
   "version": "3.11.3"
  },
  "orig_nbformat": 4
 },
 "nbformat": 4,
 "nbformat_minor": 2
}

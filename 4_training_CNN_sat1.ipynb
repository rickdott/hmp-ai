{
 "cells": [
  {
   "cell_type": "code",
   "execution_count": 1,
   "metadata": {},
   "outputs": [
    {
     "name": "stderr",
     "output_type": "stream",
     "text": [
      "2023-10-17 15:33:50.758520: I tensorflow/core/platform/cpu_feature_guard.cc:182] This TensorFlow binary is optimized to use available CPU instructions in performance-critical operations.\n",
      "To enable the following instructions: AVX2 FMA, in other operations, rebuild TensorFlow with the appropriate compiler flags.\n",
      "2023-10-17 15:33:51.350129: W tensorflow/compiler/tf2tensorrt/utils/py_utils.cc:38] TF-TRT Warning: Could not find TensorRT\n"
     ]
    },
    {
     "name": "stdout",
     "output_type": "stream",
     "text": [
      "env: TF_FORCE_GPU_ALLOW_GROWTH=true\n",
      "env: TF_GPU_ALLOCATOR=cuda_malloc_async\n"
     ]
    }
   ],
   "source": [
    "%load_ext autoreload\n",
    "%autoreload 2\n",
    "import numpy as np\n",
    "from pathlib import Path\n",
    "import xarray as xr\n",
    "import tensorflow as tf\n",
    "from shared.models import *\n",
    "from shared.utilities import *\n",
    "from shared.training import train_and_evaluate, split_data_on_participants, k_fold_cross_validate, get_compile_kwargs\n",
    "from shared.normalization import *\n",
    "from shared.generators import *\n",
    "%env TF_FORCE_GPU_ALLOW_GROWTH=true\n",
    "%env TF_GPU_ALLOCATOR=cuda_malloc_async"
   ]
  },
  {
   "cell_type": "markdown",
   "metadata": {},
   "source": [
    "### Set up data"
   ]
  },
  {
   "cell_type": "code",
   "execution_count": 2,
   "metadata": {},
   "outputs": [],
   "source": [
    "data_path = Path(\"data/sat1/split_stage_data.nc\")\n",
    "\n",
    "data = xr.load_dataset(data_path)"
   ]
  },
  {
   "cell_type": "code",
   "execution_count": 2,
   "metadata": {},
   "outputs": [],
   "source": [
    "data_path = Path(\"data/sat1/split_stage_data_unprocessed_500hz.nc\")\n",
    "\n",
    "data = xr.load_dataset(data_path)"
   ]
  },
  {
   "cell_type": "code",
   "execution_count": 3,
   "metadata": {},
   "outputs": [],
   "source": [
    "train_data, val_data, test_data = split_data_on_participants(data, 60, norm_dummy)"
   ]
  },
  {
   "cell_type": "code",
   "execution_count": 4,
   "metadata": {},
   "outputs": [],
   "source": [
    "model = SAT1Deep(len(data.channels), len(data.samples), len(data.labels))\n",
    "model.compile(**get_compile_kwargs())"
   ]
  },
  {
   "cell_type": "code",
   "execution_count": 3,
   "metadata": {},
   "outputs": [],
   "source": [
    "model = SAT1TopologicalConv(5, 8, len(data.samples), len(data.labels))\n",
    "model.compile(**get_compile_kwargs())"
   ]
  },
  {
   "cell_type": "code",
   "execution_count": 4,
   "metadata": {},
   "outputs": [
    {
     "name": "stderr",
     "output_type": "stream",
     "text": [
      "2023-10-17 15:33:56.165856: I tensorflow/compiler/xla/stream_executor/cuda/cuda_gpu_executor.cc:981] could not open file to read NUMA node: /sys/bus/pci/devices/0000:07:00.0/numa_node\n",
      "Your kernel may have been built without NUMA support.\n",
      "2023-10-17 15:33:56.197752: I tensorflow/compiler/xla/stream_executor/cuda/cuda_gpu_executor.cc:981] could not open file to read NUMA node: /sys/bus/pci/devices/0000:07:00.0/numa_node\n",
      "Your kernel may have been built without NUMA support.\n",
      "2023-10-17 15:33:56.197836: I tensorflow/compiler/xla/stream_executor/cuda/cuda_gpu_executor.cc:981] could not open file to read NUMA node: /sys/bus/pci/devices/0000:07:00.0/numa_node\n",
      "Your kernel may have been built without NUMA support.\n",
      "2023-10-17 15:33:56.201380: I tensorflow/compiler/xla/stream_executor/cuda/cuda_gpu_executor.cc:981] could not open file to read NUMA node: /sys/bus/pci/devices/0000:07:00.0/numa_node\n",
      "Your kernel may have been built without NUMA support.\n",
      "2023-10-17 15:33:56.201455: I tensorflow/compiler/xla/stream_executor/cuda/cuda_gpu_executor.cc:981] could not open file to read NUMA node: /sys/bus/pci/devices/0000:07:00.0/numa_node\n",
      "Your kernel may have been built without NUMA support.\n",
      "2023-10-17 15:33:56.201510: I tensorflow/compiler/xla/stream_executor/cuda/cuda_gpu_executor.cc:981] could not open file to read NUMA node: /sys/bus/pci/devices/0000:07:00.0/numa_node\n",
      "Your kernel may have been built without NUMA support.\n",
      "2023-10-17 15:33:56.695177: I tensorflow/compiler/xla/stream_executor/cuda/cuda_gpu_executor.cc:981] could not open file to read NUMA node: /sys/bus/pci/devices/0000:07:00.0/numa_node\n",
      "Your kernel may have been built without NUMA support.\n",
      "2023-10-17 15:33:56.695269: I tensorflow/compiler/xla/stream_executor/cuda/cuda_gpu_executor.cc:981] could not open file to read NUMA node: /sys/bus/pci/devices/0000:07:00.0/numa_node\n",
      "Your kernel may have been built without NUMA support.\n",
      "2023-10-17 15:33:56.695278: I tensorflow/core/common_runtime/gpu/gpu_device.cc:1726] Could not identify NUMA node of platform GPU id 0, defaulting to 0.  Your kernel may not have been built with NUMA support.\n",
      "2023-10-17 15:33:56.695337: I tensorflow/compiler/xla/stream_executor/cuda/cuda_gpu_executor.cc:981] could not open file to read NUMA node: /sys/bus/pci/devices/0000:07:00.0/numa_node\n",
      "Your kernel may have been built without NUMA support.\n",
      "2023-10-17 15:33:56.695348: W tensorflow/core/common_runtime/gpu/gpu_bfc_allocator.cc:47] Overriding orig_value setting because the TF_FORCE_GPU_ALLOW_GROWTH environment variable is set. Original config value was 0.\n",
      "2023-10-17 15:33:56.695354: I tensorflow/core/common_runtime/gpu/gpu_process_state.cc:227] Using CUDA malloc Async allocator for GPU: 0\n",
      "2023-10-17 15:33:56.695474: I tensorflow/core/common_runtime/gpu/gpu_device.cc:1639] Created device /job:localhost/replica:0/task:0/device:GPU:0 with 21598 MB memory:  -> device: 0, name: NVIDIA GeForce RTX 3090, pci bus id: 0000:07:00.0, compute capability: 8.6\n"
     ]
    }
   ],
   "source": [
    "model = SAT1Base(len(data.channels), len(data.samples), len(data.labels))\n",
    "model.compile(**get_compile_kwargs())"
   ]
  },
  {
   "cell_type": "code",
   "execution_count": 6,
   "metadata": {},
   "outputs": [
    {
     "name": "stdout",
     "output_type": "stream",
     "text": [
      "Epoch 1/20\n"
     ]
    },
    {
     "name": "stderr",
     "output_type": "stream",
     "text": [
      "2023-10-17 15:34:26.497756: I tensorflow/compiler/xla/stream_executor/cuda/cuda_dnn.cc:432] Loaded cuDNN version 8600\n",
      "2023-10-17 15:34:27.395787: I tensorflow/compiler/xla/stream_executor/cuda/cuda_blas.cc:606] TensorFloat-32 will be used for the matrix multiplication. This will only be logged once.\n",
      "2023-10-17 15:34:27.713505: I tensorflow/compiler/xla/service/service.cc:168] XLA service 0x5556200fc970 initialized for platform CUDA (this does not guarantee that XLA will be used). Devices:\n",
      "2023-10-17 15:34:27.713538: I tensorflow/compiler/xla/service/service.cc:176]   StreamExecutor device (0): NVIDIA GeForce RTX 3090, Compute Capability 8.6\n",
      "2023-10-17 15:34:27.720016: I tensorflow/compiler/mlir/tensorflow/utils/dump_mlir_util.cc:255] disabling MLIR crash reproducer, set env var `MLIR_CRASH_REPRODUCER_DIRECTORY` to enable.\n",
      "2023-10-17 15:34:27.828827: I ./tensorflow/compiler/jit/device_compiler.h:186] Compiled cluster using XLA!  This line is logged at most once for the lifetime of the process.\n"
     ]
    },
    {
     "name": "stdout",
     "output_type": "stream",
     "text": [
      "757/757 [==============================] - 16s 16ms/step - loss: 3.9849 - accuracy: 0.7077 - val_loss: 0.5730 - val_accuracy: 0.7904\n",
      "Epoch 2/20\n",
      "757/757 [==============================] - 12s 16ms/step - loss: 2.9211 - accuracy: 0.7929 - val_loss: 0.5205 - val_accuracy: 0.8052\n",
      "Epoch 3/20\n",
      "757/757 [==============================] - 12s 16ms/step - loss: 2.5946 - accuracy: 0.8076 - val_loss: 0.5396 - val_accuracy: 0.8027\n",
      "Epoch 4/20\n",
      "757/757 [==============================] - 12s 16ms/step - loss: 2.3006 - accuracy: 0.8259 - val_loss: 0.5285 - val_accuracy: 0.8130\n",
      "Epoch 5/20\n",
      "757/757 [==============================] - 12s 16ms/step - loss: 2.1000 - accuracy: 0.8464 - val_loss: 0.5234 - val_accuracy: 0.8243\n",
      "Epoch 6/20\n",
      "757/757 [==============================] - 12s 16ms/step - loss: 1.9111 - accuracy: 0.8596 - val_loss: 0.5214 - val_accuracy: 0.8200\n",
      "Epoch 7/20\n",
      "757/757 [==============================] - 12s 16ms/step - loss: 1.7053 - accuracy: 0.8719 - val_loss: 0.5899 - val_accuracy: 0.8102\n",
      "Epoch 8/20\n",
      "757/757 [==============================] - 12s 16ms/step - loss: 1.6051 - accuracy: 0.8811 - val_loss: 0.6011 - val_accuracy: 0.8130\n",
      "Epoch 9/20\n",
      "757/757 [==============================] - 12s 16ms/step - loss: 1.5143 - accuracy: 0.8876 - val_loss: 0.5737 - val_accuracy: 0.8188\n",
      "245/245 [==============================] - 3s 11ms/step\n"
     ]
    },
    {
     "data": {
      "text/plain": [
       "(<keras.src.callbacks.History at 0x7f65cac0a9d0>,\n",
       " {'confirmation': {'precision': 0.8645598194130926,\n",
       "   'recall': 0.8724373576309795,\n",
       "   'f1-score': 0.8684807256235828,\n",
       "   'support': 439},\n",
       "  'decision': {'precision': 0.8731428571428571,\n",
       "   'recall': 0.8691695108077361,\n",
       "   'f1-score': 0.87115165336374,\n",
       "   'support': 879},\n",
       "  'encoding': {'precision': 0.8428731762065096,\n",
       "   'recall': 0.8592677345537757,\n",
       "   'f1-score': 0.8509915014164304,\n",
       "   'support': 874},\n",
       "  'pre-attentive': {'precision': 0.7732079905992949,\n",
       "   'recall': 0.7750294464075382,\n",
       "   'f1-score': 0.7741176470588235,\n",
       "   'support': 849},\n",
       "  'response': {'precision': 0.8813953488372093,\n",
       "   'recall': 0.8623435722411832,\n",
       "   'f1-score': 0.8717653824036803,\n",
       "   'support': 879},\n",
       "  'accuracy': 0.8454081632653061,\n",
       "  'macro avg': {'precision': 0.8470358384397926,\n",
       "   'recall': 0.8476495243282425,\n",
       "   'f1-score': 0.8473013819732514,\n",
       "   'support': 3920},\n",
       "  'weighted avg': {'precision': 0.8456391795413563,\n",
       "   'recall': 0.8454081632653061,\n",
       "   'f1-score': 0.8454794815253103,\n",
       "   'support': 3920}})"
      ]
     },
     "execution_count": 6,
     "metadata": {},
     "output_type": "execute_result"
    }
   ],
   "source": [
    "train_and_evaluate(\n",
    "    model, train_data, val_data, test_data, epochs=20, logs_path=Path(\"logs/\")\n",
    ")"
   ]
  },
  {
   "cell_type": "code",
   "execution_count": 6,
   "metadata": {},
   "outputs": [
    {
     "name": "stdout",
     "output_type": "stream",
     "text": [
      "Epoch 1/20\n"
     ]
    },
    {
     "name": "stderr",
     "output_type": "stream",
     "text": [
      "2023-10-16 17:56:22.072552: I tensorflow/compiler/xla/stream_executor/cuda/cuda_dnn.cc:432] Loaded cuDNN version 8600\n",
      "2023-10-16 17:56:23.211803: I tensorflow/compiler/xla/stream_executor/cuda/cuda_blas.cc:606] TensorFloat-32 will be used for the matrix multiplication. This will only be logged once.\n",
      "2023-10-16 17:56:23.214383: I tensorflow/compiler/xla/service/service.cc:168] XLA service 0x560c18811bc0 initialized for platform CUDA (this does not guarantee that XLA will be used). Devices:\n",
      "2023-10-16 17:56:23.214413: I tensorflow/compiler/xla/service/service.cc:176]   StreamExecutor device (0): NVIDIA GeForce RTX 3090, Compute Capability 8.6\n",
      "2023-10-16 17:56:23.218391: I tensorflow/compiler/mlir/tensorflow/utils/dump_mlir_util.cc:255] disabling MLIR crash reproducer, set env var `MLIR_CRASH_REPRODUCER_DIRECTORY` to enable.\n",
      "2023-10-16 17:56:23.319523: I ./tensorflow/compiler/jit/device_compiler.h:186] Compiled cluster using XLA!  This line is logged at most once for the lifetime of the process.\n"
     ]
    },
    {
     "name": "stdout",
     "output_type": "stream",
     "text": [
      "766/766 [==============================] - 15s 15ms/step - loss: 4.6273 - accuracy: 0.6462 - val_loss: 0.7667 - val_accuracy: 0.7159\n",
      "Epoch 2/20\n",
      "766/766 [==============================] - 11s 14ms/step - loss: 3.8111 - accuracy: 0.7135 - val_loss: 0.7017 - val_accuracy: 0.7410\n",
      "Epoch 3/20\n",
      "766/766 [==============================] - 11s 14ms/step - loss: 3.4588 - accuracy: 0.7396 - val_loss: 0.7502 - val_accuracy: 0.7211\n",
      "Epoch 4/20\n",
      "766/766 [==============================] - 11s 14ms/step - loss: 3.2057 - accuracy: 0.7578 - val_loss: 0.7378 - val_accuracy: 0.7316\n",
      "Epoch 5/20\n",
      "766/766 [==============================] - 11s 14ms/step - loss: 2.9099 - accuracy: 0.7833 - val_loss: 0.7534 - val_accuracy: 0.7341\n",
      "Epoch 6/20\n",
      "766/766 [==============================] - 11s 14ms/step - loss: 2.7166 - accuracy: 0.7973 - val_loss: 0.7580 - val_accuracy: 0.7413\n",
      "Epoch 7/20\n",
      "766/766 [==============================] - 11s 14ms/step - loss: 2.4396 - accuracy: 0.8132 - val_loss: 0.7722 - val_accuracy: 0.7453\n",
      "Epoch 8/20\n",
      "766/766 [==============================] - 11s 14ms/step - loss: 2.2266 - accuracy: 0.8296 - val_loss: 0.8065 - val_accuracy: 0.7308\n",
      "Epoch 9/20\n",
      "766/766 [==============================] - 11s 14ms/step - loss: 1.9918 - accuracy: 0.8437 - val_loss: 0.9195 - val_accuracy: 0.7266\n",
      "Epoch 10/20\n",
      "766/766 [==============================] - 11s 14ms/step - loss: 1.7823 - accuracy: 0.8623 - val_loss: 0.9921 - val_accuracy: 0.7097\n",
      "247/247 [==============================] - 3s 10ms/step\n"
     ]
    },
    {
     "data": {
      "text/plain": [
       "(<keras.src.callbacks.History at 0x7fcf7b960d50>,\n",
       " {'confirmation': {'precision': 0.5914893617021276,\n",
       "   'recall': 0.6318181818181818,\n",
       "   'f1-score': 0.610989010989011,\n",
       "   'support': 440},\n",
       "  'decision': {'precision': 0.6908315565031983,\n",
       "   'recall': 0.7363636363636363,\n",
       "   'f1-score': 0.7128712871287127,\n",
       "   'support': 880},\n",
       "  'encoding': {'precision': 0.7935323383084577,\n",
       "   'recall': 0.728310502283105,\n",
       "   'f1-score': 0.7595238095238096,\n",
       "   'support': 876},\n",
       "  'pre-attentive': {'precision': 0.7877777777777778,\n",
       "   'recall': 0.8075170842824602,\n",
       "   'f1-score': 0.797525309336333,\n",
       "   'support': 878},\n",
       "  'response': {'precision': 0.7857142857142857,\n",
       "   'recall': 0.7517084282460137,\n",
       "   'f1-score': 0.7683352735739232,\n",
       "   'support': 878},\n",
       "  'accuracy': 0.7421558704453441,\n",
       "  'macro avg': {'precision': 0.7298690640011694,\n",
       "   'recall': 0.7311435665986794,\n",
       "   'f1-score': 0.7298489381103579,\n",
       "   'support': 3952},\n",
       "  'weighted avg': {'precision': 0.745153706724694,\n",
       "   'recall': 0.7421558704453441,\n",
       "   'f1-score': 0.742998569444963,\n",
       "   'support': 3952}})"
      ]
     },
     "execution_count": 6,
     "metadata": {},
     "output_type": "execute_result"
    }
   ],
   "source": [
    "train_and_evaluate(\n",
    "    model,\n",
    "    train_data,\n",
    "    val_data,\n",
    "    test_data,\n",
    "    epochs=20,\n",
    "    logs_path=Path(\"logs/\"),\n",
    "    gen_kwargs={\"shape_topological\": True},\n",
    ")"
   ]
  },
  {
   "cell_type": "code",
   "execution_count": 7,
   "metadata": {},
   "outputs": [
    {
     "name": "stdout",
     "output_type": "stream",
     "text": [
      "INFO:tensorflow:Assets written to: models/cnn_base_test/assets\n"
     ]
    },
    {
     "name": "stderr",
     "output_type": "stream",
     "text": [
      "INFO:tensorflow:Assets written to: models/cnn_base_test/assets\n"
     ]
    }
   ],
   "source": [
    "model.save(\"models/cnn_base_test\")"
   ]
  },
  {
   "cell_type": "code",
   "execution_count": 12,
   "metadata": {},
   "outputs": [],
   "source": [
    "# Run before re-training to clear up VRAM\n",
    "import gc\n",
    "\n",
    "gc.collect()\n",
    "tf.keras.backend.clear_session()\n",
    "del model"
   ]
  },
  {
   "cell_type": "code",
   "execution_count": 17,
   "metadata": {},
   "outputs": [
    {
     "name": "stdout",
     "output_type": "stream",
     "text": [
      "Model: \"model\"\n",
      "_________________________________________________________________\n",
      " Layer (type)                Output Shape              Param #   \n",
      "=================================================================\n",
      " input_1 (InputLayer)        [(None, 770, 30, 1)]      0         \n",
      "                                                                 \n",
      " masking (Masking)           (None, 770, 30, 1)        0         \n",
      "                                                                 \n",
      " conv2d (Conv2D)             (None, 746, 30, 64)       1664      \n",
      "                                                                 \n",
      " max_pooling2d (MaxPooling2  (None, 373, 30, 64)       0         \n",
      " D)                                                              \n",
      "                                                                 \n",
      " conv2d_1 (Conv2D)           (None, 357, 30, 128)      139392    \n",
      "                                                                 \n",
      " max_pooling2d_1 (MaxPoolin  (None, 178, 30, 128)      0         \n",
      " g2D)                                                            \n",
      "                                                                 \n",
      " conv2d_2 (Conv2D)           (None, 168, 30, 256)      360704    \n",
      "                                                                 \n",
      " max_pooling2d_2 (MaxPoolin  (None, 84, 30, 256)       0         \n",
      " g2D)                                                            \n",
      "                                                                 \n",
      " conv2d_3 (Conv2D)           (None, 80, 30, 512)       655872    \n",
      "                                                                 \n",
      " dropout (Dropout)           (None, 80, 30, 512)       0         \n",
      "                                                                 \n",
      " max_pooling2d_3 (MaxPoolin  (None, 40, 30, 512)       0         \n",
      " g2D)                                                            \n",
      "                                                                 \n",
      " conv2d_4 (Conv2D)           (None, 38, 30, 1024)      1573888   \n",
      "                                                                 \n",
      " dropout_1 (Dropout)         (None, 38, 30, 1024)      0         \n",
      "                                                                 \n",
      " max_pooling2d_4 (MaxPoolin  (None, 19, 30, 1024)      0         \n",
      " g2D)                                                            \n",
      "                                                                 \n",
      " flatten (Flatten)           (None, 583680)            0         \n",
      "                                                                 \n",
      " dense (Dense)               (None, 128)               74711168  \n",
      "                                                                 \n",
      " dropout_2 (Dropout)         (None, 128)               0         \n",
      "                                                                 \n",
      " dense_1 (Dense)             (None, 5)                 645       \n",
      "                                                                 \n",
      "=================================================================\n",
      "Total params: 77443333 (295.42 MB)\n",
      "Trainable params: 77443333 (295.42 MB)\n",
      "Non-trainable params: 0 (0.00 Byte)\n",
      "_________________________________________________________________\n"
     ]
    }
   ],
   "source": [
    "model.summary()"
   ]
  }
 ],
 "metadata": {
  "kernelspec": {
   "display_name": "thesis",
   "language": "python",
   "name": "python3"
  },
  "language_info": {
   "codemirror_mode": {
    "name": "ipython",
    "version": 3
   },
   "file_extension": ".py",
   "mimetype": "text/x-python",
   "name": "python",
   "nbconvert_exporter": "python",
   "pygments_lexer": "ipython3",
   "version": "3.11.3"
  },
  "orig_nbformat": 4
 },
 "nbformat": 4,
 "nbformat_minor": 2
}
